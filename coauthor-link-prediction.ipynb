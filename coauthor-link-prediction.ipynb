{
 "cells": [
  {
   "cell_type": "markdown",
   "metadata": {},
   "source": [
    "# Co-author Network Link Prediction"
   ]
  },
  {
   "cell_type": "markdown",
   "metadata": {},
   "source": [
    "Data comes from https://www.aminer.org/citation\n",
    "\n",
    "Based on \"Graphs and Machine Learning in Practice: Link Prediction\" in Graph Algorithms. Practical Examples in Apache Spark and Neo4j.\n",
    "\n"
   ]
  },
  {
   "cell_type": "code",
   "execution_count": 1,
   "metadata": {},
   "outputs": [],
   "source": [
    "import pandas as pd"
   ]
  },
  {
   "cell_type": "code",
   "execution_count": 2,
   "metadata": {},
   "outputs": [],
   "source": [
    "import json\n",
    "from py2neo import  Graph, Node\n",
    "import os"
   ]
  },
  {
   "cell_type": "code",
   "execution_count": 3,
   "metadata": {},
   "outputs": [
    {
     "name": "stdout",
     "output_type": "stream",
     "text": [
      "ads1000.csv            \u001b[0m\u001b[01;34mdbms\u001b[0m/           \u001b[01;34mtransactions\u001b[0m/\r\n",
      "\u001b[01;31mcitation-network1.zip\u001b[0m  \u001b[01;34mgoodbooks-10k\u001b[0m/  transport-nodes.csv\r\n",
      "\u001b[01;34mdatabases\u001b[0m/             outputacm.txt   transport-relationships.csv\r\n",
      "\u001b[01;34mdblp-ref\u001b[0m/              testdf.csv      trump-world.csv\r\n",
      "\u001b[01;31mdblp.v10.zip\u001b[0m           trainingdf.csv\r\n"
     ]
    }
   ],
   "source": [
    "%ls data"
   ]
  },
  {
   "cell_type": "markdown",
   "metadata": {},
   "source": [
    "## Loading the data"
   ]
  },
  {
   "cell_type": "code",
   "execution_count": 4,
   "metadata": {},
   "outputs": [],
   "source": [
    "# making smaller sample data\n",
    "file = open(\"data/dblp-ref/dblp-ref-3.json\", \"r\")\n",
    "os.remove(\"import/dblp-ref-3-small.json\") \n",
    "smallfile = open(\"import/dblp-ref-3-small.json\", \"a\")"
   ]
  },
  {
   "cell_type": "code",
   "execution_count": 5,
   "metadata": {},
   "outputs": [],
   "source": [
    "for i in range(15000):\n",
    "    line=file.readline()\n",
    "    smallfile.write(line)"
   ]
  },
  {
   "cell_type": "code",
   "execution_count": 6,
   "metadata": {},
   "outputs": [],
   "source": [
    "file.close()\n",
    "smallfile.close()"
   ]
  },
  {
   "cell_type": "code",
   "execution_count": 7,
   "metadata": {},
   "outputs": [
    {
     "name": "stdout",
     "output_type": "stream",
     "text": [
      "{\n",
      "    \"authors\": [\n",
      "        \"Macario O. Cordel\",\n",
      "        \"Arnulfo P. Azcarraga\"\n",
      "    ],\n",
      "    \"id\": \"fff8aa8d-19eb-4cdb-b45c-d93ab48f32bc\",\n",
      "    \"n_citation\": 0,\n",
      "    \"references\": [\n",
      "        \"526860a6-aea8-4f8d-b7f9-e01d3629a6a9\",\n",
      "        \"b3021ed3-42de-4b75-ad6e-bd64e51f4cba\"\n",
      "    ],\n",
      "    \"title\": \"Measuring the contribution of filter bank layer to performance of convolutional neural networks\",\n",
      "    \"venue\": \"International Journal of Knowledge-based and Intelligent Engineering Systems\",\n",
      "    \"year\": 2017\n",
      "}\n"
     ]
    }
   ],
   "source": [
    "print(json.dumps(json.loads(line), indent=4, sort_keys=True))"
   ]
  },
  {
   "cell_type": "markdown",
   "metadata": {},
   "source": [
    "## The Coauthorship Graph"
   ]
  },
  {
   "cell_type": "markdown",
   "metadata": {},
   "source": [
    "https://neo4j.com/blog/cypher-load-json-from-url/"
   ]
  },
  {
   "cell_type": "code",
   "execution_count": 8,
   "metadata": {},
   "outputs": [],
   "source": [
    "# create a graph\n",
    "graphdb = Graph(scheme=\"bolt\", host=\"localhost\", port=7687, secure=False, auth=('neo4j', 'test'))\n",
    "graphdb.delete_all()"
   ]
  },
  {
   "cell_type": "code",
   "execution_count": null,
   "metadata": {},
   "outputs": [],
   "source": [
    "graphdb.run(\"\"\"CREATE CONSTRAINT ON (a:Article)\n",
    "    ASSERT a.index IS UNIQUE\"\"\")"
   ]
  },
  {
   "cell_type": "code",
   "execution_count": null,
   "metadata": {},
   "outputs": [],
   "source": [
    "graphdb.run(\"\"\"CREATE CONSTRAINT ON (au:Author)\n",
    "    ASSERT au.name IS UNIQUE;\"\"\")"
   ]
  },
  {
   "cell_type": "code",
   "execution_count": 9,
   "metadata": {},
   "outputs": [
    {
     "data": {
      "text/plain": [
       "<py2neo.database.Cursor at 0x7fc55741a310>"
      ]
     },
     "execution_count": 9,
     "metadata": {},
     "output_type": "execute_result"
    }
   ],
   "source": [
    "# https://neo4j.com/docs/labs/apoc/current/import/load-json/\n",
    "\n",
    "graphdb.run(\"\"\"CALL apoc.load.json(\"file:///dblp-ref-3-small.json\")\n",
    "YIELD value\n",
    "WHERE value.venue IN [\"Lecture Notes in Computer Science\",\n",
    "    \"Communications of The ACM\",\n",
    "    \"international conference on software engineering\",\n",
    "    \"advances in computing and communications\"]\n",
    "MERGE (p:Article {title: value.title})\n",
    "SET p.year = value.year\n",
    "WITH p, value\n",
    "UNWIND value.authors AS author\n",
    "MERGE (c:Author {name: author})\n",
    "MERGE (p)-[:AUTHOR_OF]->(c)\n",
    "\"\"\")"
   ]
  },
  {
   "cell_type": "code",
   "execution_count": 10,
   "metadata": {},
   "outputs": [
    {
     "data": {
      "text/plain": [
       "<py2neo.database.Cursor at 0x7fc5808aaf90>"
      ]
     },
     "execution_count": 10,
     "metadata": {},
     "output_type": "execute_result"
    }
   ],
   "source": [
    "# when we pointed authors to articles then we double counted co-authorships\n",
    "graphdb.run(\"\"\"MATCH (a1:Author)<-[:AUTHOR_OF]-(paper:Article)-[:AUTHOR_OF]->(a2:Author)\n",
    "WITH a1,a2, paper\n",
    "ORDER BY a1,paper.year\n",
    "WITH a1, a2, collect(paper)[0].year AS year, count(*) AS collaborations\n",
    "MERGE (a1)-[coauthor:CO_AUTHOR {year: year}]-(a2)\n",
    "SET coauthor.collaborations = collaborations;\"\"\")\n",
    "\n"
   ]
  },
  {
   "cell_type": "markdown",
   "metadata": {},
   "source": [
    "## Plot graph schema\n",
    "\n",
    "https://networkx.github.io/documentation/latest/_downloads/networkx_reference.pdf\n",
    "\n",
    "https://stackoverflow.com/questions/22312334/how-to-show-cycles-in-networkx-graph-drawing\n",
    "\n",
    "https://pypi.org/project/graphviz/\n"
   ]
  },
  {
   "cell_type": "code",
   "execution_count": null,
   "metadata": {},
   "outputs": [],
   "source": [
    "import networkx as nx  \n",
    "import matplotlib.pyplot as plt  \n",
    "%matplotlib inline"
   ]
  },
  {
   "cell_type": "code",
   "execution_count": null,
   "metadata": {},
   "outputs": [],
   "source": [
    "G = nx.DiGraph()"
   ]
  },
  {
   "cell_type": "code",
   "execution_count": null,
   "metadata": {},
   "outputs": [],
   "source": [
    "G.add_nodes_from([\"Article\", \"Author\"])"
   ]
  },
  {
   "cell_type": "code",
   "execution_count": null,
   "metadata": {},
   "outputs": [],
   "source": [
    "G.add_edge(\"Article\", \"Author\")"
   ]
  },
  {
   "cell_type": "code",
   "execution_count": null,
   "metadata": {},
   "outputs": [],
   "source": [
    "G.add_edge(\"Author\", \"Author\")"
   ]
  },
  {
   "cell_type": "code",
   "execution_count": null,
   "metadata": {},
   "outputs": [],
   "source": [
    "nx.draw(G, with_labels = True, node_size = 5000, font_size = 20)  \n",
    "plt.show()  "
   ]
  },
  {
   "cell_type": "code",
   "execution_count": null,
   "metadata": {},
   "outputs": [],
   "source": [
    "# to plot self nodes need transform nx graph to pydot\n",
    "# use graphviz to plot\n",
    "pydot_graph = nx.drawing.nx_pydot.to_pydot(G)\n",
    "pydot_graph"
   ]
  },
  {
   "cell_type": "code",
   "execution_count": null,
   "metadata": {},
   "outputs": [],
   "source": [
    "import pydot\n",
    "pdot=pydot.graph_from_dot_file(\"graph.dot\")\n",
    "pdot[0]"
   ]
  },
  {
   "cell_type": "code",
   "execution_count": null,
   "metadata": {},
   "outputs": [],
   "source": [
    "from IPython.display import Image, display\n",
    "\n",
    "plt = Image(pdot[0].create_fig())\n",
    "display(plt)"
   ]
  },
  {
   "cell_type": "markdown",
   "metadata": {},
   "source": [
    "## Summary stats\n",
    "\n",
    "https://neo4j.com/blog/data-profiling-holistic-view-neo4j/"
   ]
  },
  {
   "cell_type": "code",
   "execution_count": 11,
   "metadata": {},
   "outputs": [
    {
     "name": "stdout",
     "output_type": "stream",
     "text": [
      "5676 nodes\n",
      "1579 articles\n",
      "4097 authors\n",
      "10210 relationships\n"
     ]
    }
   ],
   "source": [
    "print(str(graphdb.run(\"\"\"MATCH (n) RETURN count(n)\"\"\").evaluate()) + \" nodes\")\n",
    "print(str(graphdb.run(\"\"\"MATCH (n:Article) RETURN count(n)\"\"\").evaluate()) + \" articles\")\n",
    "print(str(graphdb.run(\"\"\"MATCH (n:Author) RETURN count(n)\"\"\").evaluate()) + \" authors\")\n",
    "print(str(graphdb.run(\"\"\"MATCH ()-[r]->() RETURN count(*)\"\"\").evaluate()) + \" relationships\")"
   ]
  },
  {
   "cell_type": "code",
   "execution_count": 12,
   "metadata": {},
   "outputs": [
    {
     "data": {
      "text/html": [
       "<table><tr><th>relationshipType</th></tr><tr><td style=\"text-align:left\">AUTHOR_OF</td></tr><tr><td style=\"text-align:left\">CO_AUTHOR</td></tr></table>"
      ],
      "text/plain": [
       " relationshipType \n",
       "------------------\n",
       " AUTHOR_OF        \n",
       " CO_AUTHOR        "
      ]
     },
     "execution_count": 12,
     "metadata": {},
     "output_type": "execute_result"
    }
   ],
   "source": [
    "graphdb.run(\"\"\"CALL db.relationshipTypes()\"\"\").to_table()"
   ]
  },
  {
   "cell_type": "code",
   "execution_count": 13,
   "metadata": {},
   "outputs": [
    {
     "data": {
      "text/html": [
       "<table><tr><th>NodeType</th><th>NumberOfNodes</th></tr><tr><td style=\"text-align:left\">[&#039;Author&#039;]</td><td style=\"text-align:right\">4097</td></tr><tr><td style=\"text-align:left\">[&#039;Article&#039;]</td><td style=\"text-align:right\">1579</td></tr></table>"
      ],
      "text/plain": [
       " NodeType    | NumberOfNodes \n",
       "-------------|---------------\n",
       " ['Author']  |          4097 \n",
       " ['Article'] |          1579 "
      ]
     },
     "execution_count": 13,
     "metadata": {},
     "output_type": "execute_result"
    }
   ],
   "source": [
    "# number of co-authorship pairs\n",
    "# number of co-authorship pairs per year\n",
    "# number of articles per year\n",
    "graphdb.run(\"\"\"MATCH (n) RETURN labels(n) AS NodeType, count(n) AS NumberOfNodes\"\"\").to_table()"
   ]
  },
  {
   "cell_type": "code",
   "execution_count": 16,
   "metadata": {},
   "outputs": [
    {
     "data": {
      "text/html": [
       "<table><tr><th>RelationshipType</th><th>NumberOfRelationships</th></tr><tr><td style=\"text-align:left\">CO_AUTHOR</td><td style=\"text-align:right\">11286</td></tr><tr><td style=\"text-align:left\">AUTHOR_OF</td><td style=\"text-align:right\">9134</td></tr></table>"
      ],
      "text/plain": [
       " RelationshipType | NumberOfRelationships \n",
       "------------------|-----------------------\n",
       " CO_AUTHOR        |                 11286 \n",
       " AUTHOR_OF        |                  9134 "
      ]
     },
     "execution_count": 16,
     "metadata": {},
     "output_type": "execute_result"
    }
   ],
   "source": [
    "graphdb.run(\"\"\"MATCH  ()-[r]-()\n",
    "    RETURN type(r) AS RelationshipType, count(r) AS NumberOfRelationships\"\"\").to_table()"
   ]
  },
  {
   "cell_type": "code",
   "execution_count": 14,
   "metadata": {},
   "outputs": [
    {
     "data": {
      "text/html": [
       "<table><tr><th>keys(u)</th></tr><tr><td style=\"text-align:left\">[&#039;title&#039;, &#039;year&#039;]</td></tr></table>"
      ],
      "text/plain": [
       " keys(u)           \n",
       "-------------------\n",
       " ['title', 'year'] "
      ]
     },
     "execution_count": 14,
     "metadata": {},
     "output_type": "execute_result"
    }
   ],
   "source": [
    "graphdb.run(\"\"\"MATCH (u:Article) RETURN keys(u) LIMIT 1\"\"\").to_table()"
   ]
  },
  {
   "cell_type": "code",
   "execution_count": 15,
   "metadata": {},
   "outputs": [
    {
     "data": {
      "text/html": [
       "<table><tr><th>keys(t)</th></tr><tr><td style=\"text-align:left\">[]</td></tr></table>"
      ],
      "text/plain": [
       " keys(t) \n",
       "---------\n",
       " []      "
      ]
     },
     "execution_count": 15,
     "metadata": {},
     "output_type": "execute_result"
    }
   ],
   "source": [
    "graphdb.run(\"\"\"MATCH ()-[t:AUTHOR_OF]-() RETURN keys(t) LIMIT 1\"\"\").to_table()"
   ]
  },
  {
   "cell_type": "code",
   "execution_count": 16,
   "metadata": {},
   "outputs": [
    {
     "data": {
      "text/html": [
       "<table><tr><th>keys(t)</th></tr><tr><td style=\"text-align:left\">[&#039;collaborations&#039;, &#039;year&#039;]</td></tr></table>"
      ],
      "text/plain": [
       " keys(t)                    \n",
       "----------------------------\n",
       " ['collaborations', 'year'] "
      ]
     },
     "execution_count": 16,
     "metadata": {},
     "output_type": "execute_result"
    }
   ],
   "source": [
    "graphdb.run(\"\"\"MATCH ()-[t:CO_AUTHOR]-() RETURN keys(t) LIMIT 1\"\"\").to_table()"
   ]
  },
  {
   "cell_type": "code",
   "execution_count": 17,
   "metadata": {},
   "outputs": [
    {
     "data": {
      "text/html": [
       "<table><tr><th>MinCollaborations</th><th>MaxCollaborations</th><th>AvgCollaborations</th><th>StdCollaborations</th></tr><tr><td style=\"text-align:right\">1</td><td style=\"text-align:right\">6</td><td style=\"text-align:right\">1.0241006556796042</td><td style=\"text-align:right\">0.18481201975399397</td></tr></table>"
      ],
      "text/plain": [
       " MinCollaborations | MaxCollaborations |  AvgCollaborations |   StdCollaborations \n",
       "-------------------|-------------------|--------------------|---------------------\n",
       "                 1 |                 6 | 1.0241006556796042 | 0.18481201975399397 "
      ]
     },
     "execution_count": 17,
     "metadata": {},
     "output_type": "execute_result"
    }
   ],
   "source": [
    "graphdb.run(\"\"\"MATCH ()-[p:CO_AUTHOR]-()\n",
    "    RETURN min(p.collaborations) AS MinCollaborations, \n",
    "    max(p.collaborations) AS MaxCollaborations, \n",
    "    avg(p.collaborations) AS AvgCollaborations, \n",
    "    stDev(p.collaborations) AS StdCollaborations\"\"\").to_table()"
   ]
  },
  {
   "cell_type": "code",
   "execution_count": 18,
   "metadata": {},
   "outputs": [
    {
     "data": {
      "text/html": [
       "<table><tr><th>p.collaborations</th><th>total</th></tr><tr><td style=\"text-align:right\">1</td><td style=\"text-align:right\">11050</td></tr><tr><td style=\"text-align:right\">2</td><td style=\"text-align:right\">214</td></tr><tr><td style=\"text-align:right\">3</td><td style=\"text-align:right\">16</td></tr><tr><td style=\"text-align:right\">5</td><td style=\"text-align:right\">4</td></tr><tr><td style=\"text-align:right\">6</td><td style=\"text-align:right\">2</td></tr></table>"
      ],
      "text/plain": [
       " p.collaborations | total \n",
       "------------------|-------\n",
       "                1 | 11050 \n",
       "                2 |   214 \n",
       "                3 |    16 \n",
       "                5 |     4 \n",
       "                6 |     2 "
      ]
     },
     "execution_count": 18,
     "metadata": {},
     "output_type": "execute_result"
    }
   ],
   "source": [
    "graphdb.run(\"\"\"MATCH ()-[p:CO_AUTHOR]-()\n",
    "    RETURN p.collaborations, count(p.collaborations) AS total\n",
    "    ORDER BY p.collaborations\"\"\").to_table()"
   ]
  },
  {
   "cell_type": "markdown",
   "metadata": {},
   "source": [
    "## Splitting into training and test set"
   ]
  },
  {
   "cell_type": "code",
   "execution_count": 19,
   "metadata": {},
   "outputs": [],
   "source": [
    "articles=graphdb.run(\"\"\"MATCH (a:Article)\n",
    "    RETURN a.year AS year, count(a.year) AS totalArticles\n",
    "    ORDER BY year\"\"\").to_data_frame()\n",
    "    "
   ]
  },
  {
   "cell_type": "code",
   "execution_count": 20,
   "metadata": {},
   "outputs": [
    {
     "data": {
      "text/plain": [
       "<matplotlib.axes._subplots.AxesSubplot at 0x7fc556918dd0>"
      ]
     },
     "execution_count": 20,
     "metadata": {},
     "output_type": "execute_result"
    },
    {
     "data": {
      "image/png": "[encoded data removed]",
      "text/plain": [
       "<Figure size 432x288 with 1 Axes>"
      ]
     },
     "metadata": {
      "needs_background": "light"
     },
     "output_type": "display_data"
    }
   ],
   "source": [
    "articles.plot(\"year\",\"totalArticles\", kind=\"bar\")"
   ]
  },
  {
   "cell_type": "code",
   "execution_count": 21,
   "metadata": {},
   "outputs": [
    {
     "data": {
      "text/html": [
       "<table><tr><th>training</th><th>count</th></tr><tr><td style=\"text-align:left\">false</td><td style=\"text-align:right\">817</td></tr><tr><td style=\"text-align:left\">true</td><td style=\"text-align:right\">762</td></tr></table>"
      ],
      "text/plain": [
       " training | count \n",
       "----------|-------\n",
       " false    |   817 \n",
       " true     |   762 "
      ]
     },
     "execution_count": 21,
     "metadata": {},
     "output_type": "execute_result"
    }
   ],
   "source": [
    "graphdb.run(\"\"\"MATCH (a:Article)\n",
    "    RETURN a.year < 2006 AS training, count(*) AS count\"\"\").to_table()"
   ]
  },
  {
   "cell_type": "code",
   "execution_count": 22,
   "metadata": {},
   "outputs": [
    {
     "data": {
      "text/plain": [
       "<py2neo.database.Cursor at 0x7fc555fe3710>"
      ]
     },
     "execution_count": 22,
     "metadata": {},
     "output_type": "execute_result"
    }
   ],
   "source": [
    "# Create relationship CO_AUTHOR_EARLY for co author pairs before 2006\n",
    "graphdb.run(\"\"\"MATCH (a1)<-[:AUTHOR_OF]-(paper:Article)-[:AUTHOR_OF]->(a2:Author)\n",
    "    WITH a1, a2, paper\n",
    "    ORDER BY a1, paper.year\n",
    "    WITH a1, a2, collect(paper)[0].year AS year, count(*) AS collaborations\n",
    "    WHERE year < 2006\n",
    "    MERGE (a1)-[coauthor:CO_AUTHOR_EARLY {year: year}]-(a2)\n",
    "    SET coauthor.collaborations = collaborations\"\"\")"
   ]
  },
  {
   "cell_type": "code",
   "execution_count": 23,
   "metadata": {},
   "outputs": [
    {
     "data": {
      "text/plain": [
       "<py2neo.database.Cursor at 0x7fc555f99250>"
      ]
     },
     "execution_count": 23,
     "metadata": {},
     "output_type": "execute_result"
    }
   ],
   "source": [
    "graphdb.run(\"\"\"MATCH (a1)<-[:AUTHOR_OF]-(paper:Article)-[:AUTHOR_OF]->(a2:Author)\n",
    "    WITH a1, a2, paper\n",
    "    ORDER BY a1, paper.year\n",
    "    WITH a1, a2, collect(paper)[0].year AS year, count(*) AS collaborations\n",
    "    WHERE year >= 2006\n",
    "    MERGE (a1)-[coauthor:CO_AUTHOR_LATE {year: year}]-(a2)\n",
    "    SET coauthor.collaborations = collaborations\"\"\")"
   ]
  },
  {
   "cell_type": "code",
   "execution_count": 24,
   "metadata": {},
   "outputs": [
    {
     "data": {
      "text/html": [
       "<table><tr><th>relationshipType</th><th>total</th></tr><tr><td style=\"text-align:left\">CO_AUTHOR_EARLY</td><td style=\"text-align:right\">4800</td></tr><tr><td style=\"text-align:left\">CO_AUTHOR</td><td style=\"text-align:right\">11286</td></tr><tr><td style=\"text-align:left\">AUTHOR_OF</td><td style=\"text-align:right\">9134</td></tr><tr><td style=\"text-align:left\">CO_AUTHOR_LATE</td><td style=\"text-align:right\">6486</td></tr></table>"
      ],
      "text/plain": [
       " relationshipType | total \n",
       "------------------|-------\n",
       " CO_AUTHOR_EARLY  |  4800 \n",
       " CO_AUTHOR        | 11286 \n",
       " AUTHOR_OF        |  9134 \n",
       " CO_AUTHOR_LATE   |  6486 "
      ]
     },
     "execution_count": 24,
     "metadata": {},
     "output_type": "execute_result"
    }
   ],
   "source": [
    "graphdb.run(\"\"\"MATCH ()-[p]-()\n",
    "    RETURN type(p) as relationshipType, count(p) AS total\"\"\").to_table()"
   ]
  },
  {
   "cell_type": "code",
   "execution_count": 25,
   "metadata": {},
   "outputs": [
    {
     "data": {
      "text/html": [
       "<table><tr><th>total</th></tr><tr><td style=\"text-align:right\">2400</td></tr></table>"
      ],
      "text/plain": [
       " total \n",
       "-------\n",
       "  2400 "
      ]
     },
     "execution_count": 25,
     "metadata": {},
     "output_type": "execute_result"
    }
   ],
   "source": [
    "# how many authors have a co_author_early type of relationship\n",
    "# Dont think this is right\n",
    "graphdb.run(\"\"\"MATCH (a)-[p:CO_AUTHOR_EARLY]->() RETURN count(a) AS total\"\"\").to_table()"
   ]
  },
  {
   "cell_type": "code",
   "execution_count": 26,
   "metadata": {},
   "outputs": [
    {
     "data": {
      "text/html": [
       "<table><tr><th>total</th></tr><tr><td style=\"text-align:right\">3243</td></tr></table>"
      ],
      "text/plain": [
       " total \n",
       "-------\n",
       "  3243 "
      ]
     },
     "execution_count": 26,
     "metadata": {},
     "output_type": "execute_result"
    }
   ],
   "source": [
    "graphdb.run(\"\"\"MATCH (a)-[p:CO_AUTHOR_LATE]->() RETURN count(a) AS total\"\"\").to_table()"
   ]
  },
  {
   "cell_type": "markdown",
   "metadata": {},
   "source": [
    "## Balancing data"
   ]
  },
  {
   "cell_type": "code",
   "execution_count": 27,
   "metadata": {},
   "outputs": [],
   "source": [
    "train_existing_links = graphdb.run(\"\"\"\n",
    "    MATCH (author:Author)-[:CO_AUTHOR_EARLY]->(other:Author)\n",
    "    RETURN id(author) AS node1, id(other) AS node2, 1 AS label\n",
    "    \"\"\").to_data_frame()"
   ]
  },
  {
   "cell_type": "code",
   "execution_count": 31,
   "metadata": {},
   "outputs": [
    {
     "data": {
      "text/html": [
       "<div>\n",
       "<style scoped>\n",
       "    .dataframe tbody tr th:only-of-type {\n",
       "        vertical-align: middle;\n",
       "    }\n",
       "\n",
       "    .dataframe tbody tr th {\n",
       "        vertical-align: top;\n",
       "    }\n",
       "\n",
       "    .dataframe thead th {\n",
       "        text-align: right;\n",
       "    }\n",
       "</style>\n",
       "<table border=\"1\" class=\"dataframe\">\n",
       "  <thead>\n",
       "    <tr style=\"text-align: right;\">\n",
       "      <th></th>\n",
       "      <th>node1</th>\n",
       "      <th>node2</th>\n",
       "      <th>label</th>\n",
       "    </tr>\n",
       "  </thead>\n",
       "  <tbody>\n",
       "    <tr>\n",
       "      <th>0</th>\n",
       "      <td>0</td>\n",
       "      <td>1</td>\n",
       "      <td>1</td>\n",
       "    </tr>\n",
       "    <tr>\n",
       "      <th>1</th>\n",
       "      <td>0</td>\n",
       "      <td>3</td>\n",
       "      <td>1</td>\n",
       "    </tr>\n",
       "    <tr>\n",
       "      <th>2</th>\n",
       "      <td>1</td>\n",
       "      <td>3</td>\n",
       "      <td>1</td>\n",
       "    </tr>\n",
       "    <tr>\n",
       "      <th>3</th>\n",
       "      <td>20</td>\n",
       "      <td>21</td>\n",
       "      <td>1</td>\n",
       "    </tr>\n",
       "    <tr>\n",
       "      <th>4</th>\n",
       "      <td>20</td>\n",
       "      <td>22</td>\n",
       "      <td>1</td>\n",
       "    </tr>\n",
       "  </tbody>\n",
       "</table>\n",
       "</div>"
      ],
      "text/plain": [
       "   node1  node2  label\n",
       "0      0      1      1\n",
       "1      0      3      1\n",
       "2      1      3      1\n",
       "3     20     21      1\n",
       "4     20     22      1"
      ]
     },
     "execution_count": 31,
     "metadata": {},
     "output_type": "execute_result"
    }
   ],
   "source": [
    "train_existing_links.head()"
   ]
  },
  {
   "cell_type": "code",
   "execution_count": 28,
   "metadata": {},
   "outputs": [],
   "source": [
    "train_missing_links = graphdb.run(\"\"\"\n",
    "    MATCH (author:Author)\n",
    "    WHERE (author)-[:CO_AUTHOR_EARLY]-()\n",
    "    MATCH (author)-[:CO_AUTHOR_EARLY*2..3]-(other)\n",
    "    WHERE not((author)-[:CO_AUTHOR_EARLY]-(other))\n",
    "    RETURN id(author) AS node1, id(other) AS node2, 0 AS label\n",
    "    \"\"\").to_data_frame()"
   ]
  },
  {
   "cell_type": "code",
   "execution_count": 29,
   "metadata": {},
   "outputs": [
    {
     "data": {
      "text/plain": [
       "20796"
      ]
     },
     "execution_count": 29,
     "metadata": {},
     "output_type": "execute_result"
    }
   ],
   "source": [
    "len(train_missing_links)"
   ]
  },
  {
   "cell_type": "code",
   "execution_count": 30,
   "metadata": {},
   "outputs": [],
   "source": [
    "train_missing_links = train_missing_links.drop_duplicates()\n",
    "training_df = train_missing_links.append(train_existing_links, ignore_index=True)\n",
    "training_df['label'] = training_df['label'].astype('category')"
   ]
  },
  {
   "cell_type": "code",
   "execution_count": 31,
   "metadata": {},
   "outputs": [
    {
     "data": {
      "text/plain": [
       "0    2796\n",
       "1    2400\n",
       "Name: label, dtype: int64"
      ]
     },
     "execution_count": 31,
     "metadata": {},
     "output_type": "execute_result"
    }
   ],
   "source": [
    "training_df['label'].value_counts()"
   ]
  },
  {
   "cell_type": "code",
   "execution_count": 32,
   "metadata": {},
   "outputs": [],
   "source": [
    "from collections import Counter"
   ]
  },
  {
   "cell_type": "code",
   "execution_count": 33,
   "metadata": {},
   "outputs": [],
   "source": [
    "def down_sample(df):\n",
    "    copy = df.copy()\n",
    "    zero = Counter(copy.label.values)[0]\n",
    "    un = Counter(copy.label.values)[1]\n",
    "    n = zero - un\n",
    "    copy = copy.drop(copy[copy.label == 0].sample(n=n, random_state=1).index)\n",
    "    return copy.sample(frac=1)"
   ]
  },
  {
   "cell_type": "code",
   "execution_count": 34,
   "metadata": {},
   "outputs": [],
   "source": [
    "training_df=down_sample(training_df)"
   ]
  },
  {
   "cell_type": "code",
   "execution_count": 35,
   "metadata": {},
   "outputs": [
    {
     "data": {
      "text/plain": [
       "1    2400\n",
       "0    2400\n",
       "Name: label, dtype: int64"
      ]
     },
     "execution_count": 35,
     "metadata": {},
     "output_type": "execute_result"
    }
   ],
   "source": [
    "training_df['label'].value_counts()"
   ]
  },
  {
   "cell_type": "code",
   "execution_count": 36,
   "metadata": {},
   "outputs": [],
   "source": [
    "test_existing_links = graphdb.run(\"\"\"\n",
    "    MATCH (author:Author)-[:CO_AUTHOR_LATE]->(other:Author)\n",
    "    RETURN id(author) AS node1, id(other) AS node2, 1 AS label\n",
    "    \"\"\").to_data_frame()"
   ]
  },
  {
   "cell_type": "code",
   "execution_count": 37,
   "metadata": {},
   "outputs": [
    {
     "data": {
      "text/plain": [
       "3243"
      ]
     },
     "execution_count": 37,
     "metadata": {},
     "output_type": "execute_result"
    }
   ],
   "source": [
    "len(test_existing_links)"
   ]
  },
  {
   "cell_type": "code",
   "execution_count": 38,
   "metadata": {},
   "outputs": [],
   "source": [
    "test_missing_links = graphdb.run(\"\"\"\n",
    "    MATCH (author:Author)\n",
    "    WHERE (author)-[:CO_AUTHOR_LATE]-()\n",
    "    MATCH (author)-[:CO_AUTHOR_LATE*2..3]-(other)\n",
    "    WHERE not((author)-[:CO_AUTHOR_LATE]-(other))\n",
    "    RETURN id(author) AS node1, id(other) AS node2, 0 AS label\n",
    "    \"\"\").to_data_frame()"
   ]
  },
  {
   "cell_type": "code",
   "execution_count": 39,
   "metadata": {},
   "outputs": [
    {
     "data": {
      "text/plain": [
       "31868"
      ]
     },
     "execution_count": 39,
     "metadata": {},
     "output_type": "execute_result"
    }
   ],
   "source": [
    "len(test_missing_links)"
   ]
  },
  {
   "cell_type": "code",
   "execution_count": 40,
   "metadata": {},
   "outputs": [],
   "source": [
    "test_missing_links = test_missing_links.drop_duplicates()\n",
    "test_df = test_missing_links.append(test_existing_links, ignore_index=True)\n",
    "test_df['label'] = test_df['label'].astype('category')\n",
    "test_df = down_sample(test_df)"
   ]
  },
  {
   "cell_type": "code",
   "execution_count": 41,
   "metadata": {},
   "outputs": [
    {
     "data": {
      "text/plain": [
       "1    3243\n",
       "0    3243\n",
       "Name: label, dtype: int64"
      ]
     },
     "execution_count": 41,
     "metadata": {},
     "output_type": "execute_result"
    }
   ],
   "source": [
    "test_df.label.value_counts()"
   ]
  },
  {
   "cell_type": "markdown",
   "metadata": {},
   "source": [
    "## Spark"
   ]
  },
  {
   "cell_type": "code",
   "execution_count": 42,
   "metadata": {},
   "outputs": [],
   "source": [
    "import findspark\n",
    "findspark.init()"
   ]
  },
  {
   "cell_type": "code",
   "execution_count": 43,
   "metadata": {},
   "outputs": [],
   "source": [
    "import pyspark\n",
    "sc = pyspark.SparkContext(appName=\"link_prediction\")"
   ]
  },
  {
   "cell_type": "code",
   "execution_count": 44,
   "metadata": {},
   "outputs": [],
   "source": [
    "from pyspark.sql import SparkSession\n",
    "\n",
    "spark = SparkSession.builder \\\n",
    "    .master(\"local\") \\\n",
    "    .appName(\"link_prediction\") \\\n",
    "    .getOrCreate()\n"
   ]
  },
  {
   "cell_type": "code",
   "execution_count": 45,
   "metadata": {},
   "outputs": [],
   "source": [
    "test_df.to_csv(\"data/testdf.csv\", index=False)"
   ]
  },
  {
   "cell_type": "code",
   "execution_count": 46,
   "metadata": {},
   "outputs": [],
   "source": [
    "training_df.to_csv(\"data/trainingdf.csv\", index=False)"
   ]
  },
  {
   "cell_type": "code",
   "execution_count": 53,
   "metadata": {},
   "outputs": [],
   "source": [
    "#test_df=pd.read_csv(\"data/testdf.csv\")\n",
    "#training_df=pd.read_csv(\"data/trainingdf.csv\")"
   ]
  },
  {
   "cell_type": "code",
   "execution_count": 47,
   "metadata": {},
   "outputs": [],
   "source": [
    "training_data=spark.createDataFrame(training_df)"
   ]
  },
  {
   "cell_type": "code",
   "execution_count": 48,
   "metadata": {},
   "outputs": [
    {
     "name": "stdout",
     "output_type": "stream",
     "text": [
      "+-----+-----+-----+\n",
      "|node1|node2|label|\n",
      "+-----+-----+-----+\n",
      "|  268|  786|    1|\n",
      "| 3493| 3493|    0|\n",
      "| 1999| 2000|    1|\n",
      "| 3563| 3563|    0|\n",
      "| 3586| 3586|    0|\n",
      "+-----+-----+-----+\n",
      "only showing top 5 rows\n",
      "\n"
     ]
    }
   ],
   "source": [
    "training_data.show(n=5)"
   ]
  },
  {
   "cell_type": "code",
   "execution_count": 49,
   "metadata": {},
   "outputs": [
    {
     "name": "stdout",
     "output_type": "stream",
     "text": [
      "+-----+-----+\n",
      "|label|count|\n",
      "+-----+-----+\n",
      "|    0| 2400|\n",
      "|    1| 2400|\n",
      "+-----+-----+\n",
      "\n"
     ]
    }
   ],
   "source": [
    "training_data.groupby(\"label\").count().show()"
   ]
  },
  {
   "cell_type": "code",
   "execution_count": 50,
   "metadata": {},
   "outputs": [],
   "source": [
    "test_data=spark.createDataFrame(test_df)"
   ]
  },
  {
   "cell_type": "code",
   "execution_count": 51,
   "metadata": {},
   "outputs": [
    {
     "name": "stdout",
     "output_type": "stream",
     "text": [
      "+-----+-----+\n",
      "|label|count|\n",
      "+-----+-----+\n",
      "|    0| 3243|\n",
      "|    1| 3243|\n",
      "+-----+-----+\n",
      "\n"
     ]
    }
   ],
   "source": [
    "test_data.groupby(\"label\").count().show()"
   ]
  },
  {
   "cell_type": "markdown",
   "metadata": {},
   "source": [
    "# Predicting missing links\n",
    "\n",
    "We hypothesize that the following community related charecteristics increase the probability that authors become co-authors.\n",
    "\n",
    "* more co-authors in common\n",
    "* triadic relationships between authors\n",
    "* authors with more relationships\n",
    "* authors in same community\n",
    "* authors in same tighter community\n",
    "\n",
    "We build graphy features based on the hypotheses above and train a random forest binary classifier to predict whether a pair of authors will have a link or not."
   ]
  },
  {
   "cell_type": "code",
   "execution_count": 52,
   "metadata": {},
   "outputs": [],
   "source": [
    "from pyspark.ml.feature import VectorAssembler\n",
    "from pyspark.ml.classification import RandomForestClassifier\n",
    "from pyspark.ml.pipeline import Pipeline\n",
    "from pyspark.ml.evaluation import BinaryClassificationEvaluator\n",
    "from sklearn.metrics import roc_curve, auc\n",
    "\n",
    "def create_pipeline(fields):\n",
    "    assembler = VectorAssembler(inputCols=fields, \n",
    "        outputCol=\"features\")\n",
    "    rf = RandomForestClassifier(labelCol=\"label\", \n",
    "        featuresCol=\"features\",\n",
    "        numTrees=30, maxDepth=10)\n",
    "    return Pipeline(stages=[assembler, rf])"
   ]
  },
  {
   "cell_type": "code",
   "execution_count": 53,
   "metadata": {},
   "outputs": [],
   "source": [
    "def apply_graphy_training_features(data):\n",
    "    query = \"\"\"\n",
    "    UNWIND $pairs AS pair\n",
    "    MATCH (p1) WHERE id(p1) = pair.node1\n",
    "    MATCH (p2) WHERE id(p2) = pair.node2\n",
    "    RETURN pair.node1 AS node1,pair.node2 AS node2,\n",
    "        size([(p1)-[:CO_AUTHOR_EARLY]-(a)-[:CO_AUTHOR_EARLY]-(p2) | a]) AS commonAuthors,\n",
    "        size((p1)-[:CO_AUTHOR_EARLY]-()) * size((p2)-[:CO_AUTHOR_EARLY]-()) AS prefAttachment,\n",
    "        size(apoc.coll.toSet([(p1)-[:CO_AUTHOR_EARLY]-(a) | id(a)] +\n",
    "            [(p2)-[:CO_AUTHOR_EARLY]-(a) | id(a)])) AS totalNeighbors\n",
    "    \"\"\"\n",
    "    pairs = [{\"node1\": row[\"node1\"], \"node2\": row[\"node2\"]} for row in data.collect()]\n",
    "  \n",
    "    features = spark.createDataFrame(graphdb.run(query,{\"pairs\": pairs}).to_data_frame())\n",
    "    \n",
    "    return data.join(features, [\"node1\", \"node2\"])"
   ]
  },
  {
   "cell_type": "code",
   "execution_count": 54,
   "metadata": {},
   "outputs": [],
   "source": [
    "training_data = apply_graphy_training_features(training_data)"
   ]
  },
  {
   "cell_type": "code",
   "execution_count": 55,
   "metadata": {},
   "outputs": [
    {
     "name": "stdout",
     "output_type": "stream",
     "text": [
      "+-----+-----+-----+-------------+--------------+--------------+\n",
      "|node1|node2|label|commonAuthors|prefAttachment|totalNeighbors|\n",
      "+-----+-----+-----+-------------+--------------+--------------+\n",
      "|   22|   25|    1|            3|            32|             9|\n",
      "|  412| 2326|    0|            1|            18|             8|\n",
      "|  648|  651|    1|            1|             4|             3|\n",
      "|  753|  753|    0|            0|             9|             3|\n",
      "| 1045| 4807|    0|            2|            27|            10|\n",
      "+-----+-----+-----+-------------+--------------+--------------+\n",
      "only showing top 5 rows\n",
      "\n"
     ]
    }
   ],
   "source": [
    "training_data.show(n=5)"
   ]
  },
  {
   "cell_type": "code",
   "execution_count": 56,
   "metadata": {},
   "outputs": [],
   "source": [
    "def apply_graphy_test_features(data):\n",
    "    query = \"\"\"\n",
    "    UNWIND $pairs AS pair\n",
    "    MATCH (p1) WHERE id(p1) = pair.node1\n",
    "    MATCH (p2) WHERE id(p2) = pair.node2\n",
    "    RETURN pair.node1 AS node1,\n",
    "        pair.node2 AS node2,\n",
    "        size([(p1)-[:CO_AUTHOR]-(a)-[:CO_AUTHOR]-(p2) | a]) AS commonAuthors,\n",
    "        size((p1)-[:CO_AUTHOR]-()) * size((p2)-[:CO_AUTHOR]-()) AS prefAttachment,\n",
    "        size(apoc.coll.toSet([(p1)-[:CO_AUTHOR]-(a) | id(a)] + [(p2)-[:CO_AUTHOR]-(a) | id(a)]\n",
    "        )) AS totalNeighbors\n",
    "    \"\"\"\n",
    "    pairs = [{\"node1\": row[\"node1\"], \"node2\": row[\"node2\"]} for row in data.collect()]\n",
    "    \n",
    "    features = spark.createDataFrame(graphdb.run(query,{\"pairs\": pairs}).to_data_frame())\n",
    "    \n",
    "    return data.join(features, [\"node1\", \"node2\"])"
   ]
  },
  {
   "cell_type": "code",
   "execution_count": 57,
   "metadata": {},
   "outputs": [],
   "source": [
    "test_data = apply_graphy_test_features(test_data)"
   ]
  },
  {
   "cell_type": "code",
   "execution_count": 58,
   "metadata": {},
   "outputs": [
    {
     "data": {
      "image/png": "[encoded data removed]",
      "text/plain": [
       "<Figure size 1296x504 with 2 Axes>"
      ]
     },
     "metadata": {},
     "output_type": "display_data"
    }
   ],
   "source": [
    "## frequency histogram of common authors\n",
    "import matplotlib.pyplot as plt\n",
    "plt.style.use('fivethirtyeight')\n",
    "fig, axs = plt.subplots(1, 2, figsize=(18, 7), sharey=True)\n",
    "charts = [(1, \"have collaborated\"), (0, \"haven't collaborated\")]\n",
    "for index, chart in enumerate(charts):\n",
    "    label, title = chart\n",
    "    filtered = training_data.filter(training_data[\"label\"] == label)\n",
    "    common_authors = filtered.toPandas()[\"commonAuthors\"]\n",
    "    histogram = common_authors.value_counts().sort_index()\n",
    "    histogram /= float(histogram.sum())\n",
    "    histogram.plot(kind=\"bar\", x='Common Authors', color=\"darkblue\",\n",
    "    ax=axs[index], title=f\"Authors who {title} (label={label})\")\n",
    "    axs[index].xaxis.set_label_text(\"Common Authors\")\n",
    "plt.tight_layout()\n",
    "plt.show()"
   ]
  },
  {
   "cell_type": "code",
   "execution_count": 339,
   "metadata": {},
   "outputs": [],
   "source": [
    "def train_model(fields, training_data):\n",
    "    pipeline = create_pipeline(fields)\n",
    "    model = pipeline.fit(training_data)\n",
    "    return model"
   ]
  },
  {
   "cell_type": "code",
   "execution_count": 60,
   "metadata": {},
   "outputs": [],
   "source": [
    "# model only uses co-authors\n",
    "basic_model = train_model([\"commonAuthors\"], training_data)"
   ]
  },
  {
   "cell_type": "code",
   "execution_count": 61,
   "metadata": {},
   "outputs": [],
   "source": [
    "eval_df = spark.createDataFrame(\n",
    "    [(0,), (1,), (2,), (10,), (100,)],\n",
    "    ['commonAuthors'])\n"
   ]
  },
  {
   "cell_type": "code",
   "execution_count": 62,
   "metadata": {},
   "outputs": [
    {
     "name": "stdout",
     "output_type": "stream",
     "text": [
      "+-------------+\n",
      "|commonAuthors|\n",
      "+-------------+\n",
      "|            0|\n",
      "|            1|\n",
      "|            2|\n",
      "|           10|\n",
      "|          100|\n",
      "+-------------+\n",
      "\n"
     ]
    }
   ],
   "source": [
    "eval_df.show(n=5)"
   ]
  },
  {
   "cell_type": "code",
   "execution_count": 63,
   "metadata": {},
   "outputs": [
    {
     "name": "stdout",
     "output_type": "stream",
     "text": [
      "+-------------+----------------------------------------+----------+\n",
      "|commonAuthors|probability                             |prediction|\n",
      "+-------------+----------------------------------------+----------+\n",
      "|0            |[0.7166124260754987,0.28338757392450126]|0.0       |\n",
      "|1            |[0.7166124260754987,0.28338757392450126]|0.0       |\n",
      "|2            |[0.10745678417522804,0.8925432158247719]|1.0       |\n",
      "|10           |[0.10745678417522804,0.8925432158247719]|1.0       |\n",
      "|100          |[0.10745678417522804,0.8925432158247719]|1.0       |\n",
      "+-------------+----------------------------------------+----------+\n",
      "\n"
     ]
    }
   ],
   "source": [
    "(basic_model.transform(eval_df)\n",
    "    .select(\"commonAuthors\", \"probability\", \"prediction\")\n",
    "    .show(truncate=False))"
   ]
  },
  {
   "cell_type": "code",
   "execution_count": 64,
   "metadata": {},
   "outputs": [],
   "source": [
    "def evaluate_model(model, test_data):\n",
    "    # Execute the model against the test set\n",
    "    predictions = model.transform(test_data)\n",
    "    # Compute true positive, false positive, false negative counts\n",
    "    tp = predictions[(predictions.label == 1) &\n",
    "        (predictions.prediction == 1)].count()\n",
    "    fp = predictions[(predictions.label == 0) &\n",
    "        (predictions.prediction == 1)].count()\n",
    "    fn = predictions[(predictions.label == 1) &\n",
    "        (predictions.prediction == 0)].count()\n",
    "    # Compute recall and precision manually\n",
    "    recall = float(tp) / (tp + fn)\n",
    "    precision = float(tp) / (tp + fp)\n",
    "    # Compute accuracy using Spark MLLib's binary classification evaluator\n",
    "    accuracy = BinaryClassificationEvaluator().evaluate(predictions)\n",
    "    # Compute false positive rate and true positive rate using sklearn functions\n",
    "    labels = [row[\"label\"] for row in predictions.select(\"label\").collect()]\n",
    "    preds = [row[\"probability\"][1] for row in predictions.select\n",
    "    (\"probability\").collect()]\n",
    "    fpr, tpr, threshold = roc_curve(labels, preds)\n",
    "    roc_auc = auc(fpr, tpr)\n",
    "    return { \"fpr\": fpr, \"tpr\": tpr, \"roc_auc\": roc_auc, \"accuracy\": accuracy,\n",
    "        \"recall\": recall, \"precision\": precision }"
   ]
  },
  {
   "cell_type": "code",
   "execution_count": 65,
   "metadata": {},
   "outputs": [],
   "source": [
    "def display_results(results):\n",
    "    results = {k: v for k, v in results.items() if k not in\n",
    "    [\"fpr\", \"tpr\", \"roc_auc\"]}\n",
    "    return pd.DataFrame({\"Measure\": list(results.keys()), \"Score\": list(results.values())})"
   ]
  },
  {
   "cell_type": "code",
   "execution_count": 66,
   "metadata": {},
   "outputs": [
    {
     "data": {
      "text/html": [
       "<div>\n",
       "<style scoped>\n",
       "    .dataframe tbody tr th:only-of-type {\n",
       "        vertical-align: middle;\n",
       "    }\n",
       "\n",
       "    .dataframe tbody tr th {\n",
       "        vertical-align: top;\n",
       "    }\n",
       "\n",
       "    .dataframe thead th {\n",
       "        text-align: right;\n",
       "    }\n",
       "</style>\n",
       "<table border=\"1\" class=\"dataframe\">\n",
       "  <thead>\n",
       "    <tr style=\"text-align: right;\">\n",
       "      <th></th>\n",
       "      <th>Measure</th>\n",
       "      <th>Score</th>\n",
       "    </tr>\n",
       "  </thead>\n",
       "  <tbody>\n",
       "    <tr>\n",
       "      <th>0</th>\n",
       "      <td>accuracy</td>\n",
       "      <td>0.836263</td>\n",
       "    </tr>\n",
       "    <tr>\n",
       "      <th>1</th>\n",
       "      <td>recall</td>\n",
       "      <td>0.720937</td>\n",
       "    </tr>\n",
       "    <tr>\n",
       "      <th>2</th>\n",
       "      <td>precision</td>\n",
       "      <td>0.937074</td>\n",
       "    </tr>\n",
       "  </tbody>\n",
       "</table>\n",
       "</div>"
      ],
      "text/plain": [
       "     Measure     Score\n",
       "0   accuracy  0.836263\n",
       "1     recall  0.720937\n",
       "2  precision  0.937074"
      ]
     },
     "execution_count": 66,
     "metadata": {},
     "output_type": "execute_result"
    }
   ],
   "source": [
    "basic_results = evaluate_model(basic_model, test_data)\n",
    "display_results(basic_results)"
   ]
  },
  {
   "cell_type": "code",
   "execution_count": 67,
   "metadata": {},
   "outputs": [],
   "source": [
    "from cycler import cycler\n",
    "def create_roc_plot():\n",
    "    plt.style.use('classic')\n",
    "    fig = plt.figure(figsize=(13, 8))\n",
    "    plt.xlim([0, 1])\n",
    "    plt.ylim([0, 1])\n",
    "    plt.ylabel('True Positive Rate')\n",
    "    plt.xlabel('False Positive Rate')\n",
    "    plt.rc('axes', prop_cycle=(cycler('color',\n",
    "    ['r', 'g', 'b', 'c', 'm', 'y', 'k'])))\n",
    "    plt.plot([0, 1], [0, 1], linestyle='--', label='Random score (AUC = 0.50)')\n",
    "    return plt, fig"
   ]
  },
  {
   "cell_type": "code",
   "execution_count": 68,
   "metadata": {},
   "outputs": [],
   "source": [
    "def add_curve(plt, title, fpr, tpr, roc):\n",
    "    plt.plot(fpr, tpr, label=f\"{title} (AUC = {roc:0.2})\")"
   ]
  },
  {
   "cell_type": "code",
   "execution_count": 69,
   "metadata": {},
   "outputs": [
    {
     "data": {
      "image/png": "[encoded data removed]",
      "text/plain": [
       "<Figure size 1040x640 with 1 Axes>"
      ]
     },
     "metadata": {},
     "output_type": "display_data"
    }
   ],
   "source": [
    "plt, fig = create_roc_plot()\n",
    "\n",
    "add_curve(plt, \"Common Authors\",\n",
    "basic_results[\"fpr\"], basic_results[\"tpr\"], basic_results[\"roc_auc\"])\n",
    "\n",
    "plt.legend(loc='lower right')\n",
    "plt.show()"
   ]
  },
  {
   "cell_type": "code",
   "execution_count": 70,
   "metadata": {},
   "outputs": [
    {
     "name": "stdout",
     "output_type": "stream",
     "text": [
      "+-------+------------------+------------------+-----------------+\n",
      "|summary|     commonAuthors|    prefAttachment|   totalNeighbors|\n",
      "+-------+------------------+------------------+-----------------+\n",
      "|  count|              2400|              2400|             2400|\n",
      "|   mean|            2.6225|21.468333333333334|5.240833333333334|\n",
      "| stddev|2.4911669715952036| 33.84827235174229|2.889142424469169|\n",
      "|    min|                 0|                 1|                2|\n",
      "|    max|                12|               195|               16|\n",
      "+-------+------------------+------------------+-----------------+\n",
      "\n"
     ]
    }
   ],
   "source": [
    "(training_data.filter(training_data[\"label\"]==1)\n",
    "    .describe()\n",
    "    .select(\"summary\", \"commonAuthors\", \"prefAttachment\", \"totalNeighbors\")\n",
    "    .show())"
   ]
  },
  {
   "cell_type": "code",
   "execution_count": 71,
   "metadata": {},
   "outputs": [
    {
     "name": "stdout",
     "output_type": "stream",
     "text": [
      "+-------+------------------+------------------+------------------+\n",
      "|summary|     commonAuthors|    prefAttachment|    totalNeighbors|\n",
      "+-------+------------------+------------------+------------------+\n",
      "|  count|              2400|              2400|              2400|\n",
      "|   mean|           0.52125|12.422916666666667| 4.498333333333333|\n",
      "| stddev|0.6712447453264622| 16.96802941816447|2.5734717220483097|\n",
      "|    min|                 0|                 1|                 1|\n",
      "|    max|                 4|               225|                18|\n",
      "+-------+------------------+------------------+------------------+\n",
      "\n"
     ]
    }
   ],
   "source": [
    "(training_data.filter(training_data[\"label\"]==0)\n",
    "    .describe()\n",
    "    .select(\"summary\", \"commonAuthors\", \"prefAttachment\", \"totalNeighbors\")\n",
    "    .show())"
   ]
  },
  {
   "cell_type": "code",
   "execution_count": 72,
   "metadata": {},
   "outputs": [],
   "source": [
    "fields = [\"commonAuthors\", \"prefAttachment\", \"totalNeighbors\"]\n",
    "graphy_model = train_model(fields, training_data)"
   ]
  },
  {
   "cell_type": "code",
   "execution_count": 73,
   "metadata": {},
   "outputs": [
    {
     "data": {
      "text/html": [
       "<div>\n",
       "<style scoped>\n",
       "    .dataframe tbody tr th:only-of-type {\n",
       "        vertical-align: middle;\n",
       "    }\n",
       "\n",
       "    .dataframe tbody tr th {\n",
       "        vertical-align: top;\n",
       "    }\n",
       "\n",
       "    .dataframe thead th {\n",
       "        text-align: right;\n",
       "    }\n",
       "</style>\n",
       "<table border=\"1\" class=\"dataframe\">\n",
       "  <thead>\n",
       "    <tr style=\"text-align: right;\">\n",
       "      <th></th>\n",
       "      <th>Measure</th>\n",
       "      <th>Score</th>\n",
       "    </tr>\n",
       "  </thead>\n",
       "  <tbody>\n",
       "    <tr>\n",
       "      <th>0</th>\n",
       "      <td>accuracy</td>\n",
       "      <td>0.975034</td>\n",
       "    </tr>\n",
       "    <tr>\n",
       "      <th>1</th>\n",
       "      <td>recall</td>\n",
       "      <td>0.930928</td>\n",
       "    </tr>\n",
       "    <tr>\n",
       "      <th>2</th>\n",
       "      <td>precision</td>\n",
       "      <td>0.930354</td>\n",
       "    </tr>\n",
       "  </tbody>\n",
       "</table>\n",
       "</div>"
      ],
      "text/plain": [
       "     Measure     Score\n",
       "0   accuracy  0.975034\n",
       "1     recall  0.930928\n",
       "2  precision  0.930354"
      ]
     },
     "execution_count": 73,
     "metadata": {},
     "output_type": "execute_result"
    }
   ],
   "source": [
    "graphy_results = evaluate_model(graphy_model, test_data)\n",
    "display_results(graphy_results)"
   ]
  },
  {
   "cell_type": "code",
   "execution_count": 74,
   "metadata": {
    "scrolled": false
   },
   "outputs": [
    {
     "data": {
      "image/png": "[encoded data removed]",
      "text/plain": [
       "<Figure size 1040x640 with 1 Axes>"
      ]
     },
     "metadata": {},
     "output_type": "display_data"
    }
   ],
   "source": [
    "plt,fig = create_roc_plot()\n",
    "\n",
    "add_curve(plt, \"Common Authors\",\n",
    "    basic_results[\"fpr\"], basic_results[\"tpr\"],\n",
    "    basic_results[\"roc_auc\"])\n",
    "\n",
    "add_curve(plt, \"Graphy\",\n",
    "    graphy_results[\"fpr\"], graphy_results[\"tpr\"],\n",
    "    graphy_results[\"roc_auc\"])\n",
    "\n",
    "plt.legend(loc='lower right')\n",
    "plt.show()"
   ]
  },
  {
   "cell_type": "code",
   "execution_count": 75,
   "metadata": {},
   "outputs": [],
   "source": [
    "def plot_feature_importance(fields, feature_importances):\n",
    "    df = pd.DataFrame({\"Feature\": fields, \"Importance\": feature_importances})\n",
    "    df = df.sort_values(\"Importance\", ascending=False)\n",
    "    ax = df.plot(kind='bar', x='Feature', y='Importance', legend=None)\n",
    "    ax.xaxis.set_label_text(\"\")\n",
    "    plt.tight_layout()\n",
    "    plt.show()"
   ]
  },
  {
   "cell_type": "code",
   "execution_count": 76,
   "metadata": {},
   "outputs": [
    {
     "data": {
      "image/png": "[encoded data removed]",
      "text/plain": [
       "<Figure size 640x480 with 1 Axes>"
      ]
     },
     "metadata": {},
     "output_type": "display_data"
    }
   ],
   "source": [
    "rf_model = graphy_model.stages[-1]\n",
    "plot_feature_importance(fields, rf_model.featureImportances)"
   ]
  },
  {
   "cell_type": "markdown",
   "metadata": {},
   "source": [
    "## Triangles and clustering coefficient"
   ]
  },
  {
   "cell_type": "markdown",
   "metadata": {},
   "source": [
    "https://neo4j.com/docs/graph-data-science/current/\n",
    "\n",
    "https://neo4j.com/docs/graph-data-science/current/algorithms/triangle-count/\n",
    "\n",
    "## Neo4j Graph Data Science Library\n",
    "\n",
    "In order to run the algorithms as efficiently as possible, the Neo4j Graph Data Science library uses a specialized in-memory graph format to represent the graph data. It is therefore necessary to load the graph data from the Neo4j database into an in memory graph catalog. The amount of data loaded can be controlled by so called graph projections, which also allow, for example, filtering on node labels and relationship types, among other options\n",
    "\n",
    "to see all algorithms\n",
    "CALL gds.list()\n",
    "\n",
    "algorithms are run using one of the execution modes stream, stats, mutate or write, which we cover in this chapter. \n",
    "\n",
    "The stream mode will return the results of the algorithm computation as Cypher result rows. This is similar to how standard Cypher reading queries operate. \n",
    "\n",
    "The stats mode returns statistical results for the algorithm computation like counts or percentile distributions. A statistical summary of the computation is returned as a single Cypher result row. The direct results of the algorithm are not available when using the stats mode. This mode forms the basis of the mutate and write execution modes but does not attempt to make any modifications or updates anywhere. \n",
    "\n",
    "The mutate mode will write the results of the algorithm computation back to the in-memory graph. Note that the specified mutateProperty value must not exist in the in-memory graph beforehand. This enables running multiple algorithms on the same in-memory graph without writing results to Neo4j in-between algorithm executions. \n",
    "\n",
    "The write mode will write the results of the algorithm computation back to the Neo4j database. This is similar to how standard Cypher writing queries operate. A statistical summary of the computation is returned similar to the stats mode. This is the only execution mode that will attempt to make modifications to the Neo4j database.\n",
    "\n",
    "The written data can be node properties (such as Page Rank scores), new relationships (such as Node Similarity similarities), or relationship properties.\n",
    "\n",
    "\n",
    "\n",
    "\n",
    "\n",
    "\n",
    "\n",
    "\n",
    "\n",
    "\n",
    "\n",
    "\n",
    "\n",
    "\n",
    "\n",
    "\n"
   ]
  },
  {
   "cell_type": "code",
   "execution_count": 77,
   "metadata": {},
   "outputs": [
    {
     "data": {
      "text/plain": [
       "<py2neo.database.Cursor at 0x7fc54ec0f5d0>"
      ]
     },
     "execution_count": 77,
     "metadata": {},
     "output_type": "execute_result"
    }
   ],
   "source": [
    "# create a graph projection\n",
    "graphdb.run(\"\"\"CALL gds.graph.create('early_graph',\n",
    "    'Author', \n",
    "    {\n",
    "        CO_AUTHOR_EARLY: {\n",
    "                type: 'CO_AUTHOR_EARLY',\n",
    "                orientation: 'UNDIRECTED'\n",
    "                }\n",
    "                }\n",
    "                )\"\"\")"
   ]
  },
  {
   "cell_type": "code",
   "execution_count": 78,
   "metadata": {},
   "outputs": [
    {
     "data": {
      "text/plain": [
       "'early_graph'"
      ]
     },
     "execution_count": 78,
     "metadata": {},
     "output_type": "execute_result"
    }
   ],
   "source": [
    "graphdb.run(\"\"\"CALL gds.graph.list\"\"\").evaluate()"
   ]
  },
  {
   "cell_type": "code",
   "execution_count": 79,
   "metadata": {},
   "outputs": [
    {
     "data": {
      "text/plain": [
       "array([['4097', '4800', '32872', '32872', '32 KiB']], dtype='<U21')"
      ]
     },
     "execution_count": 79,
     "metadata": {},
     "output_type": "execute_result"
    }
   ],
   "source": [
    "graphdb.run(\"\"\"CALL gds.triangleCount.write.estimate('early_graph', { writeProperty: 'triangleCount' })\n",
    "YIELD nodeCount, relationshipCount, bytesMin, bytesMax, requiredMemory\"\"\").to_ndarray()"
   ]
  },
  {
   "cell_type": "code",
   "execution_count": 80,
   "metadata": {},
   "outputs": [
    {
     "data": {
      "text/plain": [
       "array([[2089, 4097]])"
      ]
     },
     "execution_count": 80,
     "metadata": {},
     "output_type": "execute_result"
    }
   ],
   "source": [
    "#The Triangle Count algorithm in the GDS library only finds triangles in undirected graphs. \n",
    "\n",
    "graphdb.run(\"\"\"CALL gds.triangleCount.write('early_graph', {\n",
    "    writeProperty: 'triangles'\n",
    "    })\n",
    "    YIELD globalTriangleCount, nodeCount\"\"\").to_ndarray()\n"
   ]
  },
  {
   "cell_type": "code",
   "execution_count": 81,
   "metadata": {},
   "outputs": [
    {
     "data": {
      "text/plain": [
       "array([['Christian Gunia', '78'],\n",
       "       ['Ingo Wegener', '78'],\n",
       "       ['Dimo Brockhoff', '78'],\n",
       "       ['Patrick Briest', '78'],\n",
       "       ['Stefan Tannenbaum', '78'],\n",
       "       ['Heiko Röglin', '78'],\n",
       "       ['Oliver Heering', '78'],\n",
       "       ['Bastian Degener', '78'],\n",
       "       ['Dirk Sudholt', '78'],\n",
       "       ['Matthias Englert', '78'],\n",
       "       ['Thomas Jansen', '78'],\n",
       "       ['Andrea Schweer', '78'],\n",
       "       ['Michael Leifhelm', '78'],\n",
       "       ['Kai Plociennik', '78'],\n",
       "       ['Francis C. M. Lau', '39'],\n",
       "       ['Cho-Li Wang', '34'],\n",
       "       ['Panos Vassiliadis', '29'],\n",
       "       ['Yannis Tzitzikas', '29'],\n",
       "       ['Elisa Bertino', '28'],\n",
       "       ['Stefano Rizzi', '28']], dtype='<U17')"
      ]
     },
     "execution_count": 81,
     "metadata": {},
     "output_type": "execute_result"
    }
   ],
   "source": [
    "graphdb.run(\"\"\"CALL gds.triangleCount.stream('early_graph')\n",
    "    YIELD nodeId, triangleCount\n",
    "    RETURN gds.util.asNode(nodeId).name AS name, triangleCount\n",
    "    ORDER BY triangleCount DESC\n",
    "    LIMIT 20;\"\"\").to_ndarray()"
   ]
  },
  {
   "cell_type": "code",
   "execution_count": 82,
   "metadata": {},
   "outputs": [
    {
     "data": {
      "text/plain": [
       "array([['Yuejin Yan', '1.0'],\n",
       "       ['Cheng Fu', '1.0'],\n",
       "       ['Zhengwei Qi', '1.0'],\n",
       "       ['Dongyu Shi', '1.0'],\n",
       "       ['Xuejun Yang', '1.0'],\n",
       "       ['Jinyuan You', '1.0'],\n",
       "       ['Nong Xiao', '1.0'],\n",
       "       ['Chunjiang Li', '1.0'],\n",
       "       ['Huowang Chen', '1.0'],\n",
       "       ['Zhoujun Li', '1.0']], dtype='<U12')"
      ]
     },
     "execution_count": 82,
     "metadata": {},
     "output_type": "execute_result"
    }
   ],
   "source": [
    "graphdb.run(\"\"\"CALL gds.localClusteringCoefficient.stream('early_graph')\n",
    "    YIELD nodeId, localClusteringCoefficient\n",
    "    RETURN gds.util.asNode(nodeId).name AS name, localClusteringCoefficient\n",
    "    ORDER BY localClusteringCoefficient DESC\n",
    "    LIMIT 10;\"\"\").to_ndarray()"
   ]
  },
  {
   "cell_type": "code",
   "execution_count": 83,
   "metadata": {},
   "outputs": [
    {
     "data": {
      "text/plain": [
       "array([[3.06685223e-01, 4.09700000e+03]])"
      ]
     },
     "execution_count": 83,
     "metadata": {},
     "output_type": "execute_result"
    }
   ],
   "source": [
    "# this is calculating triangles in background, you can make it use already calculated \n",
    "graphdb.run(\"\"\"CALL gds.localClusteringCoefficient.write('early_graph', {\n",
    "      writeProperty: 'localClusteringCoefficient'\n",
    "    })\n",
    "    YIELD averageClusteringCoefficient, nodeCount\"\"\").to_ndarray()"
   ]
  },
  {
   "cell_type": "code",
   "execution_count": 84,
   "metadata": {},
   "outputs": [],
   "source": [
    "def apply_triangles_features(data, triangles_prop, coefficient_prop):\n",
    "    query = \"\"\"\n",
    "    UNWIND $pairs AS pair\n",
    "    MATCH (p1) WHERE id(p1) = pair.node1\n",
    "    MATCH (p2) WHERE id(p2) = pair.node2\n",
    "    RETURN pair.node1 AS node1,\n",
    "    pair.node2 AS node2,\n",
    "    apoc.coll.min([p1[$trianglesProp], p2[$trianglesProp]])\n",
    "    AS minTriangles,\n",
    "    apoc.coll.max([p1[$trianglesProp], p2[$trianglesProp]])\n",
    "    AS maxTriangles,\n",
    "    apoc.coll.min([p1[$coefficientProp], p2[$coefficientProp]])\n",
    "    AS minCoefficient,\n",
    "    apoc.coll.max([p1[$coefficientProp], p2[$coefficientProp]])\n",
    "    AS maxCoefficient\n",
    "    \"\"\"\n",
    "    params = {\n",
    "    \"pairs\": [{\"node1\": row[\"node1\"], \"node2\": row[\"node2\"]}\n",
    "    for row in data.collect()],\n",
    "    \"trianglesProp\": triangles_prop,\n",
    "    \"coefficientProp\": coefficient_prop\n",
    "    }\n",
    "    features = spark.createDataFrame(graphdb.run(query, params).to_data_frame())\n",
    "    return data.join(features, [\"node1\", \"node2\"])"
   ]
  },
  {
   "cell_type": "code",
   "execution_count": 85,
   "metadata": {},
   "outputs": [],
   "source": [
    "training_data = apply_triangles_features(training_data,\n",
    "        \"triangles\", \"localClusteringCoefficient\")"
   ]
  },
  {
   "cell_type": "code",
   "execution_count": 86,
   "metadata": {},
   "outputs": [
    {
     "name": "stdout",
     "output_type": "stream",
     "text": [
      "+-----+-----+-----+-------------+--------------+--------------+------------+------------+-------------------+--------------+\n",
      "|node1|node2|label|commonAuthors|prefAttachment|totalNeighbors|minTriangles|maxTriangles|     minCoefficient|maxCoefficient|\n",
      "+-----+-----+-----+-------------+--------------+--------------+------------+------------+-------------------+--------------+\n",
      "|   22|   25|    1|            3|            32|             9|           6|          12|0.42857142857142855|           1.0|\n",
      "|  412| 2326|    0|            1|            18|             8|           3|          15|                1.0|           1.0|\n",
      "|  648|  651|    1|            1|             4|             3|           1|           1|                1.0|           1.0|\n",
      "|  753|  753|    0|            0|             9|             3|           3|           3|                1.0|           1.0|\n",
      "| 1045| 4807|    0|            2|            27|            10|           3|          26| 0.7222222222222222|           1.0|\n",
      "+-----+-----+-----+-------------+--------------+--------------+------------+------------+-------------------+--------------+\n",
      "only showing top 5 rows\n",
      "\n"
     ]
    }
   ],
   "source": [
    "training_data.show(n=5)"
   ]
  },
  {
   "cell_type": "code",
   "execution_count": 87,
   "metadata": {},
   "outputs": [
    {
     "data": {
      "text/plain": [
       "<py2neo.database.Cursor at 0x7fc54ec0f850>"
      ]
     },
     "execution_count": 87,
     "metadata": {},
     "output_type": "execute_result"
    }
   ],
   "source": [
    "# create a graph projection\n",
    "graphdb.run(\"\"\"CALL gds.graph.create('late_graph',\n",
    "    'Author', \n",
    "    {\n",
    "        CO_AUTHOR: {\n",
    "                type: 'CO_AUTHOR',\n",
    "                orientation: 'UNDIRECTED'\n",
    "                }\n",
    "                }\n",
    "                )\"\"\")"
   ]
  },
  {
   "cell_type": "code",
   "execution_count": 88,
   "metadata": {},
   "outputs": [
    {
     "data": {
      "text/plain": [
       "array([[4910, 4097]])"
      ]
     },
     "execution_count": 88,
     "metadata": {},
     "output_type": "execute_result"
    }
   ],
   "source": [
    "graphdb.run(\"\"\"CALL gds.triangleCount.write('late_graph', {\n",
    "    writeProperty: 'triangles'\n",
    "    })\n",
    "    YIELD globalTriangleCount, nodeCount\"\"\").to_ndarray()\n"
   ]
  },
  {
   "cell_type": "code",
   "execution_count": 89,
   "metadata": {},
   "outputs": [
    {
     "data": {
      "text/plain": [
       "array([[7.2163289e-01, 4.0970000e+03]])"
      ]
     },
     "execution_count": 89,
     "metadata": {},
     "output_type": "execute_result"
    }
   ],
   "source": [
    "# this is calculating triangles in background, you can make it use already calculated \n",
    "graphdb.run(\"\"\"CALL gds.localClusteringCoefficient.write('late_graph', {\n",
    "      writeProperty: 'localClusteringCoefficient'\n",
    "    })\n",
    "    YIELD averageClusteringCoefficient, nodeCount\"\"\").to_ndarray()"
   ]
  },
  {
   "cell_type": "code",
   "execution_count": null,
   "metadata": {},
   "outputs": [],
   "source": [
    "#graphdb.run(\"\"\"CALL gds.graph.drop('coauthor_graph');\"\"\")"
   ]
  },
  {
   "cell_type": "code",
   "execution_count": 90,
   "metadata": {},
   "outputs": [],
   "source": [
    "test_data = apply_triangles_features(test_data,\n",
    "        \"triangles\", \"localClusteringCoefficient\")"
   ]
  },
  {
   "cell_type": "code",
   "execution_count": null,
   "metadata": {},
   "outputs": [],
   "source": [
    "#col_list = [\"minTriangles\", \"maxTriangles\", \"minCoefficient\", \"maxCoefficient\"] \n",
    "#training_data = training_data.na.fill(0, col_list)\n",
    "#test_data = test_data.na.fill(0, col_list)"
   ]
  },
  {
   "cell_type": "code",
   "execution_count": 91,
   "metadata": {},
   "outputs": [],
   "source": [
    "fields = [\"commonAuthors\", \"prefAttachment\", \"totalNeighbors\",\n",
    "    \"minTriangles\", \"maxTriangles\", \"minCoefficient\", \"maxCoefficient\"]\n",
    "triangle_model = train_model(fields, training_data)"
   ]
  },
  {
   "cell_type": "code",
   "execution_count": 92,
   "metadata": {},
   "outputs": [
    {
     "data": {
      "text/html": [
       "<div>\n",
       "<style scoped>\n",
       "    .dataframe tbody tr th:only-of-type {\n",
       "        vertical-align: middle;\n",
       "    }\n",
       "\n",
       "    .dataframe tbody tr th {\n",
       "        vertical-align: top;\n",
       "    }\n",
       "\n",
       "    .dataframe thead th {\n",
       "        text-align: right;\n",
       "    }\n",
       "</style>\n",
       "<table border=\"1\" class=\"dataframe\">\n",
       "  <thead>\n",
       "    <tr style=\"text-align: right;\">\n",
       "      <th></th>\n",
       "      <th>Measure</th>\n",
       "      <th>Score</th>\n",
       "    </tr>\n",
       "  </thead>\n",
       "  <tbody>\n",
       "    <tr>\n",
       "      <th>0</th>\n",
       "      <td>accuracy</td>\n",
       "      <td>0.991393</td>\n",
       "    </tr>\n",
       "    <tr>\n",
       "      <th>1</th>\n",
       "      <td>recall</td>\n",
       "      <td>0.981499</td>\n",
       "    </tr>\n",
       "    <tr>\n",
       "      <th>2</th>\n",
       "      <td>precision</td>\n",
       "      <td>0.955569</td>\n",
       "    </tr>\n",
       "  </tbody>\n",
       "</table>\n",
       "</div>"
      ],
      "text/plain": [
       "     Measure     Score\n",
       "0   accuracy  0.991393\n",
       "1     recall  0.981499\n",
       "2  precision  0.955569"
      ]
     },
     "execution_count": 92,
     "metadata": {},
     "output_type": "execute_result"
    }
   ],
   "source": [
    "triangle_results = evaluate_model(triangle_model, test_data)\n",
    "display_results(triangle_results)"
   ]
  },
  {
   "cell_type": "code",
   "execution_count": 93,
   "metadata": {},
   "outputs": [
    {
     "data": {
      "image/png": "[encoded data removed]",
      "text/plain": [
       "<Figure size 1040x640 with 1 Axes>"
      ]
     },
     "metadata": {},
     "output_type": "display_data"
    }
   ],
   "source": [
    "plt, fig = create_roc_plot()\n",
    "add_curve(plt, \"Common Authors\",\n",
    "basic_results[\"fpr\"], basic_results[\"tpr\"], basic_results[\"roc_auc\"])\n",
    "add_curve(plt, \"Graphy\",\n",
    "graphy_results[\"fpr\"], graphy_results[\"tpr\"],\n",
    "graphy_results[\"roc_auc\"])\n",
    "add_curve(plt, \"Triangles\",\n",
    "triangle_results[\"fpr\"], triangle_results[\"tpr\"],\n",
    "triangle_results[\"roc_auc\"])\n",
    "plt.legend(loc='lower right')\n",
    "plt.show()"
   ]
  },
  {
   "cell_type": "code",
   "execution_count": 94,
   "metadata": {},
   "outputs": [
    {
     "data": {
      "image/png": "[encoded data removed]",
      "text/plain": [
       "<Figure size 640x480 with 1 Axes>"
      ]
     },
     "metadata": {},
     "output_type": "display_data"
    }
   ],
   "source": [
    "rf_model = triangle_model.stages[-1]\n",
    "plot_feature_importance(fields, rf_model.featureImportances)"
   ]
  },
  {
   "cell_type": "markdown",
   "metadata": {},
   "source": [
    "## Community Detection\n",
    "\n",
    "We’ll compute more coarse-grained communities using the **Label Propagation** algorithm in Neo4j.\n",
    "\n",
    "https://neo4j.com/docs/graph-data-science/current/algorithms/label-propagation/\n",
    "\n",
    "Running this algorithm requires sufficient memory availability. Before running this algorithm, we recommend that you read Section 3.1, “Memory Estimation”. \n",
    "\n"
   ]
  },
  {
   "cell_type": "code",
   "execution_count": 95,
   "metadata": {},
   "outputs": [
    {
     "data": {
      "text/plain": [
       "array([['4097', '4800', '34336', '558112', '[33 KiB ... 545 KiB]']],\n",
       "      dtype='<U21')"
      ]
     },
     "execution_count": 95,
     "metadata": {},
     "output_type": "execute_result"
    }
   ],
   "source": [
    "graphdb.run(\"\"\"CALL gds.labelPropagation.write.estimate('early_graph', { writeProperty: 'label' })\n",
    "YIELD nodeCount, relationshipCount, bytesMin, bytesMax, requiredMemory\"\"\").to_ndarray()"
   ]
  },
  {
   "cell_type": "code",
   "execution_count": 96,
   "metadata": {},
   "outputs": [
    {
     "data": {
      "text/plain": [
       "array([[2838,    3,    1]])"
      ]
     },
     "execution_count": 96,
     "metadata": {},
     "output_type": "execute_result"
    }
   ],
   "source": [
    "graphdb.run(\"\"\"CALL gds.labelPropagation.write('early_graph', { writeProperty: 'label' })\n",
    "YIELD communityCount, ranIterations, didConverge\"\"\").to_ndarray()"
   ]
  },
  {
   "cell_type": "markdown",
   "metadata": {},
   "source": [
    "**Louvain algorithm**\n",
    "\n",
    "The Louvain method is an algorithm to detect communities in large networks. It maximizes a modularity score for each community, where the modularity quantifies the quality of an assignment of nodes to communities. This means evaluating how much more densely connected the nodes within a community are, compared to how connected they would be in a random network.\n",
    "\n",
    "The Louvain algorithm is a hierarchical clustering algorithm, that recursively merges communities into a single node and executes the modularity clustering on the condensed graphs. \n",
    "\n",
    "\n"
   ]
  },
  {
   "cell_type": "code",
   "execution_count": 97,
   "metadata": {},
   "outputs": [
    {
     "data": {
      "text/plain": [
       "array([['4097', '4800', '267689', '1624800', '[261 KiB ... 1586 KiB]']],\n",
       "      dtype='<U22')"
      ]
     },
     "execution_count": 97,
     "metadata": {},
     "output_type": "execute_result"
    }
   ],
   "source": [
    "graphdb.run(\"\"\"CALL gds.louvain.write.estimate('early_graph', { writeProperty: 'louvain' })\n",
    "YIELD nodeCount, relationshipCount, bytesMin, bytesMax, requiredMemory\"\"\").to_ndarray()"
   ]
  },
  {
   "cell_type": "code",
   "execution_count": 98,
   "metadata": {},
   "outputs": [
    {
     "data": {
      "text/plain": [
       "array([[2834, 0.9787923611111111,\n",
       "        list([0.9481402777777778, 0.9787923611111111])]], dtype=object)"
      ]
     },
     "execution_count": 98,
     "metadata": {},
     "output_type": "execute_result"
    }
   ],
   "source": [
    "graphdb.run(\"\"\"CALL gds.louvain.write('early_graph', { writeProperty: 'louvain' })\n",
    "YIELD communityCount, modularity, modularities\"\"\").to_ndarray()"
   ]
  },
  {
   "cell_type": "code",
   "execution_count": 99,
   "metadata": {},
   "outputs": [
    {
     "data": {
      "text/plain": [
       "<py2neo.database.Cursor at 0x7fc54eb86690>"
      ]
     },
     "execution_count": 99,
     "metadata": {},
     "output_type": "execute_result"
    }
   ],
   "source": [
    "graphdb.run(\"\"\"CALL gds.louvain.stream('early_graph',\n",
    "{includeIntermediateCommunities:true})\n",
    "YIELD nodeId, communityId, intermediateCommunityIds\n",
    "WITH gds.util.asNode(nodeId) AS node, intermediateCommunityIds[0] AS smallestCommunity\n",
    "SET node.smallest = smallestCommunity\"\"\")"
   ]
  },
  {
   "cell_type": "code",
   "execution_count": 100,
   "metadata": {},
   "outputs": [],
   "source": [
    "def apply_community_features(data, partition_prop, louvain_prop):\n",
    "    query = \"\"\"\n",
    "    UNWIND $pairs AS pair\n",
    "    MATCH (p1) WHERE id(p1) = pair.node1\n",
    "    MATCH (p2) WHERE id(p2) = pair.node2\n",
    "    RETURN pair.node1 AS node1,\n",
    "    pair.node2 AS node2,\n",
    "    CASE WHEN p1[$partitionProp] = p2[$partitionProp] THEN\n",
    "    1 ELSE 0 END AS samePartition,\n",
    "    CASE WHEN p1[$louvainProp] = p2[$louvainProp] THEN\n",
    "    1 ELSE 0 END AS sameLouvain\n",
    "    \"\"\"\n",
    "    params = {\n",
    "    \"pairs\": [{\"node1\": row[\"node1\"], \"node2\": row[\"node2\"]} for\n",
    "    row in data.collect()],\n",
    "    \"partitionProp\": partition_prop,\n",
    "    \"louvainProp\": louvain_prop\n",
    "    }\n",
    "    features = spark.createDataFrame(graphdb.run(query, params).to_data_frame())\n",
    "    return data.join(features, [\"node1\", \"node2\"])"
   ]
  },
  {
   "cell_type": "code",
   "execution_count": 101,
   "metadata": {},
   "outputs": [],
   "source": [
    "training_data = apply_community_features(training_data,\"label\", \"smallest\")"
   ]
  },
  {
   "cell_type": "code",
   "execution_count": 102,
   "metadata": {},
   "outputs": [
    {
     "name": "stdout",
     "output_type": "stream",
     "text": [
      "+-----+-----+-----+-------------+--------------+--------------+------------+------------+-------------------+--------------+-------------+-----------+\n",
      "|node1|node2|label|commonAuthors|prefAttachment|totalNeighbors|minTriangles|maxTriangles|     minCoefficient|maxCoefficient|samePartition|sameLouvain|\n",
      "+-----+-----+-----+-------------+--------------+--------------+------------+------------+-------------------+--------------+-------------+-----------+\n",
      "|   22|   25|    1|            3|            32|             9|           6|          12|0.42857142857142855|           1.0|            1|          1|\n",
      "|  412| 2326|    0|            1|            18|             8|           3|          15|                1.0|           1.0|            1|          0|\n",
      "|  648|  651|    1|            1|             4|             3|           1|           1|                1.0|           1.0|            1|          1|\n",
      "|  753|  753|    0|            0|             9|             3|           3|           3|                1.0|           1.0|            1|          1|\n",
      "| 1045| 4807|    0|            2|            27|            10|           3|          26| 0.7222222222222222|           1.0|            1|          1|\n",
      "+-----+-----+-----+-------------+--------------+--------------+------------+------------+-------------------+--------------+-------------+-----------+\n",
      "only showing top 5 rows\n",
      "\n"
     ]
    }
   ],
   "source": [
    "training_data.show(n=5)"
   ]
  },
  {
   "cell_type": "code",
   "execution_count": 103,
   "metadata": {},
   "outputs": [
    {
     "data": {
      "text/plain": [
       "array([[1230,    4,    1]])"
      ]
     },
     "execution_count": 103,
     "metadata": {},
     "output_type": "execute_result"
    }
   ],
   "source": [
    "graphdb.run(\"\"\"CALL gds.labelPropagation.write('late_graph', { writeProperty: 'label' })\n",
    "YIELD communityCount, ranIterations, didConverge\"\"\").to_ndarray()"
   ]
  },
  {
   "cell_type": "code",
   "execution_count": 104,
   "metadata": {},
   "outputs": [
    {
     "data": {
      "text/plain": [
       "<py2neo.database.Cursor at 0x7fc54eb9ea10>"
      ]
     },
     "execution_count": 104,
     "metadata": {},
     "output_type": "execute_result"
    }
   ],
   "source": [
    "graphdb.run(\"\"\"CALL gds.louvain.stream('late_graph',\n",
    "{includeIntermediateCommunities:true})\n",
    "YIELD nodeId, communityId, intermediateCommunityIds\n",
    "WITH gds.util.asNode(nodeId) AS node, intermediateCommunityIds[0] AS smallestCommunity\n",
    "SET node.smallest = smallestCommunity\"\"\")"
   ]
  },
  {
   "cell_type": "code",
   "execution_count": 105,
   "metadata": {},
   "outputs": [],
   "source": [
    "test_data = apply_community_features(test_data,\"label\", \"smallest\")"
   ]
  },
  {
   "cell_type": "code",
   "execution_count": 106,
   "metadata": {},
   "outputs": [
    {
     "name": "stdout",
     "output_type": "stream",
     "text": [
      "+-----+-----+-----+-------------+--------------+--------------+------------+------------+-------------------+------------------+-------------+-----------+\n",
      "|node1|node2|label|commonAuthors|prefAttachment|totalNeighbors|minTriangles|maxTriangles|     minCoefficient|    maxCoefficient|samePartition|sameLouvain|\n",
      "+-----+-----+-----+-------------+--------------+--------------+------------+------------+-------------------+------------------+-------------+-----------+\n",
      "|    8| 4958|    1|            2|            24|             9|           2|          10|0.35714285714285715|0.6666666666666666|            1|          1|\n",
      "|   61|   63|    1|            1|             4|             3|           1|           1|                1.0|               1.0|            1|          1|\n",
      "|  435|  435|    0|            0|           144|            12|          66|          66|                1.0|               1.0|            1|          1|\n",
      "|  443|   53|    0|            1|            72|            17|          15|          66|                1.0|               1.0|            1|          0|\n",
      "|  673|  674|    1|            1|             4|             3|           1|           1|                1.0|               1.0|            1|          1|\n",
      "+-----+-----+-----+-------------+--------------+--------------+------------+------------+-------------------+------------------+-------------+-----------+\n",
      "only showing top 5 rows\n",
      "\n"
     ]
    }
   ],
   "source": [
    "test_data.show(n=5)"
   ]
  },
  {
   "cell_type": "code",
   "execution_count": 107,
   "metadata": {},
   "outputs": [
    {
     "data": {
      "image/png": "[encoded data removed]",
      "text/plain": [
       "<Figure size 1440x560 with 2 Axes>"
      ]
     },
     "metadata": {},
     "output_type": "display_data"
    }
   ],
   "source": [
    "import pyspark.sql.functions as F\n",
    "\n",
    "plt.style.use('fivethirtyeight')\n",
    "fig, axs = plt.subplots(1, 2, figsize=(18, 7), sharey=True)\n",
    "charts = [(1, \"have collaborated\"), (0, \"haven't collaborated\")]\n",
    "\n",
    "for index, chart in enumerate(charts):\n",
    "    label, title = chart\n",
    "    filtered = training_data.filter(training_data[\"label\"] == label)\n",
    "    values = (filtered.withColumn('samePartition',F.when(F.col(\"samePartition\") == 0, \"False\")\n",
    "        .otherwise(\"True\"))\n",
    "        .groupby(\"samePartition\")\n",
    "        .agg(F.count(\"label\").alias(\"count\"))\n",
    "        .select(\"samePartition\", \"count\")\n",
    "        .toPandas())\n",
    "    values.set_index(\"samePartition\", drop=True, inplace=True)\n",
    "    values.plot(kind=\"bar\", ax=axs[index], legend=None,\n",
    "    title=f\"Authors who {title} (label={label})\")\n",
    "    axs[index].xaxis.set_label_text(\"Same Partition\")\n",
    "\n",
    "plt.tight_layout()\n",
    "plt.show()"
   ]
  },
  {
   "cell_type": "code",
   "execution_count": 108,
   "metadata": {},
   "outputs": [
    {
     "data": {
      "image/png": "[encoded data removed]",
      "text/plain": [
       "<Figure size 1440x560 with 2 Axes>"
      ]
     },
     "metadata": {},
     "output_type": "display_data"
    }
   ],
   "source": [
    "plt.style.use('fivethirtyeight')\n",
    "fig, axs = plt.subplots(1, 2, figsize=(18, 7), sharey=True)\n",
    "charts = [(1, \"have collaborated\"), (0, \"haven't collaborated\")]\n",
    "for index, chart in enumerate(charts):\n",
    "    label, title = chart\n",
    "    filtered = training_data.filter(training_data[\"label\"] == label)\n",
    "    values = (filtered.withColumn('sameLouvain',\n",
    "    F.when(F.col(\"sameLouvain\") == 0, \"False\")\n",
    "    .otherwise(\"True\"))\n",
    "    .groupby(\"sameLouvain\")\n",
    "    .agg(F.count(\"label\").alias(\"count\"))\n",
    "    .select(\"sameLouvain\", \"count\")\n",
    "    .toPandas())\n",
    "    values.set_index(\"sameLouvain\", drop=True, inplace=True)\n",
    "    values.plot(kind=\"bar\", ax=axs[index], legend=None,\n",
    "    title=f\"Authors who {title} (label={label})\")\n",
    "    axs[index].xaxis.set_label_text(\"Same Louvain\")\n",
    "\n",
    "plt.tight_layout()\n",
    "plt.show()"
   ]
  },
  {
   "cell_type": "code",
   "execution_count": 109,
   "metadata": {},
   "outputs": [],
   "source": [
    "fields = [\"commonAuthors\", \"prefAttachment\", \"totalNeighbors\",\n",
    "    \"minTriangles\", \"maxTriangles\", \"minCoefficient\", \"maxCoefficient\",\n",
    "    \"samePartition\", \"sameLouvain\"]\n",
    "community_model = train_model(fields, training_data)"
   ]
  },
  {
   "cell_type": "code",
   "execution_count": 110,
   "metadata": {},
   "outputs": [
    {
     "data": {
      "text/html": [
       "<div>\n",
       "<style scoped>\n",
       "    .dataframe tbody tr th:only-of-type {\n",
       "        vertical-align: middle;\n",
       "    }\n",
       "\n",
       "    .dataframe tbody tr th {\n",
       "        vertical-align: top;\n",
       "    }\n",
       "\n",
       "    .dataframe thead th {\n",
       "        text-align: right;\n",
       "    }\n",
       "</style>\n",
       "<table border=\"1\" class=\"dataframe\">\n",
       "  <thead>\n",
       "    <tr style=\"text-align: right;\">\n",
       "      <th></th>\n",
       "      <th>Measure</th>\n",
       "      <th>Score</th>\n",
       "    </tr>\n",
       "  </thead>\n",
       "  <tbody>\n",
       "    <tr>\n",
       "      <th>0</th>\n",
       "      <td>accuracy</td>\n",
       "      <td>0.994757</td>\n",
       "    </tr>\n",
       "    <tr>\n",
       "      <th>1</th>\n",
       "      <td>recall</td>\n",
       "      <td>0.986124</td>\n",
       "    </tr>\n",
       "    <tr>\n",
       "      <th>2</th>\n",
       "      <td>precision</td>\n",
       "      <td>0.976190</td>\n",
       "    </tr>\n",
       "  </tbody>\n",
       "</table>\n",
       "</div>"
      ],
      "text/plain": [
       "     Measure     Score\n",
       "0   accuracy  0.994757\n",
       "1     recall  0.986124\n",
       "2  precision  0.976190"
      ]
     },
     "execution_count": 110,
     "metadata": {},
     "output_type": "execute_result"
    }
   ],
   "source": [
    "community_results = evaluate_model(community_model, test_data)\n",
    "display_results(community_results)"
   ]
  },
  {
   "cell_type": "code",
   "execution_count": 111,
   "metadata": {},
   "outputs": [
    {
     "data": {
      "image/png": "[encoded data removed]",
      "text/plain": [
       "<Figure size 1040x640 with 1 Axes>"
      ]
     },
     "metadata": {},
     "output_type": "display_data"
    }
   ],
   "source": [
    "plt, fig = create_roc_plot()\n",
    "add_curve(plt, \"Common Authors\",\n",
    "basic_results[\"fpr\"], basic_results[\"tpr\"], basic_results[\"roc_auc\"])\n",
    "add_curve(plt, \"Graphy\",\n",
    "graphy_results[\"fpr\"], graphy_results[\"tpr\"],\n",
    "graphy_results[\"roc_auc\"])\n",
    "add_curve(plt, \"Triangles\",\n",
    "triangle_results[\"fpr\"], triangle_results[\"tpr\"],\n",
    "triangle_results[\"roc_auc\"])\n",
    "add_curve(plt, \"Community\",\n",
    "community_results[\"fpr\"], community_results[\"tpr\"],\n",
    "community_results[\"roc_auc\"])\n",
    "plt.legend(loc='lower right')\n",
    "plt.show()"
   ]
  },
  {
   "cell_type": "code",
   "execution_count": 112,
   "metadata": {},
   "outputs": [
    {
     "data": {
      "image/png": "[encoded data removed]",
      "text/plain": [
       "<Figure size 640x480 with 1 Axes>"
      ]
     },
     "metadata": {},
     "output_type": "display_data"
    }
   ],
   "source": [
    "rf_model = community_model.stages[-1]\n",
    "plot_feature_importance(fields, rf_model.featureImportances)"
   ]
  },
  {
   "cell_type": "markdown",
   "metadata": {},
   "source": [
    "https://towardsdatascience.com/learning-in-graphs-with-python-part-3-8d5513eef62d\n",
    "\n",
    "In link prediction, we simply try to build a similarity measure between pairs of nodes and link the most similar nodes. The question is now to identify and compute the right similarity scores!\n",
    "\n",
    "We can build several similarity scores for these two nodes based on their neighborhoods.\n",
    "\n",
    "* Common Neighbors: S(i,j)=∣N(i)∩N(j)∣, i.e the number of common neighbors. In this example, the score would be simply 12, since they share only 2 common neighbors.\n",
    "\n",
    "* Jaccard Coefficient: A normalized common neighbors version.\n",
    "\n",
    "* Adamic-Adar index: For each common neighbor of nodes i and j, we add 1 divided by the total number of neighbors of that node. The concept is that common elements with very large neighborhoods are less significant when predicting a connection between two nodes compared to elements shared between a small number of nodes.\n",
    "\n",
    "* Preferential attachment : S(i,j)=∣N(i,j)∣∗∣N(j)∣\n",
    "\n",
    "* We can also use community information when it is available.\n"
   ]
  },
  {
   "cell_type": "markdown",
   "metadata": {},
   "source": [
    "# Node2Vec Graph Embeddings \n",
    "\n",
    "https://towardsdatascience.com/node-embeddings-node2vec-with-neo4j-5152d3472d8e\n",
    "\n",
    "Neo4j Graph Data Science library supports the random walk algorithm, which makes it very easy for us to implement the node2vec algorithm.\n",
    "\n",
    "We will start by projecting the in-memory graph. We describe all three node labels and project relationships as undirected.\n",
    "\n",
    "Now we are ready to train our first node2vec model. The process will consist of three parts:\n",
    "\n",
    "    Execute the random walk algorithm starting from each node in the graph\n",
    "    Feed the random walks to word2vec algorithm\n",
    "    Inspect results by looking at the most similar neighbors\n",
    "\n",
    "The random walk algorithm has an optional start parameter, which can be used to define the starting node of the walk. We can also specify how long the walk should be with the steps setting and how many times it should be repeated with the walks parameter. Note that every time random walk is executed, we expect a different result.\n",
    "\n",
    "We will use the Word2vec algorithm implementation in the gensim library. It also has a couple of hyperparameters we can define. Most notable are:\n",
    "\n",
    "    size: Dimensionality of the embedding vectors\n",
    "    window: Maximum distance between the current and predicted word\n",
    "    min_count: The minimum count of words to consider when training the model; words with occurrence less than this count will be ignored.\n",
    "    sg: The training algorithm: 1 for skip-gram; otherwise default CBOW\n",
    "   \n",
    "https://towardsdatascience.com/node2vec-embeddings-for-graph-data-32a866340fef\n",
    "    \n",
    "Node2vec’s sampling strategy, accepts 4 arguments:\n",
    "— Number of walks: Number of random walks to be generated from each node in the graph\n",
    "— Walk length: How many nodes are in each random walk\n",
    "— P: Return hyperparameter\n",
    "— Q: Inout hyperaprameter\n",
    "and also the standard skip-gram parameters (context window size, number of iterations etc.)\n",
    "\n",
    "The algorithm for the random walk generation will go over each node in the graph and will generate <number of walks> random walks, of length <walk length>.\n",
    "    \n",
    "           \n",
    "https://neo4j.com/docs/graph-data-science/current/alpha-algorithms/random-walk/\n",
    "\n",
    "\n",
    "https://cs.stanford.edu/~jure/pubs/node2vec-kdd16.pdf\n",
    "\n",
    "\n",
    "http://snap.stanford.edu/node2vec/\n",
    "    \n",
    "    \n",
    "https://stellargraph.readthedocs.io/en/stable/demos/link-prediction/node2vec-link-prediction.html\n",
    "\n",
    "Node2Vec first involves running random walks on the graph to obtain our context pairs, and using these to train a Word2Vec model.\n",
    "\n",
    "\n",
    "\n",
    "https://radimrehurek.com/gensim/models/word2vec.html\n",
    "\n",
    "\n",
    "https://radimrehurek.com/gensim/auto_examples/tutorials/run_word2vec.html#sphx-glr-auto-examples-tutorials-run-word2vec-py\n",
    "\n"
   ]
  },
  {
   "cell_type": "markdown",
   "metadata": {},
   "source": [
    "There are actually alpha implementations of node embeddings in Neo4j. Alpha designation indicates that the algorithm is experimental and might be changed or removed at any time.\n",
    "\n",
    "https://neo4j.com/docs/graph-data-science/current/algorithms/node-embeddings/"
   ]
  },
  {
   "cell_type": "markdown",
   "metadata": {},
   "source": [
    "We use Node2Vec [1], to calculate node embeddings. These embeddings are learned in such a way to ensure that nodes that are close in the graph remain close in the embedding space. Node2Vec first involves running random walks on the graph to obtain our context pairs, and using these to train a Word2Vec model.\n",
    "\n",
    "These are the set of parameters we can use:\n",
    " \n",
    "    p - Random walk parameter “p”\n",
    "    q - Random walk parameter “q”\n",
    "    dimensions - Dimensionality of node2vec embeddings\n",
    "    num_walks - Number of walks from each node\n",
    "    walk_length - Length of each random walk\n",
    "    window_size - Context window size for Word2Vec\n",
    "    num_iter - number of SGD iterations (epochs)\n",
    "    workers - Number of workers for Word2Vec\n",
    "    \n",
    "The Word2Vec Skip-gram model, for example, takes in pairs (word1, word2) generated by moving a window across text data, and trains a 1-hidden-layer neural network based on the synthetic task of given an input word, giving us a predicted probability distribution of nearby words to the input. A virtual one-hot encoding of words goes through a ‘projection layer’ to the hidden layer; these projection weights are later interpreted as the word embeddings. So if the hidden layer has 300 neurons, this network will give us 300-dimensional word embeddings.\n",
    "    "
   ]
  },
  {
   "cell_type": "code",
   "execution_count": 374,
   "metadata": {},
   "outputs": [],
   "source": [
    "def get_distinct_nodes(data):\n",
    "    \n",
    "    # get distinct list of nodes \n",
    "    nodes=data.select(\"node1\").distinct().toPandas()\n",
    "    temp=data.select(\"node2\").distinct().toPandas()\n",
    "    temp.columns=[\"node1\"]\n",
    "    nodes=nodes.append(temp)\n",
    "    nodes=nodes.drop_duplicates()\n",
    "\n",
    "    return nodes\n"
   ]
  },
  {
   "cell_type": "code",
   "execution_count": 241,
   "metadata": {},
   "outputs": [],
   "source": [
    "train_nodes=get_distinct_nodess(training_data)"
   ]
  },
  {
   "cell_type": "code",
   "execution_count": 242,
   "metadata": {},
   "outputs": [
    {
     "data": {
      "text/plain": [
       "1785"
      ]
     },
     "execution_count": 242,
     "metadata": {},
     "output_type": "execute_result"
    }
   ],
   "source": [
    "len(train_nodes)"
   ]
  },
  {
   "cell_type": "code",
   "execution_count": 315,
   "metadata": {},
   "outputs": [],
   "source": [
    "params={\n",
    "    \"nodes\":[{\"id\": node} for node in train_nodes[\"node1\"]  ]\n",
    "    }\n",
    "\n",
    "query=(\"\"\"\n",
    "    UNWIND $nodes AS node\n",
    "    MATCH (a:Author)\n",
    "    WHERE ID(a) = node.id\n",
    "    WITH a\n",
    "    CALL gds.alpha.randomWalk.stream('early_graph',{\n",
    "        start: id(a),\n",
    "        steps: 2,\n",
    "        walks: 5\n",
    "    })\n",
    "    YIELD nodeIds\n",
    "    RETURN [id in nodeIds | toString(id)] as walks\n",
    "    \"\"\")\n",
    "\n",
    "train_walks=graphdb.run(query, params).to_series()\n"
   ]
  },
  {
   "cell_type": "code",
   "execution_count": 316,
   "metadata": {},
   "outputs": [
    {
     "data": {
      "text/plain": [
       "0         [964, 965, 3919]\n",
       "1         [964, 965, 3919]\n",
       "2          [964, 967, 965]\n",
       "3          [964, 967, 964]\n",
       "4          [964, 967, 965]\n",
       "               ...        \n",
       "8920    [4822, 4819, 4822]\n",
       "8921    [4822, 4820, 4822]\n",
       "8922    [4822, 4820, 4819]\n",
       "8923    [4822, 4820, 4822]\n",
       "8924    [4822, 4820, 4819]\n",
       "Length: 8925, dtype: object"
      ]
     },
     "execution_count": 316,
     "metadata": {},
     "output_type": "execute_result"
    }
   ],
   "source": [
    "train_walks"
   ]
  },
  {
   "cell_type": "code",
   "execution_count": null,
   "metadata": {},
   "outputs": [],
   "source": [
    "import gensim.models"
   ]
  },
  {
   "cell_type": "code",
   "execution_count": 246,
   "metadata": {},
   "outputs": [
    {
     "data": {
      "text/plain": [
       "8925"
      ]
     },
     "execution_count": 246,
     "metadata": {},
     "output_type": "execute_result"
    }
   ],
   "source": [
    "len(train_walks)"
   ]
  },
  {
   "cell_type": "code",
   "execution_count": 125,
   "metadata": {},
   "outputs": [],
   "source": [
    "import gensim.models"
   ]
  },
  {
   "cell_type": "code",
   "execution_count": 340,
   "metadata": {},
   "outputs": [
    {
     "name": "stderr",
     "output_type": "stream",
     "text": [
      "WARNING:gensim.models.base_any2vec:consider setting layer size to a multiple of 4 for greater performance\n",
      "WARNING:gensim.models.base_any2vec:under 10 jobs per worker: consider setting a smaller `batch_words' for smoother alpha decay\n"
     ]
    }
   ],
   "source": [
    "wv_model = gensim.models.Word2Vec(train_walks, sg=1, window=5, size=2,min_count=1)"
   ]
  },
  {
   "cell_type": "code",
   "execution_count": 341,
   "metadata": {},
   "outputs": [],
   "source": [
    "from collections import defaultdict"
   ]
  },
  {
   "cell_type": "code",
   "execution_count": 342,
   "metadata": {},
   "outputs": [],
   "source": [
    "train_d = defaultdict(list)\n",
    "for record in wv_model.wv.vocab:\n",
    "    train_d[int(record)].append([float(x) for x in list(wv_model.wv[record])])"
   ]
  },
  {
   "cell_type": "code",
   "execution_count": 343,
   "metadata": {},
   "outputs": [
    {
     "data": {
      "text/plain": [
       "[0.1597151905298233, -0.1306072473526001]"
      ]
     },
     "execution_count": 343,
     "metadata": {},
     "output_type": "execute_result"
    }
   ],
   "source": [
    "train_d[964][0]"
   ]
  },
  {
   "cell_type": "code",
   "execution_count": 344,
   "metadata": {},
   "outputs": [],
   "source": [
    "embed_dict=[{\"node1\":row[\"node1\"],\n",
    "        \"node2\": row[\"node2\"],\n",
    "        \"_1\": train_d[row[\"node1\"]][0][0],\n",
    "        \"_2\": train_d[row[\"node1\"]][0][1],\n",
    "        \"_3\":  train_d[row[\"node2\"]][0][0],\n",
    "        \"_4\":  train_d[row[\"node2\"]][0][1]} for row in training_data.collect()]"
   ]
  },
  {
   "cell_type": "code",
   "execution_count": 345,
   "metadata": {},
   "outputs": [],
   "source": [
    "embeddings_df=spark.createDataFrame(embed_dict)"
   ]
  },
  {
   "cell_type": "code",
   "execution_count": 346,
   "metadata": {},
   "outputs": [
    {
     "data": {
      "text/plain": [
       "DataFrame[_1: double, _2: double, _3: double, _4: double, node1: bigint, node2: bigint]"
      ]
     },
     "execution_count": 346,
     "metadata": {},
     "output_type": "execute_result"
    }
   ],
   "source": [
    "embeddings_df"
   ]
  },
  {
   "cell_type": "code",
   "execution_count": 347,
   "metadata": {},
   "outputs": [
    {
     "name": "stdout",
     "output_type": "stream",
     "text": [
      "+--------------------+--------------------+--------------------+-------------------+-----+-----+\n",
      "|                  _1|                  _2|                  _3|                 _4|node1|node2|\n",
      "+--------------------+--------------------+--------------------+-------------------+-----+-----+\n",
      "|-0.07047490775585175|-0.25777313113212585|0.043137021362781525|-0.3577915132045746|   22|   25|\n",
      "+--------------------+--------------------+--------------------+-------------------+-----+-----+\n",
      "only showing top 1 row\n",
      "\n"
     ]
    }
   ],
   "source": [
    "embeddings_df.show(n=1)"
   ]
  },
  {
   "cell_type": "code",
   "execution_count": 349,
   "metadata": {},
   "outputs": [],
   "source": [
    "training_data=training_data.join(embeddings_df, [\"node1\",\"node2\"])"
   ]
  },
  {
   "cell_type": "code",
   "execution_count": 350,
   "metadata": {},
   "outputs": [
    {
     "data": {
      "text/plain": [
       "DataFrame[node1: bigint, node2: bigint, label: bigint, commonAuthors: bigint, prefAttachment: bigint, totalNeighbors: bigint, minTriangles: bigint, maxTriangles: bigint, minCoefficient: double, maxCoefficient: double, samePartition: bigint, sameLouvain: bigint, _1: double, _2: double, _3: double, _4: double]"
      ]
     },
     "execution_count": 350,
     "metadata": {},
     "output_type": "execute_result"
    }
   ],
   "source": [
    "# embedding has to be a vector\n",
    "training_data"
   ]
  },
  {
   "cell_type": "code",
   "execution_count": 351,
   "metadata": {},
   "outputs": [],
   "source": [
    "fields = [\"commonAuthors\", \"prefAttachment\", \"totalNeighbors\",\n",
    "    \"minTriangles\", \"maxTriangles\", \"minCoefficient\", \"maxCoefficient\",\n",
    "    \"samePartition\", \"sameLouvain\",\"_1\",\"_2\", \"_3\" ,\"_4\"]\n"
   ]
  },
  {
   "cell_type": "code",
   "execution_count": 352,
   "metadata": {},
   "outputs": [],
   "source": [
    "w2vec_model = train_model(fields, training_data)"
   ]
  },
  {
   "cell_type": "code",
   "execution_count": 353,
   "metadata": {},
   "outputs": [
    {
     "data": {
      "text/plain": [
       "13"
      ]
     },
     "execution_count": 353,
     "metadata": {},
     "output_type": "execute_result"
    }
   ],
   "source": [
    "w2vec_model.stages[1].numFeatures"
   ]
  },
  {
   "cell_type": "code",
   "execution_count": 354,
   "metadata": {},
   "outputs": [],
   "source": [
    "# get distinct list of nodes \n",
    "test_nodes=get_distinct_nodess(test_data)"
   ]
  },
  {
   "cell_type": "code",
   "execution_count": 355,
   "metadata": {},
   "outputs": [],
   "source": [
    "# get walks\n",
    "params={\n",
    "\"nodes\":[{\"id\": node} for node in test_nodes[\"node1\"]  ]\n",
    "}\n",
    "\n",
    "query=(\"\"\"\n",
    "    UNWIND $nodes AS node\n",
    "    MATCH (a:Author)\n",
    "    WHERE ID(a) = node.id\n",
    "    WITH a\n",
    "    CALL gds.alpha.randomWalk.stream('late_graph',{\n",
    "        start: id(a),\n",
    "        steps: 2,\n",
    "        walks: 5\n",
    "    })\n",
    "    YIELD nodeIds\n",
    "    RETURN [id in nodeIds | toString(id)] as walks\n",
    "    \"\"\")\n",
    "\n",
    "test_walks=graphdb.run(query, params).to_series()"
   ]
  },
  {
   "cell_type": "code",
   "execution_count": 356,
   "metadata": {},
   "outputs": [
    {
     "data": {
      "text/plain": [
       "0        [2250, 2251, 2252]\n",
       "1        [2250, 2252, 2250]\n",
       "2        [2250, 2254, 2251]\n",
       "3        [2250, 2251, 2250]\n",
       "4        [2250, 2251, 2254]\n",
       "                ...        \n",
       "11270    [3376, 3372, 3376]\n",
       "11271    [3376, 3373, 3372]\n",
       "11272    [3376, 3373, 3372]\n",
       "11273    [3376, 3373, 3374]\n",
       "11274    [3376, 3374, 3373]\n",
       "Length: 11275, dtype: object"
      ]
     },
     "execution_count": 356,
     "metadata": {},
     "output_type": "execute_result"
    }
   ],
   "source": [
    "test_walks"
   ]
  },
  {
   "cell_type": "code",
   "execution_count": 357,
   "metadata": {},
   "outputs": [
    {
     "name": "stderr",
     "output_type": "stream",
     "text": [
      "WARNING:gensim.models.base_any2vec:consider setting layer size to a multiple of 4 for greater performance\n",
      "WARNING:gensim.models.base_any2vec:under 10 jobs per worker: consider setting a smaller `batch_words' for smoother alpha decay\n"
     ]
    }
   ],
   "source": [
    "test_embeddings=gensim.models.Word2Vec(test_walks, sg=1, window=5, size=2,min_count=1)"
   ]
  },
  {
   "cell_type": "code",
   "execution_count": 358,
   "metadata": {},
   "outputs": [],
   "source": [
    "test_d = defaultdict(list)\n",
    "for record in test_embeddings.wv.vocab:\n",
    "    test_d[int(record)].append([float(x) for x in list(test_embeddings.wv[record])])"
   ]
  },
  {
   "cell_type": "code",
   "execution_count": 359,
   "metadata": {},
   "outputs": [
    {
     "data": {
      "text/plain": [
       "defaultdict(list,\n",
       "            {2250: [[0.19138723611831665, 0.16777385771274567]],\n",
       "             2251: [[0.21044570207595825, 0.1427461802959442]],\n",
       "             2252: [[-0.09859122335910797, 0.47068101167678833]],\n",
       "             2254: [[-0.09252896159887314, -0.016322758048772812]],\n",
       "             1677: [[-0.16871054470539093, -0.013589872978627682]],\n",
       "             1679: [[0.1764906346797943, 0.35150638222694397]],\n",
       "             1678: [[0.16884158551692963, 0.29499152302742004]],\n",
       "             1681: [[-0.10830197483301163, 0.13891832530498505]],\n",
       "             2040: [[0.08466538786888123, 0.29867371916770935]],\n",
       "             2044: [[-0.09585519880056381, -0.17300529778003693]],\n",
       "             2042: [[0.20498333871364594, 0.04707041382789612]],\n",
       "             2041: [[0.15913714468479156, -0.16260789334774017]],\n",
       "             3506: [[0.24887214601039886, 0.008555147796869278]],\n",
       "             3509: [[0.1333630383014679, 0.0721086636185646]],\n",
       "             3507: [[-0.2128266543149948, 0.07258298993110657]],\n",
       "             474: [[0.20832639932632446, 0.08434490114450455]],\n",
       "             473: [[0.13808423280715942, -0.15411752462387085]],\n",
       "             471: [[-0.03357188403606415, 0.1243450790643692]],\n",
       "             472: [[-0.19404099881649017, 0.04119411110877991]],\n",
       "             476: [[-0.22347083687782288, -0.11785867810249329]],\n",
       "             1950: [[-0.04887675493955612, 0.1212855875492096]],\n",
       "             1951: [[0.017398308962583542, -0.05262783169746399]],\n",
       "             1953: [[-0.09691255539655685, -0.011941456235945225]],\n",
       "             2529: [[0.05536847561597824, -0.14140750467777252]],\n",
       "             2531: [[0.28962668776512146, -0.03357724845409393]],\n",
       "             26: [[0.3318878710269928, 0.33817872405052185]],\n",
       "             29: [[0.33330440521240234, 0.06031915172934532]],\n",
       "             27: [[0.14891619980335236, -0.12290486693382263]],\n",
       "             5385: [[0.12198077887296677, -0.06063614413142204]],\n",
       "             5381: [[0.27905383706092834, 0.16454200446605682]],\n",
       "             5383: [[-0.07458046078681946, 0.19941894710063934]],\n",
       "             5380: [[0.1376761943101883, 0.3343121111392975]],\n",
       "             5382: [[0.23656943440437317, 0.27269333600997925]],\n",
       "             4590: [[-0.03759697452187538, 0.21509282290935516]],\n",
       "             4589: [[0.1333940029144287, -0.042431142181158066]],\n",
       "             4592: [[0.07081441581249237, 0.23211470246315002]],\n",
       "             1360: [[-0.27788373827934265, -0.014453890733420849]],\n",
       "             1362: [[0.15950484573841095, 0.161629781126976]],\n",
       "             1224: [[0.07383184134960175, 0.06006905809044838]],\n",
       "             4007: [[0.2365332990884781, 0.18415780365467072]],\n",
       "             1226: [[0.1890665590763092, -0.12321022152900696]],\n",
       "             4009: [[0.22871142625808716, -0.15847140550613403]],\n",
       "             3199: [[0.09624569118022919, -0.13363336026668549]],\n",
       "             3200: [[-0.11076659709215164, -0.14253301918506622]],\n",
       "             3201: [[0.09899024665355682, -0.08684977889060974]],\n",
       "             3203: [[-0.20350441336631775, 0.06634004414081573]],\n",
       "             3198: [[0.24461230635643005, -0.16265740990638733]],\n",
       "             65: [[0.22842182219028473, 0.27528735995292664]],\n",
       "             68: [[0.10685647279024124, 0.04478202760219574]],\n",
       "             64: [[0.15368573367595673, -0.03930997475981712]],\n",
       "             66: [[-0.17740963399410248, 0.0843299999833107]],\n",
       "             1010: [[0.10530529171228409, 0.2846297025680542]],\n",
       "             1011: [[0.22037793695926666, 0.42486247420310974]],\n",
       "             1014: [[-0.13256525993347168, 0.12017467617988586]],\n",
       "             1012: [[0.14478984475135803, 0.20373183488845825]],\n",
       "             5418: [[0.19049498438835144, -0.15738263726234436]],\n",
       "             879: [[0.007699319161474705, -0.19013503193855286]],\n",
       "             880: [[-0.017634902149438858, 0.13907788693904877]],\n",
       "             5420: [[0.06682336330413818, -0.0042752656154334545]],\n",
       "             558: [[-0.05689654126763344, 0.18489611148834229]],\n",
       "             555: [[0.1924024075269699, 0.042054109275341034]],\n",
       "             556: [[-0.23190785944461823, -0.024968920275568962]],\n",
       "             554: [[0.051540080457925797, -0.041804295033216476]],\n",
       "             3800: [[-0.18729233741760254, 0.3945583701133728]],\n",
       "             3798: [[0.27315017580986023, 0.39973780512809753]],\n",
       "             3797: [[0.2157134711742401, 0.1446194350719452]],\n",
       "             3796: [[0.009008310735225677, 0.3317907154560089]],\n",
       "             1277: [[0.09370650351047516, -0.13377395272254944]],\n",
       "             1279: [[0.09826613962650299, -0.03809473663568497]],\n",
       "             3741: [[-0.19775629043579102, -0.10880044847726822]],\n",
       "             218: [[-0.27997100353240967, -0.12180545181035995]],\n",
       "             216: [[-0.06243705004453659, 0.051841456443071365]],\n",
       "             215: [[-0.2944045066833496, 0.030876174569129944]],\n",
       "             217: [[-0.1820966601371765, 0.22447703778743744]],\n",
       "             222: [[0.10855134576559067, 0.05729642137885094]],\n",
       "             221: [[-0.14676079154014587, -0.03404873609542847]],\n",
       "             224: [[0.13696986436843872, 0.39791715145111084]],\n",
       "             1800: [[0.2401612102985382, 0.2640981674194336]],\n",
       "             2994: [[0.024772673845291138, -0.04481793940067291]],\n",
       "             2996: [[0.02144152671098709, 0.315789133310318]],\n",
       "             2992: [[-0.07582839578390121, -0.009947530925273895]],\n",
       "             2993: [[0.10900251567363739, -0.11009028553962708]],\n",
       "             3155: [[0.2076733112335205, 0.2796635925769806]],\n",
       "             3157: [[-0.03012002632021904, 0.06934700161218643]],\n",
       "             3151: [[-0.0003331545158289373, -0.10192837566137314]],\n",
       "             3154: [[0.22121360898017883, 0.07469484210014343]],\n",
       "             3152: [[-0.11331187188625336, -0.07890106737613678]],\n",
       "             3327: [[0.0017766290111467242, 0.31230026483535767]],\n",
       "             3328: [[-0.2624405026435852, 0.3153739869594574]],\n",
       "             3330: [[0.23915845155715942, 0.06588403880596161]],\n",
       "             2909: [[0.17330314218997955, 0.2786902189254761]],\n",
       "             724: [[0.07417597621679306, 0.1469295620918274]],\n",
       "             721: [[0.10965734720230103, 0.21303632855415344]],\n",
       "             2570: [[-0.2663863003253937, -0.031372953206300735]],\n",
       "             2568: [[0.09740149974822998, 0.1430252641439438]],\n",
       "             3096: [[0.13446326553821564, -0.0343974307179451]],\n",
       "             3095: [[0.01878860779106617, 0.28746655583381653]],\n",
       "             3704: [[-0.2431170791387558, -0.02482970990240574]],\n",
       "             3701: [[-0.01934395730495453, -0.17278952896595]],\n",
       "             3702: [[0.1937190741300583, -0.1708047240972519]],\n",
       "             442: [[-0.05900488421320915, -0.024004139006137848]],\n",
       "             437: [[0.025684362277388573, -0.1210455372929573]],\n",
       "             443: [[-0.016391044482588768, 0.2398892343044281]],\n",
       "             439: [[-0.26555493474006653, 0.07932782173156738]],\n",
       "             441: [[0.013227047398686409, 0.285631388425827]],\n",
       "             444: [[-0.005822204053401947, -0.11703374981880188]],\n",
       "             434: [[-0.2650683522224426, 0.1946330964565277]],\n",
       "             1532: [[-0.2223045527935028, 0.33540913462638855]],\n",
       "             1529: [[-0.185262069106102, 0.28365281224250793]],\n",
       "             1531: [[-0.27074599266052246, -0.05659974366426468]],\n",
       "             1530: [[0.0735849142074585, 0.1251104176044464]],\n",
       "             1528: [[0.1660304218530655, 0.20929181575775146]],\n",
       "             1534: [[-0.1451917588710785, 0.009829053655266762]],\n",
       "             4509: [[-0.02349677123129368, 0.11470036208629608]],\n",
       "             4511: [[0.1814652979373932, 0.08071710169315338]],\n",
       "             4508: [[-0.1991322636604309, -0.06813368201255798]],\n",
       "             2797: [[-0.2540000081062317, 0.3776886463165283]],\n",
       "             2800: [[-0.011617772281169891, 0.2045445591211319]],\n",
       "             2798: [[-0.17770148813724518, 0.37456214427948]],\n",
       "             367: [[0.11161444336175919, -0.06005527079105377]],\n",
       "             370: [[-0.18348589539527893, 0.03292711079120636]],\n",
       "             368: [[0.24212849140167236, -0.06585699319839478]],\n",
       "             1463: [[-0.2773582339286804, 0.25025564432144165]],\n",
       "             1465: [[0.1591515690088272, -0.09796208143234253]],\n",
       "             1461: [[0.07585737109184265, -0.14048801362514496]],\n",
       "             1460: [[-0.1160205751657486, 0.3336763381958008]],\n",
       "             1462: [[-0.2880759835243225, 0.26586630940437317]],\n",
       "             3820: [[-0.01755532994866371, -0.05133172869682312]],\n",
       "             5572: [[0.2789704203605652, 0.11124705523252487]],\n",
       "             5574: [[-0.12382213771343231, 0.2563313841819763]],\n",
       "             720: [[-0.15835867822170258, 0.272236168384552]],\n",
       "             718: [[-0.01238461397588253, -0.1261272430419922]],\n",
       "             717: [[-0.18140320479869843, -0.1451548933982849]],\n",
       "             716: [[0.08814901858568192, -0.038423802703619]],\n",
       "             2520: [[0.12439209967851639, 0.18524008989334106]],\n",
       "             2522: [[0.05253776162862778, 0.053479790687561035]],\n",
       "             2519: [[-0.09509827196598053, 0.2241067737340927]],\n",
       "             1936: [[-0.21373550593852997, 0.36976081132888794]],\n",
       "             1934: [[-0.15445959568023682, 0.2542036175727844]],\n",
       "             1933: [[0.031174877658486366, 0.1064760684967041]],\n",
       "             2598: [[-0.2182377427816391, 0.34153029322624207]],\n",
       "             33: [[0.22432173788547516, 0.05485856160521507]],\n",
       "             2597: [[0.15186457335948944, 0.13765394687652588]],\n",
       "             2600: [[-0.09475070238113403, 0.028210951015353203]],\n",
       "             1175: [[-0.1715778112411499, 0.13077107071876526]],\n",
       "             1173: [[-0.15948505699634552, 0.13164293766021729]],\n",
       "             1172: [[0.21373091638088226, -0.09158850461244583]],\n",
       "             54: [[-0.27402108907699585, 0.23880141973495483]],\n",
       "             52: [[-0.1154254600405693, -0.08261677622795105]],\n",
       "             53: [[0.07223004102706909, 0.23926815390586853]],\n",
       "             57: [[-0.19781270623207092, 0.10936681181192398]],\n",
       "             56: [[-0.06428877264261246, 0.0554804652929306]],\n",
       "             59: [[-0.09603908658027649, 0.3168022930622101]],\n",
       "             822: [[-0.13481520116329193, -0.2177390456199646]],\n",
       "             4848: [[0.21201546490192413, 0.3885534703731537]],\n",
       "             4849: [[0.2197166532278061, 0.1515117883682251]],\n",
       "             4847: [[0.3012434244155884, 0.3889140486717224]],\n",
       "             4851: [[0.33682146668434143, 0.40953201055526733]],\n",
       "             4929: [[0.11281082779169083, 0.35559695959091187]],\n",
       "             4927: [[0.07046421617269516, -0.14380934834480286]],\n",
       "             2693: [[0.06325044482946396, 0.2004619985818863]],\n",
       "             786: [[0.23643843829631805, 0.2860434949398041]],\n",
       "             268: [[0.2175457924604416, 0.2869882583618164]],\n",
       "             939: [[-0.07026702165603638, 0.2788083851337433]],\n",
       "             296: [[-0.16418462991714478, 0.1562463492155075]],\n",
       "             297: [[0.12062590569257736, 0.25681617856025696]],\n",
       "             295: [[-0.01055909600108862, 0.09773946553468704]],\n",
       "             299: [[-0.06671751290559769, 0.25145989656448364]],\n",
       "             3069: [[-0.1699119657278061, 0.26576754450798035]],\n",
       "             3067: [[-0.009933051653206348, 0.22566184401512146]],\n",
       "             4803: [[0.2060549259185791, -0.15047580003738403]],\n",
       "             4804: [[-0.23274782299995422, 0.17164917290210724]],\n",
       "             4802: [[0.06235949695110321, 0.15768638253211975]],\n",
       "             926: [[0.1953769028186798, 0.003179342020303011]],\n",
       "             923: [[0.16365258395671844, 0.16341190040111542]],\n",
       "             924: [[0.043749306350946426, 0.12820348143577576]],\n",
       "             4174: [[-0.18501074612140656, 0.005872295703738928]],\n",
       "             4173: [[-0.25950711965560913, -0.10582447797060013]],\n",
       "             4175: [[0.17339351773262024, 0.30637165904045105]],\n",
       "             4177: [[-0.05860893800854683, -0.08289074897766113]],\n",
       "             4256: [[0.00043583367369137704, -0.019922783598303795]],\n",
       "             4258: [[-0.19256462156772614, 0.11046440154314041]],\n",
       "             3081: [[0.021388409659266472, 0.342618465423584]],\n",
       "             3079: [[0.2625351846218109, 0.2499213069677353]],\n",
       "             3080: [[0.02261510118842125, -0.041620198637247086]],\n",
       "             3083: [[-0.08756578713655472, 0.10468507558107376]],\n",
       "             2486: [[0.06427834182977676, 0.28221747279167175]],\n",
       "             2485: [[0.2186438888311386, 0.12477105110883713]],\n",
       "             2488: [[-0.11324170231819153, -0.021833114326000214]],\n",
       "             2484: [[0.09962727874517441, 0.163640096783638]],\n",
       "             2940: [[-0.14444765448570251, 0.2733639180660248]],\n",
       "             5618: [[0.21484926342964172, -0.11306016147136688]],\n",
       "             2939: [[-0.22694812715053558, 0.19373555481433868]],\n",
       "             5616: [[-0.017866579815745354, -0.22199873626232147]],\n",
       "             348: [[-0.18327267467975616, 0.09499099850654602]],\n",
       "             350: [[-0.20388393104076385, -0.19197054207324982]],\n",
       "             5339: [[0.05709969252347946, 0.21068690717220306]],\n",
       "             5342: [[0.10165008157491684, 0.2584008276462555]],\n",
       "             5340: [[0.28805962204933167, -0.036906152963638306]],\n",
       "             5338: [[0.09714847058057785, -0.17932704091072083]],\n",
       "             847: [[-0.1423404961824417, -0.1316976398229599]],\n",
       "             849: [[0.25851988792419434, 0.21850284934043884]],\n",
       "             415: [[0.01857854053378105, 0.2319820076227188]],\n",
       "             417: [[0.2587723135948181, -0.11939159035682678]],\n",
       "             2390: [[0.0030745635740458965, 0.02811174839735031]],\n",
       "             4523: [[-0.14174076914787292, 0.37611785531044006]],\n",
       "             4522: [[-0.10209529846906662, 0.23797382414340973]],\n",
       "             4525: [[-0.10115381330251694, -0.020331356674432755]],\n",
       "             2648: [[-0.05608811974525452, -0.15609337389469147]],\n",
       "             2650: [[-0.2187458723783493, 0.17094898223876953]],\n",
       "             4905: [[0.08348012715578079, 0.3456018567085266]],\n",
       "             4907: [[0.3096188008785248, -0.017827821895480156]],\n",
       "             3382: [[-0.2524026036262512, 0.08050910383462906]],\n",
       "             3381: [[0.023432424291968346, 0.17189721763134003]],\n",
       "             3383: [[0.030693836510181427, 0.25316187739372253]],\n",
       "             3384: [[-0.126580610871315, -0.06145697087049484]],\n",
       "             3386: [[0.14623120427131653, 0.08921724557876587]],\n",
       "             1480: [[0.11270182579755783, 0.26406171917915344]],\n",
       "             1482: [[-0.13407592475414276, 0.05711895972490311]],\n",
       "             1206: [[-0.05753099545836449, -0.06287703663110733]],\n",
       "             1478: [[0.2326069176197052, 0.28898152709007263]],\n",
       "             242: [[-0.09555298089981079, 0.27372846007347107]],\n",
       "             1479: [[0.10544480383396149, -0.16621163487434387]],\n",
       "             2244: [[0.01021717581897974, 0.24233897030353546]],\n",
       "             2243: [[-0.22838112711906433, -0.16078369319438934]],\n",
       "             2246: [[-0.19220438599586487, 0.07656557857990265]],\n",
       "             3144: [[0.22246740758419037, -0.20758603513240814]],\n",
       "             3149: [[0.1977970153093338, 0.11727254092693329]],\n",
       "             3145: [[-0.18382562696933746, -0.17650273442268372]],\n",
       "             3147: [[-0.1874515414237976, 0.02904701419174671]],\n",
       "             3146: [[0.128213569521904, -0.17188617587089539]],\n",
       "             1055: [[-0.10284799337387085, 0.20893503725528717]],\n",
       "             1057: [[0.08496840298175812, -0.022470060735940933]],\n",
       "             1054: [[-0.05778539553284645, -0.18910032510757446]],\n",
       "             2777: [[-0.16918368637561798, 0.18855580687522888]],\n",
       "             502: [[0.055936623364686966, 0.17700618505477905]],\n",
       "             505: [[-0.24447709321975708, 0.2387835681438446]],\n",
       "             503: [[-0.16960184276103973, 0.01794346421957016]],\n",
       "             4674: [[0.1603049784898758, 0.32117339968681335]],\n",
       "             5009: [[0.19830633699893951, 0.005353998858481646]],\n",
       "             5007: [[-0.1351257711648941, -0.18135245144367218]],\n",
       "             5060: [[-0.10272537171840668, 0.06715817004442215]],\n",
       "             2175: [[-0.04059814661741257, 0.0287154708057642]],\n",
       "             2176: [[-0.08256485313177109, -0.15374955534934998]],\n",
       "             1293: [[0.04777625575661659, -0.08935390412807465]],\n",
       "             3436: [[0.17598973214626312, 0.16235046088695526]],\n",
       "             3433: [[-0.06046203151345253, -0.1875198930501938]],\n",
       "             2260: [[0.0998874306678772, -0.1143593043088913]],\n",
       "             4131: [[0.07522757351398468, 0.11685863137245178]],\n",
       "             4133: [[-0.1284549981355667, 0.34141331911087036]],\n",
       "             4136: [[0.21673764288425446, 0.2650294899940491]],\n",
       "             4134: [[0.19800236821174622, 0.19699834287166595]],\n",
       "             1882: [[0.2548341453075409, -0.10626337677240372]],\n",
       "             3299: [[-0.004329788498580456, 0.1057690754532814]],\n",
       "             1884: [[0.25298982858657837, -0.017854420468211174]],\n",
       "             3303: [[-0.09371983259916306, -0.2194567620754242]],\n",
       "             3301: [[-0.07783358544111252, -0.03684989735484123]],\n",
       "             3300: [[-0.0641772598028183, -0.1274944692850113]],\n",
       "             385: [[0.1887248158454895, 0.05003195255994797]],\n",
       "             387: [[0.11863178759813309, 0.32488811016082764]],\n",
       "             1599: [[0.2983134090900421, 0.31754788756370544]],\n",
       "             1601: [[0.10311166197061539, 0.3980049192905426]],\n",
       "             1598: [[0.02509445510804653, 0.15514175593852997]],\n",
       "             1597: [[0.2641758322715759, 0.34170693159103394]],\n",
       "             2878: [[0.2172074317932129, 0.1585938036441803]],\n",
       "             2882: [[-0.12190743535757065, 0.07753419131040573]],\n",
       "             2879: [[-0.18238022923469543, 0.224391371011734]],\n",
       "             2880: [[0.1037597805261612, 0.13964933156967163]],\n",
       "             167: [[-0.24327144026756287, 0.1732340306043625]],\n",
       "             166: [[-0.15233451128005981, -0.038777511566877365]],\n",
       "             169: [[-0.08310216665267944, -0.14983025193214417]],\n",
       "             2672: [[-0.10211057215929031, 0.19209030270576477]],\n",
       "             2674: [[-0.10389406234025955, 0.12982232868671417]],\n",
       "             237: [[0.20623132586479187, 0.0060996077954769135]],\n",
       "             236: [[0.18230877816677094, 0.19620388746261597]],\n",
       "             240: [[0.3338872194290161, 0.26083192229270935]],\n",
       "             238: [[0.13381464779376984, 0.1850065439939499]],\n",
       "             1547: [[0.27204474806785583, -0.11435075849294662]],\n",
       "             1546: [[-0.1528218537569046, 0.242841437458992]],\n",
       "             1550: [[-0.03879101201891899, 0.39535894989967346]],\n",
       "             1548: [[0.18574458360671997, 0.20840197801589966]],\n",
       "             4220: [[0.15733809769153595, 0.019854538142681122]],\n",
       "             4505: [[0.12807418406009674, 0.12591522932052612]],\n",
       "             4507: [[-0.1367454081773758, 0.26409199833869934]],\n",
       "             4225: [[-0.08630819618701935, -0.05007945001125336]],\n",
       "             4222: [[-0.14998169243335724, -0.12441899627447128]],\n",
       "             4221: [[0.09588252007961273, 0.34739041328430176]],\n",
       "             5364: [[-0.19669471681118011, 0.2156418114900589]],\n",
       "             5361: [[0.15004496276378632, 0.26739364862442017]],\n",
       "             5567: [[0.03736322745680809, 0.1884794980287552]],\n",
       "             5565: [[0.16579832136631012, 0.20661281049251556]],\n",
       "             5362: [[-0.07334114611148834, 0.07580487430095673]],\n",
       "             5569: [[-0.03749379888176918, 0.37841933965682983]],\n",
       "             5213: [[-0.2786010503768921, -0.10335209965705872]],\n",
       "             2552: [[-0.23098182678222656, 0.16622371971607208]],\n",
       "             1373: [[-0.14777284860610962, 0.25438886880874634]],\n",
       "             1374: [[-0.18164491653442383, 0.13794001936912537]],\n",
       "             1372: [[-0.2696056663990021, 0.19965478777885437]],\n",
       "             857: [[-0.15567752718925476, 0.054597966372966766]],\n",
       "             860: [[-0.22641661763191223, 0.3885083794593811]],\n",
       "             858: [[0.17993073165416718, 0.3334857225418091]],\n",
       "             5215: [[-0.26693591475486755, 0.13758854568004608]],\n",
       "             3158: [[-0.19593216478824615, -0.13124032318592072]],\n",
       "             3161: [[-0.06642986834049225, 0.10663408041000366]],\n",
       "             3159: [[-0.14749909937381744, -0.18888871371746063]],\n",
       "             3662: [[-0.10885757952928543, 0.4148101508617401]],\n",
       "             4995: [[-0.11192876100540161, -0.030589008703827858]],\n",
       "             4996: [[0.2689179480075836, 0.1279749870300293]],\n",
       "             3659: [[0.13060761988162994, 0.3195767104625702]],\n",
       "             3660: [[-0.10170061886310577, 0.11148015409708023]],\n",
       "             1983: [[0.0004738885909318924, 0.3078845739364624]],\n",
       "             1981: [[0.045586541295051575, -0.09019006788730621]],\n",
       "             1980: [[-0.07307754456996918, 0.2882061302661896]],\n",
       "             2549: [[0.045099418610334396, 0.12871888279914856]],\n",
       "             2547: [[0.026817936450242996, 0.31819015741348267]],\n",
       "             2546: [[-0.09745926409959793, 0.03898739814758301]],\n",
       "             2545: [[-0.2655033469200134, 0.12993738055229187]],\n",
       "             1740: [[-0.24239157140254974, 0.21598100662231445]],\n",
       "             1741: [[-0.2571917176246643, -0.030053460970520973]],\n",
       "             1743: [[0.1761927306652069, -0.0675835981965065]],\n",
       "             5304: [[0.12968337535858154, 0.2944299578666687]],\n",
       "             4399: [[0.20002083480358124, 0.16107943654060364]],\n",
       "             4402: [[-0.19585032761096954, -0.0917956531047821]],\n",
       "             5302: [[0.0246596559882164, -0.06125415861606598]],\n",
       "             4397: [[0.23325596749782562, 0.19276702404022217]],\n",
       "             4684: [[-0.15255624055862427, -0.16264590620994568]],\n",
       "             4682: [[0.2704101502895355, -0.06005574390292168]],\n",
       "             4680: [[0.0526483990252018, -0.07966051250696182]],\n",
       "             4681: [[-0.06328264623880386, -0.0005911960615776479]],\n",
       "             2278: [[-0.16032347083091736, 0.05027683824300766]],\n",
       "             2280: [[-0.06948955357074738, -0.06603926420211792]],\n",
       "             198: [[0.08979001641273499, 0.24509727954864502]],\n",
       "             201: [[-0.14528048038482666, 0.44577792286872864]],\n",
       "             199: [[-0.0013963938690721989, 0.4239727258682251]],\n",
       "             2535: [[0.04388703405857086, -0.0598871074616909]],\n",
       "             2534: [[-0.1985350251197815, 0.3342582881450653]],\n",
       "             4352: [[-0.03021533414721489, 0.2874108552932739]],\n",
       "             461: [[-0.04975099116563797, 0.42588621377944946]],\n",
       "             2333: [[-0.15064552426338196, 0.2906828224658966]],\n",
       "             459: [[0.0028910667169839144, 0.16618962585926056]],\n",
       "             4351: [[-0.19003945589065552, 0.12993407249450684]],\n",
       "             2681: [[0.14928965270519257, -0.20036056637763977]],\n",
       "             2683: [[0.2096356749534607, -0.09726164489984512]],\n",
       "             3602: [[0.2515893578529358, 0.15967702865600586]],\n",
       "             2612: [[0.3182789385318756, 0.18752041459083557]],\n",
       "             2615: [[0.18353599309921265, 0.22118262946605682]],\n",
       "             2611: [[0.13953369855880737, 0.317093163728714]],\n",
       "             676: [[-0.13916045427322388, 0.3953913748264313]],\n",
       "             2613: [[-0.04139000549912453, 0.1498165875673294]],\n",
       "             3930: [[-0.051637861877679825, -0.02934662252664566]],\n",
       "             3929: [[-0.20667776465415955, -0.163743257522583]],\n",
       "             3933: [[-0.08910419046878815, 0.30776742100715637]],\n",
       "             3003: [[0.13559964299201965, 0.16678640246391296]],\n",
       "             3004: [[-0.23200754821300507, 0.06896059960126877]],\n",
       "             3931: [[0.0309522096067667, 0.18335619568824768]],\n",
       "             4187: [[0.0781211331486702, 0.0699136033654213]],\n",
       "             4185: [[-0.072856605052948, 0.27924054861068726]],\n",
       "             4190: [[-0.14013966917991638, 0.13746564090251923]],\n",
       "             4186: [[-0.2017941027879715, 0.08487282693386078]],\n",
       "             4188: [[0.010520177893340588, -0.054523926228284836]],\n",
       "             4235: [[0.11841655522584915, 0.11419829726219177]],\n",
       "             4236: [[0.22472384572029114, -0.016078989952802658]],\n",
       "             4238: [[0.08640418946743011, 0.03651539608836174]],\n",
       "             2489: [[0.2756889760494232, 0.26525357365608215]],\n",
       "             2491: [[-0.08149146288633347, -0.09168412536382675]],\n",
       "             2494: [[-0.0175077635794878, 0.18085123598575592]],\n",
       "             2492: [[0.0490039587020874, 0.081680528819561]],\n",
       "             330: [[0.0086732292547822, -0.08541250228881836]],\n",
       "             329: [[-0.11128326505422592, 0.35720333456993103]],\n",
       "             332: [[0.041797835379838943, -0.14045986533164978]],\n",
       "             5020: [[0.16560359299182892, 0.2568855881690979]],\n",
       "             5021: [[-0.25277823209762573, 0.2316661775112152]],\n",
       "             5023: [[0.23910872638225555, -0.0008912598714232445]],\n",
       "             1711: [[0.08666562288999557, -0.0160568505525589]],\n",
       "             1712: [[-0.11598651856184006, 0.09751923382282257]],\n",
       "             1714: [[0.00940488651394844, -0.13122516870498657]],\n",
       "             3450: [[0.08393891900777817, 0.2053888887166977]],\n",
       "             5396: [[0.19548283517360687, 0.29390856623649597]],\n",
       "             5395: [[0.15331785380840302, 0.07335460931062698]],\n",
       "             5398: [[0.03910188004374504, 0.4080747961997986]],\n",
       "             5394: [[0.24805086851119995, 0.256839394569397]],\n",
       "             4206: [[-0.027591170743107796, -0.029493356123566628]],\n",
       "             4204: [[-0.17119283974170685, 0.3061580955982208]],\n",
       "             4202: [[0.22640083730220795, 0.26669150590896606]],\n",
       "             4203: [[0.00846839603036642, 0.09690475463867188]],\n",
       "             1211: [[0.214191272854805, -0.14642615616321564]],\n",
       "             1210: [[-0.08739081025123596, -0.021322298794984818]],\n",
       "             1212: [[0.14506322145462036, 0.034719616174697876]],\n",
       "             1213: [[-0.14686353504657745, -0.126776322722435]],\n",
       "             1215: [[-0.14156904816627502, -0.12534716725349426]],\n",
       "             722: [[-0.1086515411734581, 0.29266491532325745]],\n",
       "             4277: [[-0.2346472591161728, 0.4000181555747986]],\n",
       "             4279: [[-0.15964557230472565, 0.21753303706645966]],\n",
       "             2277: [[-0.022357722744345665, 0.07541467249393463]],\n",
       "             2274: [[0.17291788756847382, -0.1027504950761795]],\n",
       "             2275: [[-0.11609918624162674, -0.18698661029338837]],\n",
       "             2273: [[0.034837283194065094, 0.12380895018577576]],\n",
       "             4923: [[0.10917595028877258, -0.18627625703811646]],\n",
       "             3912: [[0.2735220789909363, 0.11074070632457733]],\n",
       "             5151: [[-0.042513664811849594, 0.07225141674280167]],\n",
       "             7: [[0.32049793004989624, 0.09017186611890793]],\n",
       "             3910: [[0.251097172498703, -0.026872584596276283]],\n",
       "             4921: [[0.028952976688742638, -0.1370048224925995]],\n",
       "             5153: [[-0.15695829689502716, 0.18386723101139069]],\n",
       "             11: [[-0.0879984125494957, 0.08817175030708313]],\n",
       "             5544: [[0.20749512314796448, 0.29743969440460205]],\n",
       "             5550: [[-0.15880897641181946, -0.04751389101147652]],\n",
       "             5546: [[0.19053879380226135, -0.058970168232917786]],\n",
       "             5547: [[-0.22691357135772705, 0.21187759935855865]],\n",
       "             5545: [[0.11177091300487518, 0.26964613795280457]],\n",
       "             1376: [[-0.34210777282714844, 0.26264286041259766]],\n",
       "             2473: [[-0.007239786442369223, 0.13682490587234497]],\n",
       "             2470: [[-0.18908175826072693, 0.16751877963542938]],\n",
       "             152: [[0.2207925170660019, 0.31943637132644653]],\n",
       "             2471: [[-0.22383154928684235, -0.10109566897153854]],\n",
       "             5551: [[-0.28301379084587097, -0.04000556096434593]],\n",
       "             5554: [[-0.234819695353508, -0.020067092031240463]],\n",
       "             5552: [[-0.10672196745872498, 0.2105146199464798]],\n",
       "             1157: [[0.2285700887441635, 0.15858633816242218]],\n",
       "             1156: [[-0.0411575511097908, 0.11162180453538895]],\n",
       "             1159: [[0.198222354054451, 0.29722967743873596]],\n",
       "             1059: [[-0.014723989181220531, 0.3120868504047394]],\n",
       "             1060: [[0.1327023059129715, 0.20791025459766388]],\n",
       "             1062: [[0.25553932785987854, 0.4260616600513458]],\n",
       "             1058: [[0.038667626678943634, 0.38263604044914246]],\n",
       "             5625: [[0.2028360515832901, -0.15241490304470062]],\n",
       "             5627: [[-0.19254089891910553, 0.15254077315330505]],\n",
       "             5623: [[-0.23742450773715973, 0.0006923952023498714]],\n",
       "             5624: [[-0.22891457378864288, 0.12752828001976013]],\n",
       "             2775: [[-0.09697739034891129, -0.05117134004831314]],\n",
       "             5446: [[0.1052764356136322, 0.18575875461101532]],\n",
       "             5450: [[0.14852063357830048, 0.1604437232017517]],\n",
       "             5445: [[-0.18537911772727966, -0.1148923709988594]],\n",
       "             5452: [[-0.04059290885925293, 0.3225304186344147]],\n",
       "             5447: [[-0.08938276022672653, 0.09321913868188858]],\n",
       "             5448: [[0.2415584921836853, 0.17183728516101837]],\n",
       "             5449: [[0.1426454484462738, 0.280621737241745]],\n",
       "             9: [[0.22976024448871613, 0.04077359288930893]],\n",
       "             8: [[-0.04015647619962692, -0.0034775324165821075]],\n",
       "             1353: [[0.19323337078094482, 0.17224077880382538]],\n",
       "             1359: [[0.0717819333076477, 0.31796061992645264]],\n",
       "             1352: [[-0.03561922907829285, -0.1112753227353096]],\n",
       "             1356: [[0.2796182930469513, 0.2530483305454254]],\n",
       "             1354: [[-0.1526668667793274, 0.12515348196029663]],\n",
       "             2720: [[0.07056602835655212, 0.30647358298301697]],\n",
       "             2723: [[-0.10102831572294235, 0.3415331542491913]],\n",
       "             2721: [[0.14759674668312073, 0.039010271430015564]],\n",
       "             677: [[-0.17853085696697235, -0.12365343421697617]],\n",
       "             681: [[0.15598081052303314, 0.1928045153617859]],\n",
       "             678: [[-0.09649526327848434, 0.33026373386383057]],\n",
       "             679: [[-0.07274135202169418, 0.025520214810967445]],\n",
       "             4377: [[0.21988964080810547, 0.03717218339443207]],\n",
       "             4380: [[-0.08307754993438721, 0.24339468777179718]],\n",
       "             4378: [[0.12346126139163971, 0.3951473832130432]],\n",
       "             2983: [[0.09575676172971725, 0.3277489244937897]],\n",
       "             4317: [[0.07842472195625305, -0.023384593427181244]],\n",
       "             4318: [[-0.177851140499115, 0.07072845101356506]],\n",
       "             2978: [[0.1305938959121704, -0.12821561098098755]],\n",
       "             2980: [[-0.02431650646030903, 0.0866229310631752]],\n",
       "             1527: [[-0.06110347434878349, -0.08247240632772446]],\n",
       "             1524: [[-0.23561379313468933, 0.10620347410440445]],\n",
       "             1525: [[-0.2500978112220764, 0.20256517827510834]],\n",
       "             1523: [[-0.03397701680660248, 0.1334255486726761]],\n",
       "             1979: [[0.01778499223291874, -0.04695947840809822]],\n",
       "             1976: [[-0.12633177638053894, 0.3703511953353882]],\n",
       "             1975: [[-0.017535867169499397, 0.3115277588367462]],\n",
       "             1977: [[0.02466963417828083, 0.3586280047893524]],\n",
       "             5193: [[-0.1141081154346466, -0.2195264995098114]],\n",
       "             5195: [[-0.25885504484176636, -0.1103081926703453]],\n",
       "             1887: [[-0.1812228411436081, 0.4400426745414734]],\n",
       "             2963: [[0.12963686883449554, 0.16736876964569092]],\n",
       "             2295: [[0.24971425533294678, -0.18071889877319336]],\n",
       "             3999: [[0.11609525233507156, 0.2360101342201233]],\n",
       "             1885: [[-0.15895119309425354, 0.1646888703107834]],\n",
       "             4492: [[-0.10858543962240219, 0.11773309856653214]],\n",
       "             1929: [[0.23343659937381744, -0.08389369398355484]],\n",
       "             1932: [[0.10156863182783127, 0.2445460855960846]],\n",
       "             1930: [[0.184316486120224, 0.2793464958667755]],\n",
       "             3854: [[-0.21308670938014984, 0.040552493184804916]],\n",
       "             3858: [[-0.2456568032503128, -0.11704255640506744]],\n",
       "             3856: [[-0.0941401794552803, 0.24069850146770477]],\n",
       "             3855: [[-0.1151193231344223, 0.25593745708465576]],\n",
       "             2929: [[-0.24825195968151093, 0.31179434061050415]],\n",
       "             2931: [[0.2637209892272949, -0.012930689379572868]],\n",
       "             4051: [[-0.015369231812655926, 0.12767893075942993]],\n",
       "             4050: [[-0.13754159212112427, -0.011259283870458603]],\n",
       "             4054: [[-0.09473520517349243, -0.11910027265548706]],\n",
       "             4052: [[-0.20091688632965088, -0.05757974833250046]],\n",
       "             4057: [[0.1683870404958725, -0.039649881422519684]],\n",
       "             4053: [[0.12124288082122803, 5.366618279367685e-05]],\n",
       "             3495: [[0.23255547881126404, 0.09539628028869629]],\n",
       "             3494: [[-0.0014488623710349202, -0.07898315787315369]],\n",
       "             3498: [[0.2254275679588318, 0.03623972833156586]],\n",
       "             3496: [[0.0885891243815422, 0.05469343811273575]],\n",
       "             2577: [[0.11105257272720337, 0.1754913330078125]],\n",
       "             2579: [[0.036444298923015594, 0.3616940677165985]],\n",
       "             5275: [[-0.006127519998699427, 0.24340753257274628]],\n",
       "             5276: [[0.2706455588340759, 0.11456362903118134]],\n",
       "             5278: [[0.2267518937587738, -0.05495508387684822]],\n",
       "             635: [[-0.09534113854169846, 0.32581570744514465]],\n",
       "             636: [[-0.28263020515441895, 0.23953282833099365]],\n",
       "             639: [[0.1845400631427765, 0.3092833161354065]],\n",
       "             637: [[-0.04965853691101074, 0.2822886109352112]],\n",
       "             4370: [[-0.0121288001537323, -0.01782126910984516]],\n",
       "             4367: [[0.19923487305641174, 0.010542185045778751]],\n",
       "             4368: [[0.2779288589954376, -0.07799657434225082]],\n",
       "             4147: [[-0.1611694097518921, -0.18620306253433228]],\n",
       "             3153: [[0.07679331302642822, 0.13874836266040802]],\n",
       "             5581: [[-0.040518973022699356, -0.021983200684189796]],\n",
       "             5580: [[-0.26676902174949646, 0.03209966793656349]],\n",
       "             5584: [[0.022365568205714226, -0.13943807780742645]],\n",
       "             5582: [[-0.14921444654464722, 0.25575244426727295]],\n",
       "             853: [[-0.09756962954998016, 0.2015022188425064]],\n",
       "             854: [[-0.08329029381275177, 0.18949203193187714]],\n",
       "             1842: [[-0.11596047878265381, 0.1175735741853714]],\n",
       "             852: [[-0.1886567771434784, 0.11127366870641708]],\n",
       "             850: [[0.11781123280525208, 0.2864135503768921]],\n",
       "             856: [[0.17652954161167145, 0.32783663272857666]],\n",
       "             2181: [[-0.14968185126781464, 0.31105324625968933]],\n",
       "             2052: [[0.19509060680866241, 0.31656280159950256]],\n",
       "             3358: [[0.22767111659049988, 0.3403625786304474]],\n",
       "             2182: [[0.05491260066628456, 0.12742666900157928]],\n",
       "             2180: [[-0.13132241368293762, -0.03797954320907593]],\n",
       "             3341: [[-0.17576296627521515, 0.22283141314983368]],\n",
       "             3343: [[0.015473655425012112, 0.12117252498865128]],\n",
       "             3340: [[0.03256194666028023, 0.18030378222465515]],\n",
       "             551: [[-0.12808847427368164, 0.07704713195562363]],\n",
       "             548: [[-0.074454665184021, -0.14334635436534882]],\n",
       "             549: [[0.1643996387720108, -0.11236020922660828]],\n",
       "             553: [[0.09808434545993805, 0.09073057770729065]],\n",
       "             550: [[0.13070452213287354, -0.09264886379241943]],\n",
       "             2300: [[-0.17625652253627777, 0.10520053654909134]],\n",
       "             2298: [[-0.16365990042686462, -0.0943688377737999]],\n",
       "             1102: [[-0.03522322326898575, 0.1894538849592209]],\n",
       "             2299: [[0.21474166214466095, -0.1985885351896286]],\n",
       "             1104: [[-0.20612464845180511, -0.0585644468665123]],\n",
       "             1101: [[-0.23286285996437073, 0.10516542941331863]],\n",
       "             2700: [[-0.16285628080368042, -0.03530479222536087]],\n",
       "             2702: [[0.1907498985528946, 0.27852320671081543]],\n",
       "             2701: [[0.0639430359005928, 0.24589672684669495]],\n",
       "             76: [[-0.255447119474411, 0.1659596860408783]],\n",
       "             4138: [[0.07193069905042648, 0.07620812207460403]],\n",
       "             4137: [[0.0965137854218483, 0.2011970430612564]],\n",
       "             4140: [[-0.08117970079183578, 0.18357841670513153]],\n",
       "             4970: [[-0.09064920246601105, 0.2427760362625122]],\n",
       "             4968: [[0.08269108086824417, 0.2527425289154053]],\n",
       "             4969: [[-0.14963483810424805, 0.3124895989894867]],\n",
       "             4966: [[-0.21705763041973114, 0.22586499154567719]],\n",
       "             4967: [[0.14876174926757812, 0.27666375041007996]],\n",
       "             4965: [[0.0759589746594429, 0.3446219861507416]],\n",
       "             693: [[-0.11406995356082916, 0.2917272448539734]],\n",
       "             690: [[0.18615873157978058, 0.21088537573814392]],\n",
       "             691: [[0.005812173243612051, 0.24636538326740265]],\n",
       "             5422: [[0.18876096606254578, -0.14676180481910706]],\n",
       "             5423: [[0.24576115608215332, -0.16865266859531403]],\n",
       "             5421: [[-0.14081135392189026, -0.08773324638605118]],\n",
       "             5425: [[-0.11830906569957733, -0.09592902660369873]],\n",
       "             2975: [[-0.12626560032367706, -0.07282588630914688]],\n",
       "             2974: [[-0.20728467404842377, 0.2975558936595917]],\n",
       "             2977: [[0.017589760944247246, -0.0645810142159462]],\n",
       "             1483: [[-0.32398542761802673, 0.09142061322927475]],\n",
       "             1485: [[-0.20714861154556274, 0.02732788771390915]],\n",
       "             2684: [[0.0600285530090332, -0.1126900389790535]],\n",
       "             2686: [[-0.1607358753681183, -0.009556776843965054]],\n",
       "             5548: [[0.2174229770898819, -0.10189838707447052]],\n",
       "             5311: [[0.2517877519130707, -0.05585550516843796]],\n",
       "             5316: [[-0.025421075522899628, -0.02594364807009697]],\n",
       "             5315: [[0.17338010668754578, 0.3011557459831238]],\n",
       "             5313: [[0.17762933671474457, 0.13357491791248322]],\n",
       "             5314: [[-0.06725549697875977, -0.1331433802843094]],\n",
       "             5318: [[-0.20563983917236328, -0.13027629256248474]],\n",
       "             4835: [[-0.17680543661117554, 0.172003373503685]],\n",
       "             4838: [[-0.2943779230117798, 0.0647873654961586]],\n",
       "             4833: [[-0.025599151849746704, -0.09467217326164246]],\n",
       "             4834: [[-0.2569889724254608, -0.17690934240818024]],\n",
       "             2717: [[0.009020073339343071, 0.054645951837301254]],\n",
       "             2719: [[0.17273707687854767, -0.03300607204437256]],\n",
       "             2716: [[0.111373171210289, -0.210955411195755]],\n",
       "             844: [[0.036338355392217636, 0.11586473137140274]],\n",
       "             4979: [[0.2658194899559021, 0.059104908257722855]],\n",
       "             4977: [[0.2202533632516861, 0.06950267404317856]],\n",
       "             842: [[-0.21307264268398285, 0.20935025811195374]],\n",
       "             843: [[0.25356265902519226, -0.15297292172908783]],\n",
       "             4981: [[0.24433957040309906, 0.12687113881111145]],\n",
       "             4978: [[-0.0026831901632249355, 0.2941029369831085]],\n",
       "             2014: [[-0.15093743801116943, 0.2953423261642456]],\n",
       "             2013: [[0.20507632195949554, 0.17639614641666412]],\n",
       "             2012: [[-0.13096289336681366, -0.09858976304531097]],\n",
       "             2016: [[0.05794691666960716, -0.05641207844018936]],\n",
       "             5108: [[0.16002562642097473, 0.17554670572280884]],\n",
       "             5105: [[0.2977575361728668, -0.1383565366268158]],\n",
       "             5106: [[-0.10757920891046524, 0.07402925193309784]],\n",
       "             5104: [[0.19182588160037994, 0.19541725516319275]],\n",
       "             3939: [[0.23124605417251587, -0.10611288249492645]],\n",
       "             3941: [[-0.07880111038684845, 0.18266914784908295]],\n",
       "             3938: [[0.1771526038646698, -0.21615715324878693]],\n",
       "             5258: [[-0.03401481732726097, 0.1558683216571808]],\n",
       "             5259: [[0.28276100754737854, 0.0024520743172615767]],\n",
       "             5261: [[0.2717764675617218, -0.10180580615997314]],\n",
       "             1899: [[0.160051167011261, -0.0768987163901329]],\n",
       "             1896: [[0.18986205756664276, 0.1295938640832901]],\n",
       "             2900: [[-0.11122484505176544, 0.042402222752571106]],\n",
       "             1898: [[-0.021177733317017555, -0.13787950575351715]],\n",
       "             3982: [[0.01210496574640274, -0.14990858733654022]],\n",
       "             1897: [[-0.22235600650310516, 0.06651133298873901]],\n",
       "             1901: [[-0.10096997767686844, -0.1511392742395401]],\n",
       "             3399: [[0.16862785816192627, -0.15235400199890137]],\n",
       "             3400: [[0.11287436634302139, 0.22179140150547028]],\n",
       "             3402: [[0.04762943834066391, 0.07436792552471161]],\n",
       "             5228: [[-0.23842757940292358, 0.10366001725196838]],\n",
       "             5229: [[-0.16128215193748474, 0.37844938039779663]],\n",
       "             5231: [[-0.28120166063308716, 0.12352829426527023]],\n",
       "             5227: [[-0.11396514624357224, 0.3408653736114502]],\n",
       "             3636: [[-0.0510883666574955, 0.0712675005197525]],\n",
       "             3641: [[-0.009260427206754684, 0.1824059784412384]],\n",
       "             3639: [[0.23441000282764435, 0.30546003580093384]],\n",
       "             3638: [[0.12065700441598892, 0.1882723569869995]],\n",
       "             3637: [[-0.1964559704065323, 0.3775726556777954]],\n",
       "             2227: [[0.1814226359128952, 0.23966754972934723]],\n",
       "             2229: [[0.2701456844806671, 0.38236743211746216]],\n",
       "             2231: [[0.2503308653831482, 0.20958510041236877]],\n",
       "             2228: [[0.01164977066218853, 0.30981314182281494]],\n",
       "             1567: [[-0.20353741943836212, -0.005023379810154438]],\n",
       "             1569: [[-0.2968567907810211, 0.19086600840091705]],\n",
       "             1566: [[-0.28603076934814453, 0.24516376852989197]],\n",
       "             5270: [[0.1735212355852127, 0.2435460239648819]],\n",
       "             5265: [[0.03043195977807045, 0.2204338163137436]],\n",
       "             4950: [[-0.10295332223176956, 0.24084196984767914]],\n",
       "             5268: [[0.05002730339765549, 0.35288551449775696]],\n",
       "             5266: [[-0.007724140305072069, 0.36453336477279663]],\n",
       "             5267: [[-0.17849069833755493, 0.026687731966376305]],\n",
       "             5038: [[-0.11434120684862137, 0.18777912855148315]],\n",
       "             5040: [[-0.034399744123220444, 0.3182183802127838]],\n",
       "             734: [[0.04028778895735741, 0.333327054977417]],\n",
       "             731: [[-0.17682117223739624, -0.06370380520820618]],\n",
       "             737: [[0.30512216687202454, 0.23789937794208527]],\n",
       "             735: [[0.23709732294082642, -0.026535624638199806]],\n",
       "             733: [[0.06423908472061157, -0.009739740751683712]],\n",
       "             732: [[0.18242211639881134, 0.16920839250087738]],\n",
       "             2998: [[-0.17609138786792755, 0.27040088176727295]],\n",
       "             2997: [[-0.2016141265630722, 0.2310231775045395]],\n",
       "             3000: [[0.06332195550203323, 0.19326041638851166]],\n",
       "             2999: [[0.03902238979935646, -0.13666562736034393]],\n",
       "             3002: [[-0.2857608199119568, 0.327851265668869]],\n",
       "             1295: [[0.07747678458690643, 0.2047388106584549]],\n",
       "             3434: [[-0.17880429327487946, 0.1700243353843689]],\n",
       "             1766: [[0.13356760144233704, 0.2506100833415985]],\n",
       "             1767: [[0.023457903414964676, 0.1878969371318817]],\n",
       "             1765: [[0.23504211008548737, 0.31887269020080566]],\n",
       "             2080: [[-0.10761084407567978, -0.09122802317142487]],\n",
       "             2082: [[-0.28131532669067383, 0.19414682686328888]],\n",
       "             2079: [[-0.12480747699737549, 0.10133520513772964]],\n",
       "             3396: [[-0.07388432323932648, 0.06392789632081985]],\n",
       "             3395: [[-0.20688378810882568, -0.12730672955513]],\n",
       "             3394: [[-0.012190491892397404, 0.2753153145313263]],\n",
       "             3398: [[0.1751108467578888, -0.03117968887090683]],\n",
       "             4932: [[0.22987428307533264, -0.1300470232963562]],\n",
       "             4934: [[0.2787376046180725, 0.21056009829044342]],\n",
       "             3339: [[-0.03732352331280708, 0.2877216637134552]],\n",
       "             3335: [[0.03815798833966255, 0.21167035400867462]],\n",
       "             3334: [[-0.1406368464231491, 0.3641684055328369]],\n",
       "             3256: [[-0.22999219596385956, 0.31106093525886536]],\n",
       "             3337: [[-0.25992074608802795, 0.24798882007598877]],\n",
       "             4947: [[-0.022066883742809296, 0.003723318688571453]],\n",
       "             3658: [[0.16403238475322723, 0.05306050926446915]],\n",
       "             2841: [[-0.025449153035879135, 0.2205815464258194]],\n",
       "             2842: [[-0.061307746917009354, -0.17544050514698029]],\n",
       "             2840: [[-0.2330978512763977, -0.07485577464103699]],\n",
       "             2844: [[-0.019168836995959282, 0.03279181569814682]],\n",
       "             5585: [[-0.2558683156967163, 0.04597962275147438]],\n",
       "             5588: [[-0.03535975143313408, 0.054323598742485046]],\n",
       "             5586: [[0.21583862602710724, 0.053541045635938644]],\n",
       "             264: [[-0.20950856804847717, 0.004023612476885319]],\n",
       "             265: [[-0.17519988119602203, -0.17271916568279266]],\n",
       "             267: [[-0.2987094521522522, -0.10888507962226868]],\n",
       "             2932: [[0.08830719441175461, -0.16064098477363586]],\n",
       "             2933: [[-0.2956590950489044, -0.15913711488246918]],\n",
       "             1064: [[0.23016998171806335, 0.06344565004110336]],\n",
       "             1066: [[-0.22729749977588654, 0.26171502470970154]],\n",
       "             1063: [[-0.0672513097524643, -0.06406404823064804]],\n",
       "             3944: [[-0.3288757801055908, 0.43340781331062317]],\n",
       "             3945: [[-0.3346010446548462, 0.232232004404068]],\n",
       "             3947: [[-0.3150630593299866, 0.0714501366019249]],\n",
       "             3403: [[0.053691133856773376, 0.23715727031230927]],\n",
       "             3404: [[-0.10307304561138153, -0.11318088322877884]],\n",
       "             3406: [[-0.251191645860672, -0.06463431566953659]],\n",
       "             3818: [[-0.17716826498508453, -0.1306958943605423]],\n",
       "             1846: [[-0.17338675260543823, 0.1866832971572876]],\n",
       "             1849: [[-0.01730567216873169, -0.13746030628681183]],\n",
       "             1847: [[0.1648457646369934, 0.17694878578186035]],\n",
       "             3173: [[-0.0687047615647316, 0.32943007349967957]],\n",
       "             3172: [[0.021408071741461754, 0.10260004550218582]],\n",
       "             3175: [[0.16845685243606567, -0.10953488945960999]],\n",
       "             3177: [[0.0001572812325321138, -0.09392061829566956]],\n",
       "             3174: [[-0.13849563896656036, 0.01273408718407154]],\n",
       "             4570: [[-0.07445003092288971, 0.127348855137825]],\n",
       "             2195: [[0.0758204385638237, 0.004743679892271757]],\n",
       "             1343: [[0.178892120718956, -0.06640459597110748]],\n",
       "             1345: [[0.3304732143878937, -0.04269975423812866]],\n",
       "             2590: [[-0.15155182778835297, -0.14321713149547577]],\n",
       "             2592: [[0.016846146434545517, 0.07445290684700012]],\n",
       "             2589: [[-0.09847824275493622, 0.24011419713497162]],\n",
       "             1559: [[0.07152906060218811, -0.03896759822964668]],\n",
       "             1556: [[-0.14568188786506653, -0.15469637513160706]],\n",
       "             1557: [[-0.132984459400177, -0.1268157660961151]],\n",
       "             5051: [[-0.16704338788986206, 0.22135064005851746]],\n",
       "             5052: [[0.03972639515995979, 0.1311948299407959]],\n",
       "             5053: [[-0.12661349773406982, 0.20075517892837524]],\n",
       "             5055: [[-0.09628932923078537, 0.11721198260784149]],\n",
       "             229: [[0.10887397825717926, 0.12731952965259552]],\n",
       "             225: [[0.24307852983474731, -0.11918123811483383]],\n",
       "             226: [[-0.031802404671907425, 0.15992620587348938]],\n",
       "             227: [[0.164414182305336, 0.31054922938346863]],\n",
       "             3737: [[-0.2331085205078125, 0.037837546318769455]],\n",
       "             3736: [[-0.05352889373898506, 0.3025892674922943]],\n",
       "             3739: [[-0.2678103446960449, -0.0634642243385315]],\n",
       "             1606: [[0.11096125841140747, -0.0719490721821785]],\n",
       "             1605: [[0.22047941386699677, 0.11679790169000626]],\n",
       "             1607: [[0.07141236960887909, 0.0033290742430835962]],\n",
       "             2558: [[-0.20461353659629822, -0.07080532610416412]],\n",
       "             2560: [[-0.18710677325725555, -0.12079538404941559]],\n",
       "             2559: [[0.23284611105918884, 0.318136990070343]],\n",
       "             2561: [[-0.07894404977560043, 0.22594237327575684]],\n",
       "             2563: [[0.14086554944515228, 0.08843130618333817]],\n",
       "             1969: [[0.016938859596848488, -0.17007853090763092]],\n",
       "             1971: [[0.2617364227771759, 0.28061577677726746]],\n",
       "             5577: [[-0.1251833140850067, 0.1580156534910202]],\n",
       "             5579: [[-0.26179856061935425, -0.0005143532762303948]],\n",
       "             3196: [[0.13404850661754608, 0.3457714021205902]],\n",
       "             3195: [[0.05807465687394142, -0.12627291679382324]],\n",
       "             3193: [[0.08090133219957352, -0.13351011276245117]],\n",
       "             3194: [[-0.10092806816101074, 0.18370479345321655]],\n",
       "             3192: [[-0.20597471296787262, 0.01573367975652218]],\n",
       "             3191: [[0.20048995316028595, 0.10466202348470688]],\n",
       "             436: [[0.20528453588485718, 0.17262358963489532]],\n",
       "             435: [[-0.06579533219337463, 0.08856289088726044]],\n",
       "             438: [[-0.08574720472097397, 0.11661391705274582]],\n",
       "             446: [[-0.17940784990787506, 0.1420631855726242]],\n",
       "             5079: [[-0.1136329174041748, 0.12459048628807068]],\n",
       "             2054: [[0.2149966061115265, -0.21059520542621613]],\n",
       "             2102: [[-0.22204294800758362, -0.2235083132982254]],\n",
       "             5035: [[-0.10980051010847092, -0.11100786924362183]],\n",
       "             5037: [[-0.18633869290351868, 0.01951434649527073]],\n",
       "             5034: [[0.06479930877685547, -0.19771969318389893]],\n",
       "             4498: [[0.16495084762573242, -0.10206957161426544]],\n",
       "             4502: [[0.011770744808018208, 0.03492571786046028]],\n",
       "             4500: [[0.06118454039096832, -0.17009232938289642]],\n",
       "             4499: [[-0.03763797506690025, 0.2661266028881073]],\n",
       "             4504: [[-0.06933952867984772, -0.06374767422676086]],\n",
       "             5606: [[0.03671622648835182, -0.1346622109413147]],\n",
       "             5608: [[0.09291709959506989, 0.029040634632110596]],\n",
       "             343: [[0.034983523190021515, 0.11329697072505951]],\n",
       "             341: [[0.028919436037540436, 0.22794030606746674]],\n",
       "             342: [[0.12318076938390732, 0.3375650644302368]],\n",
       "             345: [[0.18655440211296082, 0.32779112458229065]],\n",
       "             2215: [[0.09775001555681229, 0.1345219910144806]],\n",
       "             2217: [[-0.13439054787158966, 0.3528780937194824]],\n",
       "             3366: [[0.29171064496040344, 0.13717150688171387]],\n",
       "             3368: [[0.25341054797172546, 0.11202793568372726]],\n",
       "             4116: [[-0.05940686911344528, 0.1066054254770279]],\n",
       "             4118: [[-0.2166227549314499, 0.2016991823911667]],\n",
       "             4115: [[0.027853628620505333, 0.07511994987726212]],\n",
       "             4114: [[0.04697617143392563, 0.4205418527126312]],\n",
       "             513: [[-0.08261193335056305, 0.07774856686592102]],\n",
       "             516: [[0.20877140760421753, 0.14831718802452087]],\n",
       "             514: [[-0.1729687601327896, 0.3240658938884735]],\n",
       "             1153: [[-0.1737111210823059, 0.08967393636703491]],\n",
       "             3539: [[0.13275955617427826, 0.2898949980735779]],\n",
       "             3538: [[-0.250529944896698, 0.20428355038166046]],\n",
       "             3540: [[-0.06653665006160736, 0.1374002993106842]],\n",
       "             3541: [[-0.01910523883998394, -0.05005723610520363]],\n",
       "             3542: [[-0.23632770776748657, -0.12357067316770554]],\n",
       "             3544: [[-0.15123407542705536, 0.04331807419657707]],\n",
       "             3258: [[-0.10359262675046921, 0.03214164078235626]],\n",
       "             4250: [[0.1401795595884323, 0.1139998659491539]],\n",
       "             5641: [[-0.1449645310640335, 0.10016784816980362]],\n",
       "             5643: [[0.10714332014322281, -0.1460588127374649]],\n",
       "             3043: [[-0.2386702299118042, 0.394790917634964]],\n",
       "             3044: [[-0.08386541903018951, 0.3209754228591919]],\n",
       "             3045: [[0.2264927476644516, 0.31519120931625366]],\n",
       "             3047: [[0.12672358751296997, 0.2972659766674042]],\n",
       "             3549: [[-0.20775935053825378, 0.17062272131443024]],\n",
       "             1002: [[-0.23755107820034027, -0.14328612387180328]],\n",
       "             1006: [[-0.1649622917175293, 0.2920854985713959]],\n",
       "             1000: [[-0.16230587661266327, 0.3049951195716858]],\n",
       "             1001: [[-0.2816571593284607, 0.13363808393478394]],\n",
       "             1003: [[-0.12612585723400116, 0.22306150197982788]],\n",
       "             1004: [[0.08759207278490067, 0.19098666310310364]],\n",
       "             136: [[-0.1924774944782257, 0.04256226122379303]],\n",
       "             133: [[0.13711631298065186, 0.23518647253513336]],\n",
       "             134: [[0.013433754444122314, -0.17066340148448944]],\n",
       "             3306: [[0.11698705703020096, 0.09293192625045776]],\n",
       "             3309: [[0.07804141193628311, 0.3650422990322113]],\n",
       "             3307: [[-0.18685968220233917, 0.4075392186641693]],\n",
       "             1609: [[0.12996964156627655, 0.2466517835855484]],\n",
       "             2392: [[0.30007147789001465, 0.18392586708068848]],\n",
       "             3841: [[-0.2022823691368103, 0.039247527718544006]],\n",
       "             3843: [[-0.2596944570541382, 0.20056729018688202]],\n",
       "             3844: [[-0.07005690038204193, 0.21276631951332092]],\n",
       "             3842: [[-0.1853659749031067, -0.11123224347829819]],\n",
       "             3846: [[-0.01798742264509201, -0.15695691108703613]],\n",
       "             4229: [[-0.15689122676849365, 0.028617138043045998]],\n",
       "             4230: [[-0.288461834192276, 0.24625998735427856]],\n",
       "             4232: [[-0.1147204041481018, -0.04426021873950958]],\n",
       "             4614: [[-0.19709472358226776, 0.3546508550643921]],\n",
       "             4617: [[0.08788859099149704, -0.14118312299251556]],\n",
       "             4615: [[0.20744100213050842, 0.2011018991470337]],\n",
       "             3594: [[-0.008210835047066212, 0.02593330107629299]],\n",
       "             3593: [[0.06590363383293152, 0.19800619781017303]],\n",
       "             3596: [[-0.2588832676410675, -0.1052129715681076]],\n",
       "             963: [[0.1297718733549118, 0.3356982171535492]],\n",
       "             813: [[0.25623658299446106, -0.19213269650936127]],\n",
       "             815: [[0.06802421063184738, 0.06017216667532921]],\n",
       "             4075: [[0.2960333526134491, -0.14841459691524506]],\n",
       "             2047: [[-0.21636483073234558, 0.04331393912434578]],\n",
       "             2043: [[-0.16891135275363922, -0.09005047380924225]],\n",
       "             2045: [[-0.21246658265590668, 0.21076133847236633]],\n",
       "             4436: [[-0.22473284602165222, 0.33808115124702454]],\n",
       "             4434: [[-0.2455374300479889, 0.10176195204257965]],\n",
       "             2265: [[-0.1834535300731659, -0.09183080494403839]],\n",
       "             4307: [[-0.1716354787349701, 0.33785146474838257]],\n",
       "             4305: [[-0.18181005120277405, 0.2841479480266571]],\n",
       "             4306: [[0.21027271449565887, -0.10724569857120514]],\n",
       "             4309: [[0.27121248841285706, 0.08479144424200058]],\n",
       "             1911: [[-0.2487218827009201, 0.4109829068183899]],\n",
       "             1913: [[0.10547810047864914, 0.3840853273868561]],\n",
       "             1910: [[-0.20595002174377441, 0.3751140534877777]],\n",
       "             2021: [[0.011105531826615334, -0.10191997140645981]],\n",
       "             2020: [[-0.045958906412124634, 0.21718138456344604]],\n",
       "             2024: [[-0.21936526894569397, 0.08793942630290985]],\n",
       "             2022: [[0.21047303080558777, 0.04532885551452637]],\n",
       "             3133: [[0.17856895923614502, 0.38260215520858765]],\n",
       "             3132: [[-0.059876784682273865, 0.06203974410891533]],\n",
       "             3135: [[0.0919228196144104, 0.21015897393226624]],\n",
       "             2192: [[-0.18590018153190613, -0.05732613429427147]],\n",
       "             2189: [[-0.07605032622814178, 0.09736184775829315]],\n",
       "             2188: [[-0.07335902005434036, -0.07033281028270721]],\n",
       "             2190: [[0.0026097854133695364, -0.09257876873016357]],\n",
       "             4192: [[-0.06738979369401932, 0.22811248898506165]],\n",
       "             151: [[0.025317169725894928, 0.27464309334754944]],\n",
       "             2971: [[-0.22585177421569824, 0.10301928222179413]],\n",
       "             2969: [[0.13471175730228424, -0.18166600167751312]],\n",
       "             2970: [[-0.15020392835140228, 0.15311621129512787]],\n",
       "             2973: [[-0.255641907453537, -0.16799840331077576]],\n",
       "             1937: [[0.1598803550004959, -0.1566360592842102]],\n",
       "             1939: [[0.35461658239364624, -0.19163937866687775]],\n",
       "             5455: [[0.10790351778268814, 0.07513453811407089]],\n",
       "             5454: [[0.16081923246383667, 0.10010746121406555]],\n",
       "             5457: [[-0.16509805619716644, -0.17532478272914886]],\n",
       "             1771: [[0.011179788038134575, -0.005965474992990494]],\n",
       "             1769: [[-0.12911979854106903, -0.10606923699378967]],\n",
       "             871: [[0.12668929994106293, -0.0028187530115246773]],\n",
       "             874: [[-0.12935645878314972, 0.168770894408226]],\n",
       "             872: [[0.07198522984981537, 0.25239312648773193]],\n",
       "             3390: [[-0.2977219223976135, -0.13680709898471832]],\n",
       "             3387: [[-0.19040538370609283, 0.021787896752357483]],\n",
       "             3388: [[-0.1536855399608612, 0.1432817131280899]],\n",
       "             1256: [[0.25992870330810547, 0.2541975975036621]],\n",
       "             1257: [[-0.1524246633052826, 0.1377861648797989]],\n",
       "             1259: [[-0.014556904323399067, 0.17403003573417664]],\n",
       "             909: [[0.11911417543888092, 0.03906182572245598]],\n",
       "             907: [[0.25072288513183594, 0.0377165824174881]],\n",
       "             906: [[-0.18090732395648956, 0.06693138927221298]],\n",
       "             2736: [[0.22479334473609924, 0.2184819132089615]],\n",
       "             2737: [[-0.06543068587779999, -0.08783956617116928]],\n",
       "             2112: [[0.20965036749839783, 0.30676722526550293]],\n",
       "             2113: [[0.06505049765110016, -0.07843361049890518]],\n",
       "             2114: [[0.09841911494731903, -0.044874899089336395]],\n",
       "             2116: [[0.2904669940471649, 0.30519747734069824]],\n",
       "             2667: [[-0.010360334068536758, 0.020232757553458214]],\n",
       "             2665: [[0.045169226825237274, -0.0928737074136734]],\n",
       "             5591: [[-0.06435281783342361, 0.3888845145702362]],\n",
       "             2664: [[-0.17681656777858734, 0.0838361606001854]],\n",
       "             5590: [[-0.0038994799833744764, 0.26890838146209717]],\n",
       "             752: [[0.03972578048706055, -0.03412426635622978]],\n",
       "             749: [[-0.202005535364151, 0.21118026971817017]],\n",
       "             3836: [[-0.14177535474300385, -0.0517340749502182]],\n",
       "             3838: [[0.15855281054973602, -0.17371854186058044]],\n",
       "             750: [[-0.003345305100083351, -0.14191439747810364]],\n",
       "             1073: [[0.1761564463376999, -0.09204629063606262]],\n",
       "             1068: [[0.24936315417289734, 0.22009067237377167]],\n",
       "             1072: [[-0.11160159111022949, 0.12990924715995789]],\n",
       "             1074: [[0.14656735956668854, 0.03848698362708092]],\n",
       "             1069: [[-0.09819725900888443, 0.29685646295547485]],\n",
       "             1070: [[0.15723082423210144, 0.200253427028656]],\n",
       "             3559: [[-0.03121122531592846, 0.1800207793712616]],\n",
       "             3558: [[-0.10880719870328903, 0.038116902112960815]],\n",
       "             3557: [[0.011140717193484306, 0.0950363278388977]],\n",
       "             3561: [[0.030092429369688034, -0.1668120175600052]],\n",
       "             5305: [[0.10048484802246094, 0.02545880526304245]],\n",
       "             5306: [[-0.10679284483194351, 0.31813615560531616]],\n",
       "             3502: [[0.10692709684371948, 0.07951415330171585]],\n",
       "             5307: [[0.10882346332073212, 0.34258273243904114]],\n",
       "             5309: [[-0.00871426984667778, -0.061475370079278946]],\n",
       "             4836: [[0.09376464039087296, 0.029902977868914604]],\n",
       "             84: [[0.22837813198566437, -0.14695942401885986]],\n",
       "             86: [[0.1921258270740509, 0.23473970592021942]],\n",
       "             4125: [[-0.04939886927604675, 0.34914734959602356]],\n",
       "             4127: [[0.24889126420021057, 0.31363576650619507]],\n",
       "             5566: [[0.14657777547836304, 0.08321786671876907]],\n",
       "             5564: [[0.071706622838974, 0.4550955891609192]],\n",
       "             2358: [[-0.11725270748138428, 0.16403068602085114]],\n",
       "             2356: [[0.07976915687322617, 0.2738564610481262]],\n",
       "             2357: [[-0.015881890431046486, -0.008357756771147251]],\n",
       "             793: [[-0.013419636525213718, -0.03283222019672394]],\n",
       "             794: [[-0.09643691778182983, 0.16705363988876343]],\n",
       "             3853: [[0.09292421489953995, 0.09650639444589615]],\n",
       "             5218: [[-0.20983003079891205, -0.1267746388912201]],\n",
       "             5217: [[-0.017426589503884315, 0.3166150450706482]],\n",
       "             5220: [[-0.14170214533805847, 0.3101361393928528]],\n",
       "             212: [[0.05792880058288574, -0.03153527155518532]],\n",
       "             210: [[0.188497856259346, 0.010279703885316849]],\n",
       "             214: [[-0.1570417582988739, 0.013853920623660088]],\n",
       "             211: [[0.22488979995250702, 0.1419050395488739]],\n",
       "             4623: [[0.25087037682533264, -0.13626112043857574]],\n",
       "             354: [[0.3360787034034729, 0.26476114988327026]],\n",
       "             5378: [[-0.09073279052972794, 0.3060421645641327]],\n",
       "             3672: [[0.1337822526693344, 0.11636395752429962]],\n",
       "             3116: [[0.15229901671409607, 0.1500588357448578]],\n",
       "             3372: [[0.20265009999275208, 0.25219839811325073]],\n",
       "             3376: [[0.3160516619682312, 0.015885038301348686]],\n",
       "             3373: [[-0.18228203058242798, 0.2014365792274475]],\n",
       "             3374: [[0.07689802348613739, 0.17905257642269135]],\n",
       "             2414: [[0.07594890147447586, 0.28765347599983215]],\n",
       "             2410: [[-0.15535800158977509, 0.11909860372543335]],\n",
       "             2411: [[-0.05036225542426109, -0.08646238595247269]],\n",
       "             2409: [[-0.014126310124993324, 0.19312743842601776]],\n",
       "             2412: [[0.10553830116987228, 0.2522686719894409]],\n",
       "             3955: [[0.15012326836585999, 0.046054042875766754]],\n",
       "             3953: [[0.19686946272850037, 0.2785854637622833]],\n",
       "             3954: [[0.26196160912513733, 0.018345672637224197]],\n",
       "             3956: [[0.14903125166893005, 0.03636877238750458]],\n",
       "             3958: [[-0.11132726073265076, 0.14898960292339325]],\n",
       "             1434: [[-0.16424016654491425, 0.28162211179733276]],\n",
       "             1437: [[0.2606651782989502, 0.32540860772132874]],\n",
       "             1435: [[0.2444223314523697, 0.09559749066829681]],\n",
       "             1436: [[0.1939961314201355, 0.41146859526634216]],\n",
       "             1587: [[0.18945975601673126, -0.09346822649240494]],\n",
       "             1588: [[-0.04933171719312668, -0.16792887449264526]],\n",
       "             1991: [[-0.04190262407064438, -0.0895405039191246]],\n",
       "             1990: [[-0.15613198280334473, 0.14906246960163116]],\n",
       "             1989: [[-0.09872958064079285, 0.20682168006896973]],\n",
       "             1993: [[-0.234358012676239, -0.06926287710666656]],\n",
       "             1722: [[0.22949883341789246, -0.19190141558647156]],\n",
       "             1724: [[-0.1845804899930954, -0.21901285648345947]],\n",
       "             2490: [[0.19556666910648346, -0.05956001952290535]],\n",
       "             3879: [[-0.20436744391918182, 0.12033471465110779]],\n",
       "             3881: [[-0.2919425070285797, 0.31627562642097473]],\n",
       "             3880: [[-0.051707081496715546, 0.04276570305228233]],\n",
       "             3883: [[0.04669589176774025, 0.07981516420841217]],\n",
       "             3408: [[0.10371780395507812, 0.3655591607093811]],\n",
       "             3407: [[-0.006658117286860943, -0.043833620846271515]],\n",
       "             3411: [[0.1885680854320526, 0.07819708436727524]],\n",
       "             3409: [[-0.20747442543506622, -0.007957322522997856]],\n",
       "             3970: [[0.21050764620304108, 0.1019284576177597]],\n",
       "             3973: [[-0.2441028505563736, 0.1492314338684082]],\n",
       "             3676: [[-0.25094544887542725, -0.0934574231505394]],\n",
       "             3972: [[-0.08201440423727036, -0.1532021164894104]],\n",
       "             3971: [[-0.15702253580093384, 0.18166282773017883]],\n",
       "             13: [[0.14073066413402557, 0.253216952085495]],\n",
       "             376: [[0.2547522187232971, -0.10940436273813248]],\n",
       "             378: [[0.26876819133758545, -0.02079521119594574]],\n",
       "             3305: [[0.23669233918190002, 0.20428995788097382]],\n",
       "             4646: [[0.02076374553143978, -0.11437734961509705]],\n",
       "             4645: [[0.05111648887395859, 0.054295532405376434]],\n",
       "             4648: [[-0.14037835597991943, 0.01485061552375555]],\n",
       "             3570: [[0.08786961436271667, 0.1363145262002945]],\n",
       "             3568: [[-0.06850040704011917, 0.26129350066185]],\n",
       "             3567: [[0.01790757104754448, -0.04895182326436043]],\n",
       "             1420: [[-0.08310636132955551, 0.39439713954925537]],\n",
       "             1421: [[-0.031121153384447098, 0.2833843529224396]],\n",
       "             1422: [[0.10229353606700897, 0.23847925662994385]],\n",
       "             1425: [[0.20607557892799377, 0.3470682203769684]],\n",
       "             1423: [[-0.1918269395828247, 0.2323751449584961]],\n",
       "             3099: [[-0.06279599666595459, 0.25773346424102783]],\n",
       "             3098: [[-0.27682867646217346, 0.1038195863366127]],\n",
       "             3101: [[-0.007996183820068836, 0.11272403597831726]],\n",
       "             1440: [[-0.14621350169181824, 0.428068608045578]],\n",
       "             1441: [[-0.00034560260246507823, 0.33881130814552307]],\n",
       "             1443: [[-0.11496283113956451, 0.1944090873003006]],\n",
       "             4633: [[0.06815610826015472, 0.22894318401813507]],\n",
       "             4634: [[-0.2680095434188843, 0.25969797372817993]],\n",
       "             4636: [[0.10267630219459534, 0.2792717218399048]],\n",
       "             4632: [[-0.15187105536460876, 0.3214643597602844]],\n",
       "             768: [[-0.1708555519580841, 0.12285251170396805]],\n",
       "             767: [[0.10959485173225403, 0.2662968635559082]],\n",
       "             770: [[0.01996702328324318, 0.3101728558540344]],\n",
       "             119: [[-0.20871366560459137, -0.14289407432079315]],\n",
       "             121: [[-0.014931759797036648, 0.1403944194316864]],\n",
       "             664: [[-0.24352119863033295, -0.13050025701522827]],\n",
       "             4744: [[0.1418572962284088, -0.2258329838514328]],\n",
       "             4745: [[-0.23194700479507446, 0.022594453766942024]],\n",
       "             665: [[0.08284702897071838, 0.0876159742474556]],\n",
       "             1940: [[-0.15670914947986603, -0.058031778782606125]],\n",
       "             1942: [[0.05455455556511879, -0.03479990363121033]],\n",
       "             1941: [[0.2033298909664154, 0.05075002461671829]],\n",
       "             1944: [[0.026488929986953735, 0.01122506894171238]],\n",
       "             2130: [[0.32186436653137207, 0.15997779369354248]],\n",
       "             2131: [[0.1364227533340454, -0.1651138961315155]],\n",
       "             2133: [[0.3304218053817749, -0.12696705758571625]],\n",
       "             ...})"
      ]
     },
     "execution_count": 359,
     "metadata": {},
     "output_type": "execute_result"
    }
   ],
   "source": [
    "test_d"
   ]
  },
  {
   "cell_type": "code",
   "execution_count": 360,
   "metadata": {},
   "outputs": [],
   "source": [
    "test_embed_dict=[{\"node1\":row[\"node1\"],\n",
    "        \"node2\": row[\"node2\"],\n",
    "        \"_1\": test_d[row[\"node1\"]][0][0],\n",
    "        \"_2\": test_d[row[\"node1\"]][0][1],\n",
    "        \"_3\":  test_d[row[\"node2\"]][0][0],\n",
    "        \"_4\":  test_d[row[\"node2\"]][0][1]} for row in test_data.collect()]"
   ]
  },
  {
   "cell_type": "code",
   "execution_count": 361,
   "metadata": {},
   "outputs": [],
   "source": [
    "test_embeddings_df=spark.createDataFrame(test_embed_dict)"
   ]
  },
  {
   "cell_type": "code",
   "execution_count": 362,
   "metadata": {},
   "outputs": [
    {
     "data": {
      "text/plain": [
       "DataFrame[_1: double, _2: double, _3: double, _4: double, node1: bigint, node2: bigint]"
      ]
     },
     "execution_count": 362,
     "metadata": {},
     "output_type": "execute_result"
    }
   ],
   "source": [
    "test_embeddings_df"
   ]
  },
  {
   "cell_type": "code",
   "execution_count": 367,
   "metadata": {},
   "outputs": [],
   "source": [
    "test_data=test_data.join(test_embeddings_df, [\"node1\",\"node2\"])"
   ]
  },
  {
   "cell_type": "code",
   "execution_count": 368,
   "metadata": {},
   "outputs": [
    {
     "data": {
      "text/plain": [
       "DataFrame[node1: bigint, node2: bigint, label: bigint, commonAuthors: bigint, prefAttachment: bigint, totalNeighbors: bigint, minTriangles: bigint, maxTriangles: bigint, minCoefficient: double, maxCoefficient: double, samePartition: bigint, sameLouvain: bigint, _1: double, _2: double, _3: double, _4: double]"
      ]
     },
     "execution_count": 368,
     "metadata": {},
     "output_type": "execute_result"
    }
   ],
   "source": [
    "test_data"
   ]
  },
  {
   "cell_type": "code",
   "execution_count": 369,
   "metadata": {},
   "outputs": [
    {
     "data": {
      "text/html": [
       "<div>\n",
       "<style scoped>\n",
       "    .dataframe tbody tr th:only-of-type {\n",
       "        vertical-align: middle;\n",
       "    }\n",
       "\n",
       "    .dataframe tbody tr th {\n",
       "        vertical-align: top;\n",
       "    }\n",
       "\n",
       "    .dataframe thead th {\n",
       "        text-align: right;\n",
       "    }\n",
       "</style>\n",
       "<table border=\"1\" class=\"dataframe\">\n",
       "  <thead>\n",
       "    <tr style=\"text-align: right;\">\n",
       "      <th></th>\n",
       "      <th>Measure</th>\n",
       "      <th>Score</th>\n",
       "    </tr>\n",
       "  </thead>\n",
       "  <tbody>\n",
       "    <tr>\n",
       "      <th>0</th>\n",
       "      <td>accuracy</td>\n",
       "      <td>0.995552</td>\n",
       "    </tr>\n",
       "    <tr>\n",
       "      <th>1</th>\n",
       "      <td>recall</td>\n",
       "      <td>0.982424</td>\n",
       "    </tr>\n",
       "    <tr>\n",
       "      <th>2</th>\n",
       "      <td>precision</td>\n",
       "      <td>0.977600</td>\n",
       "    </tr>\n",
       "  </tbody>\n",
       "</table>\n",
       "</div>"
      ],
      "text/plain": [
       "     Measure     Score\n",
       "0   accuracy  0.995552\n",
       "1     recall  0.982424\n",
       "2  precision  0.977600"
      ]
     },
     "execution_count": 369,
     "metadata": {},
     "output_type": "execute_result"
    }
   ],
   "source": [
    "word2vec_results = evaluate_model(w2vec_model, test_data)\n",
    "display_results(word2vec_results)"
   ]
  },
  {
   "cell_type": "code",
   "execution_count": 370,
   "metadata": {},
   "outputs": [
    {
     "data": {
      "image/png": "[encoded data removed]",
      "text/plain": [
       "<Figure size 1040x640 with 1 Axes>"
      ]
     },
     "metadata": {},
     "output_type": "display_data"
    }
   ],
   "source": [
    "plt, fig = create_roc_plot()\n",
    "\n",
    "add_curve(plt, \"Common Authors\",\n",
    "basic_results[\"fpr\"], basic_results[\"tpr\"], basic_results[\"roc_auc\"])\n",
    "\n",
    "add_curve(plt, \"Graphy\",\n",
    "graphy_results[\"fpr\"], graphy_results[\"tpr\"],graphy_results[\"roc_auc\"])\n",
    "\n",
    "add_curve(plt, \"Triangles\",\n",
    "triangle_results[\"fpr\"], triangle_results[\"tpr\"],\n",
    "triangle_results[\"roc_auc\"])\n",
    "\n",
    "add_curve(plt, \"Community\",\n",
    "community_results[\"fpr\"], community_results[\"tpr\"],\n",
    "community_results[\"roc_auc\"])\n",
    "\n",
    "add_curve(plt, \"Word2vec\",\n",
    "word2vec_results[\"fpr\"], word2vec_results[\"tpr\"],\n",
    "word2vec_results[\"roc_auc\"])\n",
    "\n",
    "plt.legend(loc='lower right')\n",
    "plt.show()"
   ]
  },
  {
   "cell_type": "code",
   "execution_count": 288,
   "metadata": {},
   "outputs": [
    {
     "data": {
      "text/plain": [
       "SparseVector(13, {0: 0.3813, 1: 0.0714, 2: 0.1322, 3: 0.0552, 4: 0.0852, 5: 0.0524, 6: 0.0391, 7: 0.0032, 8: 0.1548, 9: 0.0063, 10: 0.0076, 11: 0.005, 12: 0.0062})"
      ]
     },
     "execution_count": 288,
     "metadata": {},
     "output_type": "execute_result"
    }
   ],
   "source": [
    "word2vec_model.stages[-1].featureImportances"
   ]
  },
  {
   "cell_type": "code",
   "execution_count": 371,
   "metadata": {},
   "outputs": [
    {
     "data": {
      "image/png": "[encoded data removed]",
      "text/plain": [
       "<Figure size 640x480 with 1 Axes>"
      ]
     },
     "metadata": {},
     "output_type": "display_data"
    }
   ],
   "source": [
    "rf_model = w2vec_model.stages[-1]\n",
    "plot_feature_importance(fields, rf_model.featureImportances)"
   ]
  },
  {
   "cell_type": "markdown",
   "metadata": {},
   "source": [
    "# Tuning Node2Vec params"
   ]
  },
  {
   "cell_type": "code",
   "execution_count": null,
   "metadata": {},
   "outputs": [],
   "source": [
    "# for some reason doesnt have this algorithm\n",
    "# graphdb.run(\"\"\"CALL gds.alpha.node2vec.stream('early_graph', {dimensions: 2})\"\"\")"
   ]
  },
  {
   "cell_type": "code",
   "execution_count": 413,
   "metadata": {},
   "outputs": [
    {
     "data": {
      "text/html": [
       "<div>\n",
       "<style scoped>\n",
       "    .dataframe tbody tr th:only-of-type {\n",
       "        vertical-align: middle;\n",
       "    }\n",
       "\n",
       "    .dataframe tbody tr th {\n",
       "        vertical-align: top;\n",
       "    }\n",
       "\n",
       "    .dataframe thead th {\n",
       "        text-align: right;\n",
       "    }\n",
       "</style>\n",
       "<table border=\"1\" class=\"dataframe\">\n",
       "  <thead>\n",
       "    <tr style=\"text-align: right;\">\n",
       "      <th></th>\n",
       "      <th>node1</th>\n",
       "    </tr>\n",
       "  </thead>\n",
       "  <tbody>\n",
       "    <tr>\n",
       "      <th>1</th>\n",
       "      <td>3764</td>\n",
       "    </tr>\n",
       "    <tr>\n",
       "      <th>2</th>\n",
       "      <td>4894</td>\n",
       "    </tr>\n",
       "    <tr>\n",
       "      <th>3</th>\n",
       "      <td>4823</td>\n",
       "    </tr>\n",
       "    <tr>\n",
       "      <th>4</th>\n",
       "      <td>1806</td>\n",
       "    </tr>\n",
       "  </tbody>\n",
       "</table>\n",
       "</div>"
      ],
      "text/plain": [
       "   node1\n",
       "1   3764\n",
       "2   4894\n",
       "3   4823\n",
       "4   1806"
      ]
     },
     "execution_count": 413,
     "metadata": {},
     "output_type": "execute_result"
    }
   ],
   "source": [
    "train_nodes = get_distinct_nodes(training_data)\n",
    "train_nodes[1:5]"
   ]
  },
  {
   "cell_type": "code",
   "execution_count": 414,
   "metadata": {},
   "outputs": [],
   "source": [
    "def get_walks(data, graph_name, steps, walks):\n",
    "    \n",
    "    params={\n",
    "    \"nodes\":[{\"id\": node} for node in nodes[\"node1\"]  ]\n",
    "    }\n",
    "\n",
    "    query=\"\"\"\n",
    "    UNWIND $nodes AS node\n",
    "    MATCH (a:Author)\n",
    "    WHERE ID(a) = node.id\n",
    "    WITH a\n",
    "    CALL gds.alpha.randomWalk.stream('{graph_name}',{{\n",
    "        start: id(a),\n",
    "        steps: {steps},\n",
    "        walks: {walks}\n",
    "    }})\n",
    "    YIELD nodeIds\n",
    "    RETURN [id in nodeIds | toString(id)] as walks\n",
    "    \"\"\".format(graph_name=graph_name,\n",
    "               steps=steps, \n",
    "               walks=walks).replace(\"\\n\", \"\")\n",
    "    \n",
    "    random_walks=graphdb.run(query, params).to_series()\n",
    "    \n",
    "    return random_walks"
   ]
  },
  {
   "cell_type": "code",
   "execution_count": 419,
   "metadata": {},
   "outputs": [
    {
     "data": {
      "text/plain": [
       "0         [964, 967]\n",
       "1         [964, 967]\n",
       "2         [964, 965]\n",
       "3       [3764, 3766]\n",
       "4       [3764, 3770]\n",
       "            ...     \n",
       "5350    [1092, 1090]\n",
       "5351    [1092, 1090]\n",
       "5352    [4822, 4819]\n",
       "5353    [4822, 4819]\n",
       "5354    [4822, 4819]\n",
       "Length: 5355, dtype: object"
      ]
     },
     "execution_count": 419,
     "metadata": {},
     "output_type": "execute_result"
    }
   ],
   "source": [
    "train_walks=get_walks(train_nodes, 'early_graph', steps=1, walks=3)\n",
    "train_walks"
   ]
  },
  {
   "cell_type": "code",
   "execution_count": 418,
   "metadata": {},
   "outputs": [],
   "source": [
    "def get_embeddings(random_walks,size,window, min_count):\n",
    "\n",
    "    model=gensim.models.Word2Vec(random_walks, sg=1, window=window, size=size,min_count=min_count)\n",
    "    \n",
    "    d = defaultdict(list)\n",
    "    for record in model.wv.vocab:\n",
    "        d[int(record)].append([float(x) for x in list(model.wv[record])])\n",
    "        \n",
    "    return d\n"
   ]
  },
  {
   "cell_type": "code",
   "execution_count": 474,
   "metadata": {},
   "outputs": [
    {
     "data": {
      "text/plain": [
       "array([-0.06015702, -1.4417034 ], dtype=float32)"
      ]
     },
     "execution_count": 474,
     "metadata": {},
     "output_type": "execute_result"
    }
   ],
   "source": [
    "model.wv[\"964\"]"
   ]
  },
  {
   "cell_type": "code",
   "execution_count": 473,
   "metadata": {},
   "outputs": [
    {
     "data": {
      "text/plain": [
       "DenseVector([-0.0602, -1.4417])"
      ]
     },
     "execution_count": 473,
     "metadata": {},
     "output_type": "execute_result"
    }
   ],
   "source": [
    "from pyspark.ml.linalg import Vector\n",
    "Vectors.dense(model.wv[\"964\"])\n"
   ]
  },
  {
   "cell_type": "code",
   "execution_count": 424,
   "metadata": {},
   "outputs": [
    {
     "name": "stderr",
     "output_type": "stream",
     "text": [
      "WARNING:gensim.models.base_any2vec:consider setting layer size to a multiple of 4 for greater performance\n",
      "WARNING:gensim.models.base_any2vec:under 10 jobs per worker: consider setting a smaller `batch_words' for smoother alpha decay\n"
     ]
    },
    {
     "data": {
      "text/plain": [
       "defaultdict(list,\n",
       "            {964: [[0.13520918786525726, -0.0796167328953743]],\n",
       "             967: [[0.1318255364894867, -0.25411510467529297]],\n",
       "             965: [[-0.10499343276023865, -0.13445505499839783]],\n",
       "             3764: [[-0.2368052452802658, -0.24071158468723297]],\n",
       "             3766: [[0.07996734976768494, 0.03805974870920181]],\n",
       "             3770: [[-0.031214289367198944, -0.01456918939948082]],\n",
       "             4894: [[0.1381416618824005, 0.14118781685829163]],\n",
       "             3586: [[-0.03614466264843941, 0.1759798526763916]],\n",
       "             4823: [[0.013253407552838326, -0.061679769307374954]],\n",
       "             2289: [[0.09889712184667587, -0.09187395870685577]],\n",
       "             4825: [[0.20693644881248474, 0.2420685738325119]],\n",
       "             1806: [[-0.24552038311958313, -0.013548855669796467]],\n",
       "             1804: [[0.0684976801276207, -0.20414592325687408]],\n",
       "             5594: [[0.19575297832489014, -0.19224154949188232]],\n",
       "             5590: [[-0.0020525765139609575, 0.24963311851024628]],\n",
       "             2509: [[-0.14688685536384583, -0.20197971165180206]],\n",
       "             2506: [[0.02280700020492077, -0.21589961647987366]],\n",
       "             2511: [[-0.18988968431949615, -0.12136156111955643]],\n",
       "             2508: [[-0.1758497953414917, 0.23050111532211304]],\n",
       "             5556: [[-0.09744492918252945, -0.25034746527671814]],\n",
       "             5558: [[-0.20068573951721191, -0.23979595303535461]],\n",
       "             5555: [[-0.10289545357227325, -0.027829937636852264]],\n",
       "             3091: [[-0.0020587057806551456, 0.20905885100364685]],\n",
       "             3090: [[0.12952986359596252, -0.12643077969551086]],\n",
       "             3094: [[-0.16924703121185303, -0.16260504722595215]],\n",
       "             3088: [[0.19368664920330048, 0.15127405524253845]],\n",
       "             3391: [[-0.1794784516096115, 0.18518514931201935]],\n",
       "             3393: [[0.22808116674423218, -0.2329227328300476]],\n",
       "             418: [[-0.07891424745321274, -0.2027905434370041]],\n",
       "             419: [[-0.1878303587436676, -0.0884811133146286]],\n",
       "             422: [[0.0062798745930194855, -0.11824239045381546]],\n",
       "             3280: [[-0.08072935789823532, -0.09307816624641418]],\n",
       "             3281: [[-0.018679413944482803, 0.02558864839375019]],\n",
       "             3282: [[-0.17764048278331757, -0.15515020489692688]],\n",
       "             2895: [[-0.17209556698799133, 0.10743258893489838]],\n",
       "             2892: [[-0.17273591458797455, 0.10428853332996368]],\n",
       "             2173: [[0.18983137607574463, 0.03543839603662491]],\n",
       "             5640: [[0.13413213193416595, -0.23626768589019775]],\n",
       "             541: [[0.247890904545784, 0.2409072369337082]],\n",
       "             538: [[0.13045784831047058, 0.20179611444473267]],\n",
       "             539: [[0.12900353968143463, -0.21255265176296234]],\n",
       "             4371: [[0.02383800409734249, 0.209970623254776]],\n",
       "             4372: [[0.12718553841114044, -0.11486463248729706]],\n",
       "             2849: [[-0.10883355885744095, -0.18977536261081696]],\n",
       "             3061: [[-0.15321025252342224, -0.20761999487876892]],\n",
       "             3060: [[0.060803476721048355, -0.225688174366951]],\n",
       "             3063: [[0.03152851760387421, 0.08499466627836227]],\n",
       "             3015: [[0.19065889716148376, -0.05042484030127525]],\n",
       "             3012: [[0.16512905061244965, 0.23984482884407043]],\n",
       "             3013: [[-0.16759730875492096, 0.24315103888511658]],\n",
       "             3011: [[-0.11453929543495178, -0.16588503122329712]],\n",
       "             5148: [[0.107344850897789, 0.058739807456731796]],\n",
       "             5146: [[-0.2074185460805893, -0.04919096827507019]],\n",
       "             5147: [[0.2030213624238968, -0.223247691988945]],\n",
       "             1127: [[0.0983981192111969, 0.11603769659996033]],\n",
       "             1129: [[0.049695782363414764, 0.012963899411261082]],\n",
       "             5666: [[0.0199030339717865, -0.045598194003105164]],\n",
       "             1551: [[0.055942438542842865, 0.05894305557012558]],\n",
       "             1555: [[0.257651150226593, -0.1016063541173935]],\n",
       "             1552: [[0.23338636755943298, -0.21755579113960266]],\n",
       "             1553: [[0.1709938794374466, -0.17070257663726807]],\n",
       "             2184: [[0.1492682844400406, -0.030994068831205368]],\n",
       "             2187: [[-0.08378114551305771, 0.14362558722496033]],\n",
       "             1144: [[-0.03129342198371887, -0.24755938351154327]],\n",
       "             2185: [[-0.1630553901195526, 0.1741524636745453]],\n",
       "             5079: [[-0.1130211278796196, 0.11710640788078308]],\n",
       "             2102: [[-0.228006973862648, -0.2435670644044876]],\n",
       "             270: [[0.12814202904701233, 0.21407850086688995]],\n",
       "             272: [[-0.13475321233272552, 0.160495787858963]],\n",
       "             268: [[0.2133089154958725, 0.2206956297159195]],\n",
       "             1145: [[-0.012814410030841827, -0.05787040293216705]],\n",
       "             1147: [[-0.1303814798593521, -0.24645619094371796]],\n",
       "             1143: [[-0.009114407002925873, 0.12000420689582825]],\n",
       "             1371: [[-0.10790269076824188, 0.11102508753538132]],\n",
       "             1369: [[0.106499083340168, -0.08748169988393784]],\n",
       "             1368: [[-0.19021853804588318, 0.054237134754657745]],\n",
       "             1642: [[0.20473138988018036, -0.016543688252568245]],\n",
       "             1644: [[-0.025550831109285355, -0.1671343445777893]],\n",
       "             2989: [[-0.043103285133838654, 0.0323668010532856]],\n",
       "             2991: [[-0.06611572951078415, 0.17743346095085144]],\n",
       "             2988: [[-0.18139676749706268, -0.22680601477622986]],\n",
       "             4551: [[0.17422442138195038, 0.09934938699007034]],\n",
       "             4548: [[0.25315356254577637, 0.05955790728330612]],\n",
       "             3452: [[0.03425350785255432, -0.17554901540279388]],\n",
       "             1140: [[0.17068177461624146, -0.16953879594802856]],\n",
       "             3866: [[0.08651784062385559, -0.035494375973939896]],\n",
       "             3867: [[-0.12392305582761765, -0.20823447406291962]],\n",
       "             464: [[0.008163873106241226, 0.15193282067775726]],\n",
       "             3120: [[0.20360401272773743, 0.10148265957832336]],\n",
       "             3119: [[0.18189477920532227, 0.1960994154214859]],\n",
       "             3122: [[0.12195025384426117, -0.08143133670091629]],\n",
       "             1202: [[0.2201312780380249, 0.11173190921545029]],\n",
       "             1200: [[-0.13821810483932495, -0.22520524263381958]],\n",
       "             1327: [[-0.10216901451349258, 0.15138252079486847]],\n",
       "             1328: [[0.028211776167154312, -0.23732298612594604]],\n",
       "             278: [[0.20890139043331146, -0.18196342885494232]],\n",
       "             274: [[-0.04938794672489166, -0.19388848543167114]],\n",
       "             273: [[-0.029149901121854782, 0.014896631240844727]],\n",
       "             3847: [[0.11794428527355194, 0.029164375737309456]],\n",
       "             3848: [[-0.2520939111709595, -0.14753158390522003]],\n",
       "             3850: [[-0.19272491335868835, -0.14878427982330322]],\n",
       "             4519: [[0.04401254281401634, 0.10879712551832199]],\n",
       "             3292: [[-0.022654162719845772, -0.18278971314430237]],\n",
       "             2857: [[-0.025927547365427017, 0.10924240946769714]],\n",
       "             2856: [[0.06070806458592415, -0.018799278885126114]],\n",
       "             2858: [[0.13497431576251984, 0.025319984182715416]],\n",
       "             4018: [[-0.13354890048503876, 0.06955249607563019]],\n",
       "             4552: [[-0.046411968767642975, 0.027708858251571655]],\n",
       "             4553: [[-0.1984712779521942, -0.20125806331634521]],\n",
       "             2955: [[-0.2550589144229889, -0.18754902482032776]],\n",
       "             1280: [[0.07953400164842606, 0.1361933797597885]],\n",
       "             3610: [[0.013398803770542145, 0.06000242009758949]],\n",
       "             1281: [[-0.02590068243443966, -0.16116125881671906]],\n",
       "             1217: [[-0.125471830368042, 0.08540182560682297]],\n",
       "             25: [[0.05749395489692688, -0.18133649230003357]],\n",
       "             1219: [[-0.13558106124401093, -0.2513417899608612]],\n",
       "             1447: [[-0.060425907373428345, -0.0305523332208395]],\n",
       "             1448: [[-0.1269792914390564, -0.17790110409259796]],\n",
       "             3918: [[0.009432659484446049, -0.21970932185649872]],\n",
       "             3922: [[-0.0046953437849879265, 0.21083229780197144]],\n",
       "             4929: [[0.0873531773686409, 0.2500920593738556]],\n",
       "             786: [[0.23272046446800232, 0.18689563870429993]],\n",
       "             5417: [[0.17418958246707916, -0.01918840780854225]],\n",
       "             5414: [[0.08343604952096939, -0.08770881593227386]],\n",
       "             5415: [[-0.09326967597007751, -0.24900498986244202]],\n",
       "             0: [[0.1960197538137436, -0.15840058028697968]],\n",
       "             1: [[0.08429968357086182, 0.1609887331724167]],\n",
       "             415: [[0.017942138016223907, 0.06921500712633133]],\n",
       "             417: [[0.22636136412620544, -0.2223091870546341]],\n",
       "             3108: [[0.2092992216348648, 0.20840533077716827]],\n",
       "             287: [[0.21193891763687134, 0.08736389130353928]],\n",
       "             289: [[0.11333935707807541, 0.12942424416542053]],\n",
       "             286: [[0.2377590835094452, 0.21889451146125793]],\n",
       "             1594: [[0.04291318356990814, 0.19512975215911865]],\n",
       "             1593: [[0.050868209451436996, -0.14714914560317993]],\n",
       "             1596: [[0.022459648549556732, -0.19674575328826904]],\n",
       "             1958: [[0.25060799717903137, -0.06807144731283188]],\n",
       "             1960: [[-0.2075507938861847, -0.15568624436855316]],\n",
       "             4113: [[-0.19445888698101044, 0.045423056930303574]],\n",
       "             4110: [[-0.18401317298412323, 0.16828934848308563]],\n",
       "             4111: [[-0.1068328469991684, -0.06678172200918198]],\n",
       "             502: [[0.05926859378814697, 0.07944094389677048]],\n",
       "             503: [[-0.17746520042419434, -0.005180403124541044]],\n",
       "             505: [[-0.23096473515033722, 0.08476441353559494]],\n",
       "             3869: [[0.2144538164138794, 0.09308558702468872]],\n",
       "             462: [[-0.15303349494934082, -0.2003854513168335]],\n",
       "             2900: [[-0.11597330868244171, 0.03870093449950218]],\n",
       "             4288: [[-0.203373983502388, 0.003285032231360674]],\n",
       "             1896: [[0.19988909363746643, 0.12093251943588257]],\n",
       "             3745: [[0.2445366084575653, -0.16577105224132538]],\n",
       "             4108: [[-0.18215711414813995, 0.0719301775097847]],\n",
       "             4106: [[-0.08339064568281174, -0.12149938195943832]],\n",
       "             5488: [[0.19109264016151428, 0.23607200384140015]],\n",
       "             5487: [[0.09528618305921555, -0.09893443435430527]],\n",
       "             656: [[0.23083239793777466, 0.10226307809352875]],\n",
       "             658: [[0.22525347769260406, 0.05024806410074234]],\n",
       "             5126: [[0.09299247711896896, 0.16606445610523224]],\n",
       "             5128: [[0.12697574496269226, 0.19450516998767853]],\n",
       "             5125: [[0.23524700105190277, 0.19558855891227722]],\n",
       "             2583: [[-0.13402506709098816, 0.057709597051143646]],\n",
       "             2585: [[0.175009623169899, -0.015243676491081715]],\n",
       "             3296: [[-0.0731014609336853, -0.19015279412269592]],\n",
       "             3294: [[0.20803402364253998, 0.02518862672150135]],\n",
       "             3298: [[0.17284393310546875, -0.04799289628863335]],\n",
       "             3295: [[0.20561790466308594, 0.07788293063640594]],\n",
       "             1042: [[-0.15775978565216064, 0.1906730681657791]],\n",
       "             3127: [[-0.18529453873634338, 0.021384572610259056]],\n",
       "             3128: [[0.07253824919462204, 0.1826225072145462]],\n",
       "             2175: [[-0.0415508933365345, -0.029689181596040726]],\n",
       "             3432: [[0.01799347624182701, -0.20826542377471924]],\n",
       "             3436: [[0.1719350516796112, 0.1305074542760849]],\n",
       "             3434: [[-0.1807994842529297, 0.14399376511573792]],\n",
       "             1882: [[0.24341222643852234, -0.16682156920433044]],\n",
       "             3303: [[-0.09514695405960083, -0.23135815560817719]],\n",
       "             3301: [[-0.07721204310655594, -0.055975429713726044]],\n",
       "             155: [[0.2265196293592453, -0.20065589249134064]],\n",
       "             157: [[-0.019334593787789345, -0.055000875145196915]],\n",
       "             5208: [[-0.21389663219451904, -0.03246918320655823]],\n",
       "             5206: [[-0.024379560723900795, 0.05746365338563919]],\n",
       "             5204: [[-0.17964227497577667, 0.018445925787091255]],\n",
       "             4300: [[-0.023752683773636818, -0.10622600466012955]],\n",
       "             283: [[0.18236671388149261, 0.04959018900990486]],\n",
       "             2400: [[-0.12423842400312424, -0.16635894775390625]],\n",
       "             2397: [[-0.047571804374456406, -0.058729950338602066]],\n",
       "             2398: [[-0.09478973597288132, 0.12299486994743347]],\n",
       "             3324: [[-0.2545313239097595, 0.07007826119661331]],\n",
       "             3326: [[0.222779780626297, -0.18931463360786438]],\n",
       "             241: [[0.2375190705060959, 0.22487914562225342]],\n",
       "             244: [[0.17619697749614716, 0.10613841563463211]],\n",
       "             242: [[-0.10745180398225784, 0.2476559579372406]],\n",
       "             5343: [[0.20244765281677246, 0.020636849105358124]],\n",
       "             5347: [[-0.1746508628129959, -0.110954150557518]],\n",
       "             3491: [[-0.1728704571723938, 0.15630577504634857]],\n",
       "             3493: [[0.0788092166185379, 0.20004279911518097]],\n",
       "             3490: [[-0.1900523155927658, -0.22625000774860382]],\n",
       "             602: [[-0.17153458297252655, 0.01405559852719307]],\n",
       "             606: [[-0.007497810292989016, 0.03863198310136795]],\n",
       "             604: [[0.09878124296665192, -0.13398557901382446]],\n",
       "             5025: [[0.11770062893629074, -0.24711941182613373]],\n",
       "             5028: [[0.1710047870874405, -0.13156655430793762]],\n",
       "             5026: [[-0.224519282579422, 0.1617792397737503]],\n",
       "             5024: [[0.05939328297972679, -0.24115879833698273]],\n",
       "             1497: [[-0.05245169997215271, 0.10726378113031387]],\n",
       "             496: [[-0.1850310117006302, 0.08939247578382492]],\n",
       "             2660: [[-0.22131608426570892, 0.06562770903110504]],\n",
       "             2662: [[-0.08396787941455841, 0.12254170328378677]],\n",
       "             2341: [[0.015782879665493965, 0.056608911603689194]],\n",
       "             2344: [[0.13525879383087158, -0.18625442683696747]],\n",
       "             2342: [[-0.12507998943328857, 0.1982090175151825]],\n",
       "             588: [[0.03253370150923729, 0.09539932757616043]],\n",
       "             590: [[-0.14168043434619904, -0.23595720529556274]],\n",
       "             22: [[-0.09092853963375092, -0.16880322992801666]],\n",
       "             23: [[-0.17769736051559448, 0.2455042451620102]],\n",
       "             21: [[0.027104051783680916, 0.19542275369167328]],\n",
       "             4603: [[0.09298093616962433, 0.10799042135477066]],\n",
       "             4605: [[-0.24154001474380493, 0.09061193466186523]],\n",
       "             2378: [[-0.2425335943698883, 0.18497848510742188]],\n",
       "             2373: [[0.20770952105522156, -0.02294057048857212]],\n",
       "             2377: [[0.12292168289422989, 0.22713924944400787]],\n",
       "             2375: [[0.15165039896965027, -0.1667056828737259]],\n",
       "             414: [[-0.10024874657392502, 0.16434890031814575]],\n",
       "             1818: [[-0.04225582256913185, -0.2525710463523865]],\n",
       "             2326: [[0.005521468352526426, 0.1989385336637497]],\n",
       "             1820: [[-0.15721771121025085, -0.14013327658176422]],\n",
       "             1338: [[-0.04683847725391388, -0.054449837654829025]],\n",
       "             1342: [[-0.12673141062259674, 0.09710586071014404]],\n",
       "             1340: [[-0.07461078464984894, -0.008712383918464184]],\n",
       "             2966: [[-0.07220441848039627, -0.11061683297157288]],\n",
       "             2968: [[-0.16943533718585968, -0.12126369029283524]],\n",
       "             2965: [[0.23314130306243896, 0.17785270512104034]],\n",
       "             1711: [[0.08645495772361755, -0.10242176055908203]],\n",
       "             1712: [[-0.12064467370510101, 0.06517257541418076]],\n",
       "             1714: [[0.00976655539125204, -0.15680597722530365]],\n",
       "             1905: [[0.015656040981411934, -0.21594813466072083]],\n",
       "             1903: [[0.043656885623931885, 0.24604842066764832]],\n",
       "             1902: [[-0.11912491917610168, 0.23397772014141083]],\n",
       "             2282: [[-0.08562927693128586, 0.2109726220369339]],\n",
       "             2283: [[0.2025291621685028, -0.17168456315994263]],\n",
       "             1972: [[-0.24045923352241516, 0.039367686957120895]],\n",
       "             1974: [[0.06936211884021759, 0.20183232426643372]],\n",
       "             4806: [[0.037687335163354874, -0.09957875311374664]],\n",
       "             4807: [[0.23639115691184998, -0.12453921139240265]],\n",
       "             2961: [[-0.16982173919677734, 0.23919332027435303]],\n",
       "             130: [[0.20708298683166504, -0.13748551905155182]],\n",
       "             128: [[-0.2351437509059906, -0.14862395823001862]],\n",
       "             2638: [[0.20246709883213043, 0.07264681905508041]],\n",
       "             1050: [[-0.18423400819301605, 0.059576570987701416]],\n",
       "             1053: [[-0.13810497522354126, -0.18383191525936127]],\n",
       "             486: [[0.08364927768707275, -0.15363626182079315]],\n",
       "             485: [[-0.14788097143173218, 0.24009506404399872]],\n",
       "             488: [[0.007993755862116814, -0.008904420770704746]],\n",
       "             2439: [[0.22541217505931854, -0.18465206027030945]],\n",
       "             2441: [[0.23628617823123932, 0.05517324432730675]],\n",
       "             3821: [[0.03804953396320343, -0.15728072822093964]],\n",
       "             3824: [[0.15224583446979523, 0.24728545546531677]],\n",
       "             3822: [[-0.19402889907360077, 0.04328129440546036]],\n",
       "             4729: [[0.06128561496734619, -0.16052886843681335]],\n",
       "             4732: [[0.08700695633888245, 0.09157057851552963]],\n",
       "             4731: [[0.19729015231132507, -0.06989588588476181]],\n",
       "             4734: [[-0.07161170989274979, -0.17421378195285797]],\n",
       "             1760: [[0.15540450811386108, 0.1960439383983612]],\n",
       "             1761: [[0.23804937303066254, -0.007148316130042076]],\n",
       "             1762: [[-0.16769640147686005, -0.19029153883457184]],\n",
       "             4413: [[0.23500914871692657, -0.2148936241865158]],\n",
       "             1249: [[-0.12218818813562393, 0.10823817551136017]],\n",
       "             3608: [[0.008946417830884457, -0.14231126010417938]],\n",
       "             5099: [[-0.24912205338478088, -0.18571722507476807]],\n",
       "             5097: [[0.08573657274246216, -0.12036491930484772]],\n",
       "             4517: [[0.09618167579174042, 0.13460253179073334]],\n",
       "             4819: [[0.04650642350316048, -0.1265082210302353]],\n",
       "             4820: [[0.2540678381919861, 0.10144059360027313]],\n",
       "             4818: [[-0.011750337667763233, -0.025131002068519592]],\n",
       "             5605: [[0.22033266723155975, 0.06786970049142838]],\n",
       "             5602: [[0.162908136844635, 0.029105376452207565]],\n",
       "             5603: [[-0.2074630707502365, -0.14903691411018372]],\n",
       "             1887: [[-0.1693560928106308, 0.22083061933517456]],\n",
       "             2295: [[0.2562004327774048, -0.22401395440101624]],\n",
       "             1041: [[-0.03760214522480965, -0.12347578257322311]],\n",
       "             2958: [[0.11779998987913132, 0.13713295757770538]],\n",
       "             2959: [[0.04734309762716293, -0.19980868697166443]],\n",
       "             34: [[0.13147184252738953, 0.08955833315849304]],\n",
       "             36: [[-0.021462533622980118, 0.04810020327568054]],\n",
       "             4730: [[0.2147427201271057, 0.21443955600261688]],\n",
       "             5400: [[0.012008351273834705, 0.10953988134860992]],\n",
       "             188: [[-0.16483257710933685, 0.08162330836057663]],\n",
       "             184: [[0.19680792093276978, 0.10510335117578506]],\n",
       "             186: [[0.02129436284303665, 0.16704274713993073]],\n",
       "             2476: [[-0.2097063511610031, -0.17185889184474945]],\n",
       "             2478: [[0.053772177547216415, 0.08927850425243378]],\n",
       "             4179: [[-0.19336670637130737, 0.002510637976229191]],\n",
       "             4181: [[0.015955781564116478, -0.15479813516139984]],\n",
       "             4668: [[-0.09184246510267258, 0.17903228104114532]],\n",
       "             4670: [[0.06727218627929688, -0.24153947830200195]],\n",
       "             4667: [[-0.24365684390068054, 0.23426447808742523]],\n",
       "             5496: [[-0.05015258863568306, -0.09523939341306686]],\n",
       "             5498: [[-0.0926203653216362, 0.03331882134079933]],\n",
       "             1471: [[0.09214118123054504, 0.13103745877742767]],\n",
       "             1473: [[0.21912464499473572, -0.05873372033238411]],\n",
       "             1474: [[-0.10194569826126099, 0.13979589939117432]],\n",
       "             1542: [[0.16807131469249725, 0.24038808047771454]],\n",
       "             1545: [[0.1720024198293686, 0.03927110135555267]],\n",
       "             939: [[-0.07576184719800949, 0.2546590268611908]],\n",
       "             5483: [[0.18598449230194092, 0.18831199407577515]],\n",
       "             5484: [[0.2552018165588379, 0.040533047169446945]],\n",
       "             5486: [[-0.19890053570270538, -0.009597430936992168]],\n",
       "             5224: [[0.18269389867782593, 0.05024942755699158]],\n",
       "             5226: [[0.16154226660728455, 0.15384934842586517]],\n",
       "             5240: [[-0.1416330188512802, 0.18440504372119904]],\n",
       "             5242: [[-0.09503098577260971, -0.05554250627756119]],\n",
       "             5239: [[-0.048994939774274826, 0.1639443039894104]],\n",
       "             1319: [[-0.05252719670534134, -0.23885037004947662]],\n",
       "             1316: [[-0.045393530279397964, 0.09540018439292908]],\n",
       "             1317: [[-0.1460866779088974, 0.05874139070510864]],\n",
       "             1320: [[0.17683129012584686, -0.17605282366275787]],\n",
       "             3696: [[-0.2447139173746109, -0.224154993891716]],\n",
       "             3697: [[-0.1435961276292801, 0.09842389822006226]],\n",
       "             3768: [[-0.2078431397676468, 0.24180804193019867]],\n",
       "             3765: [[0.15666472911834717, -0.24127626419067383]],\n",
       "             190: [[-0.0941096618771553, -0.01477393414825201]],\n",
       "             2069: [[0.03250410407781601, -0.11598189920186996]],\n",
       "             2071: [[-0.06599333882331848, -0.13174183666706085]],\n",
       "             5670: [[0.007316409144550562, 0.0310102179646492]],\n",
       "             3092: [[-0.04130178689956665, 0.01979675330221653]],\n",
       "             3087: [[0.14891807734966278, -0.04354718700051308]],\n",
       "             3089: [[0.10612241178750992, 0.2447565495967865]],\n",
       "             3909: [[-0.09226936846971512, 0.011469016782939434]],\n",
       "             3910: [[0.22018323838710785, -0.07549256831407547]],\n",
       "             3912: [[0.21191945672035217, -0.06669170409440994]],\n",
       "             2942: [[-0.24316933751106262, 0.1415565311908722]],\n",
       "             2944: [[0.19118602573871613, 0.11638476699590683]],\n",
       "             3692: [[0.031685516238212585, 0.2050112634897232]],\n",
       "             3690: [[0.07794686406850815, -0.0693785771727562]],\n",
       "             3688: [[-0.14755463600158691, -0.15138861536979675]],\n",
       "             3787: [[0.06432776898145676, 0.07536985725164413]],\n",
       "             3789: [[0.13437943160533905, 0.17570489645004272]],\n",
       "             3786: [[-0.04359739273786545, -0.10701967030763626]],\n",
       "             3076: [[-0.0026658400893211365, -0.13063044846057892]],\n",
       "             3074: [[0.0339539498090744, 0.054121073335409164]],\n",
       "             202: [[0.03603759780526161, -0.1472211629152298]],\n",
       "             203: [[-0.11363806575536728, -0.22084547579288483]],\n",
       "             204: [[0.0035851174034178257, 0.2064249962568283]],\n",
       "             1988: [[-0.05407000705599785, -0.2195025533437729]],\n",
       "             1986: [[0.23426464200019836, 0.04128505662083626]],\n",
       "             1984: [[-0.2134544849395752, -0.10858454555273056]],\n",
       "             2314: [[-0.1504260003566742, 0.13652198016643524]],\n",
       "             2312: [[-0.15064214169979095, -0.11865738779306412]],\n",
       "             2311: [[0.13308490812778473, 0.17587848007678986]],\n",
       "             4406: [[0.018104298040270805, -0.23348833620548248]],\n",
       "             4404: [[0.12606549263000488, 0.2007138580083847]],\n",
       "             4403: [[0.10233687609434128, 0.07383996993303299]],\n",
       "             5641: [[-0.15475817024707794, 0.05807426944375038]],\n",
       "             3256: [[-0.17722104489803314, 0.09839034825563431]],\n",
       "             3258: [[-0.0943848267197609, -0.03947097808122635]],\n",
       "             3284: [[0.009782271459698677, 0.09549670666456223]],\n",
       "             325: [[0.12408570200204849, -0.24168361723423004]],\n",
       "             322: [[-0.08877336233854294, -0.061947427690029144]],\n",
       "             321: [[-0.027307232841849327, -0.2156091183423996]],\n",
       "             323: [[-0.09616590291261673, -0.11110600084066391]],\n",
       "             1899: [[0.1376243531703949, -0.16006076335906982]],\n",
       "             1897: [[-0.22548510134220123, 0.05752671882510185]],\n",
       "             3689: [[-0.18261361122131348, 0.006318739149719477]],\n",
       "             4354: [[-0.013234852813184261, -0.033231575042009354]],\n",
       "             4356: [[-0.24955376982688904, 0.16655494272708893]],\n",
       "             406: [[0.19837675988674164, 0.2356143593788147]],\n",
       "             407: [[0.014109525829553604, -0.1171383485198021]],\n",
       "             409: [[-0.11398405581712723, -0.21937192976474762]],\n",
       "             4513: [[-0.09068792313337326, 0.04348593205213547]],\n",
       "             4514: [[-0.15655913949012756, -0.09407558292150497]],\n",
       "             4625: [[-0.2046368271112442, -0.16991779208183289]],\n",
       "             4627: [[-0.09658850729465485, 0.1686720997095108]],\n",
       "             5628: [[-0.1287454515695572, 0.04368795081973076]],\n",
       "             5630: [[-0.09056564420461655, 0.08378499001264572]],\n",
       "             5632: [[-0.12255531549453735, 0.19746071100234985]],\n",
       "             4463: [[0.08428585529327393, -0.03800882399082184]],\n",
       "             4465: [[0.1757245510816574, 0.050798989832401276]],\n",
       "             691: [[-2.4690540158189833e-05, 0.12088809907436371]],\n",
       "             1293: [[0.04616253450512886, -0.22799690067768097]],\n",
       "             1292: [[0.060994286090135574, 0.04568606987595558]],\n",
       "             1985: [[0.016496902331709862, 0.09962905943393707]],\n",
       "             4639: [[0.12208873778581619, -0.10920409113168716]],\n",
       "             4642: [[0.204466313123703, -0.24909773468971252]],\n",
       "             1776: [[-0.06002961844205856, -0.1323794275522232]],\n",
       "             1779: [[0.11113647371530533, 0.10427752882242203]],\n",
       "             1777: [[-0.05636237934231758, -0.12071912735700607]],\n",
       "             2308: [[0.2415008246898651, 0.04528246819972992]],\n",
       "             2307: [[-0.009630323387682438, -0.01440955325961113]],\n",
       "             2310: [[-0.14245596528053284, -0.2523965537548065]],\n",
       "             2316: [[0.13506455719470978, 0.14295102655887604]],\n",
       "             2315: [[0.05842611938714981, -0.025339821353554726]],\n",
       "             1799: [[-0.17598076164722443, -0.1108158752322197]],\n",
       "             1796: [[0.04637100547552109, 0.24655663967132568]],\n",
       "             1797: [[-0.11427635699510574, -0.09214800596237183]],\n",
       "             2710: [[0.10490808635950089, 0.13838548958301544]],\n",
       "             2712: [[0.012464987114071846, -0.1528298407793045]],\n",
       "             2709: [[0.07661712914705276, 0.1706780046224594]],\n",
       "             4999: [[0.08177700638771057, -0.11025068163871765]],\n",
       "             4998: [[0.08406757563352585, -0.13094869256019592]],\n",
       "             5006: [[0.13928751647472382, 0.1847398430109024]],\n",
       "             5002: [[0.07554417103528976, -0.1621769368648529]],\n",
       "             4859: [[-0.1141224130988121, -0.14437100291252136]],\n",
       "             4856: [[-0.15219160914421082, -0.17356672883033752]],\n",
       "             4857: [[0.15952874720096588, -0.0665106326341629]],\n",
       "             2772: [[0.220675989985466, 0.13763527572155]],\n",
       "             2771: [[0.11755252629518509, 0.24881894886493683]],\n",
       "             1789: [[-0.15576370060443878, 0.1812717467546463]],\n",
       "             1788: [[0.16811874508857727, -0.24208390712738037]],\n",
       "             1792: [[0.08728455752134323, 0.022509202361106873]],\n",
       "             3849: [[-0.24608935415744781, 0.10375568270683289]],\n",
       "             5652: [[0.09062578529119492, 0.0636024996638298]],\n",
       "             5651: [[-0.14595845341682434, 0.20397117733955383]],\n",
       "             5654: [[0.20509883761405945, 0.15073861181735992]],\n",
       "             5187: [[0.06701678037643433, -0.051660314202308655]],\n",
       "             5189: [[-0.23191861808300018, -0.23554727435112]],\n",
       "             5186: [[-0.003442808985710144, -0.1834985911846161]],\n",
       "             876: [[0.05441887304186821, 0.10712843388319016]],\n",
       "             2744: [[-0.190489262342453, 0.1682211458683014]],\n",
       "             875: [[0.06329385936260223, -0.2340044528245926]],\n",
       "             878: [[0.06058657914400101, 0.13123498857021332]],\n",
       "             1632: [[0.04284486174583435, 0.1048974022269249]],\n",
       "             1634: [[-0.00788972619920969, -0.14509470760822296]],\n",
       "             5599: [[-0.23893065750598907, -0.2565886378288269]],\n",
       "             5601: [[0.23237808048725128, 0.2545391321182251]],\n",
       "             1376: [[-0.23087549209594727, 0.1346132904291153]],\n",
       "             689: [[-0.2248886078596115, -0.2119792103767395]],\n",
       "             5360: [[-0.015080537647008896, -0.10010217875242233]],\n",
       "             5357: [[-0.06334280222654343, 0.08775173872709274]],\n",
       "             3687: [[-0.0923217162489891, -0.23349907994270325]],\n",
       "             4411: [[-0.08205954730510712, -0.03018849901854992]],\n",
       "             379: [[0.19925138354301453, -0.0014409900177270174]],\n",
       "             5087: [[-0.03621825575828552, -0.1857495754957199]],\n",
       "             5320: [[-0.10017349570989609, 0.08380313962697983]],\n",
       "             5085: [[0.04430470988154411, -0.13397185504436493]],\n",
       "             3919: [[-0.062337134033441544, -0.10576581209897995]],\n",
       "             3920: [[0.011582676321268082, 0.1774417608976364]],\n",
       "             5180: [[0.01966051012277603, 0.05006999894976616]],\n",
       "             5183: [[-0.2311469316482544, 0.193023681640625]],\n",
       "             5181: [[-0.1738434135913849, -0.1682349294424057]],\n",
       "             5517: [[0.010298093780875206, 0.12131130695343018]],\n",
       "             5520: [[-0.0963481217622757, -0.16969116032123566]],\n",
       "             5528: [[0.023100607097148895, -0.250310480594635]],\n",
       "             5529: [[0.07712224125862122, 0.08474375307559967]],\n",
       "             5530: [[0.1495378613471985, 0.2207007259130478]],\n",
       "             5532: [[0.09457678347826004, -0.13356301188468933]],\n",
       "             2987: [[0.06788313388824463, 0.1562519520521164]],\n",
       "             275: [[0.1764654964208603, 0.0707167461514473]],\n",
       "             4178: [[-0.10467766970396042, -0.00414818013086915]],\n",
       "             5177: [[-0.2352985292673111, 0.1897854506969452]],\n",
       "             1268: [[-0.14349724352359772, -0.09717186540365219]],\n",
       "             5179: [[-0.05644064024090767, 0.07071497291326523]],\n",
       "             1271: [[0.019488198682665825, 0.040063973516225815]],\n",
       "             187: [[0.17106081545352936, -0.15190783143043518]],\n",
       "             3054: [[0.03216524422168732, -0.2184610515832901]],\n",
       "             3055: [[-0.19922828674316406, 0.19085726141929626]],\n",
       "             3053: [[0.059623248875141144, -0.1011386439204216]],\n",
       "             5495: [[-0.12354923039674759, -0.06403288245201111]],\n",
       "             5491: [[0.0636148601770401, -0.20916591584682465]],\n",
       "             5492: [[-0.14191673696041107, -0.173835888504982]],\n",
       "             5493: [[0.018928151577711105, -0.03993452340364456]],\n",
       "             902: [[-0.011577125638723373, -0.06943020969629288]],\n",
       "             903: [[-0.049259405583143234, -0.14508023858070374]],\n",
       "             901: [[-0.18185065686702728, -0.23593877255916595]],\n",
       "             629: [[-0.06081066653132439, -0.23140506446361542]],\n",
       "             535: [[0.1503148376941681, 0.10619893670082092]],\n",
       "             631: [[-0.05494844540953636, 0.01706281118094921]],\n",
       "             4656: [[0.21081696450710297, -0.11837417632341385]],\n",
       "             4655: [[0.15024499595165253, 0.16437529027462006]],\n",
       "             4658: [[-0.13505229353904724, -0.07524340599775314]],\n",
       "             4210: [[-0.09076212346553802, -0.0653562843799591]],\n",
       "             4212: [[-0.12180334329605103, 0.19343510270118713]],\n",
       "             4084: [[0.12522636353969574, -0.23067858815193176]],\n",
       "             4085: [[0.03039163164794445, -0.25493067502975464]],\n",
       "             4087: [[0.04586049169301987, -0.017849566414952278]],\n",
       "             2380: [[0.11170780658721924, 0.10924717783927917]],\n",
       "             5000: [[-0.0008162807789631188, -0.028666460886597633]],\n",
       "             5003: [[0.21014931797981262, -0.07162758708000183]],\n",
       "             1407: [[-0.10281282663345337, -0.0977674201130867]],\n",
       "             1409: [[-0.023729652166366577, 0.07767036557197571]],\n",
       "             1728: [[0.1490119844675064, -0.0684739276766777]],\n",
       "             1774: [[0.20436415076255798, 0.025140203535556793]],\n",
       "             1726: [[0.01670261286199093, -0.025461047887802124]],\n",
       "             1725: [[0.22718022763729095, -0.11041834205389023]],\n",
       "             412: [[-0.07994372397661209, 0.10475295037031174]],\n",
       "             410: [[-0.1583457887172699, -0.16955359280109406]],\n",
       "             5673: [[0.05485590919852257, -0.04974956437945366]],\n",
       "             5669: [[0.06327273696660995, 0.13545964658260345]],\n",
       "             388: [[0.035037875175476074, -0.010454058647155762]],\n",
       "             390: [[-0.2183629870414734, 0.04717469960451126]],\n",
       "             393: [[0.2207726687192917, 0.19855912029743195]],\n",
       "             389: [[-0.11868114769458771, -0.027206232771277428]],\n",
       "             3437: [[0.06467774510383606, 0.22757433354854584]],\n",
       "             945: [[0.009213083423674107, 0.1946118324995041]],\n",
       "             3655: [[-0.130222886800766, 0.1966831535100937]],\n",
       "             3654: [[-0.027425456792116165, 0.127720907330513]],\n",
       "             3653: [[-0.08899317681789398, -0.04497313126921654]],\n",
       "             2526: [[0.18708394467830658, -0.21515493094921112]],\n",
       "             2528: [[0.059898119419813156, -0.25854265689849854]],\n",
       "             2525: [[0.07824148237705231, -0.2523835599422455]],\n",
       "             3698: [[-0.15537595748901367, 0.21270018815994263]],\n",
       "             3700: [[-0.24821825325489044, 0.05112278088927269]],\n",
       "             1283: [[0.23881398141384125, 0.00787148904055357]],\n",
       "             1240: [[0.25408127903938293, -0.24257145822048187]],\n",
       "             1242: [[-0.13010172545909882, 0.033030711114406586]],\n",
       "             4167: [[0.21884912252426147, -0.21230585873126984]],\n",
       "             4170: [[0.2413170337677002, -0.2215486466884613]],\n",
       "             4168: [[0.16742058098316193, -0.11900614947080612]],\n",
       "             2404: [[0.11427692323923111, 0.22110645473003387]],\n",
       "             2406: [[-0.03288324549794197, -0.148854598402977]],\n",
       "             1025: [[0.04856967553496361, -0.06898663938045502]],\n",
       "             4671: [[0.043010562658309937, 0.1995890736579895]],\n",
       "             1027: [[-0.10642290115356445, -0.09197735041379929]],\n",
       "             1024: [[-0.08186918497085571, 0.07572252303361893]],\n",
       "             1218: [[-0.028453633189201355, -0.2025565356016159]],\n",
       "             1216: [[0.03098180703818798, 0.11657457053661346]],\n",
       "             4677: [[-0.14367106556892395, -0.23416441679000854]],\n",
       "             4679: [[0.0724862590432167, -0.005663381889462471]],\n",
       "             2784: [[-0.06490905582904816, 0.025920860469341278]],\n",
       "             2781: [[0.2386833280324936, -0.10326496511697769]],\n",
       "             2786: [[0.03616746887564659, 0.14469218254089355]],\n",
       "             2235: [[-0.1159188523888588, 0.15147148072719574]],\n",
       "             2237: [[-0.2141481190919876, -0.06012590229511261]],\n",
       "             696: [[-0.15073034167289734, 0.19248202443122864]],\n",
       "             697: [[0.21405456960201263, 0.23588451743125916]],\n",
       "             699: [[-0.09776101261377335, 0.09842115640640259]],\n",
       "             5100: [[0.09168544411659241, -0.2268495410680771]],\n",
       "             5101: [[0.1082441434264183, -0.23181313276290894]],\n",
       "             4986: [[-0.18576128780841827, 0.23893320560455322]],\n",
       "             453: [[-0.1701921820640564, 0.08315802365541458]],\n",
       "             4984: [[-0.035091642290353775, 0.22420723736286163]],\n",
       "             1134: [[0.18889999389648438, 0.056051433086395264]],\n",
       "             1135: [[-0.19668316841125488, -0.031062321737408638]],\n",
       "             1137: [[0.14081594347953796, -0.20162516832351685]],\n",
       "             420: [[0.09782671928405762, 0.2042764276266098]],\n",
       "             1051: [[-0.23730076849460602, -0.09098201990127563]],\n",
       "             1049: [[0.20224368572235107, 0.2473578155040741]],\n",
       "             3863: [[0.17453143000602722, -0.16111482679843903]],\n",
       "             3865: [[0.045910272747278214, 0.09242407977581024]],\n",
       "             4095: [[-0.03887738287448883, 0.09040261805057526]],\n",
       "             4098: [[-0.25332966446876526, -0.1523076295852661]],\n",
       "             402: [[-0.10850117355585098, -0.12220201641321182]],\n",
       "             4618: [[0.12460188567638397, 0.0348878875374794]],\n",
       "             4622: [[0.06014847382903099, 0.06283494830131531]],\n",
       "             4620: [[-0.18138828873634338, 0.02903171069920063]],\n",
       "             1233: [[0.15011516213417053, -0.20658916234970093]],\n",
       "             1231: [[-0.08811131864786148, -0.2177511304616928]],\n",
       "             1235: [[-0.019589027389883995, -0.12199835479259491]],\n",
       "             4397: [[0.23571334779262543, 0.17098672688007355]],\n",
       "             4399: [[0.16235889494419098, 0.03296065703034401]],\n",
       "             4398: [[-0.2134781777858734, 0.09301839023828506]],\n",
       "             4402: [[-0.19819830358028412, -0.15840746462345123]],\n",
       "             378: [[0.22429245710372925, -0.12076980620622635]],\n",
       "             4029: [[0.2238619178533554, -0.11734939366579056]],\n",
       "             3305: [[0.2213895618915558, 0.174555242061615]],\n",
       "             2286: [[0.24241577088832855, 0.15016856789588928]],\n",
       "             4487: [[-0.025410322472453117, 0.06525355577468872]],\n",
       "             4484: [[0.17084573209285736, 0.162074014544487]],\n",
       "             4485: [[-0.16476286947727203, 0.21631674468517303]],\n",
       "             5634: [[0.03192778304219246, -0.10216695815324783]],\n",
       "             5635: [[-0.051187872886657715, -0.17665663361549377]],\n",
       "             5633: [[0.12905754148960114, -0.12048330903053284]],\n",
       "             1924: [[-0.08212849497795105, -0.17124342918395996]],\n",
       "             1922: [[0.1590101420879364, 0.18468689918518066]],\n",
       "             1928: [[-0.1328735500574112, -0.047204963862895966]],\n",
       "             4542: [[-0.23027479648590088, -0.2395409792661667]],\n",
       "             4546: [[-0.09210488945245743, 0.10656522214412689]],\n",
       "             4543: [[0.041664958000183105, 0.13922467827796936]],\n",
       "             3828: [[0.23844538629055023, -0.21825724840164185]],\n",
       "             3829: [[0.25896450877189636, -0.24962599575519562]],\n",
       "             4128: [[0.24383307993412018, -0.1606411635875702]],\n",
       "             754: [[-0.19522243738174438, -0.0937623605132103]],\n",
       "             5103: [[-0.1543692946434021, 0.1794746369123459]],\n",
       "             4293: [[-0.2280612736940384, 0.1428060084581375]],\n",
       "             4298: [[-0.0424983948469162, 0.06784829497337341]],\n",
       "             4294: [[-0.1779889315366745, -0.16334222257137299]],\n",
       "             4296: [[-0.05906538665294647, -0.001898543443530798]],\n",
       "             3457: [[-0.050306402146816254, 0.07679091393947601]],\n",
       "             3455: [[0.02581990882754326, 0.14028207957744598]],\n",
       "             31: [[0.2500074505805969, -0.11310004442930222]],\n",
       "             33: [[0.23194223642349243, -0.07284655421972275]],\n",
       "             30: [[-0.23754814267158508, -0.25268808007240295]],\n",
       "             2963: [[0.12892132997512817, 0.1318465769290924]],\n",
       "             958: [[-0.02346855029463768, 0.14748606085777283]],\n",
       "             956: [[0.25529390573501587, -0.10955765843391418]],\n",
       "             955: [[-0.12730498611927032, -0.006802470423281193]],\n",
       "             4400: [[0.05439569056034088, -0.01450288575142622]],\n",
       "             4783: [[0.21344640851020813, -0.03870989754796028]],\n",
       "             4780: [[0.025911562144756317, -0.20017556846141815]],\n",
       "             4781: [[-0.20082247257232666, 0.08669985085725784]],\n",
       "             5505: [[-0.033708374947309494, 0.003259101649746299]],\n",
       "             5507: [[0.19339212775230408, 0.17222680151462555]],\n",
       "             5221: [[-0.1512591689825058, 0.22928005456924438]],\n",
       "             5223: [[-0.17840337753295898, 0.1943240761756897]],\n",
       "             5524: [[-0.11294586956501007, 0.0982525572180748]],\n",
       "             5527: [[-0.010247871279716492, 0.1650628298521042]],\n",
       "             5596: [[0.03378639742732048, -0.19369477033615112]],\n",
       "             5525: [[0.12469784170389175, -0.06966575235128403]],\n",
       "             5080: [[-0.10650167614221573, -0.1365358978509903]],\n",
       "             2052: [[0.16386154294013977, 0.11291258037090302]],\n",
       "             4049: [[0.11113574355840683, 0.0935855284333229]],\n",
       "             4046: [[-0.20909079909324646, -0.25624293088912964]],\n",
       "             4047: [[-0.08281169086694717, -0.046403709799051285]],\n",
       "             3731: [[-0.13763338327407837, -0.13004964590072632]],\n",
       "             5622: [[0.1713743358850479, 0.2494432032108307]],\n",
       "             3969: [[0.045957401394844055, -0.2563698887825012]],\n",
       "             3966: [[0.04003117233514786, -0.0024569183588027954]],\n",
       "             3967: [[-0.17161986231803894, -0.175725519657135]],\n",
       "             4143: [[0.162453755736351, 0.12212681025266647]],\n",
       "             4142: [[-0.03294842690229416, 0.18904536962509155]],\n",
       "             4145: [[0.16471920907497406, 0.0023871795274317265]],\n",
       "             5513: [[-0.05030345916748047, 0.05668323114514351]],\n",
       "             326: [[0.23137278854846954, -0.043384745717048645]],\n",
       "             4696: [[0.22335082292556763, -0.047611892223358154]],\n",
       "             4688: [[0.24017100036144257, 0.06108388304710388]],\n",
       "             4690: [[0.2171710580587387, -0.157026469707489]],\n",
       "             5664: [[0.20259372889995575, -0.19749903678894043]],\n",
       "             5663: [[-0.14327187836170197, 0.05162571370601654]],\n",
       "             1444: [[0.05752568691968918, 0.1216636449098587]],\n",
       "             1446: [[0.09101220965385437, 0.03340047970414162]],\n",
       "             596: [[-0.07165888696908951, 0.21156850457191467]],\n",
       "             594: [[-0.18662668764591217, -0.19615086913108826]],\n",
       "             450: [[-0.04468677565455437, -0.018561765551567078]],\n",
       "             447: [[-0.07324600219726562, -0.04329812899231911]],\n",
       "             448: [[-0.1580478549003601, -0.18049710988998413]],\n",
       "             1513: [[0.1155974343419075, 0.09491617977619171]],\n",
       "             1514: [[-0.0007671410567127168, 0.2197885662317276]],\n",
       "             1516: [[0.0009699312504380941, 0.2165081799030304]],\n",
       "             4096: [[-0.24621158838272095, 0.07407479733228683]],\n",
       "             4295: [[0.21534912288188934, -0.109596386551857]],\n",
       "             3322: [[-0.20460210740566254, 0.002461167983710766]],\n",
       "             3255: [[0.13927049934864044, 0.04156195744872093]],\n",
       "             561: [[-0.1609107106924057, -0.09863457828760147]],\n",
       "             560: [[-0.2376757264137268, -0.0821571871638298]],\n",
       "             562: [[-0.010902292095124722, -0.05815751105546951]],\n",
       "             1297: [[0.15212160348892212, -0.09225545078516006]],\n",
       "             1298: [[-0.17969048023223877, -0.10457182675600052]],\n",
       "             1296: [[-0.04937231168150902, 0.04888918995857239]],\n",
       "             494: [[0.14876727759838104, -0.106641486287117]],\n",
       "             4961: [[0.07389552891254425, -0.1946181356906891]],\n",
       "             4962: [[0.12284404784440994, -0.029615163803100586]],\n",
       "             2832: [[-0.00903903879225254, -0.035992834717035294]],\n",
       "             2834: [[0.17448706924915314, 0.11812763661146164]],\n",
       "             1141: [[0.0951157882809639, 0.18994693458080292]],\n",
       "             1142: [[0.24709653854370117, -0.22853843867778778]],\n",
       "             5644: [[-0.1257554441690445, 0.13455750048160553]],\n",
       "             5646: [[0.20364104211330414, -0.12083202600479126]],\n",
       "             3652: [[0.24531598389148712, 0.017201988026499748]],\n",
       "             3657: [[-0.23150761425495148, 0.1250566840171814]],\n",
       "             3651: [[0.24615022540092468, 0.23231306672096252]],\n",
       "             4495: [[-0.04895264655351639, 0.24667389690876007]],\n",
       "             4494: [[0.16191226243972778, 0.208310067653656]],\n",
       "             4493: [[0.04383758455514908, -0.15899112820625305]],\n",
       "             2606: [[-0.1953146606683731, 0.09764477610588074]],\n",
       "             2601: [[0.023457758128643036, -0.2012505978345871]],\n",
       "             2604: [[0.19296294450759888, -0.12759989500045776]],\n",
       "             2603: [[-0.1665620356798172, -0.17887786030769348]],\n",
       "             232: [[0.18731455504894257, 0.14521510899066925]],\n",
       "             231: [[0.2113431692123413, -0.24514585733413696]],\n",
       "             230: [[-0.0290664155036211, 0.11009933799505234]],\n",
       "             4902: [[-0.1025293841958046, 0.14604607224464417]],\n",
       "             4904: [[-0.10710244625806808, -0.21184706687927246]],\n",
       "             1639: [[-0.2292836308479309, -0.17260877788066864]],\n",
       "             1638: [[0.2328338772058487, -0.05544431880116463]],\n",
       "             1269: [[0.02621232531964779, -0.24508139491081238]],\n",
       "             4693: [[-0.1392405480146408, 0.16680939495563507]],\n",
       "             4698: [[-0.17491686344146729, -0.05907341092824936]],\n",
       "             4695: [[0.04321891814470291, 0.1880207657814026]],\n",
       "             2862: [[-0.20100021362304688, 0.07942705601453781]],\n",
       "             2861: [[0.17541685700416565, 0.23556947708129883]],\n",
       "             2865: [[-0.17748861014842987, 0.019637927412986755]],\n",
       "             2765: [[0.10665243864059448, 0.026098091155290604]],\n",
       "             2761: [[-0.055559370666742325, 0.15703856945037842]],\n",
       "             2763: [[-0.1880256086587906, -0.049059268087148666]],\n",
       "             5111: [[-0.06366022676229477, 0.17652417719364166]],\n",
       "             5113: [[-0.24067340791225433, -0.17480739951133728]],\n",
       "             4302: [[0.17051617801189423, 0.037270743399858475]],\n",
       "             4299: [[0.06857140362262726, -0.02374948002398014]],\n",
       "             205: [[-0.1557878851890564, -0.12490028887987137]],\n",
       "             2839: [[-0.06300618499517441, 0.15868715941905975]],\n",
       "             2837: [[0.12470019608736038, 0.15864373743534088]],\n",
       "             3887: [[0.15122635662555695, -0.00024010700872167945]],\n",
       "             3575: [[0.1047845110297203, 0.04130185395479202]],\n",
       "             3574: [[-0.10049106180667877, -0.060298189520835876]],\n",
       "             2348: [[0.13769717514514923, 0.21117915213108063]],\n",
       "             2350: [[-0.10144048929214478, 0.019732337445020676]],\n",
       "             1850: [[0.000446807942353189, 0.08758563548326492]],\n",
       "             1852: [[-0.22292359173297882, -0.2543984651565552]],\n",
       "             4705: [[-0.1635817587375641, -0.15880116820335388]],\n",
       "             4707: [[-0.2512522041797638, -0.05348149314522743]],\n",
       "             5070: [[0.16627009212970734, 0.07396984845399857]],\n",
       "             260: [[-0.1451427936553955, 0.03851203992962837]],\n",
       "             5068: [[-0.19467785954475403, 0.1754479855298996]],\n",
       "             116: [[-0.23748435080051422, 0.20446065068244934]],\n",
       "             118: [[-0.24053867161273956, -0.10699182748794556]],\n",
       "             115: [[0.01470949687063694, 0.12132357060909271]],\n",
       "             3469: [[0.02464265562593937, 0.1267046332359314]],\n",
       "             3467: [[0.04780706390738487, -0.14382237195968628]],\n",
       "             3466: [[0.022988293319940567, -0.0656246468424797]],\n",
       "             3746: [[0.0032352523412555456, -0.1821461021900177]],\n",
       "             3747: [[-0.1941702663898468, 0.13427264988422394]],\n",
       "             3749: [[0.10127994418144226, -0.1421554684638977]],\n",
       "             1893: [[0.22808635234832764, 0.1347922533750534]],\n",
       "             1895: [[0.21013903617858887, 0.14735917747020721]],\n",
       "             2787: [[0.2003146857023239, 0.06651555001735687]],\n",
       "             4019: [[0.20035313069820404, 0.1159980446100235]],\n",
       "             520: [[0.18155883252620697, 0.14223389327526093]],\n",
       "             1472: [[-0.20601855218410492, -0.107498899102211]],\n",
       "             1477: [[0.22572462260723114, 0.13683268427848816]],\n",
       "             1312: [[-0.2400246113538742, -0.02484787069261074]],\n",
       "             1313: [[-0.15360479056835175, -0.24408498406410217]],\n",
       "             1311: [[0.20366528630256653, -0.2093290239572525]],\n",
       "             1826: [[-0.24519962072372437, -0.04629829153418541]],\n",
       "             1828: [[0.22557386755943298, -0.004754983354359865]],\n",
       "             880: [[-0.0231600571423769, 0.1180095374584198]],\n",
       "             882: [[0.15115836262702942, 0.03640478104352951]],\n",
       "             879: [[-0.01752539537847042, -0.2540208399295807]],\n",
       "             4942: [[-0.08741512149572372, 0.16524019837379456]],\n",
       "             4943: [[0.1550796926021576, 0.061461836099624634]],\n",
       "             4826: [[-0.04045720025897026, 0.2414863407611847]],\n",
       "             4828: [[0.02643774263560772, 0.18503794074058533]],\n",
       "             4746: [[-0.24069064855575562, 0.02408001758158207]],\n",
       "             4745: [[-0.23188158869743347, 0.012465243227779865]],\n",
       "             121: [[-0.01050704624503851, 0.04260692372918129]],\n",
       "             4538: [[-0.14011074602603912, -0.20756320655345917]],\n",
       "             4536: [[-0.050878312438726425, 0.16468271613121033]],\n",
       "             2550: [[-0.030284294858574867, -0.08183536678552628]],\n",
       "             2552: [[-0.18844158947467804, 0.09837717562913895]],\n",
       "             3463: [[-0.16062623262405396, 0.20316000282764435]],\n",
       "             3465: [[-0.0454041063785553, 0.1313861906528473]],\n",
       "             1021: [[-0.13530106842517853, -0.22999100387096405]],\n",
       "             1023: [[-0.24094198644161224, -0.1580057144165039]],\n",
       "             2860: [[-0.05137797072529793, -0.06038247048854828]],\n",
       "             4016: [[-0.13333098590373993, 0.030499998480081558]],\n",
       "             3036: [[-0.0678674504160881, -0.1572410613298416]],\n",
       "             3038: [[0.02056262269616127, -0.22178587317466736]],\n",
       "             3623: [[-0.012973801232874393, -0.054230671375989914]],\n",
       "             3625: [[0.23542676866054535, -0.025535205379128456]],\n",
       "             1898: [[-0.019206399098038673, -0.1435733586549759]],\n",
       "             5256: [[0.1988983154296875, 0.042507607489824295]],\n",
       "             5254: [[0.005898335017263889, 0.1867283582687378]],\n",
       "             3333: [[0.05868224427103996, -0.21609579026699066]],\n",
       "             363: [[-0.08333149552345276, 0.21908846497535706]],\n",
       "             362: [[0.08053261786699295, -0.011362927034497261]],\n",
       "             358: [[-0.13076163828372955, -0.018712354823946953]],\n",
       "             364: [[-0.17922405898571014, -0.17096827924251556]],\n",
       "             3481: [[0.09793368726968765, -0.07189386337995529]],\n",
       "             3480: [[-0.19191594421863556, 0.21268661320209503]],\n",
       "             1535: [[0.09488395601511002, 0.05621621012687683]],\n",
       "             1536: [[0.24486880004405975, 0.09026851505041122]],\n",
       "             1538: [[-0.1449751853942871, 0.14487208425998688]],\n",
       "             4321: [[-0.012902768328785896, 0.07946640253067017]],\n",
       "             4325: [[-0.13429559767246246, 0.2260626256465912]],\n",
       "             4323: [[0.15091940760612488, -0.13202814757823944]],\n",
       "             2687: [[0.11678340286016464, 0.09980286657810211]],\n",
       "             2688: [[-0.10747205466032028, -0.028016988188028336]],\n",
       "             3262: [[0.03511577844619751, -0.07009559869766235]],\n",
       "             3259: [[-0.028301119804382324, 0.0741090252995491]],\n",
       "             3260: [[0.22122910618782043, -0.027989529073238373]],\n",
       "             2097: [[0.16192011535167694, 0.2200530469417572]],\n",
       "             2099: [[0.02121547982096672, 0.03529181703925133]],\n",
       "             2374: [[-0.2447926104068756, -0.245801642537117]],\n",
       "             2376: [[-0.14418715238571167, 0.15935422480106354]],\n",
       "             3433: [[-0.062227603048086166, -0.21338866651058197]],\n",
       "             4547: [[0.18759748339653015, 0.07698088139295578]],\n",
       "             4549: [[-0.16698145866394043, -0.24390989542007446]],\n",
       "             5296: [[-0.18587623536586761, -0.10461567342281342]],\n",
       "             5295: [[0.1291920244693756, -0.18502701818943024]],\n",
       "             5298: [[-0.002888609655201435, 0.2352929711341858]],\n",
       "             2847: [[0.12163138389587402, -0.2046334445476532]],\n",
       "             2845: [[-0.1721356064081192, -0.16917912662029266]],\n",
       "             1016: [[-0.07263676077127457, -0.2252432256937027]],\n",
       "             1018: [[-0.03518277034163475, -0.08212990313768387]],\n",
       "             1015: [[0.17116664350032806, -0.1263984888792038]],\n",
       "             4497: [[0.15344159305095673, 0.08940301090478897]],\n",
       "             2887: [[0.20153097808361053, 0.20923498272895813]],\n",
       "             2884: [[0.04511867091059685, 0.037015948444604874]],\n",
       "             2885: [[0.24189577996730804, 0.0031189515721052885]],\n",
       "             1795: [[-0.07144394516944885, 0.09598877280950546]],\n",
       "             1793: [[0.060085561126470566, -0.2282111495733261]],\n",
       "             1737: [[0.05860522389411926, 0.02114911563694477]],\n",
       "             1739: [[-0.059959713369607925, -0.07406572252511978]],\n",
       "             4585: [[0.017392609268426895, -0.055760473012924194]],\n",
       "             4580: [[0.1332424134016037, -0.18784627318382263]],\n",
       "             4582: [[0.1268867403268814, 0.03494793549180031]],\n",
       "             937: [[0.09246397763490677, 0.16904579102993011]],\n",
       "             2693: [[0.010170596651732922, 0.09401470422744751]],\n",
       "             300: [[0.15535412728786469, 0.2490576058626175]],\n",
       "             559: [[0.1606367528438568, 0.2411131113767624]],\n",
       "             3444: [[-0.16367173194885254, -0.16746258735656738]],\n",
       "             3442: [[-0.15327812731266022, -0.09876374900341034]],\n",
       "             1833: [[0.07600447535514832, 0.1144605204463005]],\n",
       "             1835: [[-0.18271613121032715, -0.19739870727062225]],\n",
       "             1832: [[0.19199104607105255, -0.07832776755094528]],\n",
       "             1831: [[0.020819921046495438, -0.14821884036064148]],\n",
       "             5592: [[-0.2172720581293106, 0.13174036145210266]],\n",
       "             4024: [[-0.16773630678653717, 0.0687367394566536]],\n",
       "             1829: [[0.08402232080698013, 0.09981910139322281]],\n",
       "             5441: [[0.05111077427864075, 0.15119680762290955]],\n",
       "             5438: [[-0.008570695295929909, -0.2384011447429657]],\n",
       "             5436: [[0.24492523074150085, 0.05067075416445732]],\n",
       "             3914: [[0.050565656274557114, 0.07651624828577042]],\n",
       "             3917: [[0.2513430714607239, 0.06965024024248123]],\n",
       "             3915: [[0.05056176707148552, 0.16335363686084747]],\n",
       "             4764: [[0.15602459013462067, 0.0476553700864315]],\n",
       "             4763: [[0.06425425410270691, -0.18187659978866577]],\n",
       "             4767: [[-0.15262849628925323, 0.18273583054542542]],\n",
       "             4651: [[-0.08520100265741348, 0.16776064038276672]],\n",
       "             4654: [[0.0028182475361973047, 0.1960107684135437]],\n",
       "             4652: [[-0.008694996125996113, 0.08395747095346451]],\n",
       "             3514: [[0.14575251936912537, 0.11356976628303528]],\n",
       "             3516: [[0.1330304741859436, -0.20638978481292725]],\n",
       "             4013: [[-0.07714579254388809, 0.17944839596748352]],\n",
       "             2762: [[-0.2507360279560089, -0.05390821024775505]],\n",
       "             3884: [[0.15255525708198547, -0.24977219104766846]],\n",
       "             3886: [[-0.19973203539848328, -0.006207045633345842]],\n",
       "             704: [[0.06220049411058426, -0.2170400321483612]],\n",
       "             706: [[-0.2181415557861328, 0.2009909301996231]],\n",
       "             5570: [[-0.23125146329402924, -0.1549489051103592]],\n",
       "             2268: [[-0.012433038093149662, 0.07116925716400146]],\n",
       "             2265: [[-0.14077430963516235, -0.17703713476657867]],\n",
       "             2266: [[-0.15328601002693176, 0.023225009441375732]],\n",
       "             5272: [[0.20890353620052338, 0.06123766675591469]],\n",
       "             1822: [[-0.19613248109817505, 0.19039475917816162]],\n",
       "             5274: [[0.012850719504058361, -0.052820079028606415]],\n",
       "             1520: [[0.04406089708209038, 0.23677070438861847]],\n",
       "             713: [[-0.13999177515506744, -0.21790087223052979]],\n",
       "             4070: [[0.2371956706047058, -0.22865532338619232]],\n",
       "             711: [[-0.13886593282222748, 0.0060399738140404224]],\n",
       "             2586: [[-0.16931670904159546, 0.036302462220191956]],\n",
       "             2588: [[0.08822863548994064, -0.15825019776821136]],\n",
       "             1994: [[-0.215422585606575, -0.03286190330982208]],\n",
       "             2532: [[0.12609677016735077, -0.21422946453094482]],\n",
       "             1996: [[-0.11461380124092102, 0.0678812712430954]],\n",
       "             1995: [[0.20925991237163544, 0.11918612569570541]],\n",
       "             2616: [[-0.07119109481573105, -0.13608334958553314]],\n",
       "             2619: [[0.10465370863676071, 0.01343412697315216]],\n",
       "             2617: [[0.17036297917366028, 0.17399382591247559]],\n",
       "             3996: [[0.16764849424362183, -0.07732968032360077]],\n",
       "             3995: [[-0.026346204802393913, 0.11083193123340607]],\n",
       "             3998: [[-0.16003717482089996, -0.1964825987815857]],\n",
       "             255: [[-0.16176554560661316, -0.10378478467464447]],\n",
       "             254: [[-0.07717689871788025, 0.0027328256983309984]],\n",
       "             257: [[0.1826663315296173, 0.15258128941059113]],\n",
       "             1665: [[0.25249356031417847, 0.19224268198013306]],\n",
       "             1664: [[-0.09582109749317169, -0.07442419975996017]],\n",
       "             1663: [[0.17759749293327332, 0.22270038723945618]],\n",
       "             1668: [[0.020015263929963112, -0.17465025186538696]],\n",
       "             4141: [[-0.07119056582450867, -0.14533372223377228]],\n",
       "             4409: [[0.22301532328128815, 0.23772956430912018]],\n",
       "             2795: [[-0.22048257291316986, 0.09676412492990494]],\n",
       "             2794: [[0.16458436846733093, 0.23580250144004822]],\n",
       "             2518: [[0.07848417013883591, -0.20847399532794952]],\n",
       "             2516: [[-0.04989520087838173, 0.03435126692056656]],\n",
       "             2515: [[-0.06035763397812843, -0.08047135174274445]],\n",
       "             3318: [[-0.02138342149555683, -0.18143373727798462]],\n",
       "             1674: [[-0.10298927873373032, -0.020217807963490486]],\n",
       "             3607: [[-0.1646241694688797, -0.2468612939119339]],\n",
       "             3779: [[0.2220328450202942, -0.2297600656747818]],\n",
       "             3778: [[-0.11435658484697342, 0.24408291280269623]],\n",
       "             3782: [[-0.14424645900726318, 0.2206953465938568]],\n",
       "             2291: [[0.09799028187990189, 0.20595942437648773]],\n",
       "             2292: [[0.24404817819595337, 0.0008611585362814367]],\n",
       "             3733: [[0.027858488261699677, 0.24210673570632935]],\n",
       "             3735: [[-0.01970653049647808, -0.23861408233642578]],\n",
       "             4643: [[-0.1548057496547699, 0.19187450408935547]],\n",
       "             1901: [[-0.10555385053157806, -0.15624898672103882]],\n",
       "             1124: [[0.19175200164318085, 0.07394354045391083]],\n",
       "             1126: [[-0.09651608020067215, -0.05793070048093796]],\n",
       "             1123: [[-0.03353976458311081, 0.16335898637771606]],\n",
       "             1862: [[0.12944184243679047, -0.11649414151906967]],\n",
       "             1861: [[0.11730577051639557, -0.021674692630767822]],\n",
       "             1864: [[-0.07845057547092438, -0.1230006068944931]],\n",
       "             997: [[-0.11715113371610641, -0.014576547779142857]],\n",
       "             999: [[0.23975515365600586, -0.21303735673427582]],\n",
       "             996: [[-0.05324188619852066, -0.21897369623184204]],\n",
       "             3554: [[-0.17262649536132812, -0.013240915723145008]],\n",
       "             3556: [[-0.16553810238838196, 0.013460085727274418]],\n",
       "             3553: [[0.2010713815689087, -0.0820983350276947]],\n",
       "             976: [[0.14708353579044342, 0.13125792145729065]],\n",
       "             5344: [[-0.11458662152290344, -0.048293836414813995]],\n",
       "             5345: [[0.045165788382291794, -0.008702049031853676]],\n",
       "             4748: [[0.17333181202411652, 0.09061934798955917]],\n",
       "             2829: [[0.007067621219903231, -0.16942718625068665]],\n",
       "             4751: [[0.23790229856967926, 0.11511627584695816]],\n",
       "             3584: [[0.060742463916540146, -0.0614582896232605]],\n",
       "             3771: [[0.07734087109565735, -0.20644699037075043]],\n",
       "             3772: [[-0.1486908346414566, -0.23876379430294037]],\n",
       "             4442: [[-0.07598402351140976, 0.13623657822608948]],\n",
       "             4441: [[0.052782896906137466, -0.1018657386302948]],\n",
       "             4443: [[0.04737696051597595, 0.00436557549983263]],\n",
       "             2705: [[-0.019035594537854195, 0.21834342181682587]],\n",
       "             2704: [[-0.13995149731636047, -0.1217162013053894]],\n",
       "             2707: [[0.1135062426328659, -0.1965969353914261]],\n",
       "             968: [[0.1473938375711441, -0.18442033231258392]],\n",
       "             971: [[0.013673970475792885, 0.027681026607751846]],\n",
       "             5675: [[-0.044781289994716644, -0.09724991768598557]],\n",
       "             920: [[-0.1803470253944397, 0.23119811713695526]],\n",
       "             922: [[-0.22843191027641296, -0.24028797447681427]],\n",
       "             919: [[-0.05270851403474808, 0.20968100428581238]],\n",
       "             753: [[-0.20495063066482544, -0.1257134974002838]],\n",
       "             4130: [[-0.22142158448696136, 0.007632885593920946]],\n",
       "             2281: [[-0.11225859820842743, 0.19786441326141357]],\n",
       "             2285: [[-0.14356637001037598, -0.21316948533058167]],\n",
       "             2758: [[-0.12212175875902176, -0.04913996532559395]],\n",
       "             2760: [[-0.1421135514974594, -0.22002628445625305]],\n",
       "             5056: [[0.09880629926919937, 0.24922899901866913]],\n",
       "             5058: [[-0.07279755920171738, -0.11042770743370056]],\n",
       "             391: [[-0.0009859612910076976, -0.12613405287265778]],\n",
       "             397: [[-0.09264633804559708, 0.16612659394741058]],\n",
       "             400: [[0.14616262912750244, 0.1999545842409134]],\n",
       "             398: [[-0.06638411432504654, 0.1465291976928711]],\n",
       "             959: [[0.132923886179924, 0.0973568707704544]],\n",
       "             961: [[0.11912941187620163, -0.02088349685072899]],\n",
       "             158: [[-0.20302648842334747, -0.2091798186302185]],\n",
       "             160: [[0.15650524199008942, -0.24669450521469116]],\n",
       "             2287: [[0.21189013123512268, 0.008947372436523438]],\n",
       "             2553: [[0.07050562649965286, 0.03875884413719177]],\n",
       "             4172: [[-0.0652768462896347, -0.1416752189397812]],\n",
       "             5184: [[-0.0431615449488163, -0.1361818015575409]],\n",
       "             2444: [[0.11386213451623917, 0.029354089871048927]],\n",
       "             2447: [[-0.05577247962355614, 0.1614338904619217]],\n",
       "             2442: [[-0.1272948682308197, 0.24204957485198975]],\n",
       "             2270: [[-0.05180124193429947, 0.043356314301490784]],\n",
       "             2272: [[-0.025984155014157295, 0.18683890998363495]],\n",
       "             2269: [[-0.060525082051754, 0.20361076295375824]],\n",
       "             4331: [[-0.0881894901394844, 0.006645072717219591]],\n",
       "             4332: [[0.2434970885515213, 0.06228455528616905]],\n",
       "             4334: [[0.0053103831596672535, 0.15681296586990356]],\n",
       "             4445: [[-0.19583629071712494, 0.24181699752807617]],\n",
       "             1698: [[0.16900241374969482, -0.15571510791778564]],\n",
       "             1695: [[-0.14062440395355225, 0.1091827005147934]],\n",
       "             3905: [[-0.09675158560276031, -0.09572155028581619]],\n",
       "             3908: [[-0.00405327370390296, -0.23598040640354156]],\n",
       "             610: [[-0.24840949475765228, -0.17707623541355133]],\n",
       "             609: [[0.2536143958568573, -0.02972850203514099]],\n",
       "             1923: [[-0.11782768368721008, -0.0938953310251236]],\n",
       "             1925: [[-0.05812254920601845, 0.0749402567744255]],\n",
       "             1764: [[-0.02833954431116581, -0.21701566874980927]],\n",
       "             5255: [[0.13916845619678497, 0.04484034329652786]],\n",
       "             3502: [[0.07394380867481232, -0.14243300259113312]],\n",
       "             3500: [[0.04549359157681465, 0.22344882786273956]],\n",
       "             3499: [[-0.011330493725836277, 0.009835459291934967]],\n",
       "             3870: [[-0.10018689930438995, -0.040196433663368225]],\n",
       "             3872: [[-0.027277646586298943, 0.15012043714523315]],\n",
       "             2037: [[-0.22310014069080353, 0.1756688803434372]],\n",
       "             3583: [[0.09812017530202866, -0.18082860112190247]],\n",
       "             3253: [[-0.11771774291992188, -0.0754639208316803]],\n",
       "             5096: [[0.22067449986934662, -0.11950388550758362]],\n",
       "             150: [[0.20495671033859253, -0.12515249848365784]],\n",
       "             154: [[-0.03426351398229599, -0.11125696450471878]],\n",
       "             151: [[0.033589720726013184, 0.2170567810535431]],\n",
       "             152: [[0.212248295545578, 0.18211205303668976]],\n",
       "             3758: [[-0.10483962297439575, 0.15808138251304626]],\n",
       "             3760: [[-0.1654776632785797, 0.2208181619644165]],\n",
       "             1426: [[0.039754483848810196, -0.22196505963802338]],\n",
       "             1428: [[-0.017478611320257187, -0.06699836999177933]],\n",
       "             3566: [[0.19320015609264374, 0.14192958176136017]],\n",
       "             3563: [[-0.10637129098176956, -0.1818796694278717]],\n",
       "             3562: [[-0.2241605520248413, -0.1852378249168396]],\n",
       "             3564: [[-0.16602914035320282, -0.0963832437992096]],\n",
       "             4534: [[0.16138997673988342, -0.04146471992135048]],\n",
       "             4531: [[0.11683958768844604, 0.08686474710702896]],\n",
       "             2066: [[-0.044147130101919174, -0.017525512725114822]],\n",
       "             2068: [[-0.1937166452407837, -0.21944385766983032]],\n",
       "             4839: [[-0.019051210954785347, -0.02897195890545845]],\n",
       "             5521: [[0.1990111619234085, -0.1805412471294403]],\n",
       "             5523: [[-0.1837581843137741, 0.016963206231594086]],\n",
       "             3715: [[0.13770145177841187, -0.2544255256652832]],\n",
       "             3717: [[0.10404577851295471, 0.03250747546553612]],\n",
       "             4988: [[0.10866814106702805, -0.06917184591293335]],\n",
       "             4990: [[0.18134266138076782, 0.041192229837179184]],\n",
       "             4583: [[-0.19261445105075836, 0.0258091539144516]],\n",
       "             3809: [[0.18159687519073486, -0.1860550343990326]],\n",
       "             3811: [[-0.16186393797397614, 0.1960495412349701]],\n",
       "             2140: [[-0.24114824831485748, -0.05983470380306244]],\n",
       "             88: [[-0.0829964205622673, -0.0070639788173139095]],\n",
       "             2139: [[0.017638392746448517, 0.19918155670166016]],\n",
       "             861: [[0.21809722483158112, -0.12669891119003296]],\n",
       "             862: [[0.04773378372192383, 0.17257775366306305]],\n",
       "             1046: [[0.12292885035276413, -0.10595247149467468]],\n",
       "             2624: [[-0.16467994451522827, -0.2304530292749405]],\n",
       "             2567: [[0.21448899805545807, 0.0045069181360304356]],\n",
       "             2565: [[0.05060284584760666, 0.11062297970056534]],\n",
       "             5508: [[0.04830729961395264, 0.046301402151584625]],\n",
       "             5511: [[0.05705510079860687, -0.11469688266515732]],\n",
       "             5509: [[-0.24604575335979462, 0.1610652357339859]],\n",
       "             1641: [[-0.2157001942396164, 0.22754235565662384]],\n",
       "             1821: [[0.09252876043319702, 0.027397282421588898]],\n",
       "             1825: [[0.055670272558927536, -0.08818135410547256]],\n",
       "             1823: [[-0.24829994142055511, -0.12219538539648056]],\n",
       "             174: [[-0.04448607936501503, -0.019314847886562347]],\n",
       "             173: [[0.12703758478164673, -0.13199953734874725]],\n",
       "             176: [[-0.13700193166732788, 0.0890379548072815]],\n",
       "             2826: [[0.02884627878665924, 0.13609328866004944]],\n",
       "             2827: [[0.14233079552650452, -0.22793076932430267]],\n",
       "             2107: [[0.07088326662778854, 0.20899692177772522]],\n",
       "             2109: [[-0.17965067923069, 0.053508829325437546]],\n",
       "             2108: [[0.036418646574020386, -0.1967339664697647]],\n",
       "             5369: [[0.11355876922607422, 0.2358524054288864]],\n",
       "             5372: [[0.019709981977939606, 0.13012805581092834]],\n",
       "             5368: [[-0.20837052166461945, -0.012688035145401955]],\n",
       "             5370: [[-0.1993200182914734, -0.0062668295577168465]],\n",
       "             ...})"
      ]
     },
     "execution_count": 424,
     "metadata": {},
     "output_type": "execute_result"
    }
   ],
   "source": [
    "embeddings=get_embeddings(train_walks,size=2,window=5, min_count=1)\n",
    "embeddings"
   ]
  },
  {
   "cell_type": "code",
   "execution_count": 476,
   "metadata": {},
   "outputs": [
    {
     "data": {
      "text/plain": [
       "[[0.13520918786525726, -0.0796167328953743]]"
      ]
     },
     "execution_count": 476,
     "metadata": {},
     "output_type": "execute_result"
    }
   ],
   "source": [
    "embeddings[964]"
   ]
  },
  {
   "cell_type": "code",
   "execution_count": 543,
   "metadata": {},
   "outputs": [],
   "source": [
    "embed_dict=[{\"node1\":row[\"node1\"],\n",
    "        \"node2\": row[\"node2\"],\n",
    "        \"embeddings\": Vectors.dense(embeddings[row[\"node1\"]][0]+embeddings[row[\"node2\"]][0])} for row in training_data.collect()]"
   ]
  },
  {
   "cell_type": "code",
   "execution_count": 545,
   "metadata": {},
   "outputs": [],
   "source": [
    "from pyspark.ml.linalg import VectorUDT\n",
    "from pyspark.sql.types import StructField, StructType,IntegerType\n",
    "\n",
    "schema = StructType([\n",
    "        StructField('node1', IntegerType()),\n",
    "        StructField('node2', IntegerType()),\n",
    "        StructField('embeddings', VectorUDT())])\n"
   ]
  },
  {
   "cell_type": "code",
   "execution_count": 546,
   "metadata": {},
   "outputs": [
    {
     "data": {
      "text/plain": [
       "DataFrame[node1: int, node2: int, embeddings: vector]"
      ]
     },
     "execution_count": 546,
     "metadata": {},
     "output_type": "execute_result"
    }
   ],
   "source": [
    "embedding_df=spark.createDataFrame(embed_dict, schema)\n",
    "embedding_df"
   ]
  },
  {
   "cell_type": "code",
   "execution_count": 549,
   "metadata": {},
   "outputs": [],
   "source": [
    "training_data=training_data.join(embedding_df, [\"node1\",\"node2\"])"
   ]
  },
  {
   "cell_type": "code",
   "execution_count": 550,
   "metadata": {},
   "outputs": [
    {
     "data": {
      "text/plain": [
       "DataFrame[node1: bigint, node2: bigint, label: bigint, commonAuthors: bigint, prefAttachment: bigint, totalNeighbors: bigint, minTriangles: bigint, maxTriangles: bigint, minCoefficient: double, maxCoefficient: double, samePartition: bigint, sameLouvain: bigint, embeddings: vector]"
      ]
     },
     "execution_count": 550,
     "metadata": {},
     "output_type": "execute_result"
    }
   ],
   "source": [
    "training_data"
   ]
  },
  {
   "cell_type": "code",
   "execution_count": 551,
   "metadata": {},
   "outputs": [],
   "source": [
    "fields = [\"commonAuthors\", \"prefAttachment\", \"totalNeighbors\",\n",
    "    \"minTriangles\", \"maxTriangles\", \"minCoefficient\", \"maxCoefficient\",\n",
    "    \"samePartition\", \"sameLouvain\",\"embeddings\"]\n",
    "w2vec_model=train_model(fields, training_data)"
   ]
  },
  {
   "cell_type": "code",
   "execution_count": 552,
   "metadata": {},
   "outputs": [],
   "source": [
    "test_nodes=get_distinct_nodes(test_data)\n",
    "test_walks=get_walks(test_nodes, 'late_graph', steps=1, walks=3)"
   ]
  },
  {
   "cell_type": "code",
   "execution_count": 553,
   "metadata": {},
   "outputs": [
    {
     "name": "stderr",
     "output_type": "stream",
     "text": [
      "WARNING:gensim.models.base_any2vec:consider setting layer size to a multiple of 4 for greater performance\n",
      "WARNING:gensim.models.base_any2vec:under 10 jobs per worker: consider setting a smaller `batch_words' for smoother alpha decay\n"
     ]
    }
   ],
   "source": [
    "test_embeddings=get_embeddings(test_walks,size=2,window=5, min_count=1)"
   ]
  },
  {
   "cell_type": "code",
   "execution_count": 554,
   "metadata": {},
   "outputs": [],
   "source": [
    "test_embed_dict=[{\"node1\":row[\"node1\"],\n",
    "    \"node2\": row[\"node2\"],\n",
    "    \"embeddings\": Vectors.dense(test_embeddings[row[\"node1\"]][0]+ test_embeddings[row[\"node2\"]][0])} for row in test_data.collect()]"
   ]
  },
  {
   "cell_type": "code",
   "execution_count": 558,
   "metadata": {},
   "outputs": [],
   "source": [
    "test_embedding_df=spark.createDataFrame(test_embed_dict, schema)"
   ]
  },
  {
   "cell_type": "code",
   "execution_count": 559,
   "metadata": {},
   "outputs": [],
   "source": [
    "test_data=test_data.join(test_embedding_df,[\"node1\",\"node2\"])"
   ]
  },
  {
   "cell_type": "code",
   "execution_count": 560,
   "metadata": {},
   "outputs": [
    {
     "data": {
      "text/html": [
       "<div>\n",
       "<style scoped>\n",
       "    .dataframe tbody tr th:only-of-type {\n",
       "        vertical-align: middle;\n",
       "    }\n",
       "\n",
       "    .dataframe tbody tr th {\n",
       "        vertical-align: top;\n",
       "    }\n",
       "\n",
       "    .dataframe thead th {\n",
       "        text-align: right;\n",
       "    }\n",
       "</style>\n",
       "<table border=\"1\" class=\"dataframe\">\n",
       "  <thead>\n",
       "    <tr style=\"text-align: right;\">\n",
       "      <th></th>\n",
       "      <th>Measure</th>\n",
       "      <th>Score</th>\n",
       "    </tr>\n",
       "  </thead>\n",
       "  <tbody>\n",
       "    <tr>\n",
       "      <th>0</th>\n",
       "      <td>accuracy</td>\n",
       "      <td>0.996119</td>\n",
       "    </tr>\n",
       "    <tr>\n",
       "      <th>1</th>\n",
       "      <td>recall</td>\n",
       "      <td>0.985816</td>\n",
       "    </tr>\n",
       "    <tr>\n",
       "      <th>2</th>\n",
       "      <td>precision</td>\n",
       "      <td>0.974398</td>\n",
       "    </tr>\n",
       "  </tbody>\n",
       "</table>\n",
       "</div>"
      ],
      "text/plain": [
       "     Measure     Score\n",
       "0   accuracy  0.996119\n",
       "1     recall  0.985816\n",
       "2  precision  0.974398"
      ]
     },
     "execution_count": 560,
     "metadata": {},
     "output_type": "execute_result"
    }
   ],
   "source": [
    "word2vec_results = evaluate_model(w2vec_model, test_data)\n",
    "display_results(word2vec_results)"
   ]
  },
  {
   "cell_type": "code",
   "execution_count": 561,
   "metadata": {},
   "outputs": [
    {
     "data": {
      "image/png": "[encoded data removed]",
      "text/plain": [
       "<Figure size 1040x640 with 1 Axes>"
      ]
     },
     "metadata": {},
     "output_type": "display_data"
    }
   ],
   "source": [
    "plt, fig = create_roc_plot()\n",
    "\n",
    "add_curve(plt, \"Common Authors\",\n",
    "basic_results[\"fpr\"], basic_results[\"tpr\"], basic_results[\"roc_auc\"])\n",
    "\n",
    "add_curve(plt, \"Graphy\",\n",
    "graphy_results[\"fpr\"], graphy_results[\"tpr\"],graphy_results[\"roc_auc\"])\n",
    "\n",
    "add_curve(plt, \"Triangles\",\n",
    "triangle_results[\"fpr\"], triangle_results[\"tpr\"],\n",
    "triangle_results[\"roc_auc\"])\n",
    "\n",
    "add_curve(plt, \"Community\",\n",
    "community_results[\"fpr\"], community_results[\"tpr\"],\n",
    "community_results[\"roc_auc\"])\n",
    "\n",
    "add_curve(plt, \"Word2vec\",\n",
    "word2vec_results[\"fpr\"], word2vec_results[\"tpr\"],\n",
    "word2vec_results[\"roc_auc\"])\n",
    "\n",
    "plt.legend(loc='lower right')\n",
    "plt.show()"
   ]
  },
  {
   "cell_type": "code",
   "execution_count": 569,
   "metadata": {},
   "outputs": [
    {
     "data": {
      "text/plain": [
       "SparseVector(13, {0: 0.3821, 1: 0.0711, 2: 0.1441, 3: 0.0514, 4: 0.0878, 5: 0.0607, 6: 0.0456, 7: 0.0025, 8: 0.1361, 9: 0.0049, 10: 0.0043, 11: 0.0041, 12: 0.0054})"
      ]
     },
     "execution_count": 569,
     "metadata": {},
     "output_type": "execute_result"
    }
   ],
   "source": [
    "w2vec_model.stages[-1].featureImportances"
   ]
  },
  {
   "cell_type": "code",
   "execution_count": 570,
   "metadata": {},
   "outputs": [
    {
     "data": {
      "text/plain": [
       "array([0.40081593, 0.08980461, 0.16279091, 0.07013824, 0.10657174,\n",
       "       0.0794034 , 0.06433526, 0.02124397, 0.1548041 , 0.02361567])"
      ]
     },
     "execution_count": 570,
     "metadata": {},
     "output_type": "execute_result"
    }
   ],
   "source": [
    "imp=list(w2vec_model.stages[-1].featureImportances)[0:10]+sum(list(w2vec_model.stages[-1].featureImportances)[9:13])\n",
    "imp"
   ]
  },
  {
   "cell_type": "code",
   "execution_count": 572,
   "metadata": {},
   "outputs": [
    {
     "data": {
      "text/plain": [
       "['commonAuthors',\n",
       " 'prefAttachment',\n",
       " 'totalNeighbors',\n",
       " 'minTriangles',\n",
       " 'maxTriangles',\n",
       " 'minCoefficient',\n",
       " 'maxCoefficient',\n",
       " 'samePartition',\n",
       " 'sameLouvain']"
      ]
     },
     "execution_count": 572,
     "metadata": {},
     "output_type": "execute_result"
    }
   ],
   "source": [
    "myfields=fields[:-1]\n",
    "myfields"
   ]
  },
  {
   "cell_type": "code",
   "execution_count": 573,
   "metadata": {},
   "outputs": [],
   "source": [
    "myfields=myfields+[\"embeddings\"]"
   ]
  },
  {
   "cell_type": "code",
   "execution_count": 574,
   "metadata": {},
   "outputs": [
    {
     "data": {
      "image/png": "[encoded data removed]",
      "text/plain": [
       "<Figure size 640x480 with 1 Axes>"
      ]
     },
     "metadata": {},
     "output_type": "display_data"
    }
   ],
   "source": [
    "plot_feature_importance(myfields, imp)"
   ]
  },
  {
   "cell_type": "code",
   "execution_count": null,
   "metadata": {},
   "outputs": [],
   "source": []
  }
 ],
 "metadata": {
  "kernelspec": {
   "display_name": "Python [conda env:neo4j]",
   "language": "python",
   "name": "conda-env-neo4j-py"
  },
  "language_info": {
   "codemirror_mode": {
    "name": "ipython",
    "version": 3
   },
   "file_extension": ".py",
   "mimetype": "text/x-python",
   "name": "python",
   "nbconvert_exporter": "python",
   "pygments_lexer": "ipython3",
   "version": "3.7.7"
  }
 },
 "nbformat": 4,
 "nbformat_minor": 2
}
