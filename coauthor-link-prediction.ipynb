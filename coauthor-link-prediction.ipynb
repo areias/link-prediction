{
 "cells": [
  {
   "cell_type": "markdown",
   "metadata": {},
   "source": [
    "# Co-author Network Link Prediction - Tuning node2vec model"
   ]
  },
  {
   "cell_type": "markdown",
   "metadata": {},
   "source": [
    "Data comes from https://www.aminer.org/citation\n",
    "\n",
    "Based on \"Graphs and Machine Learning in Practice: Link Prediction\" in Graph Algorithms. Practical Examples in Apache Spark and Neo4j.\n",
    "\n"
   ]
  },
  {
   "cell_type": "code",
   "execution_count": 3,
   "metadata": {},
   "outputs": [],
   "source": [
    "import pandas as pd"
   ]
  },
  {
   "cell_type": "code",
   "execution_count": 4,
   "metadata": {},
   "outputs": [],
   "source": [
    "import json\n",
    "from py2neo import  Graph, Node\n",
    "import os"
   ]
  },
  {
   "cell_type": "markdown",
   "metadata": {},
   "source": [
    "## The Coauthorship Graph"
   ]
  },
  {
   "cell_type": "markdown",
   "metadata": {},
   "source": [
    "https://neo4j.com/blog/cypher-load-json-from-url/"
   ]
  },
  {
   "cell_type": "code",
   "execution_count": 5,
   "metadata": {},
   "outputs": [],
   "source": [
    "# create a graph\n",
    "graphdb = Graph(scheme=\"bolt\", host=\"localhost\", port=7687, secure=False, auth=('neo4j', 'test'))\n",
    "#graphdb.delete_all()"
   ]
  },
  {
   "cell_type": "markdown",
   "metadata": {},
   "source": [
    "## Spark"
   ]
  },
  {
   "cell_type": "code",
   "execution_count": 6,
   "metadata": {},
   "outputs": [],
   "source": [
    "import findspark\n",
    "findspark.init()"
   ]
  },
  {
   "cell_type": "code",
   "execution_count": 7,
   "metadata": {},
   "outputs": [],
   "source": [
    "import pyspark\n",
    "sc = pyspark.SparkContext(appName=\"link_prediction\")"
   ]
  },
  {
   "cell_type": "code",
   "execution_count": 8,
   "metadata": {},
   "outputs": [],
   "source": [
    "from pyspark.sql import SparkSession\n",
    "\n",
    "spark = SparkSession.builder \\\n",
    "    .master(\"local\") \\\n",
    "    .appName(\"link_prediction\") \\\n",
    "    .getOrCreate()\n"
   ]
  },
  {
   "cell_type": "code",
   "execution_count": 9,
   "metadata": {},
   "outputs": [],
   "source": [
    "test_df=pd.read_csv(\"data/testdf.csv\")\n",
    "training_df=pd.read_csv(\"data/trainingdf.csv\")"
   ]
  },
  {
   "cell_type": "code",
   "execution_count": 10,
   "metadata": {},
   "outputs": [],
   "source": [
    "training_data=spark.createDataFrame(training_df)"
   ]
  },
  {
   "cell_type": "code",
   "execution_count": 11,
   "metadata": {},
   "outputs": [
    {
     "name": "stdout",
     "output_type": "stream",
     "text": [
      "+-----+-----+-----+\n",
      "|node1|node2|label|\n",
      "+-----+-----+-----+\n",
      "|  268|  786|    1|\n",
      "| 3493| 3493|    0|\n",
      "| 1999| 2000|    1|\n",
      "| 3563| 3563|    0|\n",
      "| 3586| 3586|    0|\n",
      "+-----+-----+-----+\n",
      "only showing top 5 rows\n",
      "\n"
     ]
    }
   ],
   "source": [
    "training_data.show(n=5)"
   ]
  },
  {
   "cell_type": "code",
   "execution_count": 12,
   "metadata": {},
   "outputs": [
    {
     "name": "stdout",
     "output_type": "stream",
     "text": [
      "+-----+-----+\n",
      "|label|count|\n",
      "+-----+-----+\n",
      "|    0| 2400|\n",
      "|    1| 2400|\n",
      "+-----+-----+\n",
      "\n"
     ]
    }
   ],
   "source": [
    "training_data.groupby(\"label\").count().show()"
   ]
  },
  {
   "cell_type": "code",
   "execution_count": 13,
   "metadata": {},
   "outputs": [],
   "source": [
    "test_data=spark.createDataFrame(test_df)"
   ]
  },
  {
   "cell_type": "code",
   "execution_count": 14,
   "metadata": {},
   "outputs": [
    {
     "name": "stdout",
     "output_type": "stream",
     "text": [
      "+-----+-----+\n",
      "|label|count|\n",
      "+-----+-----+\n",
      "|    0| 3243|\n",
      "|    1| 3243|\n",
      "+-----+-----+\n",
      "\n"
     ]
    }
   ],
   "source": [
    "test_data.groupby(\"label\").count().show()"
   ]
  },
  {
   "cell_type": "code",
   "execution_count": 16,
   "metadata": {},
   "outputs": [
    {
     "data": {
      "text/plain": [
       "<py2neo.database.Cursor at 0x7eff0e2276d0>"
      ]
     },
     "execution_count": 16,
     "metadata": {},
     "output_type": "execute_result"
    }
   ],
   "source": [
    "# create a graph projection\n",
    "graphdb.run(\"\"\"CALL gds.graph.create('early_graph',\n",
    "    'Author', \n",
    "    {\n",
    "        CO_AUTHOR_EARLY: {\n",
    "                type: 'CO_AUTHOR_EARLY',\n",
    "                orientation: 'UNDIRECTED'\n",
    "                }\n",
    "                }\n",
    "                )\"\"\")"
   ]
  },
  {
   "cell_type": "code",
   "execution_count": 78,
   "metadata": {},
   "outputs": [
    {
     "data": {
      "text/plain": [
       "'early_graph'"
      ]
     },
     "execution_count": 78,
     "metadata": {},
     "output_type": "execute_result"
    }
   ],
   "source": [
    "graphdb.run(\"\"\"CALL gds.graph.list\"\"\").evaluate()"
   ]
  },
  {
   "cell_type": "code",
   "execution_count": 269,
   "metadata": {},
   "outputs": [
    {
     "data": {
      "text/plain": [
       "<py2neo.database.Cursor at 0x7efef16f4d90>"
      ]
     },
     "execution_count": 269,
     "metadata": {},
     "output_type": "execute_result"
    }
   ],
   "source": [
    "# create a graph projection\n",
    "graphdb.run(\"\"\"CALL gds.graph.create('late_graph',\n",
    "    'Author', \n",
    "    {\n",
    "        CO_AUTHOR: {\n",
    "                type: 'CO_AUTHOR',\n",
    "                orientation: 'UNDIRECTED'\n",
    "                }\n",
    "                }\n",
    "                )\"\"\")"
   ]
  },
  {
   "cell_type": "markdown",
   "metadata": {},
   "source": [
    "# Node2Vec Graph Embeddings \n",
    "\n",
    "https://towardsdatascience.com/node-embeddings-node2vec-with-neo4j-5152d3472d8e\n",
    "\n",
    "Neo4j Graph Data Science library supports the random walk algorithm, which makes it very easy for us to implement the node2vec algorithm.\n",
    "\n",
    "We will start by projecting the in-memory graph. We describe all three node labels and project relationships as undirected.\n",
    "\n",
    "Now we are ready to train our first node2vec model. The process will consist of three parts:\n",
    "\n",
    "    Execute the random walk algorithm starting from each node in the graph\n",
    "    Feed the random walks to word2vec algorithm\n",
    "    Inspect results by looking at the most similar neighbors\n",
    "\n",
    "The random walk algorithm has an optional start parameter, which can be used to define the starting node of the walk. We can also specify how long the walk should be with the steps setting and how many times it should be repeated with the walks parameter. Note that every time random walk is executed, we expect a different result.\n",
    "\n",
    "We will use the Word2vec algorithm implementation in the gensim library. It also has a couple of hyperparameters we can define. Most notable are:\n",
    "\n",
    "    size: Dimensionality of the embedding vectors\n",
    "    window: Maximum distance between the current and predicted word\n",
    "    min_count: The minimum count of words to consider when training the model; words with occurrence less than this count will be ignored.\n",
    "    sg: The training algorithm: 1 for skip-gram; otherwise default CBOW\n",
    "   \n",
    "https://towardsdatascience.com/node2vec-embeddings-for-graph-data-32a866340fef\n",
    "    \n",
    "Node2vec’s sampling strategy, accepts 4 arguments:\n",
    "— Number of walks: Number of random walks to be generated from each node in the graph\n",
    "— Walk length: How many nodes are in each random walk\n",
    "— P: Return hyperparameter\n",
    "— Q: Inout hyperaprameter\n",
    "and also the standard skip-gram parameters (context window size, number of iterations etc.)\n",
    "\n",
    "The algorithm for the random walk generation will go over each node in the graph and will generate <number of walks> random walks, of length <walk length>.\n",
    "    \n",
    "           \n",
    "https://neo4j.com/docs/graph-data-science/current/alpha-algorithms/random-walk/\n",
    "\n",
    "\n",
    "https://cs.stanford.edu/~jure/pubs/node2vec-kdd16.pdf\n",
    "\n",
    "\n",
    "http://snap.stanford.edu/node2vec/\n",
    "    \n",
    "    \n",
    "https://stellargraph.readthedocs.io/en/stable/demos/link-prediction/node2vec-link-prediction.html\n",
    "\n",
    "Node2Vec first involves running random walks on the graph to obtain our context pairs, and using these to train a Word2Vec model.\n",
    "\n",
    "\n",
    "\n",
    "https://radimrehurek.com/gensim/models/word2vec.html\n",
    "\n",
    "\n",
    "https://radimrehurek.com/gensim/auto_examples/tutorials/run_word2vec.html#sphx-glr-auto-examples-tutorials-run-word2vec-py\n",
    "\n"
   ]
  },
  {
   "cell_type": "markdown",
   "metadata": {},
   "source": [
    "There are actually alpha implementations of node embeddings in Neo4j. Alpha designation indicates that the algorithm is experimental and might be changed or removed at any time.\n",
    "\n",
    "https://neo4j.com/docs/graph-data-science/current/algorithms/node-embeddings/"
   ]
  },
  {
   "cell_type": "markdown",
   "metadata": {},
   "source": [
    "We use Node2Vec [1], to calculate node embeddings. These embeddings are learned in such a way to ensure that nodes that are close in the graph remain close in the embedding space. Node2Vec first involves running random walks on the graph to obtain our context pairs, and using these to train a Word2Vec model.\n",
    "\n",
    "These are the set of parameters we can use:\n",
    " \n",
    "    p - Random walk parameter “p”\n",
    "    q - Random walk parameter “q”\n",
    "    dimensions - Dimensionality of node2vec embeddings\n",
    "    num_walks - Number of walks from each node\n",
    "    walk_length - Length of each random walk\n",
    "    window_size - Context window size for Word2Vec\n",
    "    num_iter - number of SGD iterations (epochs)\n",
    "    workers - Number of workers for Word2Vec\n",
    "    \n",
    "The Word2Vec Skip-gram model, for example, takes in pairs (word1, word2) generated by moving a window across text data, and trains a 1-hidden-layer neural network based on the synthetic task of given an input word, giving us a predicted probability distribution of nearby words to the input. A virtual one-hot encoding of words goes through a ‘projection layer’ to the hidden layer; these projection weights are later interpreted as the word embeddings. So if the hidden layer has 300 neurons, this network will give us 300-dimensional word embeddings.\n",
    "    "
   ]
  },
  {
   "cell_type": "code",
   "execution_count": null,
   "metadata": {},
   "outputs": [],
   "source": [
    "# for some reason doesnt have this algorithm\n",
    "# graphdb.run(\"\"\"CALL gds.alpha.node2vec.stream('early_graph', {dimensions: 2})\"\"\")"
   ]
  },
  {
   "cell_type": "code",
   "execution_count": 250,
   "metadata": {},
   "outputs": [],
   "source": [
    "import gensim.models\n",
    "from pyspark.ml.linalg import Vectors, VectorUDT\n",
    "from pyspark.sql.types import StructField, StructType,IntegerType\n",
    "\n",
    "def apply_node2vec_features(data, graph_name, steps, walks, size, window, output_col_name):\n",
    "    \n",
    "    params = {\n",
    "    \"pairs\": [{\"node1\": row[\"node1\"], \"node2\": row[\"node2\"]}\n",
    "    for row in data.collect()],\n",
    "    \"steps\": steps,\n",
    "    \"walks\": walks,\n",
    "    \"size\": size,\n",
    "    \"graph_name\": graph_name\n",
    "    }\n",
    "\n",
    "    query=(\"\"\"\n",
    "    UNWIND $pairs as pair\n",
    "    MATCH (p:Author) WHERE id(p) = pair.node1 OR id(p) = pair.node2\n",
    "    WITH DISTINCT p\n",
    "    CALL gds.alpha.randomWalk.stream($graph_name,{\n",
    "        start: id(p),\n",
    "        steps: $steps,\n",
    "        walks: $walks\n",
    "    })\n",
    "    YIELD nodeIds\n",
    "    RETURN [id in nodeIds | toString(id)] as walks\n",
    "    \"\"\")\n",
    "\n",
    "    random_walks=graphdb.run(query, params).to_series()\n",
    "    \n",
    "    model=gensim.models.Word2Vec(random_walks, sg=1, window=window, size=size, min_count=1)\n",
    "\n",
    "    vectors=[{\"node1\":row[\"node1\"],\n",
    "            \"node2\": row[\"node2\"],\n",
    "            output_col_name:Vectors.dense(list(model.wv[str(row[\"node1\"])]) + \n",
    "                       list(model.wv[str(row[\"node2\"])]))} for row in data.collect()]\n",
    "    \n",
    "    schema = StructType([\n",
    "        StructField('node1', IntegerType()),\n",
    "        StructField('node2', IntegerType()),\n",
    "        StructField(output_col_name, VectorUDT())])\n",
    "\n",
    "    features=spark.createDataFrame(vectors, schema)\n",
    "    return data.join(features, [\"node1\", \"node2\"])"
   ]
  },
  {
   "cell_type": "code",
   "execution_count": 348,
   "metadata": {},
   "outputs": [],
   "source": [
    "training_data = apply_node2vec_features(training_data, 'early_graph', 3, 1, 3, 5, \"model_3steps\")\n"
   ]
  },
  {
   "cell_type": "code",
   "execution_count": 253,
   "metadata": {},
   "outputs": [],
   "source": [
    "# steps=5,10\n",
    "# walks=1\n",
    "# size=3\n",
    "# window=5\n",
    "\n",
    "training_data = apply_node2vec_features(training_data, 'early_graph', 5, 1, 3, 5, \"model_5steps\")\n",
    "training_data = apply_node2vec_features(training_data, 'early_graph', 10, 1, 3, 5, \"model_10steps\")"
   ]
  },
  {
   "cell_type": "code",
   "execution_count": 321,
   "metadata": {},
   "outputs": [],
   "source": [
    "training_data = apply_node2vec_features(training_data, 'early_graph', 5, 3, 3, 5, \"model_5steps3walks\")"
   ]
  },
  {
   "cell_type": "code",
   "execution_count": 335,
   "metadata": {},
   "outputs": [],
   "source": [
    "training_data = apply_node2vec_features(training_data, 'early_graph', 80, 10, 128, 10, \"neo4j_defaults\")"
   ]
  },
  {
   "cell_type": "code",
   "execution_count": 336,
   "metadata": {},
   "outputs": [
    {
     "name": "stdout",
     "output_type": "stream",
     "text": [
      "+-----+-----+-----+--------------------+--------------------+----+----+--------------------+--------------------+\n",
      "|node1|node2|label|        model_5steps|       model_10steps|fold|test|  model_5steps3walks|      neo4j_defaults|\n",
      "+-----+-----+-----+--------------------+--------------------+----+----+--------------------+--------------------+\n",
      "|   22|   25|    1|[0.09874928742647...|[1.20070803165435...|   0|   0|[-0.1850879639387...|[1.36831581592559...|\n",
      "|  412| 2326|    0|[-0.0149135589599...|[0.77401143312454...|   0|   0|[-0.6980580687522...|[1.13592541217803...|\n",
      "|  648|  651|    1|[-0.1056197658181...|[0.95529681444168...|   0|   0|[-0.6156281828880...|[1.37412452697753...|\n",
      "+-----+-----+-----+--------------------+--------------------+----+----+--------------------+--------------------+\n",
      "only showing top 3 rows\n",
      "\n"
     ]
    }
   ],
   "source": [
    "training_data.show(n=3)"
   ]
  },
  {
   "cell_type": "code",
   "execution_count": 347,
   "metadata": {},
   "outputs": [],
   "source": [
    "test_data = apply_node2vec_features(test_data, 'late_graph', 3, 1, 3, 5, \"model_3steps\")\n"
   ]
  },
  {
   "cell_type": "code",
   "execution_count": 270,
   "metadata": {},
   "outputs": [],
   "source": [
    "test_data = apply_node2vec_features(test_data, 'late_graph', 5, 1, 3, 5, \"model_5steps\")\n",
    "test_data = apply_node2vec_features(test_data, 'late_graph', 10, 1, 3, 5, \"model_10steps\")"
   ]
  },
  {
   "cell_type": "code",
   "execution_count": 323,
   "metadata": {},
   "outputs": [],
   "source": [
    "test_data = apply_node2vec_features(test_data, 'late_graph', 5, 3, 3, 5, \"model_5steps3walks\")"
   ]
  },
  {
   "cell_type": "code",
   "execution_count": 337,
   "metadata": {},
   "outputs": [],
   "source": [
    "test_data = apply_node2vec_features(test_data, 'late_graph', 80, 10, 128, 10, \"neo4j_defaults\")"
   ]
  },
  {
   "cell_type": "code",
   "execution_count": 338,
   "metadata": {},
   "outputs": [
    {
     "name": "stdout",
     "output_type": "stream",
     "text": [
      "+-----+-----+-----+--------------------+--------------------+----+----+--------------------+--------------------+\n",
      "|node1|node2|label|        model_5steps|       model_10steps|fold|test|  model_5steps3walks|      neo4j_defaults|\n",
      "+-----+-----+-----+--------------------+--------------------+----+----+--------------------+--------------------+\n",
      "|    8| 4958|    1|[0.24589589238166...|[1.29405760765075...|   0|   1|[1.89659512042999...|[0.84257227182388...|\n",
      "|   61|   63|    1|[0.10539633035659...|[0.47493508458137...|   0|   1|[0.76353633403778...|[0.74830365180969...|\n",
      "|  435|  435|    0|[0.05750015005469...|[0.74363851547241...|   0|   1|[0.69708830118179...|[0.19481378793716...|\n",
      "+-----+-----+-----+--------------------+--------------------+----+----+--------------------+--------------------+\n",
      "only showing top 3 rows\n",
      "\n"
     ]
    }
   ],
   "source": [
    "test_data.show(n=3)"
   ]
  },
  {
   "cell_type": "code",
   "execution_count": 259,
   "metadata": {},
   "outputs": [
    {
     "data": {
      "text/plain": [
       "[{Param(parent='RFormula_2e7ce8c05c7e', name='formula', doc='R model formula'): 'label ~ model_5steps'},\n",
       " {Param(parent='RFormula_2e7ce8c05c7e', name='formula', doc='R model formula'): 'label ~ model_10steps'}]"
      ]
     },
     "execution_count": 259,
     "metadata": {},
     "output_type": "execute_result"
    }
   ],
   "source": [
    "from pyspark.ml.feature import RFormula\n",
    "\n",
    "rForm = RFormula()\n",
    "\n",
    "from pyspark.ml.tuning import ParamGridBuilder\n",
    "params = ParamGridBuilder()\\\n",
    "    .addGrid(rForm.formula, [\n",
    "    \"label ~ model_5steps\",\n",
    "    \"label ~ model_10steps\"])\\\n",
    "    .build()\n",
    "\n",
    "params"
   ]
  },
  {
   "cell_type": "code",
   "execution_count": 324,
   "metadata": {},
   "outputs": [],
   "source": [
    "from pyspark.ml.tuning import ParamGridBuilder\n",
    "params2 = ParamGridBuilder()\\\n",
    "    .addGrid(rForm.formula, [\n",
    "    \"label ~ model_5steps3walks\"])\\\n",
    "    .build()\n"
   ]
  },
  {
   "cell_type": "code",
   "execution_count": 339,
   "metadata": {},
   "outputs": [],
   "source": [
    "from pyspark.ml.tuning import ParamGridBuilder\n",
    "params3 = ParamGridBuilder()\\\n",
    "    .addGrid(rForm.formula, [\n",
    "    \"label ~ neo4j_defaults\"])\\\n",
    "    .build()\n"
   ]
  },
  {
   "cell_type": "code",
   "execution_count": 349,
   "metadata": {},
   "outputs": [],
   "source": [
    "from pyspark.ml.tuning import ParamGridBuilder\n",
    "params4 = ParamGridBuilder()\\\n",
    "    .addGrid(rForm.formula, [\n",
    "    \"label ~ model_3steps\"])\\\n",
    "    .build()\n"
   ]
  },
  {
   "cell_type": "code",
   "execution_count": 260,
   "metadata": {},
   "outputs": [],
   "source": [
    "from pyspark.ml.classification import RandomForestClassifier\n",
    "from pyspark.ml import Pipeline\n",
    "\n",
    "rf = RandomForestClassifier(labelCol=\"label\", \n",
    "        featuresCol=\"features\",\n",
    "        numTrees=30, maxDepth=10)\n",
    "\n",
    "stages=[rForm, rf]\n",
    "pipeline=Pipeline().setStages(stages)"
   ]
  },
  {
   "cell_type": "code",
   "execution_count": 261,
   "metadata": {},
   "outputs": [],
   "source": [
    "from pyspark.ml.evaluation import BinaryClassificationEvaluator\n",
    "evaluator = BinaryClassificationEvaluator()\\\n",
    "    .setMetricName(\"areaUnderROC\")\\\n",
    "    .setRawPredictionCol(\"prediction\")\\\n",
    "    .setLabelCol(\"label\")"
   ]
  },
  {
   "cell_type": "code",
   "execution_count": 262,
   "metadata": {},
   "outputs": [
    {
     "data": {
      "text/plain": [
       "<module 'mycrossvalidator' from '/home/areias/Documents/DataScience/graphs/mycrossvalidator.py'>"
      ]
     },
     "execution_count": 262,
     "metadata": {},
     "output_type": "execute_result"
    }
   ],
   "source": [
    "import mycrossvalidator as mycv\n",
    "from importlib import reload  \n",
    "reload(mycv)"
   ]
  },
  {
   "cell_type": "code",
   "execution_count": 297,
   "metadata": {},
   "outputs": [],
   "source": [
    "cv = mycv.MyCrossValidator(parallelism=2)\\\n",
    "    .setEstimator(pipeline)\\\n",
    "    .setEvaluator(evaluator)\\\n",
    "    .setEstimatorParamMaps(params)\\\n",
    "    .setCollectSubModels(True)\n"
   ]
  },
  {
   "cell_type": "code",
   "execution_count": 298,
   "metadata": {},
   "outputs": [
    {
     "name": "stdout",
     "output_type": "stream",
     "text": [
      "+-----+-----+-----+--------------------+--------------------+----+----+\n",
      "|node1|node2|label|        model_5steps|       model_10steps|fold|test|\n",
      "+-----+-----+-----+--------------------+--------------------+----+----+\n",
      "|   22|   25|    1|[0.09874928742647...|[1.20070803165435...|   0|   0|\n",
      "|  412| 2326|    0|[-0.0149135589599...|[0.77401143312454...|   0|   0|\n",
      "|  648|  651|    1|[-0.1056197658181...|[0.95529681444168...|   0|   0|\n",
      "|  753|  753|    0|[-0.0503539331257...|[0.98245859146118...|   0|   0|\n",
      "| 1045| 4807|    0|[0.02308512665331...|[1.27879261970520...|   0|   0|\n",
      "+-----+-----+-----+--------------------+--------------------+----+----+\n",
      "only showing top 5 rows\n",
      "\n"
     ]
    }
   ],
   "source": [
    "training_data.show(n=5)"
   ]
  },
  {
   "cell_type": "code",
   "execution_count": 265,
   "metadata": {},
   "outputs": [],
   "source": [
    "from pyspark.sql.functions import lit\n",
    "training_data=training_data.withColumn(\"fold\",lit(0))"
   ]
  },
  {
   "cell_type": "code",
   "execution_count": 266,
   "metadata": {},
   "outputs": [],
   "source": [
    "training_data=training_data.withColumn(\"test\",lit(0))"
   ]
  },
  {
   "cell_type": "code",
   "execution_count": 267,
   "metadata": {},
   "outputs": [
    {
     "name": "stdout",
     "output_type": "stream",
     "text": [
      "+-----+-----+-----+--------------------+--------------------+----+----+\n",
      "|node1|node2|label|        model_5steps|       model_10steps|fold|test|\n",
      "+-----+-----+-----+--------------------+--------------------+----+----+\n",
      "|   22|   25|    1|[0.09874928742647...|[1.20070803165435...|   0|   0|\n",
      "|  412| 2326|    0|[-0.0149135589599...|[0.77401143312454...|   0|   0|\n",
      "|  648|  651|    1|[-0.1056197658181...|[0.95529681444168...|   0|   0|\n",
      "|  753|  753|    0|[-0.0503539331257...|[0.98245859146118...|   0|   0|\n",
      "| 1045| 4807|    0|[0.02308512665331...|[1.27879261970520...|   0|   0|\n",
      "+-----+-----+-----+--------------------+--------------------+----+----+\n",
      "only showing top 5 rows\n",
      "\n"
     ]
    }
   ],
   "source": [
    "training_data.show(n=5)"
   ]
  },
  {
   "cell_type": "code",
   "execution_count": 272,
   "metadata": {},
   "outputs": [],
   "source": [
    "test_data=test_data.withColumn(\"fold\",lit(0))\n",
    "test_data=test_data.withColumn(\"test\",lit(1))"
   ]
  },
  {
   "cell_type": "code",
   "execution_count": 329,
   "metadata": {},
   "outputs": [
    {
     "name": "stdout",
     "output_type": "stream",
     "text": [
      "+-----+-----+-----+--------------------+--------------------+----+----+--------------------+\n",
      "|node1|node2|label|        model_5steps|       model_10steps|fold|test|  model_5steps3walks|\n",
      "+-----+-----+-----+--------------------+--------------------+----+----+--------------------+\n",
      "|    8| 4958|    1|[0.24589589238166...|[1.29405760765075...|   0|   1|[1.89659512042999...|\n",
      "|   61|   63|    1|[0.10539633035659...|[0.47493508458137...|   0|   1|[0.76353633403778...|\n",
      "|  435|  435|    0|[0.05750015005469...|[0.74363851547241...|   0|   1|[0.69708830118179...|\n",
      "+-----+-----+-----+--------------------+--------------------+----+----+--------------------+\n",
      "only showing top 3 rows\n",
      "\n"
     ]
    }
   ],
   "source": [
    "test_data.show(n=3)"
   ]
  },
  {
   "cell_type": "code",
   "execution_count": 350,
   "metadata": {},
   "outputs": [],
   "source": [
    "all_df=training_data.union(test_data)"
   ]
  },
  {
   "cell_type": "code",
   "execution_count": 341,
   "metadata": {},
   "outputs": [
    {
     "name": "stdout",
     "output_type": "stream",
     "text": [
      "+-----+-----+-----+--------------------+--------------------+----+----+--------------------+--------------------+\n",
      "|node1|node2|label|        model_5steps|       model_10steps|fold|test|  model_5steps3walks|      neo4j_defaults|\n",
      "+-----+-----+-----+--------------------+--------------------+----+----+--------------------+--------------------+\n",
      "|   22|   25|    1|[0.09874928742647...|[1.20070803165435...|   0|   0|[-0.1850879639387...|[1.36831581592559...|\n",
      "|  412| 2326|    0|[-0.0149135589599...|[0.77401143312454...|   0|   0|[-0.6980580687522...|[1.13592541217803...|\n",
      "|  648|  651|    1|[-0.1056197658181...|[0.95529681444168...|   0|   0|[-0.6156281828880...|[1.37412452697753...|\n",
      "|  753|  753|    0|[-0.0503539331257...|[0.98245859146118...|   0|   0|[-0.1417549401521...|[1.21684145927429...|\n",
      "| 1045| 4807|    0|[0.02308512665331...|[1.27879261970520...|   0|   0|[-0.8098255395889...|[0.42895343899726...|\n",
      "+-----+-----+-----+--------------------+--------------------+----+----+--------------------+--------------------+\n",
      "only showing top 5 rows\n",
      "\n"
     ]
    }
   ],
   "source": [
    "all_df.show(n=5)"
   ]
  },
  {
   "cell_type": "code",
   "execution_count": 299,
   "metadata": {},
   "outputs": [],
   "source": [
    "mycvfitted, foldstats = cv.fit(all_df)"
   ]
  },
  {
   "cell_type": "code",
   "execution_count": 300,
   "metadata": {},
   "outputs": [
    {
     "data": {
      "text/plain": [
       "[0.6356768424298489, 0.5282146160962072]"
      ]
     },
     "execution_count": 300,
     "metadata": {},
     "output_type": "execute_result"
    }
   ],
   "source": [
    "mycvfitted.avgMetrics"
   ]
  },
  {
   "cell_type": "code",
   "execution_count": 278,
   "metadata": {},
   "outputs": [
    {
     "data": {
      "text/plain": [
       "[[0.6356768424298489], [0.5282146160962072]]"
      ]
     },
     "execution_count": 278,
     "metadata": {},
     "output_type": "execute_result"
    }
   ],
   "source": [
    "foldstats"
   ]
  },
  {
   "cell_type": "code",
   "execution_count": 325,
   "metadata": {},
   "outputs": [],
   "source": [
    "cv2 = mycv.MyCrossValidator(parallelism=2)\\\n",
    "    .setEstimator(pipeline)\\\n",
    "    .setEvaluator(evaluator)\\\n",
    "    .setEstimatorParamMaps(params2)\\\n",
    "    .setCollectSubModels(True)\n"
   ]
  },
  {
   "cell_type": "code",
   "execution_count": 342,
   "metadata": {},
   "outputs": [],
   "source": [
    "cv3 = mycv.MyCrossValidator(parallelism=2)\\\n",
    "    .setEstimator(pipeline)\\\n",
    "    .setEvaluator(evaluator)\\\n",
    "    .setEstimatorParamMaps(params3)\\\n",
    "    .setCollectSubModels(True)"
   ]
  },
  {
   "cell_type": "code",
   "execution_count": 351,
   "metadata": {},
   "outputs": [],
   "source": [
    "cv4 = mycv.MyCrossValidator(parallelism=2)\\\n",
    "    .setEstimator(pipeline)\\\n",
    "    .setEvaluator(evaluator)\\\n",
    "    .setEstimatorParamMaps(params4)\\\n",
    "    .setCollectSubModels(True)"
   ]
  },
  {
   "cell_type": "code",
   "execution_count": 330,
   "metadata": {},
   "outputs": [],
   "source": [
    "mycvfitted2, foldstats2 = cv2.fit(all_df)"
   ]
  },
  {
   "cell_type": "code",
   "execution_count": 332,
   "metadata": {},
   "outputs": [
    {
     "data": {
      "text/plain": [
       "[0.49984582176996606]"
      ]
     },
     "execution_count": 332,
     "metadata": {},
     "output_type": "execute_result"
    }
   ],
   "source": [
    "mycvfitted2.avgMetrics"
   ]
  },
  {
   "cell_type": "code",
   "execution_count": 343,
   "metadata": {},
   "outputs": [],
   "source": [
    "mycvfitted3, foldstats3 = cv3.fit(all_df)"
   ]
  },
  {
   "cell_type": "code",
   "execution_count": 352,
   "metadata": {},
   "outputs": [],
   "source": [
    "mycvfitted4, foldstats4 = cv4.fit(all_df)"
   ]
  },
  {
   "cell_type": "code",
   "execution_count": 317,
   "metadata": {},
   "outputs": [],
   "source": [
    "from sklearn.metrics import roc_curve\n",
    "import matplotlib.pyplot as plt  \n",
    "%matplotlib inline\n",
    "\n",
    "def get_roc_curve(model,test_data):\n",
    "    \n",
    "    predictions=model.transform(test_data)\n",
    "    \n",
    "    preds = predictions.select('label','probability')\\\n",
    "    .rdd.map(lambda row: (float(row['probability'][1]), float(row['label'])))\\\n",
    "    .collect()\n",
    "     \n",
    "    y_score, y_true = zip(*preds)\n",
    "    fpr, tpr, thresholds = roc_curve(y_true, y_score, pos_label = 1)\n",
    "    \n",
    "    return fpr,tpr,thresholds"
   ]
  },
  {
   "cell_type": "code",
   "execution_count": 319,
   "metadata": {},
   "outputs": [],
   "source": [
    "fpr10,tpr10,thresholds10 = get_roc_curve(mycvfitted.subModels[0][1], test_data)"
   ]
  },
  {
   "cell_type": "code",
   "execution_count": 333,
   "metadata": {},
   "outputs": [],
   "source": [
    "fpr53,tpr53,thresholds53 = get_roc_curve(mycvfitted2.subModels[0][0], test_data)"
   ]
  },
  {
   "cell_type": "code",
   "execution_count": 344,
   "metadata": {},
   "outputs": [],
   "source": [
    "fpr_neo4j,tpr_neo4j,thresholds_neo4j = get_roc_curve(mycvfitted3.subModels[0][0], test_data)"
   ]
  },
  {
   "cell_type": "code",
   "execution_count": 353,
   "metadata": {},
   "outputs": [],
   "source": [
    "fpr_3,tpr_3,thresholds_3 = get_roc_curve(mycvfitted4.subModels[0][0], test_data)"
   ]
  },
  {
   "cell_type": "code",
   "execution_count": 312,
   "metadata": {},
   "outputs": [],
   "source": [
    "from cycler import cycler\n",
    "def create_roc_plot():\n",
    "    plt.style.use('classic')\n",
    "    fig = plt.figure(figsize=(13, 8))\n",
    "    plt.xlim([0, 1])\n",
    "    plt.ylim([0, 1])\n",
    "    plt.ylabel('True Positive Rate')\n",
    "    plt.xlabel('False Positive Rate')\n",
    "    plt.rc('axes', prop_cycle=(cycler('color',\n",
    "    ['r', 'g', 'b', 'c', 'm', 'y', 'k'])))\n",
    "    plt.plot([0, 1], [0, 1], linestyle='--', label='Random score (AUC = 0.50)')\n",
    "    return plt, fig\n",
    "\n",
    "def add_curve(plt, title, fpr, tpr, roc):\n",
    "    plt.plot(fpr, tpr, label=f\"{title} (AUC = {roc:0.2})\")\n",
    "    "
   ]
  },
  {
   "cell_type": "code",
   "execution_count": 354,
   "metadata": {},
   "outputs": [
    {
     "data": {
      "image/png": "[encoded data removed]",
      "text/plain": [
       "<Figure size 1040x640 with 1 Axes>"
      ]
     },
     "metadata": {},
     "output_type": "display_data"
    }
   ],
   "source": [
    "plt,fig = create_roc_plot()\n",
    "\n",
    "add_curve(plt, \"5 steps model\",\n",
    "    fpr, tpr,\n",
    "    mycvfitted.avgMetrics[0])\n",
    "\n",
    "add_curve(plt, \"10 steps model\",\n",
    "    fpr10, tpr10,\n",
    "    mycvfitted.avgMetrics[1])\n",
    "\n",
    "add_curve(plt, \"5 steps 3 walks model\",\n",
    "    fpr53, tpr53,\n",
    "    mycvfitted2.avgMetrics[0])\n",
    "\n",
    "add_curve(plt, \"Neo4j Node2Vec defaults\",\n",
    "    fpr_neo4j, tpr_neo4j,\n",
    "    mycvfitted3.avgMetrics[0])\n",
    "\n",
    "add_curve(plt, \"3 steps model\",\n",
    "    fpr_3, tpr_3,\n",
    "    mycvfitted4.avgMetrics[0])\n",
    "\n",
    "plt.legend(loc='lower right')\n",
    "plt.show()"
   ]
  },
  {
   "cell_type": "code",
   "execution_count": null,
   "metadata": {},
   "outputs": [],
   "source": []
  }
 ],
 "metadata": {
  "kernelspec": {
   "display_name": "Python [conda env:neo4j]",
   "language": "python",
   "name": "conda-env-neo4j-py"
  },
  "language_info": {
   "codemirror_mode": {
    "name": "ipython",
    "version": 3
   },
   "file_extension": ".py",
   "mimetype": "text/x-python",
   "name": "python",
   "nbconvert_exporter": "python",
   "pygments_lexer": "ipython3",
   "version": "3.7.7"
  }
 },
 "nbformat": 4,
 "nbformat_minor": 2
}
