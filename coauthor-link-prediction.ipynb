{
 "cells": [
  {
   "cell_type": "markdown",
   "metadata": {},
   "source": [
    "# Co-author Network Link Prediction"
   ]
  },
  {
   "cell_type": "markdown",
   "metadata": {},
   "source": [
    "Data comes from https://www.aminer.org/citation\n",
    "\n",
    "Based on \"Graphs and Machine Learning in Practice: Link Prediction\" in Graph Algorithms. Practical Examples in Apache Spark and Neo4j.\n",
    "\n"
   ]
  },
  {
   "cell_type": "code",
   "execution_count": 1,
   "metadata": {},
   "outputs": [],
   "source": [
    "import pandas as pd"
   ]
  },
  {
   "cell_type": "code",
   "execution_count": 2,
   "metadata": {},
   "outputs": [],
   "source": [
    "import json\n",
    "from py2neo import  Graph, Node\n",
    "import os"
   ]
  },
  {
   "cell_type": "code",
   "execution_count": 3,
   "metadata": {},
   "outputs": [
    {
     "name": "stdout",
     "output_type": "stream",
     "text": [
      "ads1000.csv            \u001b[0m\u001b[01;34mdbms\u001b[0m/           \u001b[01;34mtransactions\u001b[0m/\r\n",
      "\u001b[01;31mcitation-network1.zip\u001b[0m  \u001b[01;34mgoodbooks-10k\u001b[0m/  transport-nodes.csv\r\n",
      "\u001b[01;34mdatabases\u001b[0m/             outputacm.txt   transport-relationships.csv\r\n",
      "\u001b[01;34mdblp-ref\u001b[0m/              testdf.csv      trump-world.csv\r\n",
      "\u001b[01;31mdblp.v10.zip\u001b[0m           trainingdf.csv\r\n"
     ]
    }
   ],
   "source": [
    "%ls data"
   ]
  },
  {
   "cell_type": "markdown",
   "metadata": {},
   "source": [
    "## Loading the data"
   ]
  },
  {
   "cell_type": "code",
   "execution_count": 4,
   "metadata": {},
   "outputs": [],
   "source": [
    "# making smaller sample data\n",
    "file = open(\"data/dblp-ref/dblp-ref-3.json\", \"r\")\n",
    "os.remove(\"import/dblp-ref-3-small.json\") \n",
    "smallfile = open(\"import/dblp-ref-3-small.json\", \"a\")"
   ]
  },
  {
   "cell_type": "code",
   "execution_count": 5,
   "metadata": {},
   "outputs": [],
   "source": [
    "for i in range(15000):\n",
    "    line=file.readline()\n",
    "    smallfile.write(line)"
   ]
  },
  {
   "cell_type": "code",
   "execution_count": 6,
   "metadata": {},
   "outputs": [],
   "source": [
    "file.close()\n",
    "smallfile.close()"
   ]
  },
  {
   "cell_type": "code",
   "execution_count": 7,
   "metadata": {},
   "outputs": [
    {
     "name": "stdout",
     "output_type": "stream",
     "text": [
      "{\n",
      "    \"authors\": [\n",
      "        \"Macario O. Cordel\",\n",
      "        \"Arnulfo P. Azcarraga\"\n",
      "    ],\n",
      "    \"id\": \"fff8aa8d-19eb-4cdb-b45c-d93ab48f32bc\",\n",
      "    \"n_citation\": 0,\n",
      "    \"references\": [\n",
      "        \"526860a6-aea8-4f8d-b7f9-e01d3629a6a9\",\n",
      "        \"b3021ed3-42de-4b75-ad6e-bd64e51f4cba\"\n",
      "    ],\n",
      "    \"title\": \"Measuring the contribution of filter bank layer to performance of convolutional neural networks\",\n",
      "    \"venue\": \"International Journal of Knowledge-based and Intelligent Engineering Systems\",\n",
      "    \"year\": 2017\n",
      "}\n"
     ]
    }
   ],
   "source": [
    "print(json.dumps(json.loads(line), indent=4, sort_keys=True))"
   ]
  },
  {
   "cell_type": "markdown",
   "metadata": {},
   "source": [
    "## The Coauthorship Graph"
   ]
  },
  {
   "cell_type": "markdown",
   "metadata": {},
   "source": [
    "https://neo4j.com/blog/cypher-load-json-from-url/"
   ]
  },
  {
   "cell_type": "code",
   "execution_count": 8,
   "metadata": {},
   "outputs": [],
   "source": [
    "# create a graph\n",
    "graphdb = Graph(scheme=\"bolt\", host=\"localhost\", port=7687, secure=False, auth=('neo4j', 'test'))\n",
    "graphdb.delete_all()"
   ]
  },
  {
   "cell_type": "code",
   "execution_count": null,
   "metadata": {},
   "outputs": [],
   "source": [
    "graphdb.run(\"\"\"CREATE CONSTRAINT ON (a:Article)\n",
    "    ASSERT a.index IS UNIQUE\"\"\")"
   ]
  },
  {
   "cell_type": "code",
   "execution_count": null,
   "metadata": {},
   "outputs": [],
   "source": [
    "graphdb.run(\"\"\"CREATE CONSTRAINT ON (au:Author)\n",
    "    ASSERT au.name IS UNIQUE;\"\"\")"
   ]
  },
  {
   "cell_type": "code",
   "execution_count": 9,
   "metadata": {},
   "outputs": [
    {
     "data": {
      "text/plain": [
       "<py2neo.database.Cursor at 0x7fc55741a310>"
      ]
     },
     "execution_count": 9,
     "metadata": {},
     "output_type": "execute_result"
    }
   ],
   "source": [
    "# https://neo4j.com/docs/labs/apoc/current/import/load-json/\n",
    "\n",
    "graphdb.run(\"\"\"CALL apoc.load.json(\"file:///dblp-ref-3-small.json\")\n",
    "YIELD value\n",
    "WHERE value.venue IN [\"Lecture Notes in Computer Science\",\n",
    "    \"Communications of The ACM\",\n",
    "    \"international conference on software engineering\",\n",
    "    \"advances in computing and communications\"]\n",
    "MERGE (p:Article {title: value.title})\n",
    "SET p.year = value.year\n",
    "WITH p, value\n",
    "UNWIND value.authors AS author\n",
    "MERGE (c:Author {name: author})\n",
    "MERGE (p)-[:AUTHOR_OF]->(c)\n",
    "\"\"\")"
   ]
  },
  {
   "cell_type": "code",
   "execution_count": 10,
   "metadata": {},
   "outputs": [
    {
     "data": {
      "text/plain": [
       "<py2neo.database.Cursor at 0x7fc5808aaf90>"
      ]
     },
     "execution_count": 10,
     "metadata": {},
     "output_type": "execute_result"
    }
   ],
   "source": [
    "# when we pointed authors to articles then we double counted co-authorships\n",
    "graphdb.run(\"\"\"MATCH (a1:Author)<-[:AUTHOR_OF]-(paper:Article)-[:AUTHOR_OF]->(a2:Author)\n",
    "WITH a1,a2, paper\n",
    "ORDER BY a1,paper.year\n",
    "WITH a1, a2, collect(paper)[0].year AS year, count(*) AS collaborations\n",
    "MERGE (a1)-[coauthor:CO_AUTHOR {year: year}]-(a2)\n",
    "SET coauthor.collaborations = collaborations;\"\"\")\n",
    "\n"
   ]
  },
  {
   "cell_type": "markdown",
   "metadata": {},
   "source": [
    "## Plot graph schema\n",
    "\n",
    "https://networkx.github.io/documentation/latest/_downloads/networkx_reference.pdf\n",
    "\n",
    "https://stackoverflow.com/questions/22312334/how-to-show-cycles-in-networkx-graph-drawing\n",
    "\n",
    "https://pypi.org/project/graphviz/\n"
   ]
  },
  {
   "cell_type": "code",
   "execution_count": null,
   "metadata": {},
   "outputs": [],
   "source": [
    "import networkx as nx  \n",
    "import matplotlib.pyplot as plt  \n",
    "%matplotlib inline"
   ]
  },
  {
   "cell_type": "code",
   "execution_count": null,
   "metadata": {},
   "outputs": [],
   "source": [
    "G = nx.DiGraph()"
   ]
  },
  {
   "cell_type": "code",
   "execution_count": null,
   "metadata": {},
   "outputs": [],
   "source": [
    "G.add_nodes_from([\"Article\", \"Author\"])"
   ]
  },
  {
   "cell_type": "code",
   "execution_count": null,
   "metadata": {},
   "outputs": [],
   "source": [
    "G.add_edge(\"Article\", \"Author\")"
   ]
  },
  {
   "cell_type": "code",
   "execution_count": null,
   "metadata": {},
   "outputs": [],
   "source": [
    "G.add_edge(\"Author\", \"Author\")"
   ]
  },
  {
   "cell_type": "code",
   "execution_count": null,
   "metadata": {},
   "outputs": [],
   "source": [
    "nx.draw(G, with_labels = True, node_size = 5000, font_size = 20)  \n",
    "plt.show()  "
   ]
  },
  {
   "cell_type": "code",
   "execution_count": null,
   "metadata": {},
   "outputs": [],
   "source": [
    "# to plot self nodes need transform nx graph to pydot\n",
    "# use graphviz to plot\n",
    "pydot_graph = nx.drawing.nx_pydot.to_pydot(G)\n",
    "pydot_graph"
   ]
  },
  {
   "cell_type": "code",
   "execution_count": null,
   "metadata": {},
   "outputs": [],
   "source": [
    "import pydot\n",
    "pdot=pydot.graph_from_dot_file(\"graph.dot\")\n",
    "pdot[0]"
   ]
  },
  {
   "cell_type": "code",
   "execution_count": null,
   "metadata": {},
   "outputs": [],
   "source": [
    "from IPython.display import Image, display\n",
    "\n",
    "plt = Image(pdot[0].create_fig())\n",
    "display(plt)"
   ]
  },
  {
   "cell_type": "markdown",
   "metadata": {},
   "source": [
    "## Summary stats\n",
    "\n",
    "https://neo4j.com/blog/data-profiling-holistic-view-neo4j/"
   ]
  },
  {
   "cell_type": "code",
   "execution_count": 11,
   "metadata": {},
   "outputs": [
    {
     "name": "stdout",
     "output_type": "stream",
     "text": [
      "5676 nodes\n",
      "1579 articles\n",
      "4097 authors\n",
      "10210 relationships\n"
     ]
    }
   ],
   "source": [
    "print(str(graphdb.run(\"\"\"MATCH (n) RETURN count(n)\"\"\").evaluate()) + \" nodes\")\n",
    "print(str(graphdb.run(\"\"\"MATCH (n:Article) RETURN count(n)\"\"\").evaluate()) + \" articles\")\n",
    "print(str(graphdb.run(\"\"\"MATCH (n:Author) RETURN count(n)\"\"\").evaluate()) + \" authors\")\n",
    "print(str(graphdb.run(\"\"\"MATCH ()-[r]->() RETURN count(*)\"\"\").evaluate()) + \" relationships\")"
   ]
  },
  {
   "cell_type": "code",
   "execution_count": 12,
   "metadata": {},
   "outputs": [
    {
     "data": {
      "text/html": [
       "<table><tr><th>relationshipType</th></tr><tr><td style=\"text-align:left\">AUTHOR_OF</td></tr><tr><td style=\"text-align:left\">CO_AUTHOR</td></tr></table>"
      ],
      "text/plain": [
       " relationshipType \n",
       "------------------\n",
       " AUTHOR_OF        \n",
       " CO_AUTHOR        "
      ]
     },
     "execution_count": 12,
     "metadata": {},
     "output_type": "execute_result"
    }
   ],
   "source": [
    "graphdb.run(\"\"\"CALL db.relationshipTypes()\"\"\").to_table()"
   ]
  },
  {
   "cell_type": "code",
   "execution_count": 13,
   "metadata": {},
   "outputs": [
    {
     "data": {
      "text/html": [
       "<table><tr><th>NodeType</th><th>NumberOfNodes</th></tr><tr><td style=\"text-align:left\">[&#039;Author&#039;]</td><td style=\"text-align:right\">4097</td></tr><tr><td style=\"text-align:left\">[&#039;Article&#039;]</td><td style=\"text-align:right\">1579</td></tr></table>"
      ],
      "text/plain": [
       " NodeType    | NumberOfNodes \n",
       "-------------|---------------\n",
       " ['Author']  |          4097 \n",
       " ['Article'] |          1579 "
      ]
     },
     "execution_count": 13,
     "metadata": {},
     "output_type": "execute_result"
    }
   ],
   "source": [
    "# number of co-authorship pairs\n",
    "# number of co-authorship pairs per year\n",
    "# number of articles per year\n",
    "graphdb.run(\"\"\"MATCH (n) RETURN labels(n) AS NodeType, count(n) AS NumberOfNodes\"\"\").to_table()"
   ]
  },
  {
   "cell_type": "code",
   "execution_count": 16,
   "metadata": {},
   "outputs": [
    {
     "data": {
      "text/html": [
       "<table><tr><th>RelationshipType</th><th>NumberOfRelationships</th></tr><tr><td style=\"text-align:left\">CO_AUTHOR</td><td style=\"text-align:right\">11286</td></tr><tr><td style=\"text-align:left\">AUTHOR_OF</td><td style=\"text-align:right\">9134</td></tr></table>"
      ],
      "text/plain": [
       " RelationshipType | NumberOfRelationships \n",
       "------------------|-----------------------\n",
       " CO_AUTHOR        |                 11286 \n",
       " AUTHOR_OF        |                  9134 "
      ]
     },
     "execution_count": 16,
     "metadata": {},
     "output_type": "execute_result"
    }
   ],
   "source": [
    "graphdb.run(\"\"\"MATCH  ()-[r]-()\n",
    "    RETURN type(r) AS RelationshipType, count(r) AS NumberOfRelationships\"\"\").to_table()"
   ]
  },
  {
   "cell_type": "code",
   "execution_count": 14,
   "metadata": {},
   "outputs": [
    {
     "data": {
      "text/html": [
       "<table><tr><th>keys(u)</th></tr><tr><td style=\"text-align:left\">[&#039;title&#039;, &#039;year&#039;]</td></tr></table>"
      ],
      "text/plain": [
       " keys(u)           \n",
       "-------------------\n",
       " ['title', 'year'] "
      ]
     },
     "execution_count": 14,
     "metadata": {},
     "output_type": "execute_result"
    }
   ],
   "source": [
    "graphdb.run(\"\"\"MATCH (u:Article) RETURN keys(u) LIMIT 1\"\"\").to_table()"
   ]
  },
  {
   "cell_type": "code",
   "execution_count": 15,
   "metadata": {},
   "outputs": [
    {
     "data": {
      "text/html": [
       "<table><tr><th>keys(t)</th></tr><tr><td style=\"text-align:left\">[]</td></tr></table>"
      ],
      "text/plain": [
       " keys(t) \n",
       "---------\n",
       " []      "
      ]
     },
     "execution_count": 15,
     "metadata": {},
     "output_type": "execute_result"
    }
   ],
   "source": [
    "graphdb.run(\"\"\"MATCH ()-[t:AUTHOR_OF]-() RETURN keys(t) LIMIT 1\"\"\").to_table()"
   ]
  },
  {
   "cell_type": "code",
   "execution_count": 16,
   "metadata": {},
   "outputs": [
    {
     "data": {
      "text/html": [
       "<table><tr><th>keys(t)</th></tr><tr><td style=\"text-align:left\">[&#039;collaborations&#039;, &#039;year&#039;]</td></tr></table>"
      ],
      "text/plain": [
       " keys(t)                    \n",
       "----------------------------\n",
       " ['collaborations', 'year'] "
      ]
     },
     "execution_count": 16,
     "metadata": {},
     "output_type": "execute_result"
    }
   ],
   "source": [
    "graphdb.run(\"\"\"MATCH ()-[t:CO_AUTHOR]-() RETURN keys(t) LIMIT 1\"\"\").to_table()"
   ]
  },
  {
   "cell_type": "code",
   "execution_count": 17,
   "metadata": {},
   "outputs": [
    {
     "data": {
      "text/html": [
       "<table><tr><th>MinCollaborations</th><th>MaxCollaborations</th><th>AvgCollaborations</th><th>StdCollaborations</th></tr><tr><td style=\"text-align:right\">1</td><td style=\"text-align:right\">6</td><td style=\"text-align:right\">1.0241006556796042</td><td style=\"text-align:right\">0.18481201975399397</td></tr></table>"
      ],
      "text/plain": [
       " MinCollaborations | MaxCollaborations |  AvgCollaborations |   StdCollaborations \n",
       "-------------------|-------------------|--------------------|---------------------\n",
       "                 1 |                 6 | 1.0241006556796042 | 0.18481201975399397 "
      ]
     },
     "execution_count": 17,
     "metadata": {},
     "output_type": "execute_result"
    }
   ],
   "source": [
    "graphdb.run(\"\"\"MATCH ()-[p:CO_AUTHOR]-()\n",
    "    RETURN min(p.collaborations) AS MinCollaborations, \n",
    "    max(p.collaborations) AS MaxCollaborations, \n",
    "    avg(p.collaborations) AS AvgCollaborations, \n",
    "    stDev(p.collaborations) AS StdCollaborations\"\"\").to_table()"
   ]
  },
  {
   "cell_type": "code",
   "execution_count": 18,
   "metadata": {},
   "outputs": [
    {
     "data": {
      "text/html": [
       "<table><tr><th>p.collaborations</th><th>total</th></tr><tr><td style=\"text-align:right\">1</td><td style=\"text-align:right\">11050</td></tr><tr><td style=\"text-align:right\">2</td><td style=\"text-align:right\">214</td></tr><tr><td style=\"text-align:right\">3</td><td style=\"text-align:right\">16</td></tr><tr><td style=\"text-align:right\">5</td><td style=\"text-align:right\">4</td></tr><tr><td style=\"text-align:right\">6</td><td style=\"text-align:right\">2</td></tr></table>"
      ],
      "text/plain": [
       " p.collaborations | total \n",
       "------------------|-------\n",
       "                1 | 11050 \n",
       "                2 |   214 \n",
       "                3 |    16 \n",
       "                5 |     4 \n",
       "                6 |     2 "
      ]
     },
     "execution_count": 18,
     "metadata": {},
     "output_type": "execute_result"
    }
   ],
   "source": [
    "graphdb.run(\"\"\"MATCH ()-[p:CO_AUTHOR]-()\n",
    "    RETURN p.collaborations, count(p.collaborations) AS total\n",
    "    ORDER BY p.collaborations\"\"\").to_table()"
   ]
  },
  {
   "cell_type": "markdown",
   "metadata": {},
   "source": [
    "## Splitting into training and test set"
   ]
  },
  {
   "cell_type": "code",
   "execution_count": 19,
   "metadata": {},
   "outputs": [],
   "source": [
    "articles=graphdb.run(\"\"\"MATCH (a:Article)\n",
    "    RETURN a.year AS year, count(a.year) AS totalArticles\n",
    "    ORDER BY year\"\"\").to_data_frame()\n",
    "    "
   ]
  },
  {
   "cell_type": "code",
   "execution_count": 20,
   "metadata": {},
   "outputs": [
    {
     "data": {
      "text/plain": [
       "<matplotlib.axes._subplots.AxesSubplot at 0x7fc556918dd0>"
      ]
     },
     "execution_count": 20,
     "metadata": {},
     "output_type": "execute_result"
    },
    {
     "data": {
      "image/png": "[encoded data removed]",
      "text/plain": [
       "<Figure size 432x288 with 1 Axes>"
      ]
     },
     "metadata": {
      "needs_background": "light"
     },
     "output_type": "display_data"
    }
   ],
   "source": [
    "articles.plot(\"year\",\"totalArticles\", kind=\"bar\")"
   ]
  },
  {
   "cell_type": "code",
   "execution_count": 21,
   "metadata": {},
   "outputs": [
    {
     "data": {
      "text/html": [
       "<table><tr><th>training</th><th>count</th></tr><tr><td style=\"text-align:left\">false</td><td style=\"text-align:right\">817</td></tr><tr><td style=\"text-align:left\">true</td><td style=\"text-align:right\">762</td></tr></table>"
      ],
      "text/plain": [
       " training | count \n",
       "----------|-------\n",
       " false    |   817 \n",
       " true     |   762 "
      ]
     },
     "execution_count": 21,
     "metadata": {},
     "output_type": "execute_result"
    }
   ],
   "source": [
    "graphdb.run(\"\"\"MATCH (a:Article)\n",
    "    RETURN a.year < 2006 AS training, count(*) AS count\"\"\").to_table()"
   ]
  },
  {
   "cell_type": "code",
   "execution_count": 22,
   "metadata": {},
   "outputs": [
    {
     "data": {
      "text/plain": [
       "<py2neo.database.Cursor at 0x7fc555fe3710>"
      ]
     },
     "execution_count": 22,
     "metadata": {},
     "output_type": "execute_result"
    }
   ],
   "source": [
    "# Create relationship CO_AUTHOR_EARLY for co author pairs before 2006\n",
    "graphdb.run(\"\"\"MATCH (a1)<-[:AUTHOR_OF]-(paper:Article)-[:AUTHOR_OF]->(a2:Author)\n",
    "    WITH a1, a2, paper\n",
    "    ORDER BY a1, paper.year\n",
    "    WITH a1, a2, collect(paper)[0].year AS year, count(*) AS collaborations\n",
    "    WHERE year < 2006\n",
    "    MERGE (a1)-[coauthor:CO_AUTHOR_EARLY {year: year}]-(a2)\n",
    "    SET coauthor.collaborations = collaborations\"\"\")"
   ]
  },
  {
   "cell_type": "code",
   "execution_count": 23,
   "metadata": {},
   "outputs": [
    {
     "data": {
      "text/plain": [
       "<py2neo.database.Cursor at 0x7fc555f99250>"
      ]
     },
     "execution_count": 23,
     "metadata": {},
     "output_type": "execute_result"
    }
   ],
   "source": [
    "graphdb.run(\"\"\"MATCH (a1)<-[:AUTHOR_OF]-(paper:Article)-[:AUTHOR_OF]->(a2:Author)\n",
    "    WITH a1, a2, paper\n",
    "    ORDER BY a1, paper.year\n",
    "    WITH a1, a2, collect(paper)[0].year AS year, count(*) AS collaborations\n",
    "    WHERE year >= 2006\n",
    "    MERGE (a1)-[coauthor:CO_AUTHOR_LATE {year: year}]-(a2)\n",
    "    SET coauthor.collaborations = collaborations\"\"\")"
   ]
  },
  {
   "cell_type": "code",
   "execution_count": 24,
   "metadata": {},
   "outputs": [
    {
     "data": {
      "text/html": [
       "<table><tr><th>relationshipType</th><th>total</th></tr><tr><td style=\"text-align:left\">CO_AUTHOR_EARLY</td><td style=\"text-align:right\">4800</td></tr><tr><td style=\"text-align:left\">CO_AUTHOR</td><td style=\"text-align:right\">11286</td></tr><tr><td style=\"text-align:left\">AUTHOR_OF</td><td style=\"text-align:right\">9134</td></tr><tr><td style=\"text-align:left\">CO_AUTHOR_LATE</td><td style=\"text-align:right\">6486</td></tr></table>"
      ],
      "text/plain": [
       " relationshipType | total \n",
       "------------------|-------\n",
       " CO_AUTHOR_EARLY  |  4800 \n",
       " CO_AUTHOR        | 11286 \n",
       " AUTHOR_OF        |  9134 \n",
       " CO_AUTHOR_LATE   |  6486 "
      ]
     },
     "execution_count": 24,
     "metadata": {},
     "output_type": "execute_result"
    }
   ],
   "source": [
    "graphdb.run(\"\"\"MATCH ()-[p]-()\n",
    "    RETURN type(p) as relationshipType, count(p) AS total\"\"\").to_table()"
   ]
  },
  {
   "cell_type": "code",
   "execution_count": 25,
   "metadata": {},
   "outputs": [
    {
     "data": {
      "text/html": [
       "<table><tr><th>total</th></tr><tr><td style=\"text-align:right\">2400</td></tr></table>"
      ],
      "text/plain": [
       " total \n",
       "-------\n",
       "  2400 "
      ]
     },
     "execution_count": 25,
     "metadata": {},
     "output_type": "execute_result"
    }
   ],
   "source": [
    "# how many authors have a co_author_early type of relationship\n",
    "# Dont think this is right\n",
    "graphdb.run(\"\"\"MATCH (a)-[p:CO_AUTHOR_EARLY]->() RETURN count(a) AS total\"\"\").to_table()"
   ]
  },
  {
   "cell_type": "code",
   "execution_count": 26,
   "metadata": {},
   "outputs": [
    {
     "data": {
      "text/html": [
       "<table><tr><th>total</th></tr><tr><td style=\"text-align:right\">3243</td></tr></table>"
      ],
      "text/plain": [
       " total \n",
       "-------\n",
       "  3243 "
      ]
     },
     "execution_count": 26,
     "metadata": {},
     "output_type": "execute_result"
    }
   ],
   "source": [
    "graphdb.run(\"\"\"MATCH (a)-[p:CO_AUTHOR_LATE]->() RETURN count(a) AS total\"\"\").to_table()"
   ]
  },
  {
   "cell_type": "markdown",
   "metadata": {},
   "source": [
    "## Balancing data"
   ]
  },
  {
   "cell_type": "code",
   "execution_count": 27,
   "metadata": {},
   "outputs": [],
   "source": [
    "train_existing_links = graphdb.run(\"\"\"\n",
    "    MATCH (author:Author)-[:CO_AUTHOR_EARLY]->(other:Author)\n",
    "    RETURN id(author) AS node1, id(other) AS node2, 1 AS label\n",
    "    \"\"\").to_data_frame()"
   ]
  },
  {
   "cell_type": "code",
   "execution_count": 31,
   "metadata": {},
   "outputs": [
    {
     "data": {
      "text/html": [
       "<div>\n",
       "<style scoped>\n",
       "    .dataframe tbody tr th:only-of-type {\n",
       "        vertical-align: middle;\n",
       "    }\n",
       "\n",
       "    .dataframe tbody tr th {\n",
       "        vertical-align: top;\n",
       "    }\n",
       "\n",
       "    .dataframe thead th {\n",
       "        text-align: right;\n",
       "    }\n",
       "</style>\n",
       "<table border=\"1\" class=\"dataframe\">\n",
       "  <thead>\n",
       "    <tr style=\"text-align: right;\">\n",
       "      <th></th>\n",
       "      <th>node1</th>\n",
       "      <th>node2</th>\n",
       "      <th>label</th>\n",
       "    </tr>\n",
       "  </thead>\n",
       "  <tbody>\n",
       "    <tr>\n",
       "      <th>0</th>\n",
       "      <td>0</td>\n",
       "      <td>1</td>\n",
       "      <td>1</td>\n",
       "    </tr>\n",
       "    <tr>\n",
       "      <th>1</th>\n",
       "      <td>0</td>\n",
       "      <td>3</td>\n",
       "      <td>1</td>\n",
       "    </tr>\n",
       "    <tr>\n",
       "      <th>2</th>\n",
       "      <td>1</td>\n",
       "      <td>3</td>\n",
       "      <td>1</td>\n",
       "    </tr>\n",
       "    <tr>\n",
       "      <th>3</th>\n",
       "      <td>20</td>\n",
       "      <td>21</td>\n",
       "      <td>1</td>\n",
       "    </tr>\n",
       "    <tr>\n",
       "      <th>4</th>\n",
       "      <td>20</td>\n",
       "      <td>22</td>\n",
       "      <td>1</td>\n",
       "    </tr>\n",
       "  </tbody>\n",
       "</table>\n",
       "</div>"
      ],
      "text/plain": [
       "   node1  node2  label\n",
       "0      0      1      1\n",
       "1      0      3      1\n",
       "2      1      3      1\n",
       "3     20     21      1\n",
       "4     20     22      1"
      ]
     },
     "execution_count": 31,
     "metadata": {},
     "output_type": "execute_result"
    }
   ],
   "source": [
    "train_existing_links.head()"
   ]
  },
  {
   "cell_type": "code",
   "execution_count": 28,
   "metadata": {},
   "outputs": [],
   "source": [
    "train_missing_links = graphdb.run(\"\"\"\n",
    "    MATCH (author:Author)\n",
    "    WHERE (author)-[:CO_AUTHOR_EARLY]-()\n",
    "    MATCH (author)-[:CO_AUTHOR_EARLY*2..3]-(other)\n",
    "    WHERE not((author)-[:CO_AUTHOR_EARLY]-(other))\n",
    "    RETURN id(author) AS node1, id(other) AS node2, 0 AS label\n",
    "    \"\"\").to_data_frame()"
   ]
  },
  {
   "cell_type": "code",
   "execution_count": 29,
   "metadata": {},
   "outputs": [
    {
     "data": {
      "text/plain": [
       "20796"
      ]
     },
     "execution_count": 29,
     "metadata": {},
     "output_type": "execute_result"
    }
   ],
   "source": [
    "len(train_missing_links)"
   ]
  },
  {
   "cell_type": "code",
   "execution_count": 30,
   "metadata": {},
   "outputs": [],
   "source": [
    "train_missing_links = train_missing_links.drop_duplicates()\n",
    "training_df = train_missing_links.append(train_existing_links, ignore_index=True)\n",
    "training_df['label'] = training_df['label'].astype('category')"
   ]
  },
  {
   "cell_type": "code",
   "execution_count": 31,
   "metadata": {},
   "outputs": [
    {
     "data": {
      "text/plain": [
       "0    2796\n",
       "1    2400\n",
       "Name: label, dtype: int64"
      ]
     },
     "execution_count": 31,
     "metadata": {},
     "output_type": "execute_result"
    }
   ],
   "source": [
    "training_df['label'].value_counts()"
   ]
  },
  {
   "cell_type": "code",
   "execution_count": 32,
   "metadata": {},
   "outputs": [],
   "source": [
    "from collections import Counter"
   ]
  },
  {
   "cell_type": "code",
   "execution_count": 33,
   "metadata": {},
   "outputs": [],
   "source": [
    "def down_sample(df):\n",
    "    copy = df.copy()\n",
    "    zero = Counter(copy.label.values)[0]\n",
    "    un = Counter(copy.label.values)[1]\n",
    "    n = zero - un\n",
    "    copy = copy.drop(copy[copy.label == 0].sample(n=n, random_state=1).index)\n",
    "    return copy.sample(frac=1)"
   ]
  },
  {
   "cell_type": "code",
   "execution_count": 34,
   "metadata": {},
   "outputs": [],
   "source": [
    "training_df=down_sample(training_df)"
   ]
  },
  {
   "cell_type": "code",
   "execution_count": 35,
   "metadata": {},
   "outputs": [
    {
     "data": {
      "text/plain": [
       "1    2400\n",
       "0    2400\n",
       "Name: label, dtype: int64"
      ]
     },
     "execution_count": 35,
     "metadata": {},
     "output_type": "execute_result"
    }
   ],
   "source": [
    "training_df['label'].value_counts()"
   ]
  },
  {
   "cell_type": "code",
   "execution_count": 36,
   "metadata": {},
   "outputs": [],
   "source": [
    "test_existing_links = graphdb.run(\"\"\"\n",
    "    MATCH (author:Author)-[:CO_AUTHOR_LATE]->(other:Author)\n",
    "    RETURN id(author) AS node1, id(other) AS node2, 1 AS label\n",
    "    \"\"\").to_data_frame()"
   ]
  },
  {
   "cell_type": "code",
   "execution_count": 37,
   "metadata": {},
   "outputs": [
    {
     "data": {
      "text/plain": [
       "3243"
      ]
     },
     "execution_count": 37,
     "metadata": {},
     "output_type": "execute_result"
    }
   ],
   "source": [
    "len(test_existing_links)"
   ]
  },
  {
   "cell_type": "code",
   "execution_count": 38,
   "metadata": {},
   "outputs": [],
   "source": [
    "test_missing_links = graphdb.run(\"\"\"\n",
    "    MATCH (author:Author)\n",
    "    WHERE (author)-[:CO_AUTHOR_LATE]-()\n",
    "    MATCH (author)-[:CO_AUTHOR_LATE*2..3]-(other)\n",
    "    WHERE not((author)-[:CO_AUTHOR_LATE]-(other))\n",
    "    RETURN id(author) AS node1, id(other) AS node2, 0 AS label\n",
    "    \"\"\").to_data_frame()"
   ]
  },
  {
   "cell_type": "code",
   "execution_count": 39,
   "metadata": {},
   "outputs": [
    {
     "data": {
      "text/plain": [
       "31868"
      ]
     },
     "execution_count": 39,
     "metadata": {},
     "output_type": "execute_result"
    }
   ],
   "source": [
    "len(test_missing_links)"
   ]
  },
  {
   "cell_type": "code",
   "execution_count": 40,
   "metadata": {},
   "outputs": [],
   "source": [
    "test_missing_links = test_missing_links.drop_duplicates()\n",
    "test_df = test_missing_links.append(test_existing_links, ignore_index=True)\n",
    "test_df['label'] = test_df['label'].astype('category')\n",
    "test_df = down_sample(test_df)"
   ]
  },
  {
   "cell_type": "code",
   "execution_count": 41,
   "metadata": {},
   "outputs": [
    {
     "data": {
      "text/plain": [
       "1    3243\n",
       "0    3243\n",
       "Name: label, dtype: int64"
      ]
     },
     "execution_count": 41,
     "metadata": {},
     "output_type": "execute_result"
    }
   ],
   "source": [
    "test_df.label.value_counts()"
   ]
  },
  {
   "cell_type": "markdown",
   "metadata": {},
   "source": [
    "## Spark"
   ]
  },
  {
   "cell_type": "code",
   "execution_count": 42,
   "metadata": {},
   "outputs": [],
   "source": [
    "import findspark\n",
    "findspark.init()"
   ]
  },
  {
   "cell_type": "code",
   "execution_count": 43,
   "metadata": {},
   "outputs": [],
   "source": [
    "import pyspark\n",
    "sc = pyspark.SparkContext(appName=\"link_prediction\")"
   ]
  },
  {
   "cell_type": "code",
   "execution_count": 44,
   "metadata": {},
   "outputs": [],
   "source": [
    "from pyspark.sql import SparkSession\n",
    "\n",
    "spark = SparkSession.builder \\\n",
    "    .master(\"local\") \\\n",
    "    .appName(\"link_prediction\") \\\n",
    "    .getOrCreate()\n"
   ]
  },
  {
   "cell_type": "code",
   "execution_count": 45,
   "metadata": {},
   "outputs": [],
   "source": [
    "test_df.to_csv(\"data/testdf.csv\", index=False)"
   ]
  },
  {
   "cell_type": "code",
   "execution_count": 46,
   "metadata": {},
   "outputs": [],
   "source": [
    "training_df.to_csv(\"data/trainingdf.csv\", index=False)"
   ]
  },
  {
   "cell_type": "code",
   "execution_count": 53,
   "metadata": {},
   "outputs": [],
   "source": [
    "#test_df=pd.read_csv(\"data/testdf.csv\")\n",
    "#training_df=pd.read_csv(\"data/trainingdf.csv\")"
   ]
  },
  {
   "cell_type": "code",
   "execution_count": 47,
   "metadata": {},
   "outputs": [],
   "source": [
    "training_data=spark.createDataFrame(training_df)"
   ]
  },
  {
   "cell_type": "code",
   "execution_count": 48,
   "metadata": {},
   "outputs": [
    {
     "name": "stdout",
     "output_type": "stream",
     "text": [
      "+-----+-----+-----+\n",
      "|node1|node2|label|\n",
      "+-----+-----+-----+\n",
      "|  268|  786|    1|\n",
      "| 3493| 3493|    0|\n",
      "| 1999| 2000|    1|\n",
      "| 3563| 3563|    0|\n",
      "| 3586| 3586|    0|\n",
      "+-----+-----+-----+\n",
      "only showing top 5 rows\n",
      "\n"
     ]
    }
   ],
   "source": [
    "training_data.show(n=5)"
   ]
  },
  {
   "cell_type": "code",
   "execution_count": 49,
   "metadata": {},
   "outputs": [
    {
     "name": "stdout",
     "output_type": "stream",
     "text": [
      "+-----+-----+\n",
      "|label|count|\n",
      "+-----+-----+\n",
      "|    0| 2400|\n",
      "|    1| 2400|\n",
      "+-----+-----+\n",
      "\n"
     ]
    }
   ],
   "source": [
    "training_data.groupby(\"label\").count().show()"
   ]
  },
  {
   "cell_type": "code",
   "execution_count": 50,
   "metadata": {},
   "outputs": [],
   "source": [
    "test_data=spark.createDataFrame(test_df)"
   ]
  },
  {
   "cell_type": "code",
   "execution_count": 51,
   "metadata": {},
   "outputs": [
    {
     "name": "stdout",
     "output_type": "stream",
     "text": [
      "+-----+-----+\n",
      "|label|count|\n",
      "+-----+-----+\n",
      "|    0| 3243|\n",
      "|    1| 3243|\n",
      "+-----+-----+\n",
      "\n"
     ]
    }
   ],
   "source": [
    "test_data.groupby(\"label\").count().show()"
   ]
  },
  {
   "cell_type": "markdown",
   "metadata": {},
   "source": [
    "# Predicting missing links\n",
    "\n",
    "We hypothesize that the following community related charecteristics increase the probability that authors become co-authors.\n",
    "\n",
    "* more co-authors in common\n",
    "* triadic relationships between authors\n",
    "* authors with more relationships\n",
    "* authors in same community\n",
    "* authors in same tighter community\n",
    "\n",
    "We build graphy features based on the hypotheses above and train a random forest binary classifier to predict whether a pair of authors will have a link or not."
   ]
  },
  {
   "cell_type": "code",
   "execution_count": 52,
   "metadata": {},
   "outputs": [],
   "source": [
    "from pyspark.ml.feature import VectorAssembler\n",
    "from pyspark.ml.classification import RandomForestClassifier\n",
    "from pyspark.ml.pipeline import Pipeline\n",
    "from pyspark.ml.evaluation import BinaryClassificationEvaluator\n",
    "from sklearn.metrics import roc_curve, auc\n",
    "\n",
    "def create_pipeline(fields):\n",
    "    assembler = VectorAssembler(inputCols=fields, \n",
    "        outputCol=\"features\")\n",
    "    rf = RandomForestClassifier(labelCol=\"label\", \n",
    "        featuresCol=\"features\",\n",
    "        numTrees=30, maxDepth=10)\n",
    "    return Pipeline(stages=[assembler, rf])"
   ]
  },
  {
   "cell_type": "code",
   "execution_count": 53,
   "metadata": {},
   "outputs": [],
   "source": [
    "def apply_graphy_training_features(data):\n",
    "    query = \"\"\"\n",
    "    UNWIND $pairs AS pair\n",
    "    MATCH (p1) WHERE id(p1) = pair.node1\n",
    "    MATCH (p2) WHERE id(p2) = pair.node2\n",
    "    RETURN pair.node1 AS node1,pair.node2 AS node2,\n",
    "        size([(p1)-[:CO_AUTHOR_EARLY]-(a)-[:CO_AUTHOR_EARLY]-(p2) | a]) AS commonAuthors,\n",
    "        size((p1)-[:CO_AUTHOR_EARLY]-()) * size((p2)-[:CO_AUTHOR_EARLY]-()) AS prefAttachment,\n",
    "        size(apoc.coll.toSet([(p1)-[:CO_AUTHOR_EARLY]-(a) | id(a)] +\n",
    "            [(p2)-[:CO_AUTHOR_EARLY]-(a) | id(a)])) AS totalNeighbors\n",
    "    \"\"\"\n",
    "    pairs = [{\"node1\": row[\"node1\"], \"node2\": row[\"node2\"]} for row in data.collect()]\n",
    "  \n",
    "    features = spark.createDataFrame(graphdb.run(query,{\"pairs\": pairs}).to_data_frame())\n",
    "    \n",
    "    return data.join(features, [\"node1\", \"node2\"])"
   ]
  },
  {
   "cell_type": "code",
   "execution_count": 54,
   "metadata": {},
   "outputs": [],
   "source": [
    "training_data = apply_graphy_training_features(training_data)"
   ]
  },
  {
   "cell_type": "code",
   "execution_count": 55,
   "metadata": {},
   "outputs": [
    {
     "name": "stdout",
     "output_type": "stream",
     "text": [
      "+-----+-----+-----+-------------+--------------+--------------+\n",
      "|node1|node2|label|commonAuthors|prefAttachment|totalNeighbors|\n",
      "+-----+-----+-----+-------------+--------------+--------------+\n",
      "|   22|   25|    1|            3|            32|             9|\n",
      "|  412| 2326|    0|            1|            18|             8|\n",
      "|  648|  651|    1|            1|             4|             3|\n",
      "|  753|  753|    0|            0|             9|             3|\n",
      "| 1045| 4807|    0|            2|            27|            10|\n",
      "+-----+-----+-----+-------------+--------------+--------------+\n",
      "only showing top 5 rows\n",
      "\n"
     ]
    }
   ],
   "source": [
    "training_data.show(n=5)"
   ]
  },
  {
   "cell_type": "code",
   "execution_count": 56,
   "metadata": {},
   "outputs": [],
   "source": [
    "def apply_graphy_test_features(data):\n",
    "    query = \"\"\"\n",
    "    UNWIND $pairs AS pair\n",
    "    MATCH (p1) WHERE id(p1) = pair.node1\n",
    "    MATCH (p2) WHERE id(p2) = pair.node2\n",
    "    RETURN pair.node1 AS node1,\n",
    "        pair.node2 AS node2,\n",
    "        size([(p1)-[:CO_AUTHOR]-(a)-[:CO_AUTHOR]-(p2) | a]) AS commonAuthors,\n",
    "        size((p1)-[:CO_AUTHOR]-()) * size((p2)-[:CO_AUTHOR]-()) AS prefAttachment,\n",
    "        size(apoc.coll.toSet([(p1)-[:CO_AUTHOR]-(a) | id(a)] + [(p2)-[:CO_AUTHOR]-(a) | id(a)]\n",
    "        )) AS totalNeighbors\n",
    "    \"\"\"\n",
    "    pairs = [{\"node1\": row[\"node1\"], \"node2\": row[\"node2\"]} for row in data.collect()]\n",
    "    \n",
    "    features = spark.createDataFrame(graphdb.run(query,{\"pairs\": pairs}).to_data_frame())\n",
    "    \n",
    "    return data.join(features, [\"node1\", \"node2\"])"
   ]
  },
  {
   "cell_type": "code",
   "execution_count": 57,
   "metadata": {},
   "outputs": [],
   "source": [
    "test_data = apply_graphy_test_features(test_data)"
   ]
  },
  {
   "cell_type": "code",
   "execution_count": 58,
   "metadata": {},
   "outputs": [
    {
     "data": {
      "image/png": "[encoded data removed]",
      "text/plain": [
       "<Figure size 1296x504 with 2 Axes>"
      ]
     },
     "metadata": {},
     "output_type": "display_data"
    }
   ],
   "source": [
    "## frequency histogram of common authors\n",
    "import matplotlib.pyplot as plt\n",
    "plt.style.use('fivethirtyeight')\n",
    "fig, axs = plt.subplots(1, 2, figsize=(18, 7), sharey=True)\n",
    "charts = [(1, \"have collaborated\"), (0, \"haven't collaborated\")]\n",
    "for index, chart in enumerate(charts):\n",
    "    label, title = chart\n",
    "    filtered = training_data.filter(training_data[\"label\"] == label)\n",
    "    common_authors = filtered.toPandas()[\"commonAuthors\"]\n",
    "    histogram = common_authors.value_counts().sort_index()\n",
    "    histogram /= float(histogram.sum())\n",
    "    histogram.plot(kind=\"bar\", x='Common Authors', color=\"darkblue\",\n",
    "    ax=axs[index], title=f\"Authors who {title} (label={label})\")\n",
    "    axs[index].xaxis.set_label_text(\"Common Authors\")\n",
    "plt.tight_layout()\n",
    "plt.show()"
   ]
  },
  {
   "cell_type": "code",
   "execution_count": 270,
   "metadata": {},
   "outputs": [],
   "source": [
    "def train_model(fields, training_data):\n",
    "    pipeline = create_pipeline(fields)\n",
    "    model = pipeline.fit(training_data)\n",
    "    return model"
   ]
  },
  {
   "cell_type": "code",
   "execution_count": 60,
   "metadata": {},
   "outputs": [],
   "source": [
    "# model only uses co-authors\n",
    "basic_model = train_model([\"commonAuthors\"], training_data)"
   ]
  },
  {
   "cell_type": "code",
   "execution_count": 61,
   "metadata": {},
   "outputs": [],
   "source": [
    "eval_df = spark.createDataFrame(\n",
    "    [(0,), (1,), (2,), (10,), (100,)],\n",
    "    ['commonAuthors'])\n"
   ]
  },
  {
   "cell_type": "code",
   "execution_count": 62,
   "metadata": {},
   "outputs": [
    {
     "name": "stdout",
     "output_type": "stream",
     "text": [
      "+-------------+\n",
      "|commonAuthors|\n",
      "+-------------+\n",
      "|            0|\n",
      "|            1|\n",
      "|            2|\n",
      "|           10|\n",
      "|          100|\n",
      "+-------------+\n",
      "\n"
     ]
    }
   ],
   "source": [
    "eval_df.show(n=5)"
   ]
  },
  {
   "cell_type": "code",
   "execution_count": 63,
   "metadata": {},
   "outputs": [
    {
     "name": "stdout",
     "output_type": "stream",
     "text": [
      "+-------------+----------------------------------------+----------+\n",
      "|commonAuthors|probability                             |prediction|\n",
      "+-------------+----------------------------------------+----------+\n",
      "|0            |[0.7166124260754987,0.28338757392450126]|0.0       |\n",
      "|1            |[0.7166124260754987,0.28338757392450126]|0.0       |\n",
      "|2            |[0.10745678417522804,0.8925432158247719]|1.0       |\n",
      "|10           |[0.10745678417522804,0.8925432158247719]|1.0       |\n",
      "|100          |[0.10745678417522804,0.8925432158247719]|1.0       |\n",
      "+-------------+----------------------------------------+----------+\n",
      "\n"
     ]
    }
   ],
   "source": [
    "(basic_model.transform(eval_df)\n",
    "    .select(\"commonAuthors\", \"probability\", \"prediction\")\n",
    "    .show(truncate=False))"
   ]
  },
  {
   "cell_type": "code",
   "execution_count": 64,
   "metadata": {},
   "outputs": [],
   "source": [
    "def evaluate_model(model, test_data):\n",
    "    # Execute the model against the test set\n",
    "    predictions = model.transform(test_data)\n",
    "    # Compute true positive, false positive, false negative counts\n",
    "    tp = predictions[(predictions.label == 1) &\n",
    "        (predictions.prediction == 1)].count()\n",
    "    fp = predictions[(predictions.label == 0) &\n",
    "        (predictions.prediction == 1)].count()\n",
    "    fn = predictions[(predictions.label == 1) &\n",
    "        (predictions.prediction == 0)].count()\n",
    "    # Compute recall and precision manually\n",
    "    recall = float(tp) / (tp + fn)\n",
    "    precision = float(tp) / (tp + fp)\n",
    "    # Compute accuracy using Spark MLLib's binary classification evaluator\n",
    "    accuracy = BinaryClassificationEvaluator().evaluate(predictions)\n",
    "    # Compute false positive rate and true positive rate using sklearn functions\n",
    "    labels = [row[\"label\"] for row in predictions.select(\"label\").collect()]\n",
    "    preds = [row[\"probability\"][1] for row in predictions.select\n",
    "    (\"probability\").collect()]\n",
    "    fpr, tpr, threshold = roc_curve(labels, preds)\n",
    "    roc_auc = auc(fpr, tpr)\n",
    "    return { \"fpr\": fpr, \"tpr\": tpr, \"roc_auc\": roc_auc, \"accuracy\": accuracy,\n",
    "        \"recall\": recall, \"precision\": precision }"
   ]
  },
  {
   "cell_type": "code",
   "execution_count": 65,
   "metadata": {},
   "outputs": [],
   "source": [
    "def display_results(results):\n",
    "    results = {k: v for k, v in results.items() if k not in\n",
    "    [\"fpr\", \"tpr\", \"roc_auc\"]}\n",
    "    return pd.DataFrame({\"Measure\": list(results.keys()), \"Score\": list(results.values())})"
   ]
  },
  {
   "cell_type": "code",
   "execution_count": 66,
   "metadata": {},
   "outputs": [
    {
     "data": {
      "text/html": [
       "<div>\n",
       "<style scoped>\n",
       "    .dataframe tbody tr th:only-of-type {\n",
       "        vertical-align: middle;\n",
       "    }\n",
       "\n",
       "    .dataframe tbody tr th {\n",
       "        vertical-align: top;\n",
       "    }\n",
       "\n",
       "    .dataframe thead th {\n",
       "        text-align: right;\n",
       "    }\n",
       "</style>\n",
       "<table border=\"1\" class=\"dataframe\">\n",
       "  <thead>\n",
       "    <tr style=\"text-align: right;\">\n",
       "      <th></th>\n",
       "      <th>Measure</th>\n",
       "      <th>Score</th>\n",
       "    </tr>\n",
       "  </thead>\n",
       "  <tbody>\n",
       "    <tr>\n",
       "      <th>0</th>\n",
       "      <td>accuracy</td>\n",
       "      <td>0.836263</td>\n",
       "    </tr>\n",
       "    <tr>\n",
       "      <th>1</th>\n",
       "      <td>recall</td>\n",
       "      <td>0.720937</td>\n",
       "    </tr>\n",
       "    <tr>\n",
       "      <th>2</th>\n",
       "      <td>precision</td>\n",
       "      <td>0.937074</td>\n",
       "    </tr>\n",
       "  </tbody>\n",
       "</table>\n",
       "</div>"
      ],
      "text/plain": [
       "     Measure     Score\n",
       "0   accuracy  0.836263\n",
       "1     recall  0.720937\n",
       "2  precision  0.937074"
      ]
     },
     "execution_count": 66,
     "metadata": {},
     "output_type": "execute_result"
    }
   ],
   "source": [
    "basic_results = evaluate_model(basic_model, test_data)\n",
    "display_results(basic_results)"
   ]
  },
  {
   "cell_type": "code",
   "execution_count": 67,
   "metadata": {},
   "outputs": [],
   "source": [
    "from cycler import cycler\n",
    "def create_roc_plot():\n",
    "    plt.style.use('classic')\n",
    "    fig = plt.figure(figsize=(13, 8))\n",
    "    plt.xlim([0, 1])\n",
    "    plt.ylim([0, 1])\n",
    "    plt.ylabel('True Positive Rate')\n",
    "    plt.xlabel('False Positive Rate')\n",
    "    plt.rc('axes', prop_cycle=(cycler('color',\n",
    "    ['r', 'g', 'b', 'c', 'm', 'y', 'k'])))\n",
    "    plt.plot([0, 1], [0, 1], linestyle='--', label='Random score (AUC = 0.50)')\n",
    "    return plt, fig"
   ]
  },
  {
   "cell_type": "code",
   "execution_count": 68,
   "metadata": {},
   "outputs": [],
   "source": [
    "def add_curve(plt, title, fpr, tpr, roc):\n",
    "    plt.plot(fpr, tpr, label=f\"{title} (AUC = {roc:0.2})\")"
   ]
  },
  {
   "cell_type": "code",
   "execution_count": 69,
   "metadata": {},
   "outputs": [
    {
     "data": {
      "image/png": "[encoded data removed]",
      "text/plain": [
       "<Figure size 1040x640 with 1 Axes>"
      ]
     },
     "metadata": {},
     "output_type": "display_data"
    }
   ],
   "source": [
    "plt, fig = create_roc_plot()\n",
    "\n",
    "add_curve(plt, \"Common Authors\",\n",
    "basic_results[\"fpr\"], basic_results[\"tpr\"], basic_results[\"roc_auc\"])\n",
    "\n",
    "plt.legend(loc='lower right')\n",
    "plt.show()"
   ]
  },
  {
   "cell_type": "code",
   "execution_count": 70,
   "metadata": {},
   "outputs": [
    {
     "name": "stdout",
     "output_type": "stream",
     "text": [
      "+-------+------------------+------------------+-----------------+\n",
      "|summary|     commonAuthors|    prefAttachment|   totalNeighbors|\n",
      "+-------+------------------+------------------+-----------------+\n",
      "|  count|              2400|              2400|             2400|\n",
      "|   mean|            2.6225|21.468333333333334|5.240833333333334|\n",
      "| stddev|2.4911669715952036| 33.84827235174229|2.889142424469169|\n",
      "|    min|                 0|                 1|                2|\n",
      "|    max|                12|               195|               16|\n",
      "+-------+------------------+------------------+-----------------+\n",
      "\n"
     ]
    }
   ],
   "source": [
    "(training_data.filter(training_data[\"label\"]==1)\n",
    "    .describe()\n",
    "    .select(\"summary\", \"commonAuthors\", \"prefAttachment\", \"totalNeighbors\")\n",
    "    .show())"
   ]
  },
  {
   "cell_type": "code",
   "execution_count": 71,
   "metadata": {},
   "outputs": [
    {
     "name": "stdout",
     "output_type": "stream",
     "text": [
      "+-------+------------------+------------------+------------------+\n",
      "|summary|     commonAuthors|    prefAttachment|    totalNeighbors|\n",
      "+-------+------------------+------------------+------------------+\n",
      "|  count|              2400|              2400|              2400|\n",
      "|   mean|           0.52125|12.422916666666667| 4.498333333333333|\n",
      "| stddev|0.6712447453264622| 16.96802941816447|2.5734717220483097|\n",
      "|    min|                 0|                 1|                 1|\n",
      "|    max|                 4|               225|                18|\n",
      "+-------+------------------+------------------+------------------+\n",
      "\n"
     ]
    }
   ],
   "source": [
    "(training_data.filter(training_data[\"label\"]==0)\n",
    "    .describe()\n",
    "    .select(\"summary\", \"commonAuthors\", \"prefAttachment\", \"totalNeighbors\")\n",
    "    .show())"
   ]
  },
  {
   "cell_type": "code",
   "execution_count": 72,
   "metadata": {},
   "outputs": [],
   "source": [
    "fields = [\"commonAuthors\", \"prefAttachment\", \"totalNeighbors\"]\n",
    "graphy_model = train_model(fields, training_data)"
   ]
  },
  {
   "cell_type": "code",
   "execution_count": 73,
   "metadata": {},
   "outputs": [
    {
     "data": {
      "text/html": [
       "<div>\n",
       "<style scoped>\n",
       "    .dataframe tbody tr th:only-of-type {\n",
       "        vertical-align: middle;\n",
       "    }\n",
       "\n",
       "    .dataframe tbody tr th {\n",
       "        vertical-align: top;\n",
       "    }\n",
       "\n",
       "    .dataframe thead th {\n",
       "        text-align: right;\n",
       "    }\n",
       "</style>\n",
       "<table border=\"1\" class=\"dataframe\">\n",
       "  <thead>\n",
       "    <tr style=\"text-align: right;\">\n",
       "      <th></th>\n",
       "      <th>Measure</th>\n",
       "      <th>Score</th>\n",
       "    </tr>\n",
       "  </thead>\n",
       "  <tbody>\n",
       "    <tr>\n",
       "      <th>0</th>\n",
       "      <td>accuracy</td>\n",
       "      <td>0.975034</td>\n",
       "    </tr>\n",
       "    <tr>\n",
       "      <th>1</th>\n",
       "      <td>recall</td>\n",
       "      <td>0.930928</td>\n",
       "    </tr>\n",
       "    <tr>\n",
       "      <th>2</th>\n",
       "      <td>precision</td>\n",
       "      <td>0.930354</td>\n",
       "    </tr>\n",
       "  </tbody>\n",
       "</table>\n",
       "</div>"
      ],
      "text/plain": [
       "     Measure     Score\n",
       "0   accuracy  0.975034\n",
       "1     recall  0.930928\n",
       "2  precision  0.930354"
      ]
     },
     "execution_count": 73,
     "metadata": {},
     "output_type": "execute_result"
    }
   ],
   "source": [
    "graphy_results = evaluate_model(graphy_model, test_data)\n",
    "display_results(graphy_results)"
   ]
  },
  {
   "cell_type": "code",
   "execution_count": 74,
   "metadata": {
    "scrolled": false
   },
   "outputs": [
    {
     "data": {
      "image/png": "[encoded data removed]",
      "text/plain": [
       "<Figure size 1040x640 with 1 Axes>"
      ]
     },
     "metadata": {},
     "output_type": "display_data"
    }
   ],
   "source": [
    "plt,fig = create_roc_plot()\n",
    "\n",
    "add_curve(plt, \"Common Authors\",\n",
    "    basic_results[\"fpr\"], basic_results[\"tpr\"],\n",
    "    basic_results[\"roc_auc\"])\n",
    "\n",
    "add_curve(plt, \"Graphy\",\n",
    "    graphy_results[\"fpr\"], graphy_results[\"tpr\"],\n",
    "    graphy_results[\"roc_auc\"])\n",
    "\n",
    "plt.legend(loc='lower right')\n",
    "plt.show()"
   ]
  },
  {
   "cell_type": "code",
   "execution_count": 75,
   "metadata": {},
   "outputs": [],
   "source": [
    "def plot_feature_importance(fields, feature_importances):\n",
    "    df = pd.DataFrame({\"Feature\": fields, \"Importance\": feature_importances})\n",
    "    df = df.sort_values(\"Importance\", ascending=False)\n",
    "    ax = df.plot(kind='bar', x='Feature', y='Importance', legend=None)\n",
    "    ax.xaxis.set_label_text(\"\")\n",
    "    plt.tight_layout()\n",
    "    plt.show()"
   ]
  },
  {
   "cell_type": "code",
   "execution_count": 76,
   "metadata": {},
   "outputs": [
    {
     "data": {
      "image/png": "[encoded data removed]",
      "text/plain": [
       "<Figure size 640x480 with 1 Axes>"
      ]
     },
     "metadata": {},
     "output_type": "display_data"
    }
   ],
   "source": [
    "rf_model = graphy_model.stages[-1]\n",
    "plot_feature_importance(fields, rf_model.featureImportances)"
   ]
  },
  {
   "cell_type": "markdown",
   "metadata": {},
   "source": [
    "## Triangles and clustering coefficient"
   ]
  },
  {
   "cell_type": "markdown",
   "metadata": {},
   "source": [
    "https://neo4j.com/docs/graph-data-science/current/\n",
    "\n",
    "https://neo4j.com/docs/graph-data-science/current/algorithms/triangle-count/\n",
    "\n",
    "## Neo4j Graph Data Science Library\n",
    "\n",
    "In order to run the algorithms as efficiently as possible, the Neo4j Graph Data Science library uses a specialized in-memory graph format to represent the graph data. It is therefore necessary to load the graph data from the Neo4j database into an in memory graph catalog. The amount of data loaded can be controlled by so called graph projections, which also allow, for example, filtering on node labels and relationship types, among other options\n",
    "\n",
    "to see all algorithms\n",
    "CALL gds.list()\n",
    "\n",
    "algorithms are run using one of the execution modes stream, stats, mutate or write, which we cover in this chapter. \n",
    "\n",
    "The stream mode will return the results of the algorithm computation as Cypher result rows. This is similar to how standard Cypher reading queries operate. \n",
    "\n",
    "The stats mode returns statistical results for the algorithm computation like counts or percentile distributions. A statistical summary of the computation is returned as a single Cypher result row. The direct results of the algorithm are not available when using the stats mode. This mode forms the basis of the mutate and write execution modes but does not attempt to make any modifications or updates anywhere. \n",
    "\n",
    "The mutate mode will write the results of the algorithm computation back to the in-memory graph. Note that the specified mutateProperty value must not exist in the in-memory graph beforehand. This enables running multiple algorithms on the same in-memory graph without writing results to Neo4j in-between algorithm executions. \n",
    "\n",
    "The write mode will write the results of the algorithm computation back to the Neo4j database. This is similar to how standard Cypher writing queries operate. A statistical summary of the computation is returned similar to the stats mode. This is the only execution mode that will attempt to make modifications to the Neo4j database.\n",
    "\n",
    "The written data can be node properties (such as Page Rank scores), new relationships (such as Node Similarity similarities), or relationship properties.\n",
    "\n",
    "\n",
    "\n",
    "\n",
    "\n",
    "\n",
    "\n",
    "\n",
    "\n",
    "\n",
    "\n",
    "\n",
    "\n",
    "\n",
    "\n",
    "\n"
   ]
  },
  {
   "cell_type": "code",
   "execution_count": 77,
   "metadata": {},
   "outputs": [
    {
     "data": {
      "text/plain": [
       "<py2neo.database.Cursor at 0x7fc54ec0f5d0>"
      ]
     },
     "execution_count": 77,
     "metadata": {},
     "output_type": "execute_result"
    }
   ],
   "source": [
    "# create a graph projection\n",
    "graphdb.run(\"\"\"CALL gds.graph.create('early_graph',\n",
    "    'Author', \n",
    "    {\n",
    "        CO_AUTHOR_EARLY: {\n",
    "                type: 'CO_AUTHOR_EARLY',\n",
    "                orientation: 'UNDIRECTED'\n",
    "                }\n",
    "                }\n",
    "                )\"\"\")"
   ]
  },
  {
   "cell_type": "code",
   "execution_count": 78,
   "metadata": {},
   "outputs": [
    {
     "data": {
      "text/plain": [
       "'early_graph'"
      ]
     },
     "execution_count": 78,
     "metadata": {},
     "output_type": "execute_result"
    }
   ],
   "source": [
    "graphdb.run(\"\"\"CALL gds.graph.list\"\"\").evaluate()"
   ]
  },
  {
   "cell_type": "code",
   "execution_count": 79,
   "metadata": {},
   "outputs": [
    {
     "data": {
      "text/plain": [
       "array([['4097', '4800', '32872', '32872', '32 KiB']], dtype='<U21')"
      ]
     },
     "execution_count": 79,
     "metadata": {},
     "output_type": "execute_result"
    }
   ],
   "source": [
    "graphdb.run(\"\"\"CALL gds.triangleCount.write.estimate('early_graph', { writeProperty: 'triangleCount' })\n",
    "YIELD nodeCount, relationshipCount, bytesMin, bytesMax, requiredMemory\"\"\").to_ndarray()"
   ]
  },
  {
   "cell_type": "code",
   "execution_count": 80,
   "metadata": {},
   "outputs": [
    {
     "data": {
      "text/plain": [
       "array([[2089, 4097]])"
      ]
     },
     "execution_count": 80,
     "metadata": {},
     "output_type": "execute_result"
    }
   ],
   "source": [
    "#The Triangle Count algorithm in the GDS library only finds triangles in undirected graphs. \n",
    "\n",
    "graphdb.run(\"\"\"CALL gds.triangleCount.write('early_graph', {\n",
    "    writeProperty: 'triangles'\n",
    "    })\n",
    "    YIELD globalTriangleCount, nodeCount\"\"\").to_ndarray()\n"
   ]
  },
  {
   "cell_type": "code",
   "execution_count": 81,
   "metadata": {},
   "outputs": [
    {
     "data": {
      "text/plain": [
       "array([['Christian Gunia', '78'],\n",
       "       ['Ingo Wegener', '78'],\n",
       "       ['Dimo Brockhoff', '78'],\n",
       "       ['Patrick Briest', '78'],\n",
       "       ['Stefan Tannenbaum', '78'],\n",
       "       ['Heiko Röglin', '78'],\n",
       "       ['Oliver Heering', '78'],\n",
       "       ['Bastian Degener', '78'],\n",
       "       ['Dirk Sudholt', '78'],\n",
       "       ['Matthias Englert', '78'],\n",
       "       ['Thomas Jansen', '78'],\n",
       "       ['Andrea Schweer', '78'],\n",
       "       ['Michael Leifhelm', '78'],\n",
       "       ['Kai Plociennik', '78'],\n",
       "       ['Francis C. M. Lau', '39'],\n",
       "       ['Cho-Li Wang', '34'],\n",
       "       ['Panos Vassiliadis', '29'],\n",
       "       ['Yannis Tzitzikas', '29'],\n",
       "       ['Elisa Bertino', '28'],\n",
       "       ['Stefano Rizzi', '28']], dtype='<U17')"
      ]
     },
     "execution_count": 81,
     "metadata": {},
     "output_type": "execute_result"
    }
   ],
   "source": [
    "graphdb.run(\"\"\"CALL gds.triangleCount.stream('early_graph')\n",
    "    YIELD nodeId, triangleCount\n",
    "    RETURN gds.util.asNode(nodeId).name AS name, triangleCount\n",
    "    ORDER BY triangleCount DESC\n",
    "    LIMIT 20;\"\"\").to_ndarray()"
   ]
  },
  {
   "cell_type": "code",
   "execution_count": 82,
   "metadata": {},
   "outputs": [
    {
     "data": {
      "text/plain": [
       "array([['Yuejin Yan', '1.0'],\n",
       "       ['Cheng Fu', '1.0'],\n",
       "       ['Zhengwei Qi', '1.0'],\n",
       "       ['Dongyu Shi', '1.0'],\n",
       "       ['Xuejun Yang', '1.0'],\n",
       "       ['Jinyuan You', '1.0'],\n",
       "       ['Nong Xiao', '1.0'],\n",
       "       ['Chunjiang Li', '1.0'],\n",
       "       ['Huowang Chen', '1.0'],\n",
       "       ['Zhoujun Li', '1.0']], dtype='<U12')"
      ]
     },
     "execution_count": 82,
     "metadata": {},
     "output_type": "execute_result"
    }
   ],
   "source": [
    "graphdb.run(\"\"\"CALL gds.localClusteringCoefficient.stream('early_graph')\n",
    "    YIELD nodeId, localClusteringCoefficient\n",
    "    RETURN gds.util.asNode(nodeId).name AS name, localClusteringCoefficient\n",
    "    ORDER BY localClusteringCoefficient DESC\n",
    "    LIMIT 10;\"\"\").to_ndarray()"
   ]
  },
  {
   "cell_type": "code",
   "execution_count": 83,
   "metadata": {},
   "outputs": [
    {
     "data": {
      "text/plain": [
       "array([[3.06685223e-01, 4.09700000e+03]])"
      ]
     },
     "execution_count": 83,
     "metadata": {},
     "output_type": "execute_result"
    }
   ],
   "source": [
    "# this is calculating triangles in background, you can make it use already calculated \n",
    "graphdb.run(\"\"\"CALL gds.localClusteringCoefficient.write('early_graph', {\n",
    "      writeProperty: 'localClusteringCoefficient'\n",
    "    })\n",
    "    YIELD averageClusteringCoefficient, nodeCount\"\"\").to_ndarray()"
   ]
  },
  {
   "cell_type": "code",
   "execution_count": 84,
   "metadata": {},
   "outputs": [],
   "source": [
    "def apply_triangles_features(data, triangles_prop, coefficient_prop):\n",
    "    query = \"\"\"\n",
    "    UNWIND $pairs AS pair\n",
    "    MATCH (p1) WHERE id(p1) = pair.node1\n",
    "    MATCH (p2) WHERE id(p2) = pair.node2\n",
    "    RETURN pair.node1 AS node1,\n",
    "    pair.node2 AS node2,\n",
    "    apoc.coll.min([p1[$trianglesProp], p2[$trianglesProp]])\n",
    "    AS minTriangles,\n",
    "    apoc.coll.max([p1[$trianglesProp], p2[$trianglesProp]])\n",
    "    AS maxTriangles,\n",
    "    apoc.coll.min([p1[$coefficientProp], p2[$coefficientProp]])\n",
    "    AS minCoefficient,\n",
    "    apoc.coll.max([p1[$coefficientProp], p2[$coefficientProp]])\n",
    "    AS maxCoefficient\n",
    "    \"\"\"\n",
    "    params = {\n",
    "    \"pairs\": [{\"node1\": row[\"node1\"], \"node2\": row[\"node2\"]}\n",
    "    for row in data.collect()],\n",
    "    \"trianglesProp\": triangles_prop,\n",
    "    \"coefficientProp\": coefficient_prop\n",
    "    }\n",
    "    features = spark.createDataFrame(graphdb.run(query, params).to_data_frame())\n",
    "    return data.join(features, [\"node1\", \"node2\"])"
   ]
  },
  {
   "cell_type": "code",
   "execution_count": 85,
   "metadata": {},
   "outputs": [],
   "source": [
    "training_data = apply_triangles_features(training_data,\n",
    "        \"triangles\", \"localClusteringCoefficient\")"
   ]
  },
  {
   "cell_type": "code",
   "execution_count": 86,
   "metadata": {},
   "outputs": [
    {
     "name": "stdout",
     "output_type": "stream",
     "text": [
      "+-----+-----+-----+-------------+--------------+--------------+------------+------------+-------------------+--------------+\n",
      "|node1|node2|label|commonAuthors|prefAttachment|totalNeighbors|minTriangles|maxTriangles|     minCoefficient|maxCoefficient|\n",
      "+-----+-----+-----+-------------+--------------+--------------+------------+------------+-------------------+--------------+\n",
      "|   22|   25|    1|            3|            32|             9|           6|          12|0.42857142857142855|           1.0|\n",
      "|  412| 2326|    0|            1|            18|             8|           3|          15|                1.0|           1.0|\n",
      "|  648|  651|    1|            1|             4|             3|           1|           1|                1.0|           1.0|\n",
      "|  753|  753|    0|            0|             9|             3|           3|           3|                1.0|           1.0|\n",
      "| 1045| 4807|    0|            2|            27|            10|           3|          26| 0.7222222222222222|           1.0|\n",
      "+-----+-----+-----+-------------+--------------+--------------+------------+------------+-------------------+--------------+\n",
      "only showing top 5 rows\n",
      "\n"
     ]
    }
   ],
   "source": [
    "training_data.show(n=5)"
   ]
  },
  {
   "cell_type": "code",
   "execution_count": 87,
   "metadata": {},
   "outputs": [
    {
     "data": {
      "text/plain": [
       "<py2neo.database.Cursor at 0x7fc54ec0f850>"
      ]
     },
     "execution_count": 87,
     "metadata": {},
     "output_type": "execute_result"
    }
   ],
   "source": [
    "# create a graph projection\n",
    "graphdb.run(\"\"\"CALL gds.graph.create('late_graph',\n",
    "    'Author', \n",
    "    {\n",
    "        CO_AUTHOR: {\n",
    "                type: 'CO_AUTHOR',\n",
    "                orientation: 'UNDIRECTED'\n",
    "                }\n",
    "                }\n",
    "                )\"\"\")"
   ]
  },
  {
   "cell_type": "code",
   "execution_count": 88,
   "metadata": {},
   "outputs": [
    {
     "data": {
      "text/plain": [
       "array([[4910, 4097]])"
      ]
     },
     "execution_count": 88,
     "metadata": {},
     "output_type": "execute_result"
    }
   ],
   "source": [
    "graphdb.run(\"\"\"CALL gds.triangleCount.write('late_graph', {\n",
    "    writeProperty: 'triangles'\n",
    "    })\n",
    "    YIELD globalTriangleCount, nodeCount\"\"\").to_ndarray()\n"
   ]
  },
  {
   "cell_type": "code",
   "execution_count": 89,
   "metadata": {},
   "outputs": [
    {
     "data": {
      "text/plain": [
       "array([[7.2163289e-01, 4.0970000e+03]])"
      ]
     },
     "execution_count": 89,
     "metadata": {},
     "output_type": "execute_result"
    }
   ],
   "source": [
    "# this is calculating triangles in background, you can make it use already calculated \n",
    "graphdb.run(\"\"\"CALL gds.localClusteringCoefficient.write('late_graph', {\n",
    "      writeProperty: 'localClusteringCoefficient'\n",
    "    })\n",
    "    YIELD averageClusteringCoefficient, nodeCount\"\"\").to_ndarray()"
   ]
  },
  {
   "cell_type": "code",
   "execution_count": null,
   "metadata": {},
   "outputs": [],
   "source": [
    "#graphdb.run(\"\"\"CALL gds.graph.drop('coauthor_graph');\"\"\")"
   ]
  },
  {
   "cell_type": "code",
   "execution_count": 90,
   "metadata": {},
   "outputs": [],
   "source": [
    "test_data = apply_triangles_features(test_data,\n",
    "        \"triangles\", \"localClusteringCoefficient\")"
   ]
  },
  {
   "cell_type": "code",
   "execution_count": null,
   "metadata": {},
   "outputs": [],
   "source": [
    "#col_list = [\"minTriangles\", \"maxTriangles\", \"minCoefficient\", \"maxCoefficient\"] \n",
    "#training_data = training_data.na.fill(0, col_list)\n",
    "#test_data = test_data.na.fill(0, col_list)"
   ]
  },
  {
   "cell_type": "code",
   "execution_count": 91,
   "metadata": {},
   "outputs": [],
   "source": [
    "fields = [\"commonAuthors\", \"prefAttachment\", \"totalNeighbors\",\n",
    "    \"minTriangles\", \"maxTriangles\", \"minCoefficient\", \"maxCoefficient\"]\n",
    "triangle_model = train_model(fields, training_data)"
   ]
  },
  {
   "cell_type": "code",
   "execution_count": 92,
   "metadata": {},
   "outputs": [
    {
     "data": {
      "text/html": [
       "<div>\n",
       "<style scoped>\n",
       "    .dataframe tbody tr th:only-of-type {\n",
       "        vertical-align: middle;\n",
       "    }\n",
       "\n",
       "    .dataframe tbody tr th {\n",
       "        vertical-align: top;\n",
       "    }\n",
       "\n",
       "    .dataframe thead th {\n",
       "        text-align: right;\n",
       "    }\n",
       "</style>\n",
       "<table border=\"1\" class=\"dataframe\">\n",
       "  <thead>\n",
       "    <tr style=\"text-align: right;\">\n",
       "      <th></th>\n",
       "      <th>Measure</th>\n",
       "      <th>Score</th>\n",
       "    </tr>\n",
       "  </thead>\n",
       "  <tbody>\n",
       "    <tr>\n",
       "      <th>0</th>\n",
       "      <td>accuracy</td>\n",
       "      <td>0.991393</td>\n",
       "    </tr>\n",
       "    <tr>\n",
       "      <th>1</th>\n",
       "      <td>recall</td>\n",
       "      <td>0.981499</td>\n",
       "    </tr>\n",
       "    <tr>\n",
       "      <th>2</th>\n",
       "      <td>precision</td>\n",
       "      <td>0.955569</td>\n",
       "    </tr>\n",
       "  </tbody>\n",
       "</table>\n",
       "</div>"
      ],
      "text/plain": [
       "     Measure     Score\n",
       "0   accuracy  0.991393\n",
       "1     recall  0.981499\n",
       "2  precision  0.955569"
      ]
     },
     "execution_count": 92,
     "metadata": {},
     "output_type": "execute_result"
    }
   ],
   "source": [
    "triangle_results = evaluate_model(triangle_model, test_data)\n",
    "display_results(triangle_results)"
   ]
  },
  {
   "cell_type": "code",
   "execution_count": 93,
   "metadata": {},
   "outputs": [
    {
     "data": {
      "image/png": "[encoded data removed]",
      "text/plain": [
       "<Figure size 1040x640 with 1 Axes>"
      ]
     },
     "metadata": {},
     "output_type": "display_data"
    }
   ],
   "source": [
    "plt, fig = create_roc_plot()\n",
    "add_curve(plt, \"Common Authors\",\n",
    "basic_results[\"fpr\"], basic_results[\"tpr\"], basic_results[\"roc_auc\"])\n",
    "add_curve(plt, \"Graphy\",\n",
    "graphy_results[\"fpr\"], graphy_results[\"tpr\"],\n",
    "graphy_results[\"roc_auc\"])\n",
    "add_curve(plt, \"Triangles\",\n",
    "triangle_results[\"fpr\"], triangle_results[\"tpr\"],\n",
    "triangle_results[\"roc_auc\"])\n",
    "plt.legend(loc='lower right')\n",
    "plt.show()"
   ]
  },
  {
   "cell_type": "code",
   "execution_count": 94,
   "metadata": {},
   "outputs": [
    {
     "data": {
      "image/png": "[encoded data removed]",
      "text/plain": [
       "<Figure size 640x480 with 1 Axes>"
      ]
     },
     "metadata": {},
     "output_type": "display_data"
    }
   ],
   "source": [
    "rf_model = triangle_model.stages[-1]\n",
    "plot_feature_importance(fields, rf_model.featureImportances)"
   ]
  },
  {
   "cell_type": "markdown",
   "metadata": {},
   "source": [
    "## Community Detection\n",
    "\n",
    "We’ll compute more coarse-grained communities using the **Label Propagation** algorithm in Neo4j.\n",
    "\n",
    "https://neo4j.com/docs/graph-data-science/current/algorithms/label-propagation/\n",
    "\n",
    "Running this algorithm requires sufficient memory availability. Before running this algorithm, we recommend that you read Section 3.1, “Memory Estimation”. \n",
    "\n"
   ]
  },
  {
   "cell_type": "code",
   "execution_count": 95,
   "metadata": {},
   "outputs": [
    {
     "data": {
      "text/plain": [
       "array([['4097', '4800', '34336', '558112', '[33 KiB ... 545 KiB]']],\n",
       "      dtype='<U21')"
      ]
     },
     "execution_count": 95,
     "metadata": {},
     "output_type": "execute_result"
    }
   ],
   "source": [
    "graphdb.run(\"\"\"CALL gds.labelPropagation.write.estimate('early_graph', { writeProperty: 'label' })\n",
    "YIELD nodeCount, relationshipCount, bytesMin, bytesMax, requiredMemory\"\"\").to_ndarray()"
   ]
  },
  {
   "cell_type": "code",
   "execution_count": 96,
   "metadata": {},
   "outputs": [
    {
     "data": {
      "text/plain": [
       "array([[2838,    3,    1]])"
      ]
     },
     "execution_count": 96,
     "metadata": {},
     "output_type": "execute_result"
    }
   ],
   "source": [
    "graphdb.run(\"\"\"CALL gds.labelPropagation.write('early_graph', { writeProperty: 'label' })\n",
    "YIELD communityCount, ranIterations, didConverge\"\"\").to_ndarray()"
   ]
  },
  {
   "cell_type": "markdown",
   "metadata": {},
   "source": [
    "**Louvain algorithm**\n",
    "\n",
    "The Louvain method is an algorithm to detect communities in large networks. It maximizes a modularity score for each community, where the modularity quantifies the quality of an assignment of nodes to communities. This means evaluating how much more densely connected the nodes within a community are, compared to how connected they would be in a random network.\n",
    "\n",
    "The Louvain algorithm is a hierarchical clustering algorithm, that recursively merges communities into a single node and executes the modularity clustering on the condensed graphs. \n",
    "\n",
    "\n"
   ]
  },
  {
   "cell_type": "code",
   "execution_count": 97,
   "metadata": {},
   "outputs": [
    {
     "data": {
      "text/plain": [
       "array([['4097', '4800', '267689', '1624800', '[261 KiB ... 1586 KiB]']],\n",
       "      dtype='<U22')"
      ]
     },
     "execution_count": 97,
     "metadata": {},
     "output_type": "execute_result"
    }
   ],
   "source": [
    "graphdb.run(\"\"\"CALL gds.louvain.write.estimate('early_graph', { writeProperty: 'louvain' })\n",
    "YIELD nodeCount, relationshipCount, bytesMin, bytesMax, requiredMemory\"\"\").to_ndarray()"
   ]
  },
  {
   "cell_type": "code",
   "execution_count": 98,
   "metadata": {},
   "outputs": [
    {
     "data": {
      "text/plain": [
       "array([[2834, 0.9787923611111111,\n",
       "        list([0.9481402777777778, 0.9787923611111111])]], dtype=object)"
      ]
     },
     "execution_count": 98,
     "metadata": {},
     "output_type": "execute_result"
    }
   ],
   "source": [
    "graphdb.run(\"\"\"CALL gds.louvain.write('early_graph', { writeProperty: 'louvain' })\n",
    "YIELD communityCount, modularity, modularities\"\"\").to_ndarray()"
   ]
  },
  {
   "cell_type": "code",
   "execution_count": 99,
   "metadata": {},
   "outputs": [
    {
     "data": {
      "text/plain": [
       "<py2neo.database.Cursor at 0x7fc54eb86690>"
      ]
     },
     "execution_count": 99,
     "metadata": {},
     "output_type": "execute_result"
    }
   ],
   "source": [
    "graphdb.run(\"\"\"CALL gds.louvain.stream('early_graph',\n",
    "{includeIntermediateCommunities:true})\n",
    "YIELD nodeId, communityId, intermediateCommunityIds\n",
    "WITH gds.util.asNode(nodeId) AS node, intermediateCommunityIds[0] AS smallestCommunity\n",
    "SET node.smallest = smallestCommunity\"\"\")"
   ]
  },
  {
   "cell_type": "code",
   "execution_count": 100,
   "metadata": {},
   "outputs": [],
   "source": [
    "def apply_community_features(data, partition_prop, louvain_prop):\n",
    "    query = \"\"\"\n",
    "    UNWIND $pairs AS pair\n",
    "    MATCH (p1) WHERE id(p1) = pair.node1\n",
    "    MATCH (p2) WHERE id(p2) = pair.node2\n",
    "    RETURN pair.node1 AS node1,\n",
    "    pair.node2 AS node2,\n",
    "    CASE WHEN p1[$partitionProp] = p2[$partitionProp] THEN\n",
    "    1 ELSE 0 END AS samePartition,\n",
    "    CASE WHEN p1[$louvainProp] = p2[$louvainProp] THEN\n",
    "    1 ELSE 0 END AS sameLouvain\n",
    "    \"\"\"\n",
    "    params = {\n",
    "    \"pairs\": [{\"node1\": row[\"node1\"], \"node2\": row[\"node2\"]} for\n",
    "    row in data.collect()],\n",
    "    \"partitionProp\": partition_prop,\n",
    "    \"louvainProp\": louvain_prop\n",
    "    }\n",
    "    features = spark.createDataFrame(graphdb.run(query, params).to_data_frame())\n",
    "    return data.join(features, [\"node1\", \"node2\"])"
   ]
  },
  {
   "cell_type": "code",
   "execution_count": 101,
   "metadata": {},
   "outputs": [],
   "source": [
    "training_data = apply_community_features(training_data,\"label\", \"smallest\")"
   ]
  },
  {
   "cell_type": "code",
   "execution_count": 102,
   "metadata": {},
   "outputs": [
    {
     "name": "stdout",
     "output_type": "stream",
     "text": [
      "+-----+-----+-----+-------------+--------------+--------------+------------+------------+-------------------+--------------+-------------+-----------+\n",
      "|node1|node2|label|commonAuthors|prefAttachment|totalNeighbors|minTriangles|maxTriangles|     minCoefficient|maxCoefficient|samePartition|sameLouvain|\n",
      "+-----+-----+-----+-------------+--------------+--------------+------------+------------+-------------------+--------------+-------------+-----------+\n",
      "|   22|   25|    1|            3|            32|             9|           6|          12|0.42857142857142855|           1.0|            1|          1|\n",
      "|  412| 2326|    0|            1|            18|             8|           3|          15|                1.0|           1.0|            1|          0|\n",
      "|  648|  651|    1|            1|             4|             3|           1|           1|                1.0|           1.0|            1|          1|\n",
      "|  753|  753|    0|            0|             9|             3|           3|           3|                1.0|           1.0|            1|          1|\n",
      "| 1045| 4807|    0|            2|            27|            10|           3|          26| 0.7222222222222222|           1.0|            1|          1|\n",
      "+-----+-----+-----+-------------+--------------+--------------+------------+------------+-------------------+--------------+-------------+-----------+\n",
      "only showing top 5 rows\n",
      "\n"
     ]
    }
   ],
   "source": [
    "training_data.show(n=5)"
   ]
  },
  {
   "cell_type": "code",
   "execution_count": 103,
   "metadata": {},
   "outputs": [
    {
     "data": {
      "text/plain": [
       "array([[1230,    4,    1]])"
      ]
     },
     "execution_count": 103,
     "metadata": {},
     "output_type": "execute_result"
    }
   ],
   "source": [
    "graphdb.run(\"\"\"CALL gds.labelPropagation.write('late_graph', { writeProperty: 'label' })\n",
    "YIELD communityCount, ranIterations, didConverge\"\"\").to_ndarray()"
   ]
  },
  {
   "cell_type": "code",
   "execution_count": 104,
   "metadata": {},
   "outputs": [
    {
     "data": {
      "text/plain": [
       "<py2neo.database.Cursor at 0x7fc54eb9ea10>"
      ]
     },
     "execution_count": 104,
     "metadata": {},
     "output_type": "execute_result"
    }
   ],
   "source": [
    "graphdb.run(\"\"\"CALL gds.louvain.stream('late_graph',\n",
    "{includeIntermediateCommunities:true})\n",
    "YIELD nodeId, communityId, intermediateCommunityIds\n",
    "WITH gds.util.asNode(nodeId) AS node, intermediateCommunityIds[0] AS smallestCommunity\n",
    "SET node.smallest = smallestCommunity\"\"\")"
   ]
  },
  {
   "cell_type": "code",
   "execution_count": 105,
   "metadata": {},
   "outputs": [],
   "source": [
    "test_data = apply_community_features(test_data,\"label\", \"smallest\")"
   ]
  },
  {
   "cell_type": "code",
   "execution_count": 106,
   "metadata": {},
   "outputs": [
    {
     "name": "stdout",
     "output_type": "stream",
     "text": [
      "+-----+-----+-----+-------------+--------------+--------------+------------+------------+-------------------+------------------+-------------+-----------+\n",
      "|node1|node2|label|commonAuthors|prefAttachment|totalNeighbors|minTriangles|maxTriangles|     minCoefficient|    maxCoefficient|samePartition|sameLouvain|\n",
      "+-----+-----+-----+-------------+--------------+--------------+------------+------------+-------------------+------------------+-------------+-----------+\n",
      "|    8| 4958|    1|            2|            24|             9|           2|          10|0.35714285714285715|0.6666666666666666|            1|          1|\n",
      "|   61|   63|    1|            1|             4|             3|           1|           1|                1.0|               1.0|            1|          1|\n",
      "|  435|  435|    0|            0|           144|            12|          66|          66|                1.0|               1.0|            1|          1|\n",
      "|  443|   53|    0|            1|            72|            17|          15|          66|                1.0|               1.0|            1|          0|\n",
      "|  673|  674|    1|            1|             4|             3|           1|           1|                1.0|               1.0|            1|          1|\n",
      "+-----+-----+-----+-------------+--------------+--------------+------------+------------+-------------------+------------------+-------------+-----------+\n",
      "only showing top 5 rows\n",
      "\n"
     ]
    }
   ],
   "source": [
    "test_data.show(n=5)"
   ]
  },
  {
   "cell_type": "code",
   "execution_count": 107,
   "metadata": {},
   "outputs": [
    {
     "data": {
      "image/png": "[encoded data removed]",
      "text/plain": [
       "<Figure size 1440x560 with 2 Axes>"
      ]
     },
     "metadata": {},
     "output_type": "display_data"
    }
   ],
   "source": [
    "import pyspark.sql.functions as F\n",
    "\n",
    "plt.style.use('fivethirtyeight')\n",
    "fig, axs = plt.subplots(1, 2, figsize=(18, 7), sharey=True)\n",
    "charts = [(1, \"have collaborated\"), (0, \"haven't collaborated\")]\n",
    "\n",
    "for index, chart in enumerate(charts):\n",
    "    label, title = chart\n",
    "    filtered = training_data.filter(training_data[\"label\"] == label)\n",
    "    values = (filtered.withColumn('samePartition',F.when(F.col(\"samePartition\") == 0, \"False\")\n",
    "        .otherwise(\"True\"))\n",
    "        .groupby(\"samePartition\")\n",
    "        .agg(F.count(\"label\").alias(\"count\"))\n",
    "        .select(\"samePartition\", \"count\")\n",
    "        .toPandas())\n",
    "    values.set_index(\"samePartition\", drop=True, inplace=True)\n",
    "    values.plot(kind=\"bar\", ax=axs[index], legend=None,\n",
    "    title=f\"Authors who {title} (label={label})\")\n",
    "    axs[index].xaxis.set_label_text(\"Same Partition\")\n",
    "\n",
    "plt.tight_layout()\n",
    "plt.show()"
   ]
  },
  {
   "cell_type": "code",
   "execution_count": 108,
   "metadata": {},
   "outputs": [
    {
     "data": {
      "image/png": "[encoded data removed]",
      "text/plain": [
       "<Figure size 1440x560 with 2 Axes>"
      ]
     },
     "metadata": {},
     "output_type": "display_data"
    }
   ],
   "source": [
    "plt.style.use('fivethirtyeight')\n",
    "fig, axs = plt.subplots(1, 2, figsize=(18, 7), sharey=True)\n",
    "charts = [(1, \"have collaborated\"), (0, \"haven't collaborated\")]\n",
    "for index, chart in enumerate(charts):\n",
    "    label, title = chart\n",
    "    filtered = training_data.filter(training_data[\"label\"] == label)\n",
    "    values = (filtered.withColumn('sameLouvain',\n",
    "    F.when(F.col(\"sameLouvain\") == 0, \"False\")\n",
    "    .otherwise(\"True\"))\n",
    "    .groupby(\"sameLouvain\")\n",
    "    .agg(F.count(\"label\").alias(\"count\"))\n",
    "    .select(\"sameLouvain\", \"count\")\n",
    "    .toPandas())\n",
    "    values.set_index(\"sameLouvain\", drop=True, inplace=True)\n",
    "    values.plot(kind=\"bar\", ax=axs[index], legend=None,\n",
    "    title=f\"Authors who {title} (label={label})\")\n",
    "    axs[index].xaxis.set_label_text(\"Same Louvain\")\n",
    "\n",
    "plt.tight_layout()\n",
    "plt.show()"
   ]
  },
  {
   "cell_type": "code",
   "execution_count": 109,
   "metadata": {},
   "outputs": [],
   "source": [
    "fields = [\"commonAuthors\", \"prefAttachment\", \"totalNeighbors\",\n",
    "    \"minTriangles\", \"maxTriangles\", \"minCoefficient\", \"maxCoefficient\",\n",
    "    \"samePartition\", \"sameLouvain\"]\n",
    "community_model = train_model(fields, training_data)"
   ]
  },
  {
   "cell_type": "code",
   "execution_count": 110,
   "metadata": {},
   "outputs": [
    {
     "data": {
      "text/html": [
       "<div>\n",
       "<style scoped>\n",
       "    .dataframe tbody tr th:only-of-type {\n",
       "        vertical-align: middle;\n",
       "    }\n",
       "\n",
       "    .dataframe tbody tr th {\n",
       "        vertical-align: top;\n",
       "    }\n",
       "\n",
       "    .dataframe thead th {\n",
       "        text-align: right;\n",
       "    }\n",
       "</style>\n",
       "<table border=\"1\" class=\"dataframe\">\n",
       "  <thead>\n",
       "    <tr style=\"text-align: right;\">\n",
       "      <th></th>\n",
       "      <th>Measure</th>\n",
       "      <th>Score</th>\n",
       "    </tr>\n",
       "  </thead>\n",
       "  <tbody>\n",
       "    <tr>\n",
       "      <th>0</th>\n",
       "      <td>accuracy</td>\n",
       "      <td>0.994757</td>\n",
       "    </tr>\n",
       "    <tr>\n",
       "      <th>1</th>\n",
       "      <td>recall</td>\n",
       "      <td>0.986124</td>\n",
       "    </tr>\n",
       "    <tr>\n",
       "      <th>2</th>\n",
       "      <td>precision</td>\n",
       "      <td>0.976190</td>\n",
       "    </tr>\n",
       "  </tbody>\n",
       "</table>\n",
       "</div>"
      ],
      "text/plain": [
       "     Measure     Score\n",
       "0   accuracy  0.994757\n",
       "1     recall  0.986124\n",
       "2  precision  0.976190"
      ]
     },
     "execution_count": 110,
     "metadata": {},
     "output_type": "execute_result"
    }
   ],
   "source": [
    "community_results = evaluate_model(community_model, test_data)\n",
    "display_results(community_results)"
   ]
  },
  {
   "cell_type": "code",
   "execution_count": 111,
   "metadata": {},
   "outputs": [
    {
     "data": {
      "image/png": "[encoded data removed]",
      "text/plain": [
       "<Figure size 1040x640 with 1 Axes>"
      ]
     },
     "metadata": {},
     "output_type": "display_data"
    }
   ],
   "source": [
    "plt, fig = create_roc_plot()\n",
    "add_curve(plt, \"Common Authors\",\n",
    "basic_results[\"fpr\"], basic_results[\"tpr\"], basic_results[\"roc_auc\"])\n",
    "add_curve(plt, \"Graphy\",\n",
    "graphy_results[\"fpr\"], graphy_results[\"tpr\"],\n",
    "graphy_results[\"roc_auc\"])\n",
    "add_curve(plt, \"Triangles\",\n",
    "triangle_results[\"fpr\"], triangle_results[\"tpr\"],\n",
    "triangle_results[\"roc_auc\"])\n",
    "add_curve(plt, \"Community\",\n",
    "community_results[\"fpr\"], community_results[\"tpr\"],\n",
    "community_results[\"roc_auc\"])\n",
    "plt.legend(loc='lower right')\n",
    "plt.show()"
   ]
  },
  {
   "cell_type": "code",
   "execution_count": 112,
   "metadata": {},
   "outputs": [
    {
     "data": {
      "image/png": "[encoded data removed]",
      "text/plain": [
       "<Figure size 640x480 with 1 Axes>"
      ]
     },
     "metadata": {},
     "output_type": "display_data"
    }
   ],
   "source": [
    "rf_model = community_model.stages[-1]\n",
    "plot_feature_importance(fields, rf_model.featureImportances)"
   ]
  },
  {
   "cell_type": "markdown",
   "metadata": {},
   "source": [
    "https://towardsdatascience.com/learning-in-graphs-with-python-part-3-8d5513eef62d\n",
    "\n",
    "In link prediction, we simply try to build a similarity measure between pairs of nodes and link the most similar nodes. The question is now to identify and compute the right similarity scores!\n",
    "\n",
    "We can build several similarity scores for these two nodes based on their neighborhoods.\n",
    "\n",
    "* Common Neighbors: S(i,j)=∣N(i)∩N(j)∣, i.e the number of common neighbors. In this example, the score would be simply 12, since they share only 2 common neighbors.\n",
    "\n",
    "* Jaccard Coefficient: A normalized common neighbors version.\n",
    "\n",
    "* Adamic-Adar index: For each common neighbor of nodes i and j, we add 1 divided by the total number of neighbors of that node. The concept is that common elements with very large neighborhoods are less significant when predicting a connection between two nodes compared to elements shared between a small number of nodes.\n",
    "\n",
    "* Preferential attachment : S(i,j)=∣N(i,j)∣∗∣N(j)∣\n",
    "\n",
    "* We can also use community information when it is available.\n"
   ]
  },
  {
   "cell_type": "markdown",
   "metadata": {},
   "source": [
    "# Node2Vec Graph Embeddings \n",
    "\n",
    "https://towardsdatascience.com/node-embeddings-node2vec-with-neo4j-5152d3472d8e\n",
    "\n",
    "Neo4j Graph Data Science library supports the random walk algorithm, which makes it very easy for us to implement the node2vec algorithm.\n",
    "\n",
    "We will start by projecting the in-memory graph. We describe all three node labels and project relationships as undirected.\n",
    "\n",
    "Now we are ready to train our first node2vec model. The process will consist of three parts:\n",
    "\n",
    "    Execute the random walk algorithm starting from each node in the graph\n",
    "    Feed the random walks to word2vec algorithm\n",
    "    Inspect results by looking at the most similar neighbors\n",
    "\n",
    "The random walk algorithm has an optional start parameter, which can be used to define the starting node of the walk. We can also specify how long the walk should be with the steps setting and how many times it should be repeated with the walks parameter. Note that every time random walk is executed, we expect a different result.\n",
    "\n",
    "We will use the Word2vec algorithm implementation in the gensim library. It also has a couple of hyperparameters we can define. Most notable are:\n",
    "\n",
    "    size: Dimensionality of the embedding vectors\n",
    "    window: Maximum distance between the current and predicted word\n",
    "    min_count: The minimum count of words to consider when training the model; words with occurrence less than this count will be ignored.\n",
    "    sg: The training algorithm: 1 for skip-gram; otherwise default CBOW\n",
    "   \n",
    "https://towardsdatascience.com/node2vec-embeddings-for-graph-data-32a866340fef\n",
    "    \n",
    "Node2vec’s sampling strategy, accepts 4 arguments:\n",
    "— Number of walks: Number of random walks to be generated from each node in the graph\n",
    "— Walk length: How many nodes are in each random walk\n",
    "— P: Return hyperparameter\n",
    "— Q: Inout hyperaprameter\n",
    "and also the standard skip-gram parameters (context window size, number of iterations etc.)\n",
    "\n",
    "The algorithm for the random walk generation will go over each node in the graph and will generate <number of walks> random walks, of length <walk length>.\n",
    "    \n",
    "           \n",
    "https://neo4j.com/docs/graph-data-science/current/alpha-algorithms/random-walk/\n",
    "\n",
    "\n",
    "https://cs.stanford.edu/~jure/pubs/node2vec-kdd16.pdf\n",
    "\n",
    "\n",
    "http://snap.stanford.edu/node2vec/\n",
    "    \n",
    "    \n",
    "https://stellargraph.readthedocs.io/en/stable/demos/link-prediction/node2vec-link-prediction.html\n",
    "\n",
    "Node2Vec first involves running random walks on the graph to obtain our context pairs, and using these to train a Word2Vec model.\n",
    "\n",
    "\n",
    "\n",
    "https://radimrehurek.com/gensim/models/word2vec.html\n",
    "\n",
    "\n",
    "https://radimrehurek.com/gensim/auto_examples/tutorials/run_word2vec.html#sphx-glr-auto-examples-tutorials-run-word2vec-py\n",
    "\n"
   ]
  },
  {
   "cell_type": "markdown",
   "metadata": {},
   "source": [
    "There are actually alpha implementations of node embeddings in Neo4j. Alpha designation indicates that the algorithm is experimental and might be changed or removed at any time.\n",
    "\n",
    "https://neo4j.com/docs/graph-data-science/current/algorithms/node-embeddings/"
   ]
  },
  {
   "cell_type": "markdown",
   "metadata": {},
   "source": [
    "We use Node2Vec [1], to calculate node embeddings. These embeddings are learned in such a way to ensure that nodes that are close in the graph remain close in the embedding space. Node2Vec first involves running random walks on the graph to obtain our context pairs, and using these to train a Word2Vec model.\n",
    "\n",
    "These are the set of parameters we can use:\n",
    " \n",
    "    p - Random walk parameter “p”\n",
    "    q - Random walk parameter “q”\n",
    "    dimensions - Dimensionality of node2vec embeddings\n",
    "    num_walks - Number of walks from each node\n",
    "    walk_length - Length of each random walk\n",
    "    window_size - Context window size for Word2Vec\n",
    "    num_iter - number of SGD iterations (epochs)\n",
    "    workers - Number of workers for Word2Vec\n",
    "    \n",
    "The Word2Vec Skip-gram model, for example, takes in pairs (word1, word2) generated by moving a window across text data, and trains a 1-hidden-layer neural network based on the synthetic task of given an input word, giving us a predicted probability distribution of nearby words to the input. A virtual one-hot encoding of words goes through a ‘projection layer’ to the hidden layer; these projection weights are later interpreted as the word embeddings. So if the hidden layer has 300 neurons, this network will give us 300-dimensional word embeddings.\n",
    "    "
   ]
  },
  {
   "cell_type": "code",
   "execution_count": 240,
   "metadata": {},
   "outputs": [],
   "source": [
    "def get_distinct_nodess(data):\n",
    "    \n",
    "    # get distinct list of nodes \n",
    "    nodes=data.select(\"node1\").distinct().toPandas()\n",
    "    temp=data.select(\"node2\").distinct().toPandas()\n",
    "    temp.columns=[\"node1\"]\n",
    "    nodes=nodes.append(temp)\n",
    "    nodes=nodes.drop_duplicates()\n",
    "\n",
    "    return nodes\n"
   ]
  },
  {
   "cell_type": "code",
   "execution_count": 241,
   "metadata": {},
   "outputs": [],
   "source": [
    "train_nodes=get_distinct_nodess(training_data)"
   ]
  },
  {
   "cell_type": "code",
   "execution_count": 242,
   "metadata": {},
   "outputs": [
    {
     "data": {
      "text/plain": [
       "1785"
      ]
     },
     "execution_count": 242,
     "metadata": {},
     "output_type": "execute_result"
    }
   ],
   "source": [
    "len(train_nodes)"
   ]
  },
  {
   "cell_type": "code",
   "execution_count": 244,
   "metadata": {},
   "outputs": [],
   "source": [
    "params={\n",
    "    \"nodes\":[{\"id\": node} for node in train_nodes[\"node1\"]  ]\n",
    "    }\n",
    "\n",
    "query=(\"\"\"\n",
    "    UNWIND $nodes AS node\n",
    "    MATCH (a:Author)\n",
    "    WHERE ID(a) = node.id\n",
    "    WITH a\n",
    "    CALL gds.alpha.randomWalk.stream('early_graph',{\n",
    "        start: id(a),\n",
    "        steps: 5,\n",
    "        walks: 5\n",
    "    })\n",
    "    YIELD nodeIds\n",
    "    RETURN [id in nodeIds | toString(id)] as walks\n",
    "    \"\"\")\n",
    "\n",
    "train_walks=graphdb.run(query, params).to_series()\n"
   ]
  },
  {
   "cell_type": "code",
   "execution_count": 245,
   "metadata": {},
   "outputs": [
    {
     "data": {
      "text/plain": [
       "0          [964, 965, 3919, 3918, 965, 3919]\n",
       "1         [964, 965, 3920, 3919, 3922, 3919]\n",
       "2            [964, 965, 3918, 965, 967, 965]\n",
       "3             [964, 967, 965, 967, 964, 965]\n",
       "4             [964, 965, 964, 967, 965, 964]\n",
       "                        ...                 \n",
       "8920    [4822, 4820, 4819, 4818, 4819, 4820]\n",
       "8921    [4822, 4820, 4822, 4819, 4818, 4822]\n",
       "8922    [4822, 4818, 4822, 4820, 4818, 4822]\n",
       "8923    [4822, 4819, 4822, 4820, 4819, 4820]\n",
       "8924    [4822, 4819, 4820, 4819, 4820, 4822]\n",
       "Length: 8925, dtype: object"
      ]
     },
     "execution_count": 245,
     "metadata": {},
     "output_type": "execute_result"
    }
   ],
   "source": [
    "train_walks"
   ]
  },
  {
   "cell_type": "code",
   "execution_count": null,
   "metadata": {},
   "outputs": [],
   "source": [
    "import gensim.models"
   ]
  },
  {
   "cell_type": "code",
   "execution_count": 246,
   "metadata": {},
   "outputs": [
    {
     "data": {
      "text/plain": [
       "8925"
      ]
     },
     "execution_count": 246,
     "metadata": {},
     "output_type": "execute_result"
    }
   ],
   "source": [
    "len(train_walks)"
   ]
  },
  {
   "cell_type": "code",
   "execution_count": 125,
   "metadata": {},
   "outputs": [],
   "source": [
    "import gensim.models"
   ]
  },
  {
   "cell_type": "code",
   "execution_count": 247,
   "metadata": {},
   "outputs": [
    {
     "name": "stderr",
     "output_type": "stream",
     "text": [
      "WARNING:gensim.models.base_any2vec:consider setting layer size to a multiple of 4 for greater performance\n"
     ]
    }
   ],
   "source": [
    "train_model = gensim.models.Word2Vec(train_walks, sg=1, window=5, size=2,min_count=1)"
   ]
  },
  {
   "cell_type": "code",
   "execution_count": 248,
   "metadata": {},
   "outputs": [],
   "source": [
    "from collections import defaultdict"
   ]
  },
  {
   "cell_type": "code",
   "execution_count": 249,
   "metadata": {},
   "outputs": [],
   "source": [
    "train_d = defaultdict(list)\n",
    "for record in train_model.wv.vocab:\n",
    "    train_d[int(record)].append([float(x) for x in list(train_model.wv[record])])"
   ]
  },
  {
   "cell_type": "code",
   "execution_count": 256,
   "metadata": {},
   "outputs": [
    {
     "data": {
      "text/plain": [
       "[0.0875309631228447, -1.749457836151123]"
      ]
     },
     "execution_count": 256,
     "metadata": {},
     "output_type": "execute_result"
    }
   ],
   "source": [
    "train_d[964][0]"
   ]
  },
  {
   "cell_type": "code",
   "execution_count": 257,
   "metadata": {},
   "outputs": [],
   "source": [
    "embed_dict=[{\"node1\":row[\"node1\"],\n",
    "        \"node2\": row[\"node2\"],\n",
    "        \"_1\": train_d[row[\"node1\"]][0][0],\n",
    "        \"_2\": train_d[row[\"node1\"]][0][1],\n",
    "        \"_3\":  train_d[row[\"node2\"]][0][0],\n",
    "        \"_4\":  train_d[row[\"node2\"]][0][1]} for row in training_data.collect()]"
   ]
  },
  {
   "cell_type": "code",
   "execution_count": 260,
   "metadata": {},
   "outputs": [
    {
     "name": "stderr",
     "output_type": "stream",
     "text": [
      "/opt/spark/python/pyspark/sql/session.py:346: UserWarning: inferring schema from dict is deprecated,please use pyspark.sql.Row instead\n",
      "  warnings.warn(\"inferring schema from dict is deprecated,\"\n"
     ]
    }
   ],
   "source": [
    "embeddings_df=spark.createDataFrame(embed_dict)"
   ]
  },
  {
   "cell_type": "code",
   "execution_count": 261,
   "metadata": {},
   "outputs": [
    {
     "data": {
      "text/plain": [
       "DataFrame[_1: double, _2: double, _3: double, _4: double, node1: bigint, node2: bigint]"
      ]
     },
     "execution_count": 261,
     "metadata": {},
     "output_type": "execute_result"
    }
   ],
   "source": [
    "embeddings_df"
   ]
  },
  {
   "cell_type": "code",
   "execution_count": 262,
   "metadata": {},
   "outputs": [
    {
     "name": "stdout",
     "output_type": "stream",
     "text": [
      "+--------------------+------------------+-------------------+-------------------+-----+-----+\n",
      "|                  _1|                _2|                 _3|                 _4|node1|node2|\n",
      "+--------------------+------------------+-------------------+-------------------+-----+-----+\n",
      "|-0.18074050545692444|-2.210104465484619|-0.2845187187194824|-2.5928361415863037|   22|   25|\n",
      "+--------------------+------------------+-------------------+-------------------+-----+-----+\n",
      "only showing top 1 row\n",
      "\n"
     ]
    }
   ],
   "source": [
    "embeddings_df.show(n=1)"
   ]
  },
  {
   "cell_type": "code",
   "execution_count": 263,
   "metadata": {},
   "outputs": [],
   "source": [
    "training_data=training_data.join(embeddings_df, [\"node1\",\"node2\"])"
   ]
  },
  {
   "cell_type": "code",
   "execution_count": 266,
   "metadata": {},
   "outputs": [
    {
     "data": {
      "text/plain": [
       "DataFrame[node1: bigint, node2: bigint, label: bigint, commonAuthors: bigint, prefAttachment: bigint, totalNeighbors: bigint, minTriangles: bigint, maxTriangles: bigint, minCoefficient: double, maxCoefficient: double, samePartition: bigint, sameLouvain: bigint, _1: double, _2: double, _3: double, _4: double]"
      ]
     },
     "execution_count": 266,
     "metadata": {},
     "output_type": "execute_result"
    }
   ],
   "source": [
    "# embedding has to be a vector\n",
    "training_data"
   ]
  },
  {
   "cell_type": "code",
   "execution_count": 268,
   "metadata": {},
   "outputs": [],
   "source": [
    "fields = [\"commonAuthors\", \"prefAttachment\", \"totalNeighbors\",\n",
    "    \"minTriangles\", \"maxTriangles\", \"minCoefficient\", \"maxCoefficient\",\n",
    "    \"samePartition\", \"sameLouvain\",\"_1\",\"_2\", \"_3\" ,\"_4\"]\n"
   ]
  },
  {
   "cell_type": "code",
   "execution_count": 271,
   "metadata": {},
   "outputs": [],
   "source": [
    "word2vec_model = train_model(fields, training_data)"
   ]
  },
  {
   "cell_type": "code",
   "execution_count": 272,
   "metadata": {},
   "outputs": [
    {
     "data": {
      "text/plain": [
       "13"
      ]
     },
     "execution_count": 272,
     "metadata": {},
     "output_type": "execute_result"
    }
   ],
   "source": [
    "word2vec_model.stages[1].numFeatures"
   ]
  },
  {
   "cell_type": "code",
   "execution_count": 273,
   "metadata": {},
   "outputs": [],
   "source": [
    "# get distinct list of nodes \n",
    "test_nodes=get_distinct_nodess(test_data)"
   ]
  },
  {
   "cell_type": "code",
   "execution_count": 274,
   "metadata": {},
   "outputs": [],
   "source": [
    "# get walks\n",
    "params={\n",
    "\"nodes\":[{\"id\": node} for node in test_nodes[\"node1\"]  ]\n",
    "}\n",
    "\n",
    "query=(\"\"\"\n",
    "    UNWIND $nodes AS node\n",
    "    MATCH (a:Author)\n",
    "    WHERE ID(a) = node.id\n",
    "    WITH a\n",
    "    CALL gds.alpha.randomWalk.stream('late_graph',{\n",
    "        start: id(a),\n",
    "        steps: 5,\n",
    "        walks: 5\n",
    "    })\n",
    "    YIELD nodeIds\n",
    "    RETURN [id in nodeIds | toString(id)] as walks\n",
    "    \"\"\")\n",
    "\n",
    "walks=graphdb.run(query, params).to_series()"
   ]
  },
  {
   "cell_type": "code",
   "execution_count": 275,
   "metadata": {},
   "outputs": [
    {
     "data": {
      "text/plain": [
       "['2250']"
      ]
     },
     "execution_count": 275,
     "metadata": {},
     "output_type": "execute_result"
    }
   ],
   "source": [
    "test_walks[0]"
   ]
  },
  {
   "cell_type": "code",
   "execution_count": 276,
   "metadata": {},
   "outputs": [
    {
     "name": "stderr",
     "output_type": "stream",
     "text": [
      "WARNING:gensim.models.base_any2vec:consider setting layer size to a multiple of 4 for greater performance\n",
      "WARNING:gensim.models.base_any2vec:under 10 jobs per worker: consider setting a smaller `batch_words' for smoother alpha decay\n"
     ]
    }
   ],
   "source": [
    "test_embeddings=gensim.models.Word2Vec(test_walks, sg=1, window=5, size=2,min_count=1)"
   ]
  },
  {
   "cell_type": "code",
   "execution_count": 277,
   "metadata": {},
   "outputs": [],
   "source": [
    "test_d = defaultdict(list)\n",
    "for record in test_embeddings.wv.vocab:\n",
    "    test_d[int(record)].append([float(x) for x in list(test_embeddings.wv[record])])"
   ]
  },
  {
   "cell_type": "code",
   "execution_count": 278,
   "metadata": {},
   "outputs": [
    {
     "data": {
      "text/plain": [
       "defaultdict(list,\n",
       "            {2250: [[0.1758224368095398, 0.055904269218444824]],\n",
       "             1677: [[-0.17700250446796417, -0.13889075815677643]],\n",
       "             2040: [[0.10765806585550308, 0.21125295758247375]],\n",
       "             3506: [[0.22936920821666718, -0.04700567200779915]],\n",
       "             474: [[0.1912466436624527, 0.020002104341983795]],\n",
       "             1950: [[-0.03582441434264183, 0.05749659240245819]],\n",
       "             2529: [[0.008452160283923149, -0.1685403734445572]],\n",
       "             26: [[0.2214532345533371, 0.2278183549642563]],\n",
       "             5385: [[0.06839395314455032, -0.18961645662784576]],\n",
       "             4590: [[-0.0470343641936779, 0.1147354245185852]],\n",
       "             29: [[0.23646368086338043, -0.02545987442135811]],\n",
       "             1360: [[-0.24647565186023712, -0.08201407641172409]],\n",
       "             1224: [[0.005197387654334307, -0.03694377839565277]],\n",
       "             3199: [[0.08994331955909729, -0.13789671659469604]],\n",
       "             65: [[0.1927444040775299, 0.19653083384037018]],\n",
       "             1010: [[0.07441665977239609, 0.17033353447914124]],\n",
       "             5418: [[0.16938644647598267, -0.1925625056028366]],\n",
       "             558: [[-0.051857613027095795, 0.1231253445148468]],\n",
       "             3800: [[-0.19299235939979553, 0.225735142827034]],\n",
       "             1277: [[0.05199908837676048, -0.18793049454689026]],\n",
       "             3741: [[-0.1624462902545929, -0.16140851378440857]],\n",
       "             222: [[0.08271457254886627, -0.018729813396930695]],\n",
       "             2994: [[0.014782139100134373, -0.14663930237293243]],\n",
       "             3155: [[0.19037142395973206, 0.20487967133522034]],\n",
       "             3327: [[0.02435636706650257, 0.1550389677286148]],\n",
       "             2909: [[0.1466345638036728, 0.1392713338136673]],\n",
       "             2570: [[-0.24352365732192993, -0.13606081902980804]],\n",
       "             3704: [[-0.20800702273845673, -0.015710681676864624]],\n",
       "             442: [[-0.04516632482409477, -0.11325392127037048]],\n",
       "             1532: [[-0.17929843068122864, 0.2096540927886963]],\n",
       "             4509: [[-0.011669597588479519, 0.01576860621571541]],\n",
       "             2797: [[-0.19892705976963043, 0.19094277918338776]],\n",
       "             367: [[0.09787357598543167, -0.1212155818939209]],\n",
       "             1463: [[-0.23924505710601807, 0.15270307660102844]],\n",
       "             5572: [[0.23280714452266693, 0.007095910143107176]],\n",
       "             720: [[-0.12871892750263214, 0.2145620435476303]],\n",
       "             2520: [[0.11497948318719864, 0.08358805626630783]],\n",
       "             1936: [[-0.18493372201919556, 0.22357690334320068]],\n",
       "             2598: [[-0.17708313465118408, 0.2120284140110016]],\n",
       "             1175: [[-0.16700541973114014, 0.0269544068723917]],\n",
       "             54: [[-0.23657913506031036, 0.13711802661418915]],\n",
       "             4848: [[0.12007234990596771, 0.20894455909729004]],\n",
       "             4929: [[0.3390085995197296, 0.6835241317749023]],\n",
       "             786: [[0.5403482913970947, 0.7675622701644897]],\n",
       "             2693: [[0.34405842423439026, 0.67018723487854]],\n",
       "             939: [[-0.029622048139572144, 0.3341672718524933]],\n",
       "             268: [[0.395626038312912, 0.5501947402954102]],\n",
       "             937: [[0.18382401764392853, 0.3439472019672394]],\n",
       "             5145: [[-0.08028261363506317, -0.1285742074251175]],\n",
       "             1520: [[0.07058818638324738, 0.27992019057273865]],\n",
       "             1951: [[0.03201301395893097, -0.10682788491249084]],\n",
       "             296: [[-0.16586805880069733, 0.03045845963060856]],\n",
       "             3069: [[-0.14009468257427216, 0.10734494030475616]],\n",
       "             926: [[0.13001930713653564, -0.0796067863702774]],\n",
       "             4174: [[-0.15533526241779327, -0.04786921665072441]],\n",
       "             4256: [[0.012339460663497448, -0.0985199362039566]],\n",
       "             3081: [[-0.02130846679210663, 0.20768964290618896]],\n",
       "             2486: [[0.04857936501502991, 0.1756841391324997]],\n",
       "             2940: [[-0.10574822127819061, 0.13009528815746307]],\n",
       "             348: [[-0.14508970081806183, 0.028973940759897232]],\n",
       "             5339: [[-0.0008512904751114547, 0.10130590200424194]],\n",
       "             847: [[-0.146913081407547, -0.20283448696136475]],\n",
       "             415: [[0.8474758863449097, 0.24097484350204468]],\n",
       "             417: [[0.9507488012313843, -0.06236489117145538]],\n",
       "             3108: [[0.8424162864685059, 0.35152456164360046]],\n",
       "             2648: [[-0.03568710759282112, -0.1925419121980667]],\n",
       "             4905: [[0.0379110686480999, 0.21866805851459503]],\n",
       "             3382: [[-0.22252582013607025, -0.025297770276665688]],\n",
       "             1480: [[0.09584321826696396, 0.2108357548713684]],\n",
       "             2244: [[0.020205844193696976, 0.17574353516101837]],\n",
       "             3144: [[0.21528664231300354, -0.24577251076698303]],\n",
       "             1055: [[-0.08380965888500214, 0.1413823962211609]],\n",
       "             502: [[-0.5758860111236572, 0.4479905068874359]],\n",
       "             503: [[-0.8641480207443237, 0.3463557958602905]],\n",
       "             505: [[-0.9069213271141052, 0.39670494198799133]],\n",
       "             5009: [[0.17517830431461334, -0.06555812060832977]],\n",
       "             2175: [[-0.010242034681141376, -0.03425191342830658]],\n",
       "             3432: [[0.015708494931459427, -0.21210868656635284]],\n",
       "             3434: [[-0.20050202310085297, 0.09745286405086517]],\n",
       "             3436: [[0.16476942598819733, 0.10457548499107361]],\n",
       "             3433: [[-0.061282169073820114, -0.23210927844047546]],\n",
       "             1293: [[0.060956817120313644, -0.2529055178165436]],\n",
       "             691: [[0.002959560602903366, 0.09047786891460419]],\n",
       "             1292: [[0.07214589416980743, 0.011582410894334316]],\n",
       "             4131: [[0.04955016076564789, -0.037952303886413574]],\n",
       "             1882: [[0.23658765852451324, -0.21304409205913544]],\n",
       "             3299: [[-0.022639334201812744, 0.05233067274093628]],\n",
       "             3303: [[-0.10166604071855545, -0.2712004482746124]],\n",
       "             3301: [[-0.08958390355110168, -0.08413045853376389]],\n",
       "             3300: [[-0.07661428302526474, -0.18474242091178894]],\n",
       "             385: [[0.1324721872806549, -0.041333965957164764]],\n",
       "             1599: [[0.22737829387187958, 0.13858740031719208]],\n",
       "             2878: [[0.1976064294576645, 0.06243843212723732]],\n",
       "             167: [[-0.17550373077392578, 0.09583190828561783]],\n",
       "             299: [[-0.04445512220263481, 0.09790597856044769]],\n",
       "             2672: [[-0.08425574004650116, 0.0756034404039383]],\n",
       "             237: [[0.1488184630870819, -0.060997847467660904]],\n",
       "             1547: [[0.2471955269575119, -0.21124638617038727]],\n",
       "             4220: [[0.12979252636432648, -0.10715264827013016]],\n",
       "             5364: [[-0.20906956493854523, 0.16031628847122192]],\n",
       "             5213: [[-0.17753571271896362, -0.17285698652267456]],\n",
       "             857: [[-0.11998289078474045, -0.07848358154296875]],\n",
       "             2882: [[-0.1436181217432022, -0.07165256887674332]],\n",
       "             3158: [[-0.1637973189353943, -0.1685599833726883]],\n",
       "             3662: [[-0.12310147285461426, 0.23025259375572205]],\n",
       "             1983: [[0.004325699061155319, 0.1965707689523697]],\n",
       "             2549: [[0.0697370320558548, -0.00770308542996645]],\n",
       "             1740: [[-0.16644428670406342, 0.1998717188835144]],\n",
       "             5304: [[0.11612370610237122, 0.24063615500926971]],\n",
       "             4684: [[-0.1713036596775055, -0.216072216629982]],\n",
       "             2278: [[-0.15260857343673706, -0.021382778882980347]],\n",
       "             198: [[0.10407169163227081, 0.08245488256216049]],\n",
       "             2535: [[0.06334180384874344, -0.15332743525505066]],\n",
       "             2681: [[0.0769672766327858, -0.21193477511405945]],\n",
       "             2612: [[0.24836349487304688, 0.05066666007041931]],\n",
       "             3200: [[-0.10911612957715988, -0.1508665233850479]],\n",
       "             3930: [[-0.04016401991248131, -0.15356376767158508]],\n",
       "             4187: [[0.086083322763443, -0.028263075277209282]],\n",
       "             4235: [[0.07199752330780029, 0.008202205412089825]],\n",
       "             2489: [[0.2201254963874817, 0.17116887867450714]],\n",
       "             330: [[0.00698865158483386, -0.21727855503559113]],\n",
       "             1711: [[0.14324092864990234, -0.563900887966156]],\n",
       "             1712: [[-0.12660764157772064, -0.26012420654296875]],\n",
       "             1714: [[0.027635028585791588, -0.6763913631439209]],\n",
       "             5396: [[0.15149056911468506, 0.09088753908872604]],\n",
       "             4206: [[-0.03721853718161583, -0.13219702243804932]],\n",
       "             1211: [[0.20381145179271698, -0.1745787411928177]],\n",
       "             724: [[0.041500624269247055, 0.015394002199172974]],\n",
       "             4277: [[-0.17622432112693787, 0.24733297526836395]],\n",
       "             2488: [[-0.13396425545215607, -0.1331045776605606]],\n",
       "             2277: [[-0.02592720463871956, 0.042925525456666946]],\n",
       "             4923: [[0.09979041665792465, -0.2171645164489746]],\n",
       "             5544: [[0.1907508373260498, 0.18508897721767426]],\n",
       "             1374: [[-0.10224234312772751, 0.09219274669885635]],\n",
       "             2473: [[0.010383437387645245, 0.03945152461528778]],\n",
       "             5551: [[-0.22084011137485504, -0.12536288797855377]],\n",
       "             1157: [[0.16914954781532288, 0.01832032948732376]],\n",
       "             1059: [[-0.03917397931218147, 0.16716989874839783]],\n",
       "             5625: [[0.21847881376743317, -0.2187451273202896]],\n",
       "             2775: [[-0.06598879396915436, -0.12133395671844482]],\n",
       "             2611: [[0.07863694429397583, 0.1665961891412735]],\n",
       "             5446: [[0.09335068613290787, 0.10739798843860626]],\n",
       "             7: [[0.23797331750392914, -0.042664628475904465]],\n",
       "             1353: [[0.16677245497703552, 0.08948979526758194]],\n",
       "             2720: [[0.038430724292993546, 0.18696600198745728]],\n",
       "             677: [[-0.15350119769573212, -0.22305235266685486]],\n",
       "             4377: [[0.19171924889087677, -0.09807738661766052]],\n",
       "             2983: [[0.0965198501944542, 0.21844196319580078]],\n",
       "             1527: [[-0.030912339687347412, -0.17154131829738617]],\n",
       "             1979: [[0.012037883512675762, -0.18298250436782837]],\n",
       "             5193: [[-0.07920433580875397, -0.2295703887939453]],\n",
       "             1887: [[-0.17820331454277039, 0.24265709519386292]],\n",
       "             2295: [[0.24193060398101807, -0.2300308346748352]],\n",
       "             2963: [[0.12642119824886322, 0.15865175426006317]],\n",
       "             2291: [[0.09488377720117569, 0.19577661156654358]],\n",
       "             2292: [[0.23997357487678528, 0.0030177105218172073]],\n",
       "             1885: [[-0.15710881352424622, 0.14060145616531372]],\n",
       "             2290: [[-0.17351055145263672, -0.10958951711654663]],\n",
       "             4492: [[-0.12788337469100952, 0.05612141266465187]],\n",
       "             3854: [[-0.1499769538640976, -0.05950096994638443]],\n",
       "             1529: [[-0.16444000601768494, 0.13899795711040497]],\n",
       "             2929: [[-0.24667252600193024, 0.1862156242132187]],\n",
       "             4051: [[0.010646222159266472, 0.07131858170032501]],\n",
       "             3495: [[0.19357673823833466, 0.008526770398020744]],\n",
       "             2577: [[0.062117304652929306, 0.042921293526887894]],\n",
       "             5275: [[-0.05991506576538086, 0.13360117375850677]],\n",
       "             635: [[-0.09559226781129837, 0.16838818788528442]],\n",
       "             858: [[0.20785371959209442, 0.18501266837120056]],\n",
       "             4370: [[-0.02504134178161621, -0.05255010724067688]],\n",
       "             4147: [[-0.15851736068725586, -0.21790513396263123]],\n",
       "             1460: [[-0.08866862952709198, 0.22792159020900726]],\n",
       "             5581: [[-0.011902929283678532, -0.06339972466230392]],\n",
       "             853: [[-0.10150991380214691, 0.06084142252802849]],\n",
       "             2181: [[-0.14824552834033966, 0.2286774218082428]],\n",
       "             3341: [[-0.16405734419822693, 0.1098305955529213]],\n",
       "             551: [[-0.15611590445041656, 0.04039913788437843]],\n",
       "             2300: [[-0.16142193973064423, 0.050554245710372925]],\n",
       "             2700: [[-0.15436483919620514, -0.12082426249980927]],\n",
       "             4138: [[0.05442408099770546, -0.026576761156320572]],\n",
       "             4970: [[-0.09157179296016693, 0.16255472600460052]],\n",
       "             5618: [[0.4443899989128113, -0.6630076766014099]],\n",
       "             5616: [[0.17456842958927155, -0.717921257019043]],\n",
       "             693: [[-0.10428524762392044, 0.15130114555358887]],\n",
       "             5422: [[0.16797633469104767, -0.1707361936569214]],\n",
       "             2975: [[-0.09224241226911545, -0.1302282214164734]],\n",
       "             1483: [[-0.23959457874298096, -0.0022788860369473696]],\n",
       "             2684: [[0.05987011268734932, -0.13865354657173157]],\n",
       "             5545: [[0.08251698315143585, 0.15418533980846405]],\n",
       "             5311: [[0.20057134330272675, -0.10503295809030533]],\n",
       "             4835: [[-0.1278713494539261, 0.13381719589233398]],\n",
       "             2717: [[-0.013491899706423283, 0.0006657618214376271]],\n",
       "             844: [[-0.017013533040881157, -0.038369957357645035]],\n",
       "             2014: [[-0.15029509365558624, 0.2364509403705597]],\n",
       "             5108: [[0.10244233906269073, 0.05186517536640167]],\n",
       "             3939: [[0.19230341911315918, -0.15657025575637817]],\n",
       "             5258: [[-0.07857821136713028, 0.09713803231716156]],\n",
       "             1899: [[0.13349024951457977, -0.19695699214935303]],\n",
       "             1898: [[-0.017852798104286194, -0.15681083500385284]],\n",
       "             1896: [[0.19932591915130615, 0.09127900004386902]],\n",
       "             1901: [[-0.10333970934152603, -0.1805439591407776]],\n",
       "             1897: [[-0.22233429551124573, 0.032840609550476074]],\n",
       "             2900: [[-0.11249059438705444, 0.03152799606323242]],\n",
       "             3399: [[0.1325271874666214, -0.2398069202899933]],\n",
       "             5228: [[-0.15569309890270233, -0.03296222165226936]],\n",
       "             3636: [[-0.05306875333189964, -0.03313664346933365]],\n",
       "             2227: [[0.14101779460906982, 0.10389066487550735]],\n",
       "             1567: [[-0.11815783381462097, -0.13459815084934235]],\n",
       "             5270: [[0.1548418253660202, 0.10411840677261353]],\n",
       "             5425: [[-0.11321288347244263, -0.10888677835464478]],\n",
       "             5038: [[-0.10081914812326431, 0.03656531497836113]],\n",
       "             734: [[-0.006301038898527622, 0.234029158949852]],\n",
       "             2998: [[-0.13906481862068176, 0.15151025354862213]],\n",
       "             1295: [[0.08024261891841888, 0.18715181946754456]],\n",
       "             1766: [[0.118529312312603, 0.13939698040485382]],\n",
       "             2080: [[-0.06607276201248169, -0.14586995542049408]],\n",
       "             2568: [[0.09350313991308212, 0.0962299257516861]],\n",
       "             3396: [[-0.0965266302227974, -0.0055084447376430035]],\n",
       "             4932: [[0.15832647681236267, -0.19858337938785553]],\n",
       "             3339: [[0.006727869622409344, 0.17003133893013]],\n",
       "             3660: [[-0.11411815136671066, -0.03309670835733414]],\n",
       "             2841: [[0.023541275411844254, 0.13339227437973022]],\n",
       "             5585: [[-0.2282133549451828, -0.013940740376710892]],\n",
       "             264: [[-0.1728479266166687, -0.007563202641904354]],\n",
       "             1210: [[-0.10324948281049728, -0.0487729050219059]],\n",
       "             3201: [[0.08482733368873596, -0.11350130289793015]],\n",
       "             1064: [[0.23192588984966278, -0.004722927697002888]],\n",
       "             3944: [[-0.20623266696929932, 0.24054376780986786]],\n",
       "             2723: [[-0.12034232169389725, 0.2039809376001358]],\n",
       "             3403: [[0.0765589103102684, 0.1955016404390335]],\n",
       "             1846: [[-0.17679452896118164, 0.13551297783851624]],\n",
       "             3173: [[-0.0777912363409996, 0.23944690823554993]],\n",
       "             1376: [[-0.8982658386230469, 0.22707049548625946]],\n",
       "             689: [[-1.0310057401657104, -0.2086571902036667]],\n",
       "             4570: [[-0.8349347114562988, 0.13127999007701874]],\n",
       "             1343: [[0.09170226752758026, -0.09122303128242493]],\n",
       "             2590: [[-0.11090796440839767, -0.22816626727581024]],\n",
       "             1559: [[0.11897706985473633, -0.038514696061611176]],\n",
       "             5051: [[-0.12414300441741943, 0.08984452486038208]],\n",
       "             229: [[0.07565255463123322, 0.02642746828496456]],\n",
       "             3737: [[-0.20002005994319916, -0.013228449039161205]],\n",
       "             1212: [[0.12473791092634201, 0.01908000186085701]],\n",
       "             1930: [[0.14910295605659485, 0.18645744025707245]],\n",
       "             1606: [[0.06877267360687256, -0.16030940413475037]],\n",
       "             2558: [[-0.1905701905488968, -0.15224900841712952]],\n",
       "             1969: [[0.021886158734560013, -0.23471249639987946]],\n",
       "             5577: [[-0.0744287520647049, 0.05671059712767601]],\n",
       "             1598: [[-0.01942504569888115, 0.005422300659120083]],\n",
       "             3196: [[0.12028422951698303, 0.24564878642559052]],\n",
       "             3796: [[-0.008121408522129059, 0.18097245693206787]],\n",
       "             439: [[-0.24600350856781006, -0.01886647380888462]],\n",
       "             2182: [[0.04591992497444153, 0.0006921724416315556]],\n",
       "             5035: [[-0.09842921793460846, -0.1669272482395172]],\n",
       "             4498: [[0.15578725934028625, -0.17280854284763336]],\n",
       "             5606: [[0.04061420261859894, -0.17414593696594238]],\n",
       "             343: [[0.013421257957816124, -0.016640357673168182]],\n",
       "             737: [[0.24022510647773743, 0.11346292495727539]],\n",
       "             2215: [[0.08446983247995377, -0.005909949541091919]],\n",
       "             3366: [[0.20025821030139923, 0.028281576931476593]],\n",
       "             4116: [[-0.06429193168878555, 0.00476667657494545]],\n",
       "             1213: [[-0.16622450947761536, -0.1691824346780777]],\n",
       "             513: [[-0.08986189216375351, 0.0065133236348629]],\n",
       "             57: [[-0.15442614257335663, -0.003681693458929658]],\n",
       "             3539: [[0.1636279970407486, 0.21346032619476318]],\n",
       "             3258: [[-0.4541377127170563, -0.008960733190178871]],\n",
       "             5641: [[-0.6403012275695801, 0.1548292487859726]],\n",
       "             5643: [[-0.05816146731376648, -0.14651697874069214]],\n",
       "             3256: [[-0.569108784198761, 0.15524663031101227]],\n",
       "             3043: [[-0.22088395059108734, 0.197456493973732]],\n",
       "             3820: [[0.017789535224437714, -0.12143433094024658]],\n",
       "             1002: [[-0.20503456890583038, -0.2235422432422638]],\n",
       "             136: [[-0.16377033293247223, -0.03345673903822899]],\n",
       "             4511: [[0.16378280520439148, 0.0008413660107180476]],\n",
       "             3343: [[0.013100195676088333, 0.0024399817921221256]],\n",
       "             3306: [[0.12231382727622986, -0.05571168288588524]],\n",
       "             1607: [[0.03654315695166588, -0.06390528380870819]],\n",
       "             3398: [[0.17664414644241333, -0.08624884486198425]],\n",
       "             3841: [[-0.17638719081878662, -0.03538786619901657]],\n",
       "             4229: [[-0.10762346535921097, -0.08229433000087738]],\n",
       "             2798: [[-0.10613404214382172, 0.17032399773597717]],\n",
       "             4614: [[-0.20356252789497375, 0.23601306974887848]],\n",
       "             3594: [[-0.0014362799702212214, -0.07672443985939026]],\n",
       "             963: [[0.05213157832622528, 0.21448266506195068]],\n",
       "             2041: [[0.16670845448970795, -0.21531936526298523]],\n",
       "             5104: [[0.13732828199863434, 0.11156824976205826]],\n",
       "             4436: [[-0.15514349937438965, 0.21080586314201355]],\n",
       "             4802: [[0.06507185846567154, 0.026776228100061417]],\n",
       "             4307: [[-0.18469534814357758, 0.23119200766086578]],\n",
       "             1911: [[-0.1988089382648468, 0.23971207439899445]],\n",
       "             2021: [[0.024250974878668785, -0.18967615067958832]],\n",
       "             3133: [[0.16041770577430725, 0.24486581981182098]],\n",
       "             2192: [[-0.15246084332466125, -0.1181405633687973]],\n",
       "             2470: [[-0.17340734601020813, 0.05859129875898361]],\n",
       "             2971: [[-0.19167472422122955, 0.018053140491247177]],\n",
       "             1937: [[0.09605935961008072, -0.18839764595031738]],\n",
       "             5455: [[0.10394299775362015, 0.02647445537149906]],\n",
       "             1771: [[0.006850911770015955, -0.06814519315958023]],\n",
       "             5007: [[-0.11390440911054611, -0.23080453276634216]],\n",
       "             3390: [[-0.2148296982049942, -0.19135527312755585]],\n",
       "             2939: [[-0.2057953029870987, 0.07050511240959167]],\n",
       "             2615: [[0.13737259805202484, 0.06493786722421646]],\n",
       "             1256: [[0.2091911882162094, 0.12788128852844238]],\n",
       "             909: [[0.08832811564207077, -0.04329230263829231]],\n",
       "             555: [[0.16898174583911896, -0.050317954272031784]],\n",
       "             2112: [[0.15398211777210236, 0.18908749520778656]],\n",
       "             2667: [[-0.010444313287734985, -0.0724126324057579]],\n",
       "             752: [[0.021115990355610847, -0.15085165202617645]],\n",
       "             1073: [[0.15588024258613586, -0.20378002524375916]],\n",
       "             5276: [[0.20517385005950928, 0.012248720042407513]],\n",
       "             3559: [[-0.02449904941022396, 0.1302792727947235]],\n",
       "             2012: [[-0.12461022287607193, -0.18347559869289398]],\n",
       "             5305: [[0.078428253531456, -0.0574665293097496]],\n",
       "             4834: [[-0.20117682218551636, -0.23068906366825104]],\n",
       "             84: [[0.17726494371891022, -0.2162020206451416]],\n",
       "             4125: [[-0.07275934517383575, 0.17389312386512756]],\n",
       "             2546: [[-0.09153957664966583, -0.076698899269104]],\n",
       "             5569: [[-0.0639115422964096, 0.20554444193840027]],\n",
       "             3175: [[0.16003523766994476, -0.2075132131576538]],\n",
       "             2358: [[-0.12184177339076996, 0.10908959060907364]],\n",
       "             3853: [[0.1366773396730423, 0.01540310587733984]],\n",
       "             5218: [[-0.15388986468315125, -0.24538564682006836]],\n",
       "             3067: [[-0.01195814460515976, 0.14371317625045776]],\n",
       "             212: [[0.03712678328156471, -0.08172607421875]],\n",
       "             4623: [[0.2135436087846756, -0.16492685675621033]],\n",
       "             3372: [[0.15721626579761505, 0.1298399120569229]],\n",
       "             2414: [[0.06423414498567581, 0.17100059986114502]],\n",
       "             3955: [[0.1213332787156105, -0.03736065700650215]],\n",
       "             1434: [[-0.20741894841194153, 0.16978976130485535]],\n",
       "             516: [[0.20012299716472626, 0.06857474893331528]],\n",
       "             1991: [[-0.03216775134205818, -0.1691918820142746]],\n",
       "             1722: [[0.17401449382305145, -0.22484596073627472]],\n",
       "             2491: [[-0.11301323771476746, -0.18832984566688538]],\n",
       "             3879: [[-0.1578696221113205, 0.023426154628396034]],\n",
       "             3408: [[0.09151137620210648, 0.21591633558273315]],\n",
       "             3970: [[0.24149996042251587, 0.015288433991372585]],\n",
       "             376: [[0.22430075705051422, -0.1474718600511551]],\n",
       "             4646: [[0.024834323674440384, -0.18026839196681976]],\n",
       "             3570: [[0.08721283823251724, 0.01616556942462921]],\n",
       "             1420: [[-0.13381822407245636, 0.2145972102880478]],\n",
       "             3099: [[-0.011567816138267517, 0.11024800688028336]],\n",
       "             1440: [[-0.1298733353614807, 0.2455550730228424]],\n",
       "             5394: [[0.21138693392276764, 0.14172068238258362]],\n",
       "             4633: [[0.07424813508987427, 0.06496327370405197]],\n",
       "             4185: [[-0.07997117936611176, 0.17990902066230774]],\n",
       "             768: [[-0.16346614062786102, -0.010058052837848663]],\n",
       "             119: [[-0.21064113080501556, -0.17399249970912933]],\n",
       "             1940: [[-0.15372344851493835, -0.1000596284866333]],\n",
       "             2130: [[0.21534302830696106, 0.12147605419158936]],\n",
       "             4306: [[0.20714691281318665, -0.22705323994159698]],\n",
       "             4501: [[-0.06929775327444077, -0.0077254571951925755]],\n",
       "             2113: [[0.003411166835576296, -0.20395225286483765]],\n",
       "             1069: [[-0.1214936375617981, 0.17628808319568634]],\n",
       "             5154: [[-0.11051999032497406, -0.24862979352474213]],\n",
       "             3407: [[0.0049984510987997055, -0.14302770793437958]],\n",
       "             1461: [[0.10463720560073853, -0.21959199011325836]],\n",
       "             2451: [[0.09640799462795258, -0.13710704445838928]],\n",
       "             2639: [[0.00390558410435915, 0.039015430957078934]],\n",
       "             3751: [[0.13628309965133667, -0.1414886862039566]],\n",
       "             1733: [[-0.18805424869060516, 0.09160755574703217]],\n",
       "             4188: [[0.04618339613080025, -0.16232095658779144]],\n",
       "             2806: [[0.21153824031352997, 0.03313208371400833]],\n",
       "             2360: [[0.17470698058605194, 0.0019312346121296287]],\n",
       "             1252: [[-0.005348819307982922, -0.1685376763343811]],\n",
       "             201: [[-0.12796451151371002, 0.22458650171756744]],\n",
       "             1141: [[0.08877088874578476, 0.17697890102863312]],\n",
       "             1145: [[-0.008552508428692818, -0.06644493341445923]],\n",
       "             1142: [[0.24512708187103271, -0.2438565194606781]],\n",
       "             1144: [[-0.024527844041585922, -0.2604635953903198]],\n",
       "             1147: [[-0.12122371047735214, -0.2626064419746399]],\n",
       "             2184: [[0.13386011123657227, -0.038211166858673096]],\n",
       "             1143: [[-0.010031988844275475, 0.1183653399348259]],\n",
       "             2187: [[-0.08369295299053192, 0.14309066534042358]],\n",
       "             5075: [[0.23390544950962067, -0.05329972133040428]],\n",
       "             4664: [[-0.08408161252737045, -0.2049364596605301]],\n",
       "             1975: [[-0.02680397592484951, 0.1690223515033722]],\n",
       "             4340: [[0.24061377346515656, 0.2347937822341919]],\n",
       "             2022: [[0.21701554954051971, -0.013675924390554428]],\n",
       "             1650: [[-0.0752815455198288, 0.14930789172649384]],\n",
       "             1548: [[0.16450165212154388, 0.09673972427845001]],\n",
       "             1624: [[0.07578783482313156, -0.15896475315093994]],\n",
       "             2979: [[-0.15200158953666687, -0.10724636167287827]],\n",
       "             2397: [[-0.14369069039821625, -0.09971638023853302]],\n",
       "             2398: [[-0.2240201085805893, 0.10529808700084686]],\n",
       "             2400: [[-0.20274102687835693, -0.18901637196540833]],\n",
       "             4847: [[0.2240336835384369, 0.23134487867355347]],\n",
       "             5152: [[-0.027773378416895866, -0.020450012758374214]],\n",
       "             4434: [[-0.1684292107820511, 0.0025472838897258043]],\n",
       "             1612: [[-0.04296758025884628, 0.21220189332962036]],\n",
       "             4680: [[0.014140666462481022, -0.12622347474098206]],\n",
       "             1504: [[-0.192501500248909, 0.24733300507068634]],\n",
       "             1945: [[-0.12152347713708878, 0.08826270699501038]],\n",
       "             2106: [[-0.011888573877513409, -0.17230971157550812]],\n",
       "             700: [[0.21608997881412506, 0.19468054175376892]],\n",
       "             3110: [[-0.0859210416674614, 0.018858330324292183]],\n",
       "             3114: [[0.15873944759368896, 0.006231993902474642]],\n",
       "             1482: [[-0.15362967550754547, -0.0037886337377130985]],\n",
       "             3050: [[-0.18954753875732422, 0.0706823468208313]],\n",
       "             4368: [[0.2414446622133255, -0.1352708637714386]],\n",
       "             2356: [[0.05262652784585953, 0.17950108647346497]],\n",
       "             1530: [[0.10500583052635193, -0.0072091119363904]],\n",
       "             3538: [[-0.2208576202392578, 0.10623128712177277]],\n",
       "             4523: [[-0.12672023475170135, 0.24720989167690277]],\n",
       "             1942: [[0.02753753401339054, -0.08587721735239029]],\n",
       "             2247: [[-0.22753743827342987, 0.02550886757671833]],\n",
       "             5065: [[-0.1416579782962799, -0.16327591240406036]],\n",
       "             5220: [[-0.09960044175386429, 0.1850569248199463]],\n",
       "             4132: [[-0.09874214231967926, 0.21899975836277008]],\n",
       "             1602: [[0.07812361419200897, 0.14718006551265717]],\n",
       "             2653: [[0.1993396133184433, -0.008117779158055782]],\n",
       "             2742: [[0.13016483187675476, 0.23589661717414856]],\n",
       "             3431: [[0.03546704351902008, 0.17360612750053406]],\n",
       "             1757: [[0.17551298439502716, -0.11957449465990067]],\n",
       "             5567: [[-0.00208891648799181, 0.016423046588897705]],\n",
       "             3275: [[0.10588791966438293, 0.15151764452457428]],\n",
       "             2016: [[0.067231684923172, -0.13515377044677734]],\n",
       "             3507: [[-0.21732047200202942, -0.03218669071793556]],\n",
       "             2999: [[0.06010608375072479, -0.22974169254302979]],\n",
       "             3664: [[0.20951884984970093, -0.10375122725963593]],\n",
       "             4477: [[0.1367577165365219, -0.16219596564769745]],\n",
       "             1452: [[0.11687109619379044, -0.08683782070875168]],\n",
       "             2694: [[0.07734587788581848, 0.049486566334962845]],\n",
       "             2043: [[-0.1640762984752655, -0.14713825285434723]],\n",
       "             2026: [[0.11292946338653564, 0.039898090064525604]],\n",
       "             3650: [[0.08496298640966415, 0.02834920398890972]],\n",
       "             1021: [[-1.1663020849227905, -1.3057774305343628]],\n",
       "             1023: [[-1.2213246822357178, -1.189669132232666]],\n",
       "             3858: [[-0.18608422577381134, -0.22335603833198547]],\n",
       "             3818: [[-0.13091912865638733, -0.1962420493364334]],\n",
       "             2261: [[0.10126601904630661, 0.18597865104675293]],\n",
       "             1330: [[-0.2217150181531906, 0.0746457427740097]],\n",
       "             4357: [[0.03705999255180359, 0.21590444445610046]],\n",
       "             4151: [[0.1420944631099701, -0.1236029863357544]],\n",
       "             5463: [[-0.20838913321495056, -0.14394623041152954]],\n",
       "             124: [[0.02635846473276615, -0.06313122063875198]],\n",
       "             843: [[0.22712400555610657, -0.22779886424541473]],\n",
       "             1441: [[0.03300417959690094, 0.1475781947374344]],\n",
       "             1323: [[-0.14753220975399017, -0.05681764334440231]],\n",
       "             3728: [[0.08407623320817947, 0.16851688921451569]],\n",
       "             181: [[-0.0486018992960453, 0.2494249939918518]],\n",
       "             2501: [[0.19796539843082428, -0.0015862382715567946]],\n",
       "             1858: [[0.17528606951236725, 0.23779575526714325]],\n",
       "             5582: [[-0.12371936440467834, 0.2160210758447647]],\n",
       "             4488: [[0.10795414447784424, 0.10398687422275543]],\n",
       "             1785: [[0.2283814698457718, 0.23643992841243744]],\n",
       "             2715: [[0.07633238285779953, 0.20277750492095947]],\n",
       "             852: [[-0.20076854526996613, -0.032395824790000916]],\n",
       "             3605: [[-0.1252080351114273, 0.12225785106420517]],\n",
       "             4967: [[0.16935861110687256, 0.12936513125896454]],\n",
       "             686: [[0.024711664766073227, -0.10943378508090973]],\n",
       "             1238: [[0.008786201477050781, -0.11909265071153641]],\n",
       "             3535: [[0.10117342323064804, -0.02523251250386238]],\n",
       "             4882: [[0.2086133509874344, -0.21827121078968048]],\n",
       "             4685: [[0.04439663887023926, 0.08526355773210526]],\n",
       "             1246: [[-0.19650466740131378, -0.24451321363449097]],\n",
       "             2176: [[-0.09766405820846558, -0.20233064889907837]],\n",
       "             5449: [[0.11576224863529205, 0.1629207879304886]],\n",
       "             4561: [[0.07440395653247833, -0.15328481793403625]],\n",
       "             227: [[0.09848541021347046, 0.1817428022623062]],\n",
       "             4192: [[-0.0639452114701271, 0.16089993715286255]],\n",
       "             4592: [[0.05523904412984848, 0.10747653245925903]],\n",
       "             3098: [[-0.22811682522296906, -0.006776702124625444]],\n",
       "             1833: [[0.05300001800060272, 0.07321124523878098]],\n",
       "             1829: [[0.06440752744674683, 0.09574899822473526]],\n",
       "             1835: [[-0.1877077966928482, -0.21683619916439056]],\n",
       "             1830: [[-0.1524544209241867, -0.09589280188083649]],\n",
       "             1831: [[0.009497015736997128, -0.15480095148086548]],\n",
       "             1832: [[0.17120547592639923, -0.10038183629512787]],\n",
       "             2924: [[0.18201544880867004, 0.24404533207416534]],\n",
       "             915: [[0.17599809169769287, 0.11037255823612213]],\n",
       "             4024: [[-0.2504539489746094, 0.07510455697774887]],\n",
       "             4106: [[-0.14454087615013123, -0.12461546808481216]],\n",
       "             5515: [[-0.09947280585765839, 0.20250988006591797]],\n",
       "             5487: [[0.05661051720380783, -0.10348949581384659]],\n",
       "             5489: [[-0.10775178670883179, -0.11104916781187057]],\n",
       "             4108: [[-0.21593312919139862, 0.06072385236620903]],\n",
       "             5488: [[0.1797904521226883, 0.24083487689495087]],\n",
       "             4335: [[0.23111289739608765, -0.10997270792722702]],\n",
       "             3195: [[0.0642780289053917, -0.1962263286113739]],\n",
       "             1274: [[0.07596148550510406, 0.09150035679340363]],\n",
       "             4318: [[-0.1781231164932251, -0.007809484377503395]],\n",
       "             4232: [[-0.03872761130332947, -0.14663636684417725]],\n",
       "             703: [[-0.057795703411102295, -0.18722790479660034]],\n",
       "             4134: [[0.18136268854141235, 0.050975218415260315]],\n",
       "             3080: [[-0.012692614458501339, -0.20605877041816711]],\n",
       "             4983: [[-0.06876613199710846, -0.08044983446598053]],\n",
       "             3541: [[0.008832813240587711, -0.16525140404701233]],\n",
       "             443: [[0.023834528401494026, 0.1302706003189087]],\n",
       "             3942: [[-0.20612159371376038, -0.18284867703914642]],\n",
       "             2869: [[0.15915872156620026, 0.22551825642585754]],\n",
       "             3631: [[0.05090712010860443, -0.09117874503135681]],\n",
       "             193: [[0.20675528049468994, -0.19017189741134644]],\n",
       "             2458: [[-0.1117897629737854, 0.06838954240083694]],\n",
       "             3534: [[0.008312677964568138, -0.10523129999637604]],\n",
       "             1934: [[-0.11496438831090927, 0.07344391196966171]],\n",
       "             1191: [[-0.009673616848886013, -0.11619777232408524]],\n",
       "             161: [[-0.12946470081806183, 0.15221714973449707]],\n",
       "             4033: [[0.016311148181557655, 0.12971296906471252]],\n",
       "             1669: [[-0.2387429028749466, -0.15984781086444855]],\n",
       "             4339: [[-0.06267434358596802, -0.09359700232744217]],\n",
       "             5566: [[0.1255360245704651, -0.05959094315767288]],\n",
       "             342: [[0.08808611333370209, 0.19211357831954956]],\n",
       "             2740: [[-0.02412404865026474, -0.1618085503578186]],\n",
       "             1012: [[0.07706164568662643, 0.04235021024942398]],\n",
       "             2394: [[0.19313013553619385, 0.12659601867198944]],\n",
       "             4866: [[0.09307684749364853, -0.24476753175258636]],\n",
       "             2586: [[-0.9247633218765259, -0.9885016679763794]],\n",
       "             2588: [[-0.592880368232727, -1.2853336334228516]],\n",
       "             68: [[0.07797171920537949, -0.08039562404155731]],\n",
       "             3384: [[-0.11326239258050919, -0.17236053943634033]],\n",
       "             3580: [[0.0013809285592287779, 0.09893164783716202]],\n",
       "             3510: [[-0.12327778339385986, 0.09413928538560867]],\n",
       "             3328: [[-0.2270662635564804, 0.12868209183216095]],\n",
       "             215: [[-0.22806322574615479, -0.05930337682366371]],\n",
       "             2573: [[0.21628409624099731, 0.18679210543632507]],\n",
       "             4380: [[-0.11972120404243469, 0.07576946169137955]],\n",
       "             4058: [[0.0031258645467460155, -0.21159358322620392]],\n",
       "             2362: [[-0.1683216691017151, -0.08233001828193665]],\n",
       "             3198: [[0.24128904938697815, -0.18433596193790436]],\n",
       "             258: [[0.1279880851507187, 0.2285039722919464]],\n",
       "             4632: [[-0.11125179380178452, 0.1726382076740265]],\n",
       "             883: [[0.10200859606266022, -0.07879786193370819]],\n",
       "             854: [[-0.08878397196531296, -0.022430526092648506]],\n",
       "             2518: [[0.07086862623691559, -0.32771235704421997]],\n",
       "             2516: [[-0.06154995039105415, -0.05919057875871658]],\n",
       "             2515: [[-0.05277283489704132, -0.15940320491790771]],\n",
       "             4088: [[-0.21096207201480865, -0.028537940233945847]],\n",
       "             4715: [[0.10063846409320831, 0.05391967296600342]],\n",
       "             5393: [[0.24744941294193268, -0.04283004254102707]],\n",
       "             2795: [[-0.2391757369041443, 0.1403440684080124]],\n",
       "             2794: [[0.16122503578662872, 0.26049676537513733]],\n",
       "             1634: [[-0.0460892952978611, -0.10961117595434189]],\n",
       "             1632: [[0.023495040833950043, 0.12459667772054672]],\n",
       "             665: [[0.08365080505609512, 0.024446699768304825]],\n",
       "             4863: [[0.225934699177742, 0.24427483975887299]],\n",
       "             2879: [[-0.18912482261657715, 0.1466769427061081]],\n",
       "             2164: [[0.11378532648086548, 0.2204781025648117]],\n",
       "             221: [[-0.17565105855464935, -0.1413702368736267]],\n",
       "             5613: [[0.20956304669380188, -0.0055723050609230995]],\n",
       "             2275: [[-0.119129978120327, -0.23277981579303741]],\n",
       "             1769: [[-0.14545759558677673, -0.1502579003572464]],\n",
       "             2429: [[-0.1080511137843132, 0.08310102671384811]],\n",
       "             554: [[0.05933954194188118, -0.13261573016643524]],\n",
       "             789: [[-0.1472664773464203, -0.14424921572208405]],\n",
       "             9: [[0.17031794786453247, -0.04196000471711159]],\n",
       "             4053: [[0.13985641300678253, -0.07558778673410416]],\n",
       "             4660: [[0.10315008461475372, -0.0566333569586277]],\n",
       "             3174: [[-0.11144284158945084, -0.030805492773652077]],\n",
       "             2365: [[-0.2232305407524109, -0.08044864982366562]],\n",
       "             2418: [[0.10908815264701843, -0.06893889605998993]],\n",
       "             2076: [[0.026224829256534576, -0.09365887194871902]],\n",
       "             3668: [[0.15635895729064941, -0.05326923355460167]],\n",
       "             4978: [[-0.05036433786153793, 0.18477630615234375]],\n",
       "             63: [[-0.029966944828629494, -0.20184580981731415]],\n",
       "             856: [[0.18096137046813965, 0.19088459014892578]],\n",
       "             1623: [[-0.13678406178951263, 0.044852349907159805]],\n",
       "             1570: [[-0.10769757628440857, 0.06434415280818939]],\n",
       "             5473: [[-0.12382500618696213, -0.17181752622127533]],\n",
       "             4950: [[-0.11493275314569473, 0.05020587891340256]],\n",
       "             5622: [[0.2018478512763977, 0.4278436303138733]],\n",
       "             3731: [[-0.0684787929058075, 0.04086616262793541]],\n",
       "             2170: [[0.2269999235868454, 0.04039958491921425]],\n",
       "             2255: [[0.05327229201793671, 0.10612848401069641]],\n",
       "             5302: [[0.005137771368026733, -0.12234921008348465]],\n",
       "             27: [[0.04134456440806389, -0.2347852736711502]],\n",
       "             4739: [[-0.08265289664268494, 0.1855621635913849]],\n",
       "             2920: [[-0.04994255676865578, -0.016565194353461266]],\n",
       "             1531: [[-0.2118442803621292, -0.18497174978256226]],\n",
       "             2084: [[0.05207262933254242, 0.22603464126586914]],\n",
       "             4717: [[-0.06986931711435318, -0.16550347208976746]],\n",
       "             56: [[-0.02147090435028076, -0.0880269929766655]],\n",
       "             51: [[-0.12312638759613037, 0.2364991009235382]],\n",
       "             5064: [[0.10223304480314255, -0.1560927927494049]],\n",
       "             3836: [[-0.15845651924610138, -0.08159004151821136]],\n",
       "             5650: [[-0.0677851140499115, -0.2084975689649582]],\n",
       "             1267: [[-0.017923204228281975, 0.1014459952712059]],\n",
       "             2553: [[0.1488129198551178, -0.12538354098796844]],\n",
       "             4172: [[0.05552457645535469, -0.23837734758853912]],\n",
       "             353: [[0.12920936942100525, 0.017298851162195206]],\n",
       "             2420: [[-0.04223007708787918, 0.055772650986909866]],\n",
       "             4090: [[-0.22247129678726196, 0.03276669979095459]],\n",
       "             4528: [[0.12144216895103455, -0.0022194641642272472]],\n",
       "             1739: [[-0.08077075332403183, -0.1763576716184616]],\n",
       "             1737: [[0.014050974510610104, -0.10669243335723877]],\n",
       "             3193: [[0.07808874547481537, -0.19300615787506104]],\n",
       "             3502: [[0.11890207976102829, -0.14909231662750244]],\n",
       "             3500: [[0.07060199975967407, 0.22290076315402985]],\n",
       "             3499: [[0.04305650666356087, 0.003004814265295863]],\n",
       "             891: [[0.058637503534555435, 0.22881294786930084]],\n",
       "             341: [[-0.006157407537102699, 0.07739130407571793]],\n",
       "             4010: [[-0.1267656683921814, -0.17022553086280823]],\n",
       "             1437: [[0.20957604050636292, 0.17494602501392365]],\n",
       "             3418: [[0.23571309447288513, 0.11711709201335907]],\n",
       "             3658: [[0.15080009400844574, -0.02956564910709858]],\n",
       "             1955: [[0.2331772893667221, -0.20093956589698792]],\n",
       "             1800: [[0.20372051000595093, 0.15072208642959595]],\n",
       "             2259: [[0.11768453568220139, -0.019449016079306602]],\n",
       "             2415: [[0.08558003604412079, -0.025589950382709503]],\n",
       "             3558: [[-0.09529124200344086, -0.052719954401254654]],\n",
       "             4599: [[0.19367408752441406, 0.17376047372817993]],\n",
       "             52: [[-0.07987350970506668, -0.1727685183286667]],\n",
       "             4447: [[0.03672751039266586, -0.08714010566473007]],\n",
       "             2790: [[-0.095232293009758, 0.166347473859787]],\n",
       "             2634: [[0.08752237260341644, -0.1901777982711792]],\n",
       "             5053: [[-0.1020871251821518, 0.07887718826532364]],\n",
       "             4217: [[-0.022731417790055275, -0.1123637706041336]],\n",
       "             3838: [[0.15648305416107178, -0.20770488679409027]],\n",
       "             1849: [[-0.02898912876844406, -0.2260226607322693]],\n",
       "             1307: [[0.1645059436559677, 0.11612174659967422]],\n",
       "             146: [[0.009068747982382774, -0.01793091371655464]],\n",
       "             5073: [[0.023216962814331055, -0.1845913678407669]],\n",
       "             585: [[-0.19338561594486237, 0.15895506739616394]],\n",
       "             5471: [[-0.23690976202487946, 0.07064753770828247]],\n",
       "             459: [[0.009856825694441795, -0.013864829204976559]],\n",
       "             4316: [[0.19772066175937653, -0.0845777839422226]],\n",
       "             1253: [[0.21255333721637726, -0.003891673171892762]],\n",
       "             3029: [[-0.12965291738510132, -0.11889897286891937]],\n",
       "             1236: [[-0.24128320813179016, 0.09245485812425613]],\n",
       "             446: [[-0.15819776058197021, 0.046818409115076065]],\n",
       "             5082: [[-0.05444220453500748, -0.07246697694063187]],\n",
       "             2114: [[0.03266346827149391, -0.1528756320476532]],\n",
       "             5231: [[-0.2264128178358078, -0.009806126356124878]],\n",
       "             3387: [[-0.10698801279067993, -0.07160570472478867]],\n",
       "             3216: [[0.19520361721515656, 0.19400949776172638]],\n",
       "             946: [[-0.17695634067058563, -0.1776440143585205]],\n",
       "             4286: [[0.025210784748196602, 0.09644078463315964]],\n",
       "             3646: [[-0.0927375927567482, 0.18476876616477966]],\n",
       "             2455: [[-0.02354869805276394, -0.14691299200057983]],\n",
       "             2412: [[0.10811544954776764, 0.11165346950292587]],\n",
       "             3238: [[-0.22329950332641602, 0.24226947128772736]],\n",
       "             4681: [[-0.08470574766397476, -0.025329936295747757]],\n",
       "             4938: [[-0.1853078156709671, 0.005117869004607201]],\n",
       "             1453: [[0.06406702846288681, -0.01789332740008831]],\n",
       "             17: [[0.07058556377887726, -0.05980177968740463]],\n",
       "             1346: [[-0.24998238682746887, -0.2025318741798401]],\n",
       "             1060: [[0.08917587250471115, 0.0032133774366229773]],\n",
       "             79: [[-0.030385132879018784, -0.029894066974520683]],\n",
       "             5236: [[0.24152767658233643, -0.02612515725195408]],\n",
       "             236: [[0.0967477336525917, 0.08476715534925461]],\n",
       "             2180: [[-0.1317272186279297, -0.1708945780992508]],\n",
       "             5477: [[-0.21158437430858612, 0.06145560368895531]],\n",
       "             989: [[0.2095884084701538, 0.22670121490955353]],\n",
       "             3004: [[-0.2006748914718628, -0.07003075629472733]],\n",
       "             2665: [[0.052458085119724274, -0.21075153350830078]],\n",
       "             5647: [[0.10357499867677689, 0.1013445183634758]],\n",
       "             5457: [[-0.16215857863426208, -0.235967218875885]],\n",
       "             509: [[0.20725801587104797, -0.1692029982805252]],\n",
       "             2755: [[0.1779184639453888, -0.1894150972366333]],\n",
       "             3549: [[-0.1838436722755432, 0.08453048020601273]],\n",
       "             3409: [[-0.20866169035434723, -0.07676107436418533]],\n",
       "             4080: [[0.2124074250459671, 0.022459102794528008]],\n",
       "             4067: [[-0.15546926856040955, -0.14412261545658112]],\n",
       "             3756: [[0.044218726456165314, -0.07089702785015106]],\n",
       "             246: [[0.22724732756614685, 0.0407477430999279]],\n",
       "             1190: [[0.04079722985625267, -0.21333371102809906]],\n",
       "             3427: [[-0.2040088027715683, -0.17987680435180664]],\n",
       "             1888: [[0.09140856564044952, -0.17927798628807068]],\n",
       "             139: [[0.246673122048378, 0.058683592826128006]],\n",
       "             4507: [[-0.14880865812301636, 0.1792667806148529]],\n",
       "             2165: [[-0.05465688928961754, 0.23409628868103027]],\n",
       "             226: [[-0.07209879904985428, 0.03661388158798218]],\n",
       "             5105: [[0.23710742592811584, -0.22995346784591675]],\n",
       "             2438: [[0.13347719609737396, -0.030815748497843742]],\n",
       "             2954: [[0.07051851600408554, -0.1691119223833084]],\n",
       "             430: [[0.17541000247001648, -0.333652526140213]],\n",
       "             433: [[0.16750603914260864, 0.03082316182553768]],\n",
       "             429: [[-0.3592633008956909, -0.4079896807670593]],\n",
       "             4282: [[-0.304898738861084, 0.014268580824136734]],\n",
       "             4283: [[-0.09335432946681976, -0.147738978266716]],\n",
       "             431: [[-0.12923960387706757, -0.17523282766342163]],\n",
       "             3873: [[0.09374396502971649, 0.09146182239055634]],\n",
       "             1574: [[0.019705677404999733, 0.006585027556866407]],\n",
       "             3139: [[-0.0408254973590374, -0.20936673879623413]],\n",
       "             2474: [[0.14814260601997375, 0.14769913256168365]],\n",
       "             3953: [[0.13811802864074707, 0.14561326801776886]],\n",
       "             4785: [[-0.23872189223766327, 0.005043162032961845]],\n",
       "             4526: [[0.06442353129386902, 0.02847212739288807]],\n",
       "             5052: [[0.07645072042942047, -0.06334955990314484]],\n",
       "             4359: [[-0.02512633614242077, 0.24685190618038177]],\n",
       "             907: [[0.2352791428565979, -0.04381990432739258]],\n",
       "             4939: [[-0.08763778209686279, 0.16585679352283478]],\n",
       "             499: [[0.22194521129131317, 0.1999194473028183]],\n",
       "             2051: [[-0.22637830674648285, 0.07093764841556549]],\n",
       "             1273: [[-0.1512928605079651, 0.18525981903076172]],\n",
       "             41: [[-0.23062945902347565, 0.04040085896849632]],\n",
       "             3163: [[0.054709021002054214, -0.2960824966430664]],\n",
       "             4199: [[0.09352901577949524, -0.01937170885503292]],\n",
       "             1308: [[0.003252237569540739, -0.3426884710788727]],\n",
       "             1310: [[0.23504959046840668, 0.05847620591521263]],\n",
       "             248: [[-0.12095075100660324, -0.1412964016199112]],\n",
       "             2209: [[0.20547306537628174, -0.009563906118273735]],\n",
       "             4148: [[-0.031676363199949265, 0.062348622828722]],\n",
       "             5121: [[0.05502771586179733, -0.2428930252790451]],\n",
       "             33: [[0.3504786789417267, -0.2393084466457367]],\n",
       "             31: [[0.3441115915775299, -0.22904981672763824]],\n",
       "             30: [[-0.16891220211982727, -0.350776344537735]],\n",
       "             207: [[-0.06552766263484955, -0.28245794773101807]],\n",
       "             202: [[0.008239139802753925, -0.19216811656951904]],\n",
       "             204: [[-0.023567046970129013, 0.15811535716056824]],\n",
       "             203: [[-0.15562155842781067, -0.2877814769744873]],\n",
       "             205: [[-0.16765253245830536, -0.15204334259033203]],\n",
       "             671: [[-0.058312613517045975, -0.0896349772810936]],\n",
       "             4804: [[-0.2137308120727539, 0.048074811697006226]],\n",
       "             1576: [[0.018613554537296295, 0.1271693855524063]],\n",
       "             498: [[-0.02769508957862854, 0.028046246618032455]],\n",
       "             3740: [[-0.09835688769817352, -0.033612046390771866]],\n",
       "             4391: [[0.05608873441815376, 0.061291977763175964]],\n",
       "             4389: [[0.05369408801198006, 0.22935204207897186]],\n",
       "             4388: [[-0.08819806575775146, 0.19612091779708862]],\n",
       "             5233: [[-0.09421924501657486, -0.22452524304389954]],\n",
       "             2560: [[-0.1697603017091751, -0.23147378861904144]],\n",
       "             3945: [[-0.1948131024837494, 0.03843539580702782]],\n",
       "             637: [[-0.04844854027032852, 0.15111179649829865]],\n",
       "             138: [[0.1196100115776062, -0.2284419685602188]],\n",
       "             4772: [[-0.13033151626586914, 0.23099753260612488]],\n",
       "             3309: [[0.06826630979776382, 0.1846153885126114]],\n",
       "             3032: [[0.24947762489318848, 0.1274036467075348]],\n",
       "             4238: [[0.06140885502099991, -0.06907996535301208]],\n",
       "             866: [[0.17808935046195984, -0.1394297331571579]],\n",
       "             3971: [[-0.13597321510314941, 0.084727443754673]],\n",
       "             865: [[-0.24212802946567535, -0.21905885636806488]],\n",
       "             1100: [[0.04486406221985817, 0.04147113114595413]],\n",
       "             4032: [[0.22486475110054016, 0.0783652663230896]],\n",
       "             1206: [[-0.19099324941635132, -0.24880817532539368]],\n",
       "             1207: [[-0.13292312622070312, 0.08209362626075745]],\n",
       "             1209: [[-0.2579742670059204, 0.05929156020283699]],\n",
       "             242: [[-0.16272056102752686, 0.22446919977664948]],\n",
       "             244: [[0.17201115190982819, 0.10356646776199341]],\n",
       "             241: [[0.2133634388446808, 0.22712622582912445]],\n",
       "             4050: [[-0.12425560504198074, -0.0987154096364975]],\n",
       "             5390: [[-0.02931494079530239, -0.1518309861421585]],\n",
       "             833: [[0.04189447686076164, 0.021535556763410568]],\n",
       "             3446: [[-0.04699108749628067, -0.22708110511302948]],\n",
       "             813: [[0.20322811603546143, -0.23839297890663147]],\n",
       "             307: [[0.0997048020362854, -0.16156531870365143]],\n",
       "             5078: [[0.1505514681339264, 0.2102603316307068]],\n",
       "             434: [[-0.24943888187408447, 0.09387928247451782]],\n",
       "             2630: [[0.22335593402385712, -0.03949350118637085]],\n",
       "             3445: [[-0.15348520874977112, 0.18372581899166107]],\n",
       "             1625: [[-0.16960938274860382, -0.13540330529212952]],\n",
       "             2456: [[0.1782606691122055, -0.1302669197320938]],\n",
       "             3619: [[0.22909800708293915, -0.20151107013225555]],\n",
       "             3518: [[-0.01423522736877203, 0.11963049322366714]],\n",
       "             1425: [[0.19155356287956238, 0.13467402756214142]],\n",
       "             599: [[0.003298928029835224, 0.2074400782585144]],\n",
       "             678: [[-0.07657789438962936, 0.2210630178451538]],\n",
       "             2853: [[-0.18188245594501495, -0.019765464588999748]],\n",
       "             928: [[0.22159448266029358, -0.20667356252670288]],\n",
       "             742: [[0.19744515419006348, -0.19576182961463928]],\n",
       "             4522: [[-0.08189024776220322, 0.10014668107032776]],\n",
       "             4812: [[0.09478349983692169, 0.18627707660198212]],\n",
       "             5265: [[0.017624499276280403, 0.07779186964035034]],\n",
       "             1597: [[0.18188035488128662, 0.19230543076992035]],\n",
       "             794: [[-0.09442373365163803, 0.05126147344708443]],\n",
       "             5197: [[-0.05747115612030029, 0.13860464096069336]],\n",
       "             1331: [[-0.24444244801998138, 0.050852105021476746]],\n",
       "             3498: [[0.1622115522623062, -0.0762515664100647]],\n",
       "             1700: [[0.23217007517814636, -0.08557937294244766]],\n",
       "             3542: [[-0.21632173657417297, -0.21135522425174713]],\n",
       "             2079: [[-0.08899839967489243, 0.00631210720166564]],\n",
       "             3412: [[0.029179122298955917, 0.2437027394771576]],\n",
       "             4221: [[0.0801265761256218, 0.19769705832004547]],\n",
       "             4896: [[-0.02544165961444378, 0.08368869125843048]],\n",
       "             1071: [[0.017286017537117004, -0.09884419292211533]],\n",
       "             1875: [[0.06915237009525299, 0.06304163485765457]],\n",
       "             3235: [[0.1811920702457428, 0.15552090108394623]],\n",
       "             1074: [[0.11843504011631012, -0.05444612354040146]],\n",
       "             115: [[-0.057051632553339005, 0.13063733279705048]],\n",
       "             114: [[-0.07308431714773178, -0.03469550982117653]],\n",
       "             118: [[-0.2868935167789459, -0.09064620733261108]],\n",
       "             116: [[-0.2690543830394745, 0.2129279226064682]],\n",
       "             4593: [[0.10593810677528381, -0.0638778805732727]],\n",
       "             4755: [[-0.06398070603609085, 0.20410661399364471]],\n",
       "             2819: [[0.2353554368019104, 0.228399857878685]],\n",
       "             3984: [[-0.15223988890647888, 0.06450343877077103]],\n",
       "             4790: [[0.1803314983844757, -0.055806469172239304]],\n",
       "             4648: [[-0.13509629666805267, -0.04417307674884796]],\n",
       "             1562: [[0.030171697959303856, -0.15698491036891937]],\n",
       "             718: [[-0.010002527385950089, -0.18492507934570312]],\n",
       "             3641: [[-0.011224120855331421, 0.07450095564126968]],\n",
       "             3632: [[-0.1809539645910263, -0.0799897089600563]],\n",
       "             2701: [[0.062390945851802826, 0.1484450101852417]],\n",
       "             3274: [[0.2171441912651062, -0.11157424002885818]],\n",
       "             4154: [[-0.1769530028104782, 0.12378814071416855]],\n",
       "             2534: [[-0.16532178223133087, 0.19418783485889435]],\n",
       "             1741: [[-0.20724835991859436, -0.06358247995376587]],\n",
       "             1163: [[0.1574762612581253, 0.13183219730854034]],\n",
       "             4336: [[0.12315397709608078, -0.17015276849269867]],\n",
       "             250: [[-0.09823522716760635, -0.1273631602525711]],\n",
       "             1609: [[0.09523629397153854, 0.2108180671930313]],\n",
       "             1257: [[-0.17674118280410767, 0.025995364412665367]],\n",
       "             96: [[0.21080660820007324, 0.04002568498253822]],\n",
       "             2492: [[0.027821356430649757, 0.014375890605151653]],\n",
       "             2086: [[-0.13267108798027039, -0.11561894416809082]],\n",
       "             2747: [[-0.2396690547466278, -0.24934756755828857]],\n",
       "             4446: [[-0.08980905264616013, -0.2275182604789734]],\n",
       "             2610: [[-0.06324313580989838, 0.0780569463968277]],\n",
       "             1130: [[-0.2007722109556198, 0.2306745946407318]],\n",
       "             1560: [[0.08038720488548279, 0.04230340197682381]],\n",
       "             3132: [[-0.08031883835792542, -0.040247052907943726]],\n",
       "             2396: [[-0.10113038122653961, 0.24536319077014923]],\n",
       "             3947: [[-0.21892614662647247, -0.040735356509685516]],\n",
       "             2390: [[-0.02473495714366436, -0.04661475494503975]],\n",
       "             1054: [[-0.0465790256857872, -0.23349060118198395]],\n",
       "             1838: [[0.21587929129600525, 0.1427370011806488]],\n",
       "             2228: [[-0.049530982971191406, 0.15836068987846375]],\n",
       "             5670: [[-0.0010106671834364533, 0.02963441051542759]],\n",
       "             2071: [[-0.08130406588315964, -0.13268065452575684]],\n",
       "             2069: [[0.026481587439775467, -0.11575943231582642]],\n",
       "             5671: [[0.05773983523249626, 0.12855763733386993]],\n",
       "             3242: [[-0.14208239316940308, 0.23727360367774963]],\n",
       "             3241: [[0.022529536858201027, -0.24001485109329224]],\n",
       "             3244: [[0.12125436961650848, 0.09856952726840973]],\n",
       "             5669: [[0.05326318368315697, 0.12954728305339813]],\n",
       "             5673: [[0.06036650389432907, -0.05896197631955147]],\n",
       "             3935: [[-0.14607146382331848, 0.1695442795753479]],\n",
       "             104: [[0.08095817267894745, -0.01939966343343258]],\n",
       "             834: [[0.09509774297475815, 0.17388756573200226]],\n",
       "             1436: [[0.14048703014850616, 0.22448311746120453]],\n",
       "             4508: [[-0.20726165175437927, -0.14449334144592285]],\n",
       "             1075: [[-0.1359862983226776, 0.14709940552711487]],\n",
       "             368: [[0.22264480590820312, -0.11952849477529526]],\n",
       "             2820: [[0.07443524897098541, -0.07279443740844727]],\n",
       "             461: [[-0.02584429457783699, 0.12459290027618408]],\n",
       "             1284: [[0.033237408846616745, -0.11233589053153992]],\n",
       "             1478: [[0.20965388417243958, 0.24253998696804047]],\n",
       "             1622: [[-0.0022304924204945564, 0.1526729166507721]],\n",
       "             5472: [[-0.05649983882904053, -0.1528157740831375]],\n",
       "             2921: [[-0.10997745394706726, -0.00717261852696538]],\n",
       "             214: [[-0.18743659555912018, -0.053092315793037415]],\n",
       "             2193: [[-0.1505378782749176, -0.010323704220354557]],\n",
       "             3643: [[0.03433685377240181, -0.24260003864765167]],\n",
       "             4152: [[0.1675630807876587, 0.0032706018537282944]],\n",
       "             1373: [[-0.48611903190612793, 0.37190619111061096]],\n",
       "             2552: [[-0.8344439268112183, 0.48278144001960754]],\n",
       "             2550: [[-0.33055737614631653, 0.10189422965049744]],\n",
       "             1647: [[-0.06173234432935715, 0.03639812394976616]],\n",
       "             2197: [[-0.23340849578380585, -0.18014295399188995]],\n",
       "             3804: [[-0.12334924191236496, -0.043082475662231445]],\n",
       "             4868: [[0.24609962105751038, -0.0778932198882103]],\n",
       "             4530: [[0.2032521367073059, -0.14763206243515015]],\n",
       "             816: [[-0.013708492740988731, 0.1336374282836914]],\n",
       "             3449: [[0.08621113747358322, -0.09218551963567734]],\n",
       "             874: [[-0.12759551405906677, 0.06398067623376846]],\n",
       "             556: [[-0.2198096513748169, -0.09744963049888611]],\n",
       "             5017: [[-0.19894808530807495, -0.0701383501291275]],\n",
       "             2210: [[-0.17573903501033783, -0.21027979254722595]],\n",
       "             4792: [[0.16561150550842285, 0.16954196989536285]],\n",
       "             806: [[0.10851095616817474, -0.08809196203947067]],\n",
       "             3095: [[0.03155077248811722, 0.20303362607955933]],\n",
       "             5299: [[0.12339593470096588, 0.1365285962820053]],\n",
       "             1087: [[-0.025639617815613747, 0.04974222928285599]],\n",
       "             550: [[0.10358154028654099, -0.15012206137180328]],\n",
       "             2831: [[-0.15410774946212769, -0.23457029461860657]],\n",
       "             4092: [[-0.14173288643360138, -0.03741765022277832]],\n",
       "             5565: [[0.13346204161643982, 0.07477795332670212]],\n",
       "             521: [[0.10298635065555573, 0.12613554298877716]],\n",
       "             1706: [[0.011986824683845043, 0.22641101479530334]],\n",
       "             5478: [[-0.11499983072280884, 0.06000475957989693]],\n",
       "             2435: [[-0.033762991428375244, 0.17533151805400848]],\n",
       "             2357: [[-0.026619436219334602, -0.07696037739515305]],\n",
       "             3151: [[-0.02367989905178547, -0.17054930329322815]],\n",
       "             3933: [[-0.08203808963298798, 0.20721523463726044]],\n",
       "             3517: [[0.0673474445939064, -0.11406859755516052]],\n",
       "             644: [[-0.06747694313526154, 0.2275480329990387]],\n",
       "             3561: [[0.03197646513581276, -0.24598290026187897]],\n",
       "             5215: [[-0.23457519710063934, 0.051985349506139755]],\n",
       "             3207: [[0.14352375268936157, 0.24147120118141174]],\n",
       "             1566: [[-0.23525363206863403, 0.19668471813201904]],\n",
       "             4114: [[0.04201926663517952, 0.24224738776683807]],\n",
       "             3954: [[0.23769590258598328, -0.09981439262628555]],\n",
       "             870: [[-0.006563663948327303, 0.2298772782087326]],\n",
       "             3521: [[0.06263924390077591, 0.05623026564717293]],\n",
       "             501: [[-0.17159341275691986, -0.010294193401932716]],\n",
       "             1588: [[-0.04161614552140236, -0.23344968259334564]],\n",
       "             2238: [[-0.23580089211463928, 0.20754791796207428]],\n",
       "             3807: [[0.13522648811340332, 0.19361431896686554]],\n",
       "             871: [[0.10366056114435196, -0.13653606176376343]],\n",
       "             1381: [[-0.14898422360420227, 0.21381646394729614]],\n",
       "             4085: [[0.15334367752075195, -0.47845807671546936]],\n",
       "             4087: [[0.17361575365066528, -0.18482230603694916]],\n",
       "             4084: [[0.19009414315223694, -0.4128599464893341]],\n",
       "             356: [[0.07116807252168655, -0.23804570734500885]],\n",
       "             1517: [[-0.20263907313346863, 0.22107724845409393]],\n",
       "             5106: [[-0.16307103633880615, -0.044299814850091934]],\n",
       "             2840: [[-0.20822545886039734, -0.13943542540073395]],\n",
       "             5309: [[-0.01954548992216587, -0.13840945065021515]],\n",
       "             923: [[0.10564525425434113, 0.08170831203460693]],\n",
       "             1066: [[-0.18949560821056366, 0.1190267950296402]],\n",
       "             2009: [[-0.03683479502797127, 0.24111366271972656]],\n",
       "             1000: [[-0.12493707239627838, 0.20676027238368988]],\n",
       "             3616: [[-0.1432105451822281, -0.1733577400445938]],\n",
       "             3567: [[0.006831284612417221, -0.12205708771944046]],\n",
       "             1944: [[0.014563605189323425, -0.03235432133078575]],\n",
       "             403: [[-0.2456931173801422, -0.06490689516067505]],\n",
       "             784: [[0.01964195817708969, 0.15248286724090576]],\n",
       "             838: [[-0.07294200360774994, -0.027490656822919846]],\n",
       "             497: [[-0.18089433014392853, -0.18159805238246918]],\n",
       "             1867: [[0.24572353065013885, -0.12712638080120087]],\n",
       "             4504: [[-0.07174075394868851, -0.12674735486507416]],\n",
       "             2663: [[-0.14312641322612762, 0.2162891924381256]],\n",
       "             5462: [[0.014118509367108345, -0.0995476171374321]],\n",
       "             3647: [[-0.04239875450730324, -0.1584514081478119]],\n",
       "             911: [[-1.377113699913025, -0.9424291849136353]],\n",
       "             910: [[-1.3126776218414307, -0.8684749007225037]],\n",
       "             197: [[0.1348748505115509, 0.12492774426937103]],\n",
       "             2970: [[-0.1232873797416687, 0.10372710227966309]],\n",
       "             4500: [[0.04186505824327469, -0.23867379128932953]],\n",
       "             735: [[0.19052650034427643, -0.1335432380437851]],\n",
       "             2222: [[0.19161906838417053, -0.15808477997779846]],\n",
       "             2299: [[0.21722768247127533, -0.2298310399055481]],\n",
       "             815: [[-0.0021749907173216343, -0.017358381301164627]],\n",
       "             1404: [[-0.06516744941473007, -0.1528070867061615]],\n",
       "             1556: [[-0.1132369115948677, -0.17210273444652557]],\n",
       "             575: [[0.04380666837096214, -0.2067192941904068]],\n",
       "             2449: [[0.09523791074752808, -0.2194703370332718]],\n",
       "             867: [[0.15266478061676025, -0.19672049582004547]],\n",
       "             106: [[0.13810084760189056, 0.06736081838607788]],\n",
       "             3084: [[0.17453889548778534, -0.00394602632150054]],\n",
       "             332: [[0.04311498999595642, -0.20631985366344452]],\n",
       "             2805: [[-0.008356073871254921, -0.14534541964530945]],\n",
       "             4966: [[-0.22934046387672424, 0.09221062064170837]],\n",
       "             548: [[-0.08978694677352905, -0.17477266490459442]],\n",
       "             2810: [[-0.01651144213974476, -0.11016451567411423]],\n",
       "             2932: [[0.1485566347837448, -0.1816786378622055]],\n",
       "             4659: [[-0.07644782215356827, 0.019689470529556274]],\n",
       "             2951: [[0.1561613231897354, 0.15507039427757263]],\n",
       "             4576: [[0.14285077154636383, -0.1310439109802246]],\n",
       "             1435: [[0.186323881149292, -0.033027973026037216]],\n",
       "             1734: [[-0.15462984144687653, -0.0015999291790649295]],\n",
       "             5421: [[-0.14491738379001617, -0.12894484400749207]],\n",
       "             2544: [[-0.14717194437980652, 0.14529943466186523]],\n",
       "             2789: [[-0.20381462574005127, -0.14616410434246063]],\n",
       "             2484: [[0.07558051496744156, 0.04956997558474541]],\n",
       "             2426: [[0.11618102341890335, 0.13731582462787628]],\n",
       "             2090: [[0.04303580895066261, 0.02462613768875599]],\n",
       "             2298: [[-0.15107274055480957, -0.12817427515983582]],\n",
       "             1879: [[-0.12040223181247711, -0.15869173407554626]],\n",
       "             3152: [[-0.1368037760257721, -0.17447209358215332]],\n",
       "             797: [[0.11120814830064774, -0.0017002422828227282]],\n",
       "             950: [[0.17933233082294464, 0.23227299749851227]],\n",
       "             3428: [[0.23611317574977875, 0.03494619205594063]],\n",
       "             1754: [[-0.2203245460987091, 0.07069852203130722]],\n",
       "             441: [[0.049266453832387924, 0.17021304368972778]],\n",
       "             3557: [[0.024103090167045593, 0.03393937274813652]],\n",
       "             2424: [[0.13805919885635376, 0.07452584058046341]],\n",
       "             1651: [[-0.009945047087967396, 0.17522436380386353]],\n",
       "             659: [[0.05711260810494423, -0.05922021344304085]],\n",
       "             2163: [[0.17114108800888062, 0.08214839547872543]],\n",
       "             5130: [[0.011936483904719353, 0.12504830956459045]],\n",
       "             5217: [[0.011537696234881878, 0.16185316443443298]],\n",
       "             2017: [[-0.24957194924354553, -0.18637850880622864]],\n",
       "             2434: [[-0.08324942737817764, -0.2243698686361313]],\n",
       "             1237: [[0.03389511629939079, 0.08342733234167099]],\n",
       "             306: [[0.07682602852582932, 0.016108142212033272]],\n",
       "             4249: [[0.1440153867006302, 0.1581415832042694]],\n",
       "             1251: [[-0.09559429436922073, 0.16887296736240387]],\n",
       "             673: [[0.11803076416254044, -0.2243921309709549]],\n",
       "             3115: [[-0.09646518528461456, 0.1386328786611557]],\n",
       "             2256: [[0.2441621720790863, 0.1233152225613594]],\n",
       "             48: [[-0.06172285974025726, 0.11832824349403381]],\n",
       "             2353: [[0.13629111647605896, -0.1023196429014206]],\n",
       "             4309: [[0.24497352540493011, -0.045366283506155014]],\n",
       "             4773: [[-0.13905341923236847, -0.10825031250715256]],\n",
       "             224: [[0.08178651332855225, 0.24155689775943756]],\n",
       "             3288: [[0.1591791808605194, -0.08574841171503067]],\n",
       "             4611: [[0.08797091990709305, -0.21753722429275513]],\n",
       "             2559: [[0.2376072108745575, 0.19340203702449799]],\n",
       "             927: [[-0.12586438655853271, 0.15724779665470123]],\n",
       "             5615: [[-0.09473889321088791, 0.2452431619167328]],\n",
       "             4247: [[-0.06465502083301544, -0.029722493141889572]],\n",
       "             481: [[0.051875196397304535, 0.17218045890331268]],\n",
       "             4752: [[0.11895923316478729, -0.20831140875816345]],\n",
       "             1400: [[0.21343345940113068, 0.07040668278932571]],\n",
       "             3379: [[0.013317834585905075, 0.010255688801407814]],\n",
       "             4385: [[-0.08647124469280243, 0.2447974979877472]],\n",
       "             749: [[-0.19568054378032684, 0.14225877821445465]],\n",
       "             3145: [[-0.1616516262292862, -0.22638322412967682]],\n",
       "             4259: [[-0.07239949703216553, -0.21807144582271576]],\n",
       "             761: [[-0.1939203441143036, -0.16175074875354767]],\n",
       "             5306: [[-0.11948849260807037, 0.20868615806102753]],\n",
       "             1187: [[0.17857584357261658, 0.6092649698257446]],\n",
       "             1189: [[-0.09201344847679138, 0.4477728307247162]],\n",
       "             247: [[-0.025577247142791748, -0.24619141221046448]],\n",
       "             2664: [[-0.16618356108665466, 0.005468452349305153]],\n",
       "             992: [[-0.16339509189128876, -0.08673401921987534]],\n",
       "             2608: [[0.031542424112558365, -0.19729413092136383]],\n",
       "             2503: [[0.045639339834451675, -0.02690056338906288]],\n",
       "             105: [[-0.21969670057296753, -0.06124398112297058]],\n",
       "             3360: [[0.18322846293449402, 0.17469556629657745]],\n",
       "             5377: [[-0.024429146200418472, -0.08088117837905884]],\n",
       "             3209: [[-0.012684215791523457, -0.13198088109493256]],\n",
       "             850: [[0.12198255211114883, 0.18377308547496796]],\n",
       "             4089: [[0.24777686595916748, -0.1783326417207718]],\n",
       "             2221: [[0.04376668483018875, 0.02349109761416912]],\n",
       "             3635: [[0.018896449357271194, 0.24236679077148438]],\n",
       "             1172: [[0.20978190004825592, -0.1778075397014618]],\n",
       "             5286: [[0.14000074565410614, 0.05338776111602783]],\n",
       "             4310: [[-0.01174114365130663, -0.03299134224653244]],\n",
       "             1765: [[0.21147501468658447, 0.22563722729682922]],\n",
       "             5088: [[0.21630734205245972, -0.18333013355731964]],\n",
       "             5266: [[-0.028897810727357864, 0.19886274635791779]],\n",
       "             ...})"
      ]
     },
     "execution_count": 278,
     "metadata": {},
     "output_type": "execute_result"
    }
   ],
   "source": [
    "test_d"
   ]
  },
  {
   "cell_type": "code",
   "execution_count": 279,
   "metadata": {},
   "outputs": [],
   "source": [
    "test_embed_dict=[{\"node1\":row[\"node1\"],\n",
    "        \"node2\": row[\"node2\"],\n",
    "        \"_1\": test_d[row[\"node1\"]][0][0],\n",
    "        \"_2\": test_d[row[\"node1\"]][0][1],\n",
    "        \"_3\":  test_d[row[\"node2\"]][0][0],\n",
    "        \"_4\":  test_d[row[\"node2\"]][0][1]} for row in test_data.collect()]"
   ]
  },
  {
   "cell_type": "code",
   "execution_count": 280,
   "metadata": {},
   "outputs": [
    {
     "name": "stderr",
     "output_type": "stream",
     "text": [
      "/opt/spark/python/pyspark/sql/session.py:346: UserWarning: inferring schema from dict is deprecated,please use pyspark.sql.Row instead\n",
      "  warnings.warn(\"inferring schema from dict is deprecated,\"\n"
     ]
    }
   ],
   "source": [
    "test_embeddings_df=spark.createDataFrame(test_embed_dict)"
   ]
  },
  {
   "cell_type": "code",
   "execution_count": 281,
   "metadata": {},
   "outputs": [
    {
     "data": {
      "text/plain": [
       "DataFrame[_1: double, _2: double, _3: double, _4: double, node1: bigint, node2: bigint]"
      ]
     },
     "execution_count": 281,
     "metadata": {},
     "output_type": "execute_result"
    }
   ],
   "source": [
    "test_embeddings_df"
   ]
  },
  {
   "cell_type": "code",
   "execution_count": 282,
   "metadata": {},
   "outputs": [],
   "source": [
    "test_data=test_data.join(test_embeddings_df, [\"node1\",\"node2\"])"
   ]
  },
  {
   "cell_type": "code",
   "execution_count": 285,
   "metadata": {},
   "outputs": [
    {
     "data": {
      "text/plain": [
       "DataFrame[node1: bigint, node2: bigint, label: bigint, commonAuthors: bigint, prefAttachment: bigint, totalNeighbors: bigint, minTriangles: bigint, maxTriangles: bigint, minCoefficient: double, maxCoefficient: double, samePartition: bigint, sameLouvain: bigint, _1: double, _2: double, _3: double, _4: double]"
      ]
     },
     "execution_count": 285,
     "metadata": {},
     "output_type": "execute_result"
    }
   ],
   "source": [
    "test_data"
   ]
  },
  {
   "cell_type": "code",
   "execution_count": 286,
   "metadata": {},
   "outputs": [
    {
     "data": {
      "text/html": [
       "<div>\n",
       "<style scoped>\n",
       "    .dataframe tbody tr th:only-of-type {\n",
       "        vertical-align: middle;\n",
       "    }\n",
       "\n",
       "    .dataframe tbody tr th {\n",
       "        vertical-align: top;\n",
       "    }\n",
       "\n",
       "    .dataframe thead th {\n",
       "        text-align: right;\n",
       "    }\n",
       "</style>\n",
       "<table border=\"1\" class=\"dataframe\">\n",
       "  <thead>\n",
       "    <tr style=\"text-align: right;\">\n",
       "      <th></th>\n",
       "      <th>Measure</th>\n",
       "      <th>Score</th>\n",
       "    </tr>\n",
       "  </thead>\n",
       "  <tbody>\n",
       "    <tr>\n",
       "      <th>0</th>\n",
       "      <td>accuracy</td>\n",
       "      <td>0.995527</td>\n",
       "    </tr>\n",
       "    <tr>\n",
       "      <th>1</th>\n",
       "      <td>recall</td>\n",
       "      <td>0.991058</td>\n",
       "    </tr>\n",
       "    <tr>\n",
       "      <th>2</th>\n",
       "      <td>precision</td>\n",
       "      <td>0.973349</td>\n",
       "    </tr>\n",
       "  </tbody>\n",
       "</table>\n",
       "</div>"
      ],
      "text/plain": [
       "     Measure     Score\n",
       "0   accuracy  0.995527\n",
       "1     recall  0.991058\n",
       "2  precision  0.973349"
      ]
     },
     "execution_count": 286,
     "metadata": {},
     "output_type": "execute_result"
    }
   ],
   "source": [
    "word2vec_results = evaluate_model(word2vec_model, test_data)\n",
    "display_results(word2vec_results)"
   ]
  },
  {
   "cell_type": "code",
   "execution_count": 287,
   "metadata": {},
   "outputs": [
    {
     "data": {
      "image/png": "[encoded data removed]",
      "text/plain": [
       "<Figure size 1040x640 with 1 Axes>"
      ]
     },
     "metadata": {},
     "output_type": "display_data"
    }
   ],
   "source": [
    "plt, fig = create_roc_plot()\n",
    "\n",
    "add_curve(plt, \"Common Authors\",\n",
    "basic_results[\"fpr\"], basic_results[\"tpr\"], basic_results[\"roc_auc\"])\n",
    "\n",
    "add_curve(plt, \"Graphy\",\n",
    "graphy_results[\"fpr\"], graphy_results[\"tpr\"],graphy_results[\"roc_auc\"])\n",
    "\n",
    "add_curve(plt, \"Triangles\",\n",
    "triangle_results[\"fpr\"], triangle_results[\"tpr\"],\n",
    "triangle_results[\"roc_auc\"])\n",
    "\n",
    "add_curve(plt, \"Community\",\n",
    "community_results[\"fpr\"], community_results[\"tpr\"],\n",
    "community_results[\"roc_auc\"])\n",
    "\n",
    "add_curve(plt, \"Word2vec\",\n",
    "word2vec_results[\"fpr\"], word2vec_results[\"tpr\"],\n",
    "word2vec_results[\"roc_auc\"])\n",
    "\n",
    "plt.legend(loc='lower right')\n",
    "plt.show()"
   ]
  },
  {
   "cell_type": "code",
   "execution_count": 288,
   "metadata": {},
   "outputs": [
    {
     "data": {
      "text/plain": [
       "SparseVector(13, {0: 0.3813, 1: 0.0714, 2: 0.1322, 3: 0.0552, 4: 0.0852, 5: 0.0524, 6: 0.0391, 7: 0.0032, 8: 0.1548, 9: 0.0063, 10: 0.0076, 11: 0.005, 12: 0.0062})"
      ]
     },
     "execution_count": 288,
     "metadata": {},
     "output_type": "execute_result"
    }
   ],
   "source": [
    "word2vec_model.stages[-1].featureImportances"
   ]
  },
  {
   "cell_type": "code",
   "execution_count": 290,
   "metadata": {},
   "outputs": [
    {
     "data": {
      "image/png": "[encoded data removed]",
      "text/plain": [
       "<Figure size 640x480 with 1 Axes>"
      ]
     },
     "metadata": {},
     "output_type": "display_data"
    }
   ],
   "source": [
    "rf_model = word2vec_model.stages[-1]\n",
    "plot_feature_importance(fields, rf_model.featureImportances)"
   ]
  },
  {
   "cell_type": "code",
   "execution_count": null,
   "metadata": {},
   "outputs": [],
   "source": []
  }
 ],
 "metadata": {
  "kernelspec": {
   "display_name": "Python [conda env:neo4j]",
   "language": "python",
   "name": "conda-env-neo4j-py"
  },
  "language_info": {
   "codemirror_mode": {
    "name": "ipython",
    "version": 3
   },
   "file_extension": ".py",
   "mimetype": "text/x-python",
   "name": "python",
   "nbconvert_exporter": "python",
   "pygments_lexer": "ipython3",
   "version": "3.7.7"
  }
 },
 "nbformat": 4,
 "nbformat_minor": 2
}
