{
 "cells": [
  {
   "cell_type": "code",
   "execution_count": 54,
   "metadata": {},
   "outputs": [],
   "source": [
    "# this could be rewritten to take in the function as an argument\n",
    "def binary_operator(name,u,v):\n",
    "    \n",
    "    def operator_hadamard(u, v):\n",
    "        return u * v\n",
    "\n",
    "    def operator_l1(u, v):\n",
    "        return np.abs(u - v)\n",
    "\n",
    "    def operator_l2(u, v):\n",
    "        return (u - v) ** 2\n",
    "\n",
    "    def operator_avg(u, v):\n",
    "        return (u + v) / 2.0\n",
    "\n",
    "    if name==\"hadamard\":\n",
    "        return operator_hadamard(u,v)\n",
    "    elif name==\"l1\":\n",
    "        return operator_l1(u,v)\n",
    "    elif name==\"average\":\n",
    "        return operator_avg(u,v)\n",
    "    elif name==\"l2\":\n",
    "        return operator_l2(u,v)\n",
    "    "
   ]
  },
  {
   "cell_type": "code",
   "execution_count": 55,
   "metadata": {},
   "outputs": [],
   "source": [
    "import pandas as pd\n",
    "import pickle\n"
   ]
  },
  {
   "cell_type": "code",
   "execution_count": 56,
   "metadata": {},
   "outputs": [],
   "source": [
    "from py2neo import  Graph, Node\n",
    "\n",
    "graphdb = Graph(scheme=\"bolt\", host=\"localhost\", port=7687, secure=False, auth=('neo4j', 'test'))\n"
   ]
  },
  {
   "cell_type": "code",
   "execution_count": 57,
   "metadata": {},
   "outputs": [
    {
     "data": {
      "text/plain": [
       "<py2neo.database.Cursor at 0x7faa49edd7d0>"
      ]
     },
     "execution_count": 57,
     "metadata": {},
     "output_type": "execute_result"
    }
   ],
   "source": [
    "# create a graph projection\n",
    "graphdb.run(\"\"\"CALL gds.graph.create('early_graph',\n",
    "    'Author', \n",
    "    {\n",
    "        CO_AUTHOR_EARLY: {\n",
    "                type: 'CO_AUTHOR_EARLY',\n",
    "                orientation: 'UNDIRECTED'\n",
    "                }\n",
    "                }\n",
    "                )\"\"\")"
   ]
  },
  {
   "cell_type": "code",
   "execution_count": 58,
   "metadata": {},
   "outputs": [
    {
     "data": {
      "text/plain": [
       "<py2neo.database.Cursor at 0x7faa49ee8850>"
      ]
     },
     "execution_count": 58,
     "metadata": {},
     "output_type": "execute_result"
    }
   ],
   "source": [
    "# create a graph projection\n",
    "graphdb.run(\"\"\"CALL gds.graph.create('late_graph',\n",
    "    'Author', \n",
    "    {\n",
    "        CO_AUTHOR: {\n",
    "                type: 'CO_AUTHOR',\n",
    "                orientation: 'UNDIRECTED'\n",
    "                }\n",
    "                }\n",
    "                )\"\"\")"
   ]
  },
  {
   "cell_type": "code",
   "execution_count": 60,
   "metadata": {},
   "outputs": [],
   "source": [
    "import findspark\n",
    "findspark.init()\n",
    "import pyspark\n",
    "sc = pyspark.SparkContext(appName=\"link_benchmark\")"
   ]
  },
  {
   "cell_type": "code",
   "execution_count": 61,
   "metadata": {},
   "outputs": [],
   "source": [
    "from pyspark.sql import SparkSession\n",
    "\n",
    "spark = SparkSession.builder \\\n",
    "    .appName(\"link_benchmark\") \\\n",
    "    .getOrCreate()\n"
   ]
  },
  {
   "cell_type": "code",
   "execution_count": 330,
   "metadata": {},
   "outputs": [],
   "source": [
    "test_df=pd.read_csv(\"/home/areias/Documents/DataScience/graphs/data/testdf.csv\")\n",
    "training_df=pd.read_csv(\"/home/areias/Documents/DataScience/graphs/data/trainingdf.csv\")"
   ]
  },
  {
   "cell_type": "code",
   "execution_count": 331,
   "metadata": {},
   "outputs": [],
   "source": [
    "training_data=spark.createDataFrame(training_df)"
   ]
  },
  {
   "cell_type": "code",
   "execution_count": 332,
   "metadata": {},
   "outputs": [],
   "source": [
    "test_data=spark.createDataFrame(test_df)"
   ]
  },
  {
   "cell_type": "code",
   "execution_count": 333,
   "metadata": {},
   "outputs": [],
   "source": [
    "import gensim.models\n",
    "from pyspark.ml.linalg import Vectors, VectorUDT\n",
    "from pyspark.sql.types import StructField, StructType,IntegerType\n",
    "\n",
    "def apply_node2vec_features(data, graph_name, walk_length, num_walks, dimensions, \n",
    "                            window_size, p, q, num_iter, workers, operator_name,\n",
    "                            output_col_name):\n",
    "    \n",
    "    params = {\n",
    "    \"pairs\": [{\"node1\": row[\"node1\"], \"node2\": row[\"node2\"]}\n",
    "    for row in data.collect()],\n",
    "    \"steps\": walk_length,\n",
    "    \"walks\": num_walks,\n",
    "    \"size\": dimensions,\n",
    "    \"graph_name\": graph_name,\n",
    "    \"mode\":\"node2vec\",\n",
    "    \"inOut\":q,\n",
    "    \"return\":p\n",
    "    }\n",
    "\n",
    "    query=(\"\"\"\n",
    "    UNWIND $pairs as pair\n",
    "    MATCH (p:Author) WHERE id(p) = pair.node1 OR id(p) = pair.node2\n",
    "    WITH DISTINCT p\n",
    "    CALL gds.alpha.randomWalk.stream($graph_name,{\n",
    "        start: id(p),\n",
    "        steps: $steps,\n",
    "        walks: $walks,\n",
    "        mode: $mode,\n",
    "        inOut: $inOut,\n",
    "        return: $return        \n",
    "    })\n",
    "    YIELD nodeIds\n",
    "    RETURN [id in nodeIds | toString(id)] as walks\n",
    "    \"\"\")\n",
    "\n",
    "    random_walks=graphdb.run(query, params).to_series()\n",
    "    \n",
    "    model=gensim.models.Word2Vec(random_walks, sg=1, window=window_size, size=dimensions, min_count=1,\n",
    "                                 workers=workers,iter=num_iter)\n",
    "\n",
    "    vectors=[{\"node1\":row[\"node1\"],\n",
    "            \"node2\": row[\"node2\"],\n",
    "            output_col_name: Vectors.dense(\n",
    "                binary_operator(operator_name, model.wv[str(row[\"node1\"])], model.wv[str(row[\"node2\"])]))\n",
    "            } for row in data.collect()]\n",
    "    \n",
    "    schema = StructType([\n",
    "        StructField('node1', IntegerType()),\n",
    "        StructField('node2', IntegerType()),\n",
    "        StructField(output_col_name, VectorUDT())])\n",
    "\n",
    "    features=spark.createDataFrame(vectors, schema)\n",
    "    return data.join(features, [\"node1\", \"node2\"])"
   ]
  },
  {
   "cell_type": "code",
   "execution_count": 334,
   "metadata": {},
   "outputs": [],
   "source": [
    "dimensions = 128\n",
    "num_walks = 10\n",
    "walk_length = 80\n",
    "window_size = 10\n",
    "num_iter = 1\n",
    "workers = 2\n",
    "operator_name=\"l1\"\n",
    "p=1\n",
    "q=1"
   ]
  },
  {
   "cell_type": "code",
   "execution_count": 553,
   "metadata": {},
   "outputs": [
    {
     "data": {
      "text/plain": [
       "[{'p': 0.25, 'q': 4}, {'p': 0.5, 'q': 4}, {'p': 1, 'q': 4}, {'p': 2, 'q': 4}]"
      ]
     },
     "execution_count": 553,
     "metadata": {},
     "output_type": "execute_result"
    }
   ],
   "source": [
    "from sklearn.model_selection import ParameterGrid\n",
    "grid = [{'p': [0.25,0.5,1,2],'q': [4]}]\n",
    "list(ParameterGrid(grid))"
   ]
  },
  {
   "cell_type": "code",
   "execution_count": 13,
   "metadata": {},
   "outputs": [
    {
     "data": {
      "text/plain": [
       "[{'p': 2, 'q': 2}]"
      ]
     },
     "execution_count": 13,
     "metadata": {},
     "output_type": "execute_result"
    }
   ],
   "source": [
    "for item in enumerate(ParameterGrid(grid)):\n",
    "    model_name=\"model\"+str(item[0])\n",
    "    training_data = apply_node2vec_features(training_data, 'early_graph', walk_length, num_walks, dimensions, \n",
    "                            window_size, item[1]['p'], item[1]['q'], num_iter, workers, operator_name,\n",
    "                            model_name)\n",
    "    test_data = apply_node2vec_features(test_data, 'late_graph', walk_length, num_walks, dimensions, \n",
    "                            window_size, item[1]['p'], item[1]['q'], num_iter, workers, operator_name,\n",
    "                            model_name)\n"
   ]
  },
  {
   "cell_type": "code",
   "execution_count": 336,
   "metadata": {},
   "outputs": [],
   "source": [
    "dimensions=10"
   ]
  },
  {
   "cell_type": "code",
   "execution_count": 337,
   "metadata": {},
   "outputs": [],
   "source": [
    "import numpy as np\n",
    "training_data = apply_node2vec_features(training_data, 'early_graph', walk_length, num_walks, dimensions, \n",
    "                        window_size, p, q, num_iter, workers, operator_name,\n",
    "                        \"model0\")\n",
    "test_data = apply_node2vec_features(test_data, 'late_graph', walk_length, num_walks, dimensions, \n",
    "                        window_size, p, q, num_iter, workers, operator_name,\n",
    "                        \"model0\")"
   ]
  },
  {
   "cell_type": "code",
   "execution_count": 338,
   "metadata": {},
   "outputs": [],
   "source": [
    "from pyspark.ml.feature import RFormula\n",
    "\n",
    "rForm = RFormula()\n",
    "\n",
    "from pyspark.ml.tuning import ParamGridBuilder\n",
    "params = ParamGridBuilder()\\\n",
    "    .addGrid(rForm.formula, [\"label ~ model\"+str(i) for i in range(1)])\\\n",
    "    .build()\n",
    "\n"
   ]
  },
  {
   "cell_type": "code",
   "execution_count": 339,
   "metadata": {},
   "outputs": [],
   "source": [
    "import mycrossvalidator as mycv"
   ]
  },
  {
   "cell_type": "code",
   "execution_count": 342,
   "metadata": {},
   "outputs": [],
   "source": [
    "from pyspark.ml.classification import RandomForestClassifier\n",
    "from pyspark.ml import Pipeline\n",
    "\n",
    "rf = RandomForestClassifier(labelCol=\"label\", \n",
    "        featuresCol=\"features\",\n",
    "        numTrees=30, maxDepth=10)\n",
    "\n",
    "stages=[rForm, rf]\n",
    "pipeline=Pipeline().setStages(stages)"
   ]
  },
  {
   "cell_type": "code",
   "execution_count": 343,
   "metadata": {},
   "outputs": [],
   "source": [
    "from pyspark.ml.evaluation import BinaryClassificationEvaluator\n",
    "evaluator = BinaryClassificationEvaluator()\\\n",
    "    .setMetricName(\"areaUnderROC\")\\\n",
    "    .setRawPredictionCol(\"prediction\")\\\n",
    "    .setLabelCol(\"label\")"
   ]
  },
  {
   "cell_type": "code",
   "execution_count": 344,
   "metadata": {},
   "outputs": [],
   "source": [
    "cv = mycv.MyCrossValidator()\\\n",
    "    .setEstimator(pipeline)\\\n",
    "    .setEvaluator(evaluator)\\\n",
    "    .setEstimatorParamMaps(params)\\\n",
    "    .setCollectSubModels(True)"
   ]
  },
  {
   "cell_type": "code",
   "execution_count": 345,
   "metadata": {},
   "outputs": [],
   "source": [
    "from pyspark.sql.functions import lit"
   ]
  },
  {
   "cell_type": "code",
   "execution_count": 346,
   "metadata": {},
   "outputs": [],
   "source": [
    "training_data=training_data.withColumn(\"fold\",lit(0))\n",
    "training_data=training_data.withColumn(\"test\",lit(0))"
   ]
  },
  {
   "cell_type": "code",
   "execution_count": 347,
   "metadata": {},
   "outputs": [],
   "source": [
    "test_data=test_data.withColumn(\"fold\",lit(0))\n",
    "test_data=test_data.withColumn(\"test\",lit(1))"
   ]
  },
  {
   "cell_type": "code",
   "execution_count": 348,
   "metadata": {},
   "outputs": [],
   "source": [
    "all_df=training_data.union(test_data)"
   ]
  },
  {
   "cell_type": "code",
   "execution_count": 349,
   "metadata": {},
   "outputs": [],
   "source": [
    "mycvfitted, foldstats = cv.fit(all_df)"
   ]
  },
  {
   "cell_type": "code",
   "execution_count": 350,
   "metadata": {},
   "outputs": [
    {
     "data": {
      "text/plain": [
       "[0.8421214924452667]"
      ]
     },
     "execution_count": 350,
     "metadata": {},
     "output_type": "execute_result"
    }
   ],
   "source": [
    "mycvfitted.avgMetrics"
   ]
  },
  {
   "cell_type": "code",
   "execution_count": 514,
   "metadata": {},
   "outputs": [],
   "source": [
    "from collections import defaultdict\n",
    "\n",
    "pq_results=defaultdict(list)\n",
    "\n",
    "for q in [0.25, 0.50, 1,2]:\n",
    "    with open(\"/home/areias/Documents/DataScience/graphs/model\"+str(q).replace(\".\",\"_\")+\".pkl\",'rb') as f:\n",
    "            pq_results[q]=pickle.load(f)"
   ]
  },
  {
   "cell_type": "code",
   "execution_count": null,
   "metadata": {},
   "outputs": [],
   "source": [
    "with open(\"/home/areias/Documents/DataScience/graphs/model4.pkl\",'rb') as f:\n",
    "            pq_results[q]=pickle.load(f)"
   ]
  },
  {
   "cell_type": "code",
   "execution_count": 515,
   "metadata": {},
   "outputs": [],
   "source": [
    "df=pd.DataFrame.from_dict(pq_results,orient='index',\n",
    "                         columns=['0.25', '0.50', '1', '2'])\n",
    "df['q']=df.index"
   ]
  },
  {
   "cell_type": "code",
   "execution_count": 516,
   "metadata": {},
   "outputs": [
    {
     "data": {
      "text/html": [
       "<div>\n",
       "<style scoped>\n",
       "    .dataframe tbody tr th:only-of-type {\n",
       "        vertical-align: middle;\n",
       "    }\n",
       "\n",
       "    .dataframe tbody tr th {\n",
       "        vertical-align: top;\n",
       "    }\n",
       "\n",
       "    .dataframe thead th {\n",
       "        text-align: right;\n",
       "    }\n",
       "</style>\n",
       "<table border=\"1\" class=\"dataframe\">\n",
       "  <thead>\n",
       "    <tr style=\"text-align: right;\">\n",
       "      <th></th>\n",
       "      <th>0.25</th>\n",
       "      <th>0.50</th>\n",
       "      <th>1</th>\n",
       "      <th>2</th>\n",
       "      <th>q</th>\n",
       "    </tr>\n",
       "  </thead>\n",
       "  <tbody>\n",
       "    <tr>\n",
       "      <th>0.25</th>\n",
       "      <td>0.841967</td>\n",
       "      <td>0.801418</td>\n",
       "      <td>0.784613</td>\n",
       "      <td>0.735739</td>\n",
       "      <td>0.25</td>\n",
       "    </tr>\n",
       "    <tr>\n",
       "      <th>0.50</th>\n",
       "      <td>0.859544</td>\n",
       "      <td>0.821307</td>\n",
       "      <td>0.774591</td>\n",
       "      <td>0.805581</td>\n",
       "      <td>0.50</td>\n",
       "    </tr>\n",
       "    <tr>\n",
       "      <th>1.00</th>\n",
       "      <td>0.881129</td>\n",
       "      <td>0.854456</td>\n",
       "      <td>0.833179</td>\n",
       "      <td>0.825933</td>\n",
       "      <td>1.00</td>\n",
       "    </tr>\n",
       "    <tr>\n",
       "      <th>2.00</th>\n",
       "      <td>0.894696</td>\n",
       "      <td>0.871107</td>\n",
       "      <td>0.869874</td>\n",
       "      <td>0.852760</td>\n",
       "      <td>2.00</td>\n",
       "    </tr>\n",
       "  </tbody>\n",
       "</table>\n",
       "</div>"
      ],
      "text/plain": [
       "          0.25      0.50         1         2     q\n",
       "0.25  0.841967  0.801418  0.784613  0.735739  0.25\n",
       "0.50  0.859544  0.821307  0.774591  0.805581  0.50\n",
       "1.00  0.881129  0.854456  0.833179  0.825933  1.00\n",
       "2.00  0.894696  0.871107  0.869874  0.852760  2.00"
      ]
     },
     "execution_count": 516,
     "metadata": {},
     "output_type": "execute_result"
    }
   ],
   "source": [
    "df"
   ]
  },
  {
   "cell_type": "code",
   "execution_count": 517,
   "metadata": {},
   "outputs": [],
   "source": [
    "df=pd.melt(df,'q')"
   ]
  },
  {
   "cell_type": "code",
   "execution_count": 518,
   "metadata": {},
   "outputs": [],
   "source": [
    "df.columns=['q','p','auc']"
   ]
  },
  {
   "cell_type": "code",
   "execution_count": 529,
   "metadata": {},
   "outputs": [
    {
     "data": {
      "text/plain": [
       "p\n",
       "0.25    0.869334\n",
       "0.50    0.837072\n",
       "1       0.815564\n",
       "2       0.805003\n",
       "Name: auc, dtype: float64"
      ]
     },
     "execution_count": 529,
     "metadata": {},
     "output_type": "execute_result"
    }
   ],
   "source": [
    "df.groupby('p')['auc'].mean()"
   ]
  },
  {
   "cell_type": "code",
   "execution_count": 519,
   "metadata": {},
   "outputs": [
    {
     "data": {
      "text/plain": [
       "<matplotlib.axes._subplots.AxesSubplot at 0x7faa2b8e69d0>"
      ]
     },
     "execution_count": 519,
     "metadata": {},
     "output_type": "execute_result"
    },
    {
     "data": {
      "image/png": "[encoded data removed]",
      "text/plain": [
       "<Figure size 432x288 with 1 Axes>"
      ]
     },
     "metadata": {
      "needs_background": "light"
     },
     "output_type": "display_data"
    }
   ],
   "source": [
    "df.groupby('p')['auc'].mean().plot()"
   ]
  },
  {
   "cell_type": "code",
   "execution_count": 520,
   "metadata": {},
   "outputs": [
    {
     "data": {
      "text/plain": [
       "<matplotlib.axes._subplots.AxesSubplot at 0x7faa2b503190>"
      ]
     },
     "execution_count": 520,
     "metadata": {},
     "output_type": "execute_result"
    },
    {
     "data": {
      "image/png": "[encoded data removed]",
      "text/plain": [
       "<Figure size 432x288 with 1 Axes>"
      ]
     },
     "metadata": {
      "needs_background": "light"
     },
     "output_type": "display_data"
    }
   ],
   "source": [
    "df.groupby('q')['auc'].mean().plot()"
   ]
  },
  {
   "cell_type": "code",
   "execution_count": 549,
   "metadata": {},
   "outputs": [],
   "source": [
    "df.set_index('q', inplace=True)"
   ]
  },
  {
   "cell_type": "code",
   "execution_count": 552,
   "metadata": {},
   "outputs": [
    {
     "data": {
      "text/plain": [
       "Text(0.5, 1.0, 'ROC AUC over InOut (q) and Return (p) Parameters')"
      ]
     },
     "execution_count": 552,
     "metadata": {},
     "output_type": "execute_result"
    },
    {
     "data": {
      "image/png": "[encoded data removed]",
      "text/plain": [
       "<Figure size 576x396 with 1 Axes>"
      ]
     },
     "metadata": {},
     "output_type": "display_data"
    }
   ],
   "source": [
    "import matplotlib.pyplot as plt \n",
    "df.groupby('p')['auc'].plot(legend=True)\n",
    "plt.legend(title=\"p\")\n",
    "plt.title(\"ROC AUC over InOut (q) and Return (p) Parameters\")"
   ]
  },
  {
   "cell_type": "code",
   "execution_count": 289,
   "metadata": {},
   "outputs": [],
   "source": [
    "# high q and low p is best \n",
    "\n",
    "\n",
    "walks=list(range(6,22,2))\n",
    "length=list(range(40,110,10))\n",
    "dimensions=[ i * i for i in range(4,9)]\n",
    "window=list(range(8,22,2))"
   ]
  },
  {
   "cell_type": "code",
   "execution_count": 260,
   "metadata": {},
   "outputs": [],
   "source": [
    "num_iter = 1\n",
    "workers = 2\n",
    "operator_name=\"l1\""
   ]
  },
  {
   "cell_type": "code",
   "execution_count": null,
   "metadata": {},
   "outputs": [],
   "source": [
    "dimensions = 128\n",
    "num_walks = 10\n",
    "walk_length = 80\n",
    "window_size = 10\n",
    "p=1\n",
    "q=1\n",
    "\n",
    "\n"
   ]
  },
  {
   "cell_type": "code",
   "execution_count": 290,
   "metadata": {},
   "outputs": [
    {
     "data": {
      "text/plain": [
       "[16, 25, 36, 49, 64]"
      ]
     },
     "execution_count": 290,
     "metadata": {},
     "output_type": "execute_result"
    }
   ],
   "source": [
    "dimensions"
   ]
  },
  {
   "cell_type": "code",
   "execution_count": 291,
   "metadata": {},
   "outputs": [
    {
     "data": {
      "text/plain": [
       "[6, 8, 10, 12, 14, 16, 18, 20]"
      ]
     },
     "execution_count": 291,
     "metadata": {},
     "output_type": "execute_result"
    }
   ],
   "source": [
    "walks"
   ]
  },
  {
   "cell_type": "code",
   "execution_count": 292,
   "metadata": {},
   "outputs": [
    {
     "data": {
      "text/plain": [
       "[8, 10, 12, 14, 16, 18, 20]"
      ]
     },
     "execution_count": 292,
     "metadata": {},
     "output_type": "execute_result"
    }
   ],
   "source": [
    "window"
   ]
  },
  {
   "cell_type": "code",
   "execution_count": 293,
   "metadata": {},
   "outputs": [
    {
     "data": {
      "text/plain": [
       "[40, 50, 60, 70, 80, 90, 100]"
      ]
     },
     "execution_count": 293,
     "metadata": {},
     "output_type": "execute_result"
    }
   ],
   "source": [
    "length"
   ]
  },
  {
   "cell_type": "code",
   "execution_count": 294,
   "metadata": {},
   "outputs": [
    {
     "data": {
      "text/plain": [
       "[{'dimensions': 16, 'length': 80, 'p': 1, 'q': 1, 'walks': 10, 'window': 10},\n",
       " {'dimensions': 25, 'length': 80, 'p': 1, 'q': 1, 'walks': 10, 'window': 10},\n",
       " {'dimensions': 36, 'length': 80, 'p': 1, 'q': 1, 'walks': 10, 'window': 10},\n",
       " {'dimensions': 49, 'length': 80, 'p': 1, 'q': 1, 'walks': 10, 'window': 10},\n",
       " {'dimensions': 64, 'length': 80, 'p': 1, 'q': 1, 'walks': 10, 'window': 10}]"
      ]
     },
     "execution_count": 294,
     "metadata": {},
     "output_type": "execute_result"
    }
   ],
   "source": [
    "grid = [{'p': [1],\n",
    "         'q': [1],\n",
    "        'window': [10],\n",
    "        'dimensions': dimensions,\n",
    "        'walks': [10],\n",
    "        'length': [80]}]\n",
    "list(ParameterGrid(grid))"
   ]
  },
  {
   "cell_type": "code",
   "execution_count": 310,
   "metadata": {},
   "outputs": [],
   "source": [
    "# default params\n",
    "num_iter = 1\n",
    "workers = 2\n",
    "operator_name=\"l1\"\n",
    "dimensions = [128]\n",
    "num_walks = [10]\n",
    "walk_length = [80]\n",
    "window_size = [10]\n",
    "p=1\n",
    "q=1\n",
    "\n",
    "# test params\n",
    "num_walks=list(range(6,22,2))\n",
    "#walk_length=list(range(40,110,10))\n",
    "#dimensions=[ i * i for i in range(4,9)]\n",
    "window_size=list(range(8,22,2))\n",
    "\n",
    "grid = [{'window_size': window_size,\n",
    "        'dimensions': dimensions,\n",
    "        'walks': num_walks,\n",
    "        'length': walk_length}]"
   ]
  },
  {
   "cell_type": "code",
   "execution_count": 315,
   "metadata": {},
   "outputs": [
    {
     "data": {
      "text/plain": [
       "[0, 1, 2, 3, 4, 5, 6, 7]"
      ]
     },
     "execution_count": 315,
     "metadata": {},
     "output_type": "execute_result"
    }
   ],
   "source": [
    "list(range(len(list(ParameterGrid(grid)))))"
   ]
  },
  {
   "cell_type": "code",
   "execution_count": 307,
   "metadata": {},
   "outputs": [
    {
     "name": "stdout",
     "output_type": "stream",
     "text": [
      "6\n",
      "8\n",
      "10\n",
      "12\n",
      "14\n",
      "16\n",
      "18\n",
      "20\n"
     ]
    }
   ],
   "source": [
    "for item in enumerate(ParameterGrid(grid)):\n",
    "    print(item[1]['walks'])\n"
   ]
  },
  {
   "cell_type": "code",
   "execution_count": null,
   "metadata": {},
   "outputs": [],
   "source": [
    "training_data = apply_node2vec_features(training_data, 'early_graph', item[1]['length'], item[1]['walks'], \n",
    "                                        item[1]['dimensions'], item[1]['window_size'], 1, 1, \n",
    "                                        num_iter, workers, operator_name,\"model0\")"
   ]
  },
  {
   "cell_type": "markdown",
   "metadata": {},
   "source": [
    "## Dimensions"
   ]
  },
  {
   "cell_type": "code",
   "execution_count": 483,
   "metadata": {},
   "outputs": [],
   "source": [
    "with open(\"/home/areias/Documents/DataScience/graphs/model_dimensions.pkl\",'rb') as f:\n",
    "            dimension_results=pickle.load(f)"
   ]
  },
  {
   "cell_type": "code",
   "execution_count": 485,
   "metadata": {},
   "outputs": [],
   "source": [
    "dimensions=[ i * i for i in range(4,9)]\n",
    "dimensions=dimensions+[128]"
   ]
  },
  {
   "cell_type": "code",
   "execution_count": 486,
   "metadata": {},
   "outputs": [],
   "source": [
    "with open(\"/home/areias/Documents/DataScience/graphs/model1.pkl\",'rb') as f:\n",
    "            other=pickle.load(f)"
   ]
  },
  {
   "cell_type": "code",
   "execution_count": 489,
   "metadata": {},
   "outputs": [],
   "source": [
    "# entry for p=1 \n",
    "dimension_results=dimension_results+[other[2]]"
   ]
  },
  {
   "cell_type": "code",
   "execution_count": 370,
   "metadata": {},
   "outputs": [
    {
     "data": {
      "text/plain": [
       "Text(0.5, 1.0, 'ROC AUC for different dimension sizes')"
      ]
     },
     "execution_count": 370,
     "metadata": {},
     "output_type": "execute_result"
    },
    {
     "data": {
      "image/png": "[encoded data removed]",
      "text/plain": [
       "<Figure size 432x288 with 1 Axes>"
      ]
     },
     "metadata": {
      "needs_background": "light"
     },
     "output_type": "display_data"
    }
   ],
   "source": [
    "plt.plot(np.log2(dimensions+[128]),results+[other[2]])\n",
    "plt.title(\"ROC AUC for different dimension sizes\")"
   ]
  },
  {
   "cell_type": "markdown",
   "metadata": {},
   "source": [
    "# Number of walks"
   ]
  },
  {
   "cell_type": "code",
   "execution_count": 372,
   "metadata": {},
   "outputs": [
    {
     "data": {
      "text/plain": [
       "4.0"
      ]
     },
     "execution_count": 372,
     "metadata": {},
     "output_type": "execute_result"
    }
   ],
   "source": [
    "len(walks)/2"
   ]
  },
  {
   "cell_type": "code",
   "execution_count": 395,
   "metadata": {},
   "outputs": [
    {
     "name": "stdout",
     "output_type": "stream",
     "text": [
      "0 part1 /home/areias/Documents/DataScience/graphs/model_walkspart1.pkl\n",
      "4 part2 /home/areias/Documents/DataScience/graphs/model_walkspart2.pkl\n"
     ]
    }
   ],
   "source": [
    "for i, v in zip(list(range(0,len(walks),int(len(walks)/2))),['part1','part2']):\n",
    "    filename=\"/home/areias/Documents/DataScience/graphs/model\"+\"_walks\"+v+\".pkl\"\n",
    "    print(i,v,filename)"
   ]
  },
  {
   "cell_type": "code",
   "execution_count": 495,
   "metadata": {},
   "outputs": [
    {
     "data": {
      "text/plain": [
       "[6, 8, 10, 12, 14, 16, 18, 20]"
      ]
     },
     "execution_count": 495,
     "metadata": {},
     "output_type": "execute_result"
    }
   ],
   "source": [
    "walks"
   ]
  },
  {
   "cell_type": "code",
   "execution_count": 391,
   "metadata": {},
   "outputs": [
    {
     "data": {
      "text/plain": [
       "[6, 8, 10, 12]"
      ]
     },
     "execution_count": 391,
     "metadata": {},
     "output_type": "execute_result"
    }
   ],
   "source": [
    "i=0\n",
    "walks[i:i+int(len(walks)/2)]"
   ]
  },
  {
   "cell_type": "code",
   "execution_count": 392,
   "metadata": {},
   "outputs": [
    {
     "data": {
      "text/plain": [
       "[14, 16, 18, 20]"
      ]
     },
     "execution_count": 392,
     "metadata": {},
     "output_type": "execute_result"
    }
   ],
   "source": [
    "i=4\n",
    "walks[i:i+int(len(walks)/2)]"
   ]
  },
  {
   "cell_type": "code",
   "execution_count": 492,
   "metadata": {},
   "outputs": [],
   "source": [
    "walk_results=[]\n",
    "for part in ['part1','part2']:\n",
    "    with open(\"/home/areias/Documents/DataScience/graphs/model_walks\"+part+\".pkl\",'rb') as f:\n",
    "            walk_results=walk_results+(pickle.load(f))\n"
   ]
  },
  {
   "cell_type": "code",
   "execution_count": 493,
   "metadata": {},
   "outputs": [
    {
     "data": {
      "text/plain": [
       "Text(0.5, 1.0, 'ROC AUC for different walk sizes')"
      ]
     },
     "execution_count": 493,
     "metadata": {},
     "output_type": "execute_result"
    },
    {
     "data": {
      "image/png": "[encoded data removed]",
      "text/plain": [
       "<Figure size 432x288 with 1 Axes>"
      ]
     },
     "metadata": {
      "needs_background": "light"
     },
     "output_type": "display_data"
    }
   ],
   "source": [
    "plt.plot(walks,walk_results)\n",
    "plt.title(\"ROC AUC for different walk sizes\")"
   ]
  },
  {
   "cell_type": "code",
   "execution_count": 403,
   "metadata": {},
   "outputs": [
    {
     "data": {
      "text/plain": [
       "[0.8223866790009251,\n",
       " 0.8374961455442491,\n",
       " 0.8402713536848597,\n",
       " 0.8444341658957755,\n",
       " 0.868485969781067,\n",
       " 0.8720320690718472,\n",
       " 0.8541473943879124,\n",
       " 0.8652482269503546]"
      ]
     },
     "execution_count": 403,
     "metadata": {},
     "output_type": "execute_result"
    }
   ],
   "source": [
    "results"
   ]
  },
  {
   "cell_type": "code",
   "execution_count": 473,
   "metadata": {},
   "outputs": [],
   "source": [
    "## Length of walks\n",
    "length_results=[]\n",
    "for part in ['part1','part2']:\n",
    "    with open(\"/home/areias/Documents/DataScience/graphs/model_length\"+part+\".pkl\",'rb') as f:\n",
    "            length_results=length_results+(pickle.load(f))\n"
   ]
  },
  {
   "cell_type": "code",
   "execution_count": 467,
   "metadata": {},
   "outputs": [],
   "source": [
    "walk_length=list(range(40,110,10))"
   ]
  },
  {
   "cell_type": "code",
   "execution_count": 474,
   "metadata": {},
   "outputs": [
    {
     "data": {
      "text/plain": [
       "[<matplotlib.lines.Line2D at 0x7faa2b3789d0>]"
      ]
     },
     "execution_count": 474,
     "metadata": {},
     "output_type": "execute_result"
    },
    {
     "data": {
      "image/png": "[encoded data removed]",
      "text/plain": [
       "<Figure size 432x288 with 1 Axes>"
      ]
     },
     "metadata": {
      "needs_background": "light"
     },
     "output_type": "display_data"
    }
   ],
   "source": [
    "plt.plot(walk_length,length_results)"
   ]
  },
  {
   "cell_type": "code",
   "execution_count": 472,
   "metadata": {},
   "outputs": [
    {
     "data": {
      "text/plain": [
       "[<matplotlib.lines.Line2D at 0x7faa16b6a490>]"
      ]
     },
     "execution_count": 472,
     "metadata": {},
     "output_type": "execute_result"
    },
    {
     "data": {
      "image/png": "[encoded data removed]",
      "text/plain": [
       "<Figure size 432x288 with 1 Axes>"
      ]
     },
     "metadata": {
      "needs_background": "light"
     },
     "output_type": "display_data"
    }
   ],
   "source": [
    "## Window size\n",
    "window_results=[]\n",
    "for part in ['part1','part2']:\n",
    "    with open(\"/home/areias/Documents/DataScience/graphs/model_window\"+part+\".pkl\",'rb') as f:\n",
    "            window_results=window_results+(pickle.load(f))\n",
    "\n",
    "plt.plot(window_size,window_results)"
   ]
  },
  {
   "cell_type": "code",
   "execution_count": 551,
   "metadata": {},
   "outputs": [
    {
     "data": {
      "image/png": "[encoded data removed]",
      "text/plain": [
       "<Figure size 864x576 with 6 Axes>"
      ]
     },
     "metadata": {},
     "output_type": "display_data"
    }
   ],
   "source": [
    "plt.style.use('fivethirtyeight')\n",
    "\n",
    "fig, ((ax1, ax2, ax3), (ax4, ax5, ax6)) = plt.subplots(2,3, sharey=True,figsize=(12,8))\n",
    "fig.suptitle('Node2Vec Parameter Sensitivity')\n",
    "\n",
    "ax1.plot(df.groupby('p')['auc'].mean())\n",
    "ax1.set_xlabel(\"p\")\n",
    "\n",
    "ax2.plot(df.groupby('q')['auc'].mean())\n",
    "ax2.set_xlabel(\"q\")\n",
    "\n",
    "ax3.plot(dimensions, dimension_results)\n",
    "ax3.set_xlabel(\"dimensions\")\n",
    "\n",
    "ax4.plot(walk_length, length_results)\n",
    "ax4.set_xlabel(\"length of walk\")\n",
    "\n",
    "ax5.plot(walks, walk_results)\n",
    "ax5.set_xlabel(\"number of walks\")\n",
    "\n",
    "ax6.plot(window_size, window_results)\n",
    "ax6.set_xlabel(\"window size\")\n",
    "\n",
    "plt.show()"
   ]
  },
  {
   "cell_type": "code",
   "execution_count": null,
   "metadata": {},
   "outputs": [],
   "source": []
  }
 ],
 "metadata": {
  "kernelspec": {
   "display_name": "Python [conda env:neo4j]",
   "language": "python",
   "name": "conda-env-neo4j-py"
  },
  "language_info": {
   "codemirror_mode": {
    "name": "ipython",
    "version": 3
   },
   "file_extension": ".py",
   "mimetype": "text/x-python",
   "name": "python",
   "nbconvert_exporter": "python",
   "pygments_lexer": "ipython3",
   "version": "3.7.7"
  }
 },
 "nbformat": 4,
 "nbformat_minor": 2
}
