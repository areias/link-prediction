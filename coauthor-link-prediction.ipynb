{
 "cells": [
  {
   "cell_type": "markdown",
   "metadata": {},
   "source": [
    "# Co-author Network Link Prediction"
   ]
  },
  {
   "cell_type": "markdown",
   "metadata": {},
   "source": [
    "Data comes from https://www.aminer.org/citation\n",
    "\n",
    "Based on \"Graphs and Machine Learning in Practice: Link Prediction\" in Graph Algorithms. Practical Examples in Apache Spark and Neo4j.\n",
    "\n"
   ]
  },
  {
   "cell_type": "code",
   "execution_count": 1,
   "metadata": {},
   "outputs": [],
   "source": [
    "import pandas as pd"
   ]
  },
  {
   "cell_type": "code",
   "execution_count": 2,
   "metadata": {},
   "outputs": [],
   "source": [
    "import json\n",
    "from py2neo import  Graph, Node\n",
    "import os"
   ]
  },
  {
   "cell_type": "code",
   "execution_count": 3,
   "metadata": {},
   "outputs": [
    {
     "name": "stdout",
     "output_type": "stream",
     "text": [
      "ads1000.csv            \u001b[0m\u001b[01;34mdbms\u001b[0m/           \u001b[01;34mtransactions\u001b[0m/\r\n",
      "\u001b[01;31mcitation-network1.zip\u001b[0m  \u001b[01;34mgoodbooks-10k\u001b[0m/  transport-nodes.csv\r\n",
      "\u001b[01;34mdatabases\u001b[0m/             outputacm.txt   transport-relationships.csv\r\n",
      "\u001b[01;34mdblp-ref\u001b[0m/              testdf.csv      trump-world.csv\r\n",
      "\u001b[01;31mdblp.v10.zip\u001b[0m           trainingdf.csv\r\n"
     ]
    }
   ],
   "source": [
    "%ls data"
   ]
  },
  {
   "cell_type": "markdown",
   "metadata": {},
   "source": [
    "## Loading the data"
   ]
  },
  {
   "cell_type": "code",
   "execution_count": 4,
   "metadata": {},
   "outputs": [],
   "source": [
    "# making smaller sample data\n",
    "file = open(\"data/dblp-ref/dblp-ref-3.json\", \"r\")\n",
    "os.remove(\"import/dblp-ref-3-small.json\") \n",
    "smallfile = open(\"import/dblp-ref-3-small.json\", \"a\")"
   ]
  },
  {
   "cell_type": "code",
   "execution_count": 5,
   "metadata": {},
   "outputs": [],
   "source": [
    "for i in range(15000):\n",
    "    line=file.readline()\n",
    "    smallfile.write(line)"
   ]
  },
  {
   "cell_type": "code",
   "execution_count": 6,
   "metadata": {},
   "outputs": [],
   "source": [
    "file.close()\n",
    "smallfile.close()"
   ]
  },
  {
   "cell_type": "code",
   "execution_count": 7,
   "metadata": {},
   "outputs": [
    {
     "name": "stdout",
     "output_type": "stream",
     "text": [
      "{\n",
      "    \"authors\": [\n",
      "        \"Macario O. Cordel\",\n",
      "        \"Arnulfo P. Azcarraga\"\n",
      "    ],\n",
      "    \"id\": \"fff8aa8d-19eb-4cdb-b45c-d93ab48f32bc\",\n",
      "    \"n_citation\": 0,\n",
      "    \"references\": [\n",
      "        \"526860a6-aea8-4f8d-b7f9-e01d3629a6a9\",\n",
      "        \"b3021ed3-42de-4b75-ad6e-bd64e51f4cba\"\n",
      "    ],\n",
      "    \"title\": \"Measuring the contribution of filter bank layer to performance of convolutional neural networks\",\n",
      "    \"venue\": \"International Journal of Knowledge-based and Intelligent Engineering Systems\",\n",
      "    \"year\": 2017\n",
      "}\n"
     ]
    }
   ],
   "source": [
    "print(json.dumps(json.loads(line), indent=4, sort_keys=True))"
   ]
  },
  {
   "cell_type": "markdown",
   "metadata": {},
   "source": [
    "## The Coauthorship Graph"
   ]
  },
  {
   "cell_type": "markdown",
   "metadata": {},
   "source": [
    "https://neo4j.com/blog/cypher-load-json-from-url/"
   ]
  },
  {
   "cell_type": "code",
   "execution_count": 8,
   "metadata": {},
   "outputs": [],
   "source": [
    "# create a graph\n",
    "graphdb = Graph(scheme=\"bolt\", host=\"localhost\", port=7687, secure=False, auth=('neo4j', 'test'))\n",
    "graphdb.delete_all()"
   ]
  },
  {
   "cell_type": "code",
   "execution_count": null,
   "metadata": {},
   "outputs": [],
   "source": [
    "graphdb.run(\"\"\"CREATE CONSTRAINT ON (a:Article)\n",
    "    ASSERT a.index IS UNIQUE\"\"\")"
   ]
  },
  {
   "cell_type": "code",
   "execution_count": null,
   "metadata": {},
   "outputs": [],
   "source": [
    "graphdb.run(\"\"\"CREATE CONSTRAINT ON (au:Author)\n",
    "    ASSERT au.name IS UNIQUE;\"\"\")"
   ]
  },
  {
   "cell_type": "code",
   "execution_count": 9,
   "metadata": {},
   "outputs": [
    {
     "data": {
      "text/plain": [
       "<py2neo.database.Cursor at 0x7fc55741a310>"
      ]
     },
     "execution_count": 9,
     "metadata": {},
     "output_type": "execute_result"
    }
   ],
   "source": [
    "# https://neo4j.com/docs/labs/apoc/current/import/load-json/\n",
    "\n",
    "graphdb.run(\"\"\"CALL apoc.load.json(\"file:///dblp-ref-3-small.json\")\n",
    "YIELD value\n",
    "WHERE value.venue IN [\"Lecture Notes in Computer Science\",\n",
    "    \"Communications of The ACM\",\n",
    "    \"international conference on software engineering\",\n",
    "    \"advances in computing and communications\"]\n",
    "MERGE (p:Article {title: value.title})\n",
    "SET p.year = value.year\n",
    "WITH p, value\n",
    "UNWIND value.authors AS author\n",
    "MERGE (c:Author {name: author})\n",
    "MERGE (p)-[:AUTHOR_OF]->(c)\n",
    "\"\"\")"
   ]
  },
  {
   "cell_type": "code",
   "execution_count": 10,
   "metadata": {},
   "outputs": [
    {
     "data": {
      "text/plain": [
       "<py2neo.database.Cursor at 0x7fc5808aaf90>"
      ]
     },
     "execution_count": 10,
     "metadata": {},
     "output_type": "execute_result"
    }
   ],
   "source": [
    "# when we pointed authors to articles then we double counted co-authorships\n",
    "graphdb.run(\"\"\"MATCH (a1:Author)<-[:AUTHOR_OF]-(paper:Article)-[:AUTHOR_OF]->(a2:Author)\n",
    "WITH a1,a2, paper\n",
    "ORDER BY a1,paper.year\n",
    "WITH a1, a2, collect(paper)[0].year AS year, count(*) AS collaborations\n",
    "MERGE (a1)-[coauthor:CO_AUTHOR {year: year}]-(a2)\n",
    "SET coauthor.collaborations = collaborations;\"\"\")\n",
    "\n"
   ]
  },
  {
   "cell_type": "markdown",
   "metadata": {},
   "source": [
    "## Plot graph schema\n",
    "\n",
    "https://networkx.github.io/documentation/latest/_downloads/networkx_reference.pdf\n",
    "\n",
    "https://stackoverflow.com/questions/22312334/how-to-show-cycles-in-networkx-graph-drawing\n",
    "\n",
    "https://pypi.org/project/graphviz/\n"
   ]
  },
  {
   "cell_type": "code",
   "execution_count": null,
   "metadata": {},
   "outputs": [],
   "source": [
    "import networkx as nx  \n",
    "import matplotlib.pyplot as plt  \n",
    "%matplotlib inline"
   ]
  },
  {
   "cell_type": "code",
   "execution_count": null,
   "metadata": {},
   "outputs": [],
   "source": [
    "G = nx.DiGraph()"
   ]
  },
  {
   "cell_type": "code",
   "execution_count": null,
   "metadata": {},
   "outputs": [],
   "source": [
    "G.add_nodes_from([\"Article\", \"Author\"])"
   ]
  },
  {
   "cell_type": "code",
   "execution_count": null,
   "metadata": {},
   "outputs": [],
   "source": [
    "G.add_edge(\"Article\", \"Author\")"
   ]
  },
  {
   "cell_type": "code",
   "execution_count": null,
   "metadata": {},
   "outputs": [],
   "source": [
    "G.add_edge(\"Author\", \"Author\")"
   ]
  },
  {
   "cell_type": "code",
   "execution_count": null,
   "metadata": {},
   "outputs": [],
   "source": [
    "nx.draw(G, with_labels = True, node_size = 5000, font_size = 20)  \n",
    "plt.show()  "
   ]
  },
  {
   "cell_type": "code",
   "execution_count": null,
   "metadata": {},
   "outputs": [],
   "source": [
    "# to plot self nodes need transform nx graph to pydot\n",
    "# use graphviz to plot\n",
    "pydot_graph = nx.drawing.nx_pydot.to_pydot(G)\n",
    "pydot_graph"
   ]
  },
  {
   "cell_type": "code",
   "execution_count": null,
   "metadata": {},
   "outputs": [],
   "source": [
    "import pydot\n",
    "pdot=pydot.graph_from_dot_file(\"graph.dot\")\n",
    "pdot[0]"
   ]
  },
  {
   "cell_type": "code",
   "execution_count": null,
   "metadata": {},
   "outputs": [],
   "source": [
    "from IPython.display import Image, display\n",
    "\n",
    "plt = Image(pdot[0].create_fig())\n",
    "display(plt)"
   ]
  },
  {
   "cell_type": "markdown",
   "metadata": {},
   "source": [
    "## Summary stats\n",
    "\n",
    "https://neo4j.com/blog/data-profiling-holistic-view-neo4j/"
   ]
  },
  {
   "cell_type": "code",
   "execution_count": 11,
   "metadata": {},
   "outputs": [
    {
     "name": "stdout",
     "output_type": "stream",
     "text": [
      "5676 nodes\n",
      "1579 articles\n",
      "4097 authors\n",
      "10210 relationships\n"
     ]
    }
   ],
   "source": [
    "print(str(graphdb.run(\"\"\"MATCH (n) RETURN count(n)\"\"\").evaluate()) + \" nodes\")\n",
    "print(str(graphdb.run(\"\"\"MATCH (n:Article) RETURN count(n)\"\"\").evaluate()) + \" articles\")\n",
    "print(str(graphdb.run(\"\"\"MATCH (n:Author) RETURN count(n)\"\"\").evaluate()) + \" authors\")\n",
    "print(str(graphdb.run(\"\"\"MATCH ()-[r]->() RETURN count(*)\"\"\").evaluate()) + \" relationships\")"
   ]
  },
  {
   "cell_type": "code",
   "execution_count": 12,
   "metadata": {},
   "outputs": [
    {
     "data": {
      "text/html": [
       "<table><tr><th>relationshipType</th></tr><tr><td style=\"text-align:left\">AUTHOR_OF</td></tr><tr><td style=\"text-align:left\">CO_AUTHOR</td></tr></table>"
      ],
      "text/plain": [
       " relationshipType \n",
       "------------------\n",
       " AUTHOR_OF        \n",
       " CO_AUTHOR        "
      ]
     },
     "execution_count": 12,
     "metadata": {},
     "output_type": "execute_result"
    }
   ],
   "source": [
    "graphdb.run(\"\"\"CALL db.relationshipTypes()\"\"\").to_table()"
   ]
  },
  {
   "cell_type": "code",
   "execution_count": 13,
   "metadata": {},
   "outputs": [
    {
     "data": {
      "text/html": [
       "<table><tr><th>NodeType</th><th>NumberOfNodes</th></tr><tr><td style=\"text-align:left\">[&#039;Author&#039;]</td><td style=\"text-align:right\">4097</td></tr><tr><td style=\"text-align:left\">[&#039;Article&#039;]</td><td style=\"text-align:right\">1579</td></tr></table>"
      ],
      "text/plain": [
       " NodeType    | NumberOfNodes \n",
       "-------------|---------------\n",
       " ['Author']  |          4097 \n",
       " ['Article'] |          1579 "
      ]
     },
     "execution_count": 13,
     "metadata": {},
     "output_type": "execute_result"
    }
   ],
   "source": [
    "# number of co-authorship pairs\n",
    "# number of co-authorship pairs per year\n",
    "# number of articles per year\n",
    "graphdb.run(\"\"\"MATCH (n) RETURN labels(n) AS NodeType, count(n) AS NumberOfNodes\"\"\").to_table()"
   ]
  },
  {
   "cell_type": "code",
   "execution_count": 16,
   "metadata": {},
   "outputs": [
    {
     "data": {
      "text/html": [
       "<table><tr><th>RelationshipType</th><th>NumberOfRelationships</th></tr><tr><td style=\"text-align:left\">CO_AUTHOR</td><td style=\"text-align:right\">11286</td></tr><tr><td style=\"text-align:left\">AUTHOR_OF</td><td style=\"text-align:right\">9134</td></tr></table>"
      ],
      "text/plain": [
       " RelationshipType | NumberOfRelationships \n",
       "------------------|-----------------------\n",
       " CO_AUTHOR        |                 11286 \n",
       " AUTHOR_OF        |                  9134 "
      ]
     },
     "execution_count": 16,
     "metadata": {},
     "output_type": "execute_result"
    }
   ],
   "source": [
    "graphdb.run(\"\"\"MATCH  ()-[r]-()\n",
    "    RETURN type(r) AS RelationshipType, count(r) AS NumberOfRelationships\"\"\").to_table()"
   ]
  },
  {
   "cell_type": "code",
   "execution_count": 14,
   "metadata": {},
   "outputs": [
    {
     "data": {
      "text/html": [
       "<table><tr><th>keys(u)</th></tr><tr><td style=\"text-align:left\">[&#039;title&#039;, &#039;year&#039;]</td></tr></table>"
      ],
      "text/plain": [
       " keys(u)           \n",
       "-------------------\n",
       " ['title', 'year'] "
      ]
     },
     "execution_count": 14,
     "metadata": {},
     "output_type": "execute_result"
    }
   ],
   "source": [
    "graphdb.run(\"\"\"MATCH (u:Article) RETURN keys(u) LIMIT 1\"\"\").to_table()"
   ]
  },
  {
   "cell_type": "code",
   "execution_count": 15,
   "metadata": {},
   "outputs": [
    {
     "data": {
      "text/html": [
       "<table><tr><th>keys(t)</th></tr><tr><td style=\"text-align:left\">[]</td></tr></table>"
      ],
      "text/plain": [
       " keys(t) \n",
       "---------\n",
       " []      "
      ]
     },
     "execution_count": 15,
     "metadata": {},
     "output_type": "execute_result"
    }
   ],
   "source": [
    "graphdb.run(\"\"\"MATCH ()-[t:AUTHOR_OF]-() RETURN keys(t) LIMIT 1\"\"\").to_table()"
   ]
  },
  {
   "cell_type": "code",
   "execution_count": 16,
   "metadata": {},
   "outputs": [
    {
     "data": {
      "text/html": [
       "<table><tr><th>keys(t)</th></tr><tr><td style=\"text-align:left\">[&#039;collaborations&#039;, &#039;year&#039;]</td></tr></table>"
      ],
      "text/plain": [
       " keys(t)                    \n",
       "----------------------------\n",
       " ['collaborations', 'year'] "
      ]
     },
     "execution_count": 16,
     "metadata": {},
     "output_type": "execute_result"
    }
   ],
   "source": [
    "graphdb.run(\"\"\"MATCH ()-[t:CO_AUTHOR]-() RETURN keys(t) LIMIT 1\"\"\").to_table()"
   ]
  },
  {
   "cell_type": "code",
   "execution_count": 17,
   "metadata": {},
   "outputs": [
    {
     "data": {
      "text/html": [
       "<table><tr><th>MinCollaborations</th><th>MaxCollaborations</th><th>AvgCollaborations</th><th>StdCollaborations</th></tr><tr><td style=\"text-align:right\">1</td><td style=\"text-align:right\">6</td><td style=\"text-align:right\">1.0241006556796042</td><td style=\"text-align:right\">0.18481201975399397</td></tr></table>"
      ],
      "text/plain": [
       " MinCollaborations | MaxCollaborations |  AvgCollaborations |   StdCollaborations \n",
       "-------------------|-------------------|--------------------|---------------------\n",
       "                 1 |                 6 | 1.0241006556796042 | 0.18481201975399397 "
      ]
     },
     "execution_count": 17,
     "metadata": {},
     "output_type": "execute_result"
    }
   ],
   "source": [
    "graphdb.run(\"\"\"MATCH ()-[p:CO_AUTHOR]-()\n",
    "    RETURN min(p.collaborations) AS MinCollaborations, \n",
    "    max(p.collaborations) AS MaxCollaborations, \n",
    "    avg(p.collaborations) AS AvgCollaborations, \n",
    "    stDev(p.collaborations) AS StdCollaborations\"\"\").to_table()"
   ]
  },
  {
   "cell_type": "code",
   "execution_count": 18,
   "metadata": {},
   "outputs": [
    {
     "data": {
      "text/html": [
       "<table><tr><th>p.collaborations</th><th>total</th></tr><tr><td style=\"text-align:right\">1</td><td style=\"text-align:right\">11050</td></tr><tr><td style=\"text-align:right\">2</td><td style=\"text-align:right\">214</td></tr><tr><td style=\"text-align:right\">3</td><td style=\"text-align:right\">16</td></tr><tr><td style=\"text-align:right\">5</td><td style=\"text-align:right\">4</td></tr><tr><td style=\"text-align:right\">6</td><td style=\"text-align:right\">2</td></tr></table>"
      ],
      "text/plain": [
       " p.collaborations | total \n",
       "------------------|-------\n",
       "                1 | 11050 \n",
       "                2 |   214 \n",
       "                3 |    16 \n",
       "                5 |     4 \n",
       "                6 |     2 "
      ]
     },
     "execution_count": 18,
     "metadata": {},
     "output_type": "execute_result"
    }
   ],
   "source": [
    "graphdb.run(\"\"\"MATCH ()-[p:CO_AUTHOR]-()\n",
    "    RETURN p.collaborations, count(p.collaborations) AS total\n",
    "    ORDER BY p.collaborations\"\"\").to_table()"
   ]
  },
  {
   "cell_type": "markdown",
   "metadata": {},
   "source": [
    "## Splitting into training and test set"
   ]
  },
  {
   "cell_type": "code",
   "execution_count": 19,
   "metadata": {},
   "outputs": [],
   "source": [
    "articles=graphdb.run(\"\"\"MATCH (a:Article)\n",
    "    RETURN a.year AS year, count(a.year) AS totalArticles\n",
    "    ORDER BY year\"\"\").to_data_frame()\n",
    "    "
   ]
  },
  {
   "cell_type": "code",
   "execution_count": 20,
   "metadata": {},
   "outputs": [
    {
     "data": {
      "text/plain": [
       "<matplotlib.axes._subplots.AxesSubplot at 0x7fc556918dd0>"
      ]
     },
     "execution_count": 20,
     "metadata": {},
     "output_type": "execute_result"
    },
    {
     "data": {
      "image/png": "[encoded data removed]",
      "text/plain": [
       "<Figure size 432x288 with 1 Axes>"
      ]
     },
     "metadata": {
      "needs_background": "light"
     },
     "output_type": "display_data"
    }
   ],
   "source": [
    "articles.plot(\"year\",\"totalArticles\", kind=\"bar\")"
   ]
  },
  {
   "cell_type": "code",
   "execution_count": 21,
   "metadata": {},
   "outputs": [
    {
     "data": {
      "text/html": [
       "<table><tr><th>training</th><th>count</th></tr><tr><td style=\"text-align:left\">false</td><td style=\"text-align:right\">817</td></tr><tr><td style=\"text-align:left\">true</td><td style=\"text-align:right\">762</td></tr></table>"
      ],
      "text/plain": [
       " training | count \n",
       "----------|-------\n",
       " false    |   817 \n",
       " true     |   762 "
      ]
     },
     "execution_count": 21,
     "metadata": {},
     "output_type": "execute_result"
    }
   ],
   "source": [
    "graphdb.run(\"\"\"MATCH (a:Article)\n",
    "    RETURN a.year < 2006 AS training, count(*) AS count\"\"\").to_table()"
   ]
  },
  {
   "cell_type": "code",
   "execution_count": 22,
   "metadata": {},
   "outputs": [
    {
     "data": {
      "text/plain": [
       "<py2neo.database.Cursor at 0x7fc555fe3710>"
      ]
     },
     "execution_count": 22,
     "metadata": {},
     "output_type": "execute_result"
    }
   ],
   "source": [
    "# Create relationship CO_AUTHOR_EARLY for co author pairs before 2006\n",
    "graphdb.run(\"\"\"MATCH (a1)<-[:AUTHOR_OF]-(paper:Article)-[:AUTHOR_OF]->(a2:Author)\n",
    "    WITH a1, a2, paper\n",
    "    ORDER BY a1, paper.year\n",
    "    WITH a1, a2, collect(paper)[0].year AS year, count(*) AS collaborations\n",
    "    WHERE year < 2006\n",
    "    MERGE (a1)-[coauthor:CO_AUTHOR_EARLY {year: year}]-(a2)\n",
    "    SET coauthor.collaborations = collaborations\"\"\")"
   ]
  },
  {
   "cell_type": "code",
   "execution_count": 23,
   "metadata": {},
   "outputs": [
    {
     "data": {
      "text/plain": [
       "<py2neo.database.Cursor at 0x7fc555f99250>"
      ]
     },
     "execution_count": 23,
     "metadata": {},
     "output_type": "execute_result"
    }
   ],
   "source": [
    "graphdb.run(\"\"\"MATCH (a1)<-[:AUTHOR_OF]-(paper:Article)-[:AUTHOR_OF]->(a2:Author)\n",
    "    WITH a1, a2, paper\n",
    "    ORDER BY a1, paper.year\n",
    "    WITH a1, a2, collect(paper)[0].year AS year, count(*) AS collaborations\n",
    "    WHERE year >= 2006\n",
    "    MERGE (a1)-[coauthor:CO_AUTHOR_LATE {year: year}]-(a2)\n",
    "    SET coauthor.collaborations = collaborations\"\"\")"
   ]
  },
  {
   "cell_type": "code",
   "execution_count": 24,
   "metadata": {},
   "outputs": [
    {
     "data": {
      "text/html": [
       "<table><tr><th>relationshipType</th><th>total</th></tr><tr><td style=\"text-align:left\">CO_AUTHOR_EARLY</td><td style=\"text-align:right\">4800</td></tr><tr><td style=\"text-align:left\">CO_AUTHOR</td><td style=\"text-align:right\">11286</td></tr><tr><td style=\"text-align:left\">AUTHOR_OF</td><td style=\"text-align:right\">9134</td></tr><tr><td style=\"text-align:left\">CO_AUTHOR_LATE</td><td style=\"text-align:right\">6486</td></tr></table>"
      ],
      "text/plain": [
       " relationshipType | total \n",
       "------------------|-------\n",
       " CO_AUTHOR_EARLY  |  4800 \n",
       " CO_AUTHOR        | 11286 \n",
       " AUTHOR_OF        |  9134 \n",
       " CO_AUTHOR_LATE   |  6486 "
      ]
     },
     "execution_count": 24,
     "metadata": {},
     "output_type": "execute_result"
    }
   ],
   "source": [
    "graphdb.run(\"\"\"MATCH ()-[p]-()\n",
    "    RETURN type(p) as relationshipType, count(p) AS total\"\"\").to_table()"
   ]
  },
  {
   "cell_type": "code",
   "execution_count": 25,
   "metadata": {},
   "outputs": [
    {
     "data": {
      "text/html": [
       "<table><tr><th>total</th></tr><tr><td style=\"text-align:right\">2400</td></tr></table>"
      ],
      "text/plain": [
       " total \n",
       "-------\n",
       "  2400 "
      ]
     },
     "execution_count": 25,
     "metadata": {},
     "output_type": "execute_result"
    }
   ],
   "source": [
    "# how many authors have a co_author_early type of relationship\n",
    "# Dont think this is right\n",
    "graphdb.run(\"\"\"MATCH (a)-[p:CO_AUTHOR_EARLY]->() RETURN count(a) AS total\"\"\").to_table()"
   ]
  },
  {
   "cell_type": "code",
   "execution_count": 26,
   "metadata": {},
   "outputs": [
    {
     "data": {
      "text/html": [
       "<table><tr><th>total</th></tr><tr><td style=\"text-align:right\">3243</td></tr></table>"
      ],
      "text/plain": [
       " total \n",
       "-------\n",
       "  3243 "
      ]
     },
     "execution_count": 26,
     "metadata": {},
     "output_type": "execute_result"
    }
   ],
   "source": [
    "graphdb.run(\"\"\"MATCH (a)-[p:CO_AUTHOR_LATE]->() RETURN count(a) AS total\"\"\").to_table()"
   ]
  },
  {
   "cell_type": "markdown",
   "metadata": {},
   "source": [
    "## Balancing data"
   ]
  },
  {
   "cell_type": "code",
   "execution_count": 27,
   "metadata": {},
   "outputs": [],
   "source": [
    "train_existing_links = graphdb.run(\"\"\"\n",
    "    MATCH (author:Author)-[:CO_AUTHOR_EARLY]->(other:Author)\n",
    "    RETURN id(author) AS node1, id(other) AS node2, 1 AS label\n",
    "    \"\"\").to_data_frame()"
   ]
  },
  {
   "cell_type": "code",
   "execution_count": 31,
   "metadata": {},
   "outputs": [
    {
     "data": {
      "text/html": [
       "<div>\n",
       "<style scoped>\n",
       "    .dataframe tbody tr th:only-of-type {\n",
       "        vertical-align: middle;\n",
       "    }\n",
       "\n",
       "    .dataframe tbody tr th {\n",
       "        vertical-align: top;\n",
       "    }\n",
       "\n",
       "    .dataframe thead th {\n",
       "        text-align: right;\n",
       "    }\n",
       "</style>\n",
       "<table border=\"1\" class=\"dataframe\">\n",
       "  <thead>\n",
       "    <tr style=\"text-align: right;\">\n",
       "      <th></th>\n",
       "      <th>node1</th>\n",
       "      <th>node2</th>\n",
       "      <th>label</th>\n",
       "    </tr>\n",
       "  </thead>\n",
       "  <tbody>\n",
       "    <tr>\n",
       "      <th>0</th>\n",
       "      <td>0</td>\n",
       "      <td>1</td>\n",
       "      <td>1</td>\n",
       "    </tr>\n",
       "    <tr>\n",
       "      <th>1</th>\n",
       "      <td>0</td>\n",
       "      <td>3</td>\n",
       "      <td>1</td>\n",
       "    </tr>\n",
       "    <tr>\n",
       "      <th>2</th>\n",
       "      <td>1</td>\n",
       "      <td>3</td>\n",
       "      <td>1</td>\n",
       "    </tr>\n",
       "    <tr>\n",
       "      <th>3</th>\n",
       "      <td>20</td>\n",
       "      <td>21</td>\n",
       "      <td>1</td>\n",
       "    </tr>\n",
       "    <tr>\n",
       "      <th>4</th>\n",
       "      <td>20</td>\n",
       "      <td>22</td>\n",
       "      <td>1</td>\n",
       "    </tr>\n",
       "  </tbody>\n",
       "</table>\n",
       "</div>"
      ],
      "text/plain": [
       "   node1  node2  label\n",
       "0      0      1      1\n",
       "1      0      3      1\n",
       "2      1      3      1\n",
       "3     20     21      1\n",
       "4     20     22      1"
      ]
     },
     "execution_count": 31,
     "metadata": {},
     "output_type": "execute_result"
    }
   ],
   "source": [
    "train_existing_links.head()"
   ]
  },
  {
   "cell_type": "code",
   "execution_count": 28,
   "metadata": {},
   "outputs": [],
   "source": [
    "train_missing_links = graphdb.run(\"\"\"\n",
    "    MATCH (author:Author)\n",
    "    WHERE (author)-[:CO_AUTHOR_EARLY]-()\n",
    "    MATCH (author)-[:CO_AUTHOR_EARLY*2..3]-(other)\n",
    "    WHERE not((author)-[:CO_AUTHOR_EARLY]-(other))\n",
    "    RETURN id(author) AS node1, id(other) AS node2, 0 AS label\n",
    "    \"\"\").to_data_frame()"
   ]
  },
  {
   "cell_type": "code",
   "execution_count": 29,
   "metadata": {},
   "outputs": [
    {
     "data": {
      "text/plain": [
       "20796"
      ]
     },
     "execution_count": 29,
     "metadata": {},
     "output_type": "execute_result"
    }
   ],
   "source": [
    "len(train_missing_links)"
   ]
  },
  {
   "cell_type": "code",
   "execution_count": 30,
   "metadata": {},
   "outputs": [],
   "source": [
    "train_missing_links = train_missing_links.drop_duplicates()\n",
    "training_df = train_missing_links.append(train_existing_links, ignore_index=True)\n",
    "training_df['label'] = training_df['label'].astype('category')"
   ]
  },
  {
   "cell_type": "code",
   "execution_count": 31,
   "metadata": {},
   "outputs": [
    {
     "data": {
      "text/plain": [
       "0    2796\n",
       "1    2400\n",
       "Name: label, dtype: int64"
      ]
     },
     "execution_count": 31,
     "metadata": {},
     "output_type": "execute_result"
    }
   ],
   "source": [
    "training_df['label'].value_counts()"
   ]
  },
  {
   "cell_type": "code",
   "execution_count": 32,
   "metadata": {},
   "outputs": [],
   "source": [
    "from collections import Counter"
   ]
  },
  {
   "cell_type": "code",
   "execution_count": 33,
   "metadata": {},
   "outputs": [],
   "source": [
    "def down_sample(df):\n",
    "    copy = df.copy()\n",
    "    zero = Counter(copy.label.values)[0]\n",
    "    un = Counter(copy.label.values)[1]\n",
    "    n = zero - un\n",
    "    copy = copy.drop(copy[copy.label == 0].sample(n=n, random_state=1).index)\n",
    "    return copy.sample(frac=1)"
   ]
  },
  {
   "cell_type": "code",
   "execution_count": 34,
   "metadata": {},
   "outputs": [],
   "source": [
    "training_df=down_sample(training_df)"
   ]
  },
  {
   "cell_type": "code",
   "execution_count": 35,
   "metadata": {},
   "outputs": [
    {
     "data": {
      "text/plain": [
       "1    2400\n",
       "0    2400\n",
       "Name: label, dtype: int64"
      ]
     },
     "execution_count": 35,
     "metadata": {},
     "output_type": "execute_result"
    }
   ],
   "source": [
    "training_df['label'].value_counts()"
   ]
  },
  {
   "cell_type": "code",
   "execution_count": 36,
   "metadata": {},
   "outputs": [],
   "source": [
    "test_existing_links = graphdb.run(\"\"\"\n",
    "    MATCH (author:Author)-[:CO_AUTHOR_LATE]->(other:Author)\n",
    "    RETURN id(author) AS node1, id(other) AS node2, 1 AS label\n",
    "    \"\"\").to_data_frame()"
   ]
  },
  {
   "cell_type": "code",
   "execution_count": 37,
   "metadata": {},
   "outputs": [
    {
     "data": {
      "text/plain": [
       "3243"
      ]
     },
     "execution_count": 37,
     "metadata": {},
     "output_type": "execute_result"
    }
   ],
   "source": [
    "len(test_existing_links)"
   ]
  },
  {
   "cell_type": "code",
   "execution_count": 38,
   "metadata": {},
   "outputs": [],
   "source": [
    "test_missing_links = graphdb.run(\"\"\"\n",
    "    MATCH (author:Author)\n",
    "    WHERE (author)-[:CO_AUTHOR_LATE]-()\n",
    "    MATCH (author)-[:CO_AUTHOR_LATE*2..3]-(other)\n",
    "    WHERE not((author)-[:CO_AUTHOR_LATE]-(other))\n",
    "    RETURN id(author) AS node1, id(other) AS node2, 0 AS label\n",
    "    \"\"\").to_data_frame()"
   ]
  },
  {
   "cell_type": "code",
   "execution_count": 39,
   "metadata": {},
   "outputs": [
    {
     "data": {
      "text/plain": [
       "31868"
      ]
     },
     "execution_count": 39,
     "metadata": {},
     "output_type": "execute_result"
    }
   ],
   "source": [
    "len(test_missing_links)"
   ]
  },
  {
   "cell_type": "code",
   "execution_count": 40,
   "metadata": {},
   "outputs": [],
   "source": [
    "test_missing_links = test_missing_links.drop_duplicates()\n",
    "test_df = test_missing_links.append(test_existing_links, ignore_index=True)\n",
    "test_df['label'] = test_df['label'].astype('category')\n",
    "test_df = down_sample(test_df)"
   ]
  },
  {
   "cell_type": "code",
   "execution_count": 41,
   "metadata": {},
   "outputs": [
    {
     "data": {
      "text/plain": [
       "1    3243\n",
       "0    3243\n",
       "Name: label, dtype: int64"
      ]
     },
     "execution_count": 41,
     "metadata": {},
     "output_type": "execute_result"
    }
   ],
   "source": [
    "test_df.label.value_counts()"
   ]
  },
  {
   "cell_type": "markdown",
   "metadata": {},
   "source": [
    "## Spark"
   ]
  },
  {
   "cell_type": "code",
   "execution_count": 42,
   "metadata": {},
   "outputs": [],
   "source": [
    "import findspark\n",
    "findspark.init()"
   ]
  },
  {
   "cell_type": "code",
   "execution_count": 43,
   "metadata": {},
   "outputs": [],
   "source": [
    "import pyspark\n",
    "sc = pyspark.SparkContext(appName=\"link_prediction\")"
   ]
  },
  {
   "cell_type": "code",
   "execution_count": 44,
   "metadata": {},
   "outputs": [],
   "source": [
    "from pyspark.sql import SparkSession\n",
    "\n",
    "spark = SparkSession.builder \\\n",
    "    .master(\"local\") \\\n",
    "    .appName(\"link_prediction\") \\\n",
    "    .getOrCreate()\n"
   ]
  },
  {
   "cell_type": "code",
   "execution_count": 45,
   "metadata": {},
   "outputs": [],
   "source": [
    "test_df.to_csv(\"data/testdf.csv\", index=False)"
   ]
  },
  {
   "cell_type": "code",
   "execution_count": 46,
   "metadata": {},
   "outputs": [],
   "source": [
    "training_df.to_csv(\"data/trainingdf.csv\", index=False)"
   ]
  },
  {
   "cell_type": "code",
   "execution_count": 53,
   "metadata": {},
   "outputs": [],
   "source": [
    "#test_df=pd.read_csv(\"data/testdf.csv\")\n",
    "#training_df=pd.read_csv(\"data/trainingdf.csv\")"
   ]
  },
  {
   "cell_type": "code",
   "execution_count": 47,
   "metadata": {},
   "outputs": [],
   "source": [
    "training_data=spark.createDataFrame(training_df)"
   ]
  },
  {
   "cell_type": "code",
   "execution_count": 48,
   "metadata": {},
   "outputs": [
    {
     "name": "stdout",
     "output_type": "stream",
     "text": [
      "+-----+-----+-----+\n",
      "|node1|node2|label|\n",
      "+-----+-----+-----+\n",
      "|  268|  786|    1|\n",
      "| 3493| 3493|    0|\n",
      "| 1999| 2000|    1|\n",
      "| 3563| 3563|    0|\n",
      "| 3586| 3586|    0|\n",
      "+-----+-----+-----+\n",
      "only showing top 5 rows\n",
      "\n"
     ]
    }
   ],
   "source": [
    "training_data.show(n=5)"
   ]
  },
  {
   "cell_type": "code",
   "execution_count": 49,
   "metadata": {},
   "outputs": [
    {
     "name": "stdout",
     "output_type": "stream",
     "text": [
      "+-----+-----+\n",
      "|label|count|\n",
      "+-----+-----+\n",
      "|    0| 2400|\n",
      "|    1| 2400|\n",
      "+-----+-----+\n",
      "\n"
     ]
    }
   ],
   "source": [
    "training_data.groupby(\"label\").count().show()"
   ]
  },
  {
   "cell_type": "code",
   "execution_count": 50,
   "metadata": {},
   "outputs": [],
   "source": [
    "test_data=spark.createDataFrame(test_df)"
   ]
  },
  {
   "cell_type": "code",
   "execution_count": 51,
   "metadata": {},
   "outputs": [
    {
     "name": "stdout",
     "output_type": "stream",
     "text": [
      "+-----+-----+\n",
      "|label|count|\n",
      "+-----+-----+\n",
      "|    0| 3243|\n",
      "|    1| 3243|\n",
      "+-----+-----+\n",
      "\n"
     ]
    }
   ],
   "source": [
    "test_data.groupby(\"label\").count().show()"
   ]
  },
  {
   "cell_type": "markdown",
   "metadata": {},
   "source": [
    "# Predicting missing links\n",
    "\n",
    "We hypothesize that the following community related charecteristics increase the probability that authors become co-authors.\n",
    "\n",
    "* more co-authors in common\n",
    "* triadic relationships between authors\n",
    "* authors with more relationships\n",
    "* authors in same community\n",
    "* authors in same tighter community\n",
    "\n",
    "We build graphy features based on the hypotheses above and train a random forest binary classifier to predict whether a pair of authors will have a link or not."
   ]
  },
  {
   "cell_type": "code",
   "execution_count": 52,
   "metadata": {},
   "outputs": [],
   "source": [
    "from pyspark.ml.feature import VectorAssembler\n",
    "from pyspark.ml.classification import RandomForestClassifier\n",
    "from pyspark.ml.pipeline import Pipeline\n",
    "from pyspark.ml.evaluation import BinaryClassificationEvaluator\n",
    "from sklearn.metrics import roc_curve, auc\n",
    "\n",
    "def create_pipeline(fields):\n",
    "    assembler = VectorAssembler(inputCols=fields, \n",
    "        outputCol=\"features\")\n",
    "    rf = RandomForestClassifier(labelCol=\"label\", \n",
    "        featuresCol=\"features\",\n",
    "        numTrees=30, maxDepth=10)\n",
    "    return Pipeline(stages=[assembler, rf])"
   ]
  },
  {
   "cell_type": "code",
   "execution_count": 53,
   "metadata": {},
   "outputs": [],
   "source": [
    "def apply_graphy_training_features(data):\n",
    "    query = \"\"\"\n",
    "    UNWIND $pairs AS pair\n",
    "    MATCH (p1) WHERE id(p1) = pair.node1\n",
    "    MATCH (p2) WHERE id(p2) = pair.node2\n",
    "    RETURN pair.node1 AS node1,pair.node2 AS node2,\n",
    "        size([(p1)-[:CO_AUTHOR_EARLY]-(a)-[:CO_AUTHOR_EARLY]-(p2) | a]) AS commonAuthors,\n",
    "        size((p1)-[:CO_AUTHOR_EARLY]-()) * size((p2)-[:CO_AUTHOR_EARLY]-()) AS prefAttachment,\n",
    "        size(apoc.coll.toSet([(p1)-[:CO_AUTHOR_EARLY]-(a) | id(a)] +\n",
    "            [(p2)-[:CO_AUTHOR_EARLY]-(a) | id(a)])) AS totalNeighbors\n",
    "    \"\"\"\n",
    "    pairs = [{\"node1\": row[\"node1\"], \"node2\": row[\"node2\"]} for row in data.collect()]\n",
    "  \n",
    "    features = spark.createDataFrame(graphdb.run(query,{\"pairs\": pairs}).to_data_frame())\n",
    "    \n",
    "    return data.join(features, [\"node1\", \"node2\"])"
   ]
  },
  {
   "cell_type": "code",
   "execution_count": 54,
   "metadata": {},
   "outputs": [],
   "source": [
    "training_data = apply_graphy_training_features(training_data)"
   ]
  },
  {
   "cell_type": "code",
   "execution_count": 55,
   "metadata": {},
   "outputs": [
    {
     "name": "stdout",
     "output_type": "stream",
     "text": [
      "+-----+-----+-----+-------------+--------------+--------------+\n",
      "|node1|node2|label|commonAuthors|prefAttachment|totalNeighbors|\n",
      "+-----+-----+-----+-------------+--------------+--------------+\n",
      "|   22|   25|    1|            3|            32|             9|\n",
      "|  412| 2326|    0|            1|            18|             8|\n",
      "|  648|  651|    1|            1|             4|             3|\n",
      "|  753|  753|    0|            0|             9|             3|\n",
      "| 1045| 4807|    0|            2|            27|            10|\n",
      "+-----+-----+-----+-------------+--------------+--------------+\n",
      "only showing top 5 rows\n",
      "\n"
     ]
    }
   ],
   "source": [
    "training_data.show(n=5)"
   ]
  },
  {
   "cell_type": "code",
   "execution_count": 56,
   "metadata": {},
   "outputs": [],
   "source": [
    "def apply_graphy_test_features(data):\n",
    "    query = \"\"\"\n",
    "    UNWIND $pairs AS pair\n",
    "    MATCH (p1) WHERE id(p1) = pair.node1\n",
    "    MATCH (p2) WHERE id(p2) = pair.node2\n",
    "    RETURN pair.node1 AS node1,\n",
    "        pair.node2 AS node2,\n",
    "        size([(p1)-[:CO_AUTHOR]-(a)-[:CO_AUTHOR]-(p2) | a]) AS commonAuthors,\n",
    "        size((p1)-[:CO_AUTHOR]-()) * size((p2)-[:CO_AUTHOR]-()) AS prefAttachment,\n",
    "        size(apoc.coll.toSet([(p1)-[:CO_AUTHOR]-(a) | id(a)] + [(p2)-[:CO_AUTHOR]-(a) | id(a)]\n",
    "        )) AS totalNeighbors\n",
    "    \"\"\"\n",
    "    pairs = [{\"node1\": row[\"node1\"], \"node2\": row[\"node2\"]} for row in data.collect()]\n",
    "    \n",
    "    features = spark.createDataFrame(graphdb.run(query,{\"pairs\": pairs}).to_data_frame())\n",
    "    \n",
    "    return data.join(features, [\"node1\", \"node2\"])"
   ]
  },
  {
   "cell_type": "code",
   "execution_count": 57,
   "metadata": {},
   "outputs": [],
   "source": [
    "test_data = apply_graphy_test_features(test_data)"
   ]
  },
  {
   "cell_type": "code",
   "execution_count": 58,
   "metadata": {},
   "outputs": [
    {
     "data": {
      "image/png": "[encoded data removed]",
      "text/plain": [
       "<Figure size 1296x504 with 2 Axes>"
      ]
     },
     "metadata": {},
     "output_type": "display_data"
    }
   ],
   "source": [
    "## frequency histogram of common authors\n",
    "import matplotlib.pyplot as plt\n",
    "plt.style.use('fivethirtyeight')\n",
    "fig, axs = plt.subplots(1, 2, figsize=(18, 7), sharey=True)\n",
    "charts = [(1, \"have collaborated\"), (0, \"haven't collaborated\")]\n",
    "for index, chart in enumerate(charts):\n",
    "    label, title = chart\n",
    "    filtered = training_data.filter(training_data[\"label\"] == label)\n",
    "    common_authors = filtered.toPandas()[\"commonAuthors\"]\n",
    "    histogram = common_authors.value_counts().sort_index()\n",
    "    histogram /= float(histogram.sum())\n",
    "    histogram.plot(kind=\"bar\", x='Common Authors', color=\"darkblue\",\n",
    "    ax=axs[index], title=f\"Authors who {title} (label={label})\")\n",
    "    axs[index].xaxis.set_label_text(\"Common Authors\")\n",
    "plt.tight_layout()\n",
    "plt.show()"
   ]
  },
  {
   "cell_type": "code",
   "execution_count": 59,
   "metadata": {},
   "outputs": [],
   "source": [
    "def train_model(fields, training_data):\n",
    "    pipeline = create_pipeline(fields)\n",
    "    model = pipeline.fit(training_data)\n",
    "    return model"
   ]
  },
  {
   "cell_type": "code",
   "execution_count": 60,
   "metadata": {},
   "outputs": [],
   "source": [
    "# model only uses co-authors\n",
    "basic_model = train_model([\"commonAuthors\"], training_data)"
   ]
  },
  {
   "cell_type": "code",
   "execution_count": 61,
   "metadata": {},
   "outputs": [],
   "source": [
    "eval_df = spark.createDataFrame(\n",
    "    [(0,), (1,), (2,), (10,), (100,)],\n",
    "    ['commonAuthors'])\n"
   ]
  },
  {
   "cell_type": "code",
   "execution_count": 62,
   "metadata": {},
   "outputs": [
    {
     "name": "stdout",
     "output_type": "stream",
     "text": [
      "+-------------+\n",
      "|commonAuthors|\n",
      "+-------------+\n",
      "|            0|\n",
      "|            1|\n",
      "|            2|\n",
      "|           10|\n",
      "|          100|\n",
      "+-------------+\n",
      "\n"
     ]
    }
   ],
   "source": [
    "eval_df.show(n=5)"
   ]
  },
  {
   "cell_type": "code",
   "execution_count": 63,
   "metadata": {},
   "outputs": [
    {
     "name": "stdout",
     "output_type": "stream",
     "text": [
      "+-------------+----------------------------------------+----------+\n",
      "|commonAuthors|probability                             |prediction|\n",
      "+-------------+----------------------------------------+----------+\n",
      "|0            |[0.7166124260754987,0.28338757392450126]|0.0       |\n",
      "|1            |[0.7166124260754987,0.28338757392450126]|0.0       |\n",
      "|2            |[0.10745678417522804,0.8925432158247719]|1.0       |\n",
      "|10           |[0.10745678417522804,0.8925432158247719]|1.0       |\n",
      "|100          |[0.10745678417522804,0.8925432158247719]|1.0       |\n",
      "+-------------+----------------------------------------+----------+\n",
      "\n"
     ]
    }
   ],
   "source": [
    "(basic_model.transform(eval_df)\n",
    "    .select(\"commonAuthors\", \"probability\", \"prediction\")\n",
    "    .show(truncate=False))"
   ]
  },
  {
   "cell_type": "code",
   "execution_count": 64,
   "metadata": {},
   "outputs": [],
   "source": [
    "def evaluate_model(model, test_data):\n",
    "    # Execute the model against the test set\n",
    "    predictions = model.transform(test_data)\n",
    "    # Compute true positive, false positive, false negative counts\n",
    "    tp = predictions[(predictions.label == 1) &\n",
    "        (predictions.prediction == 1)].count()\n",
    "    fp = predictions[(predictions.label == 0) &\n",
    "        (predictions.prediction == 1)].count()\n",
    "    fn = predictions[(predictions.label == 1) &\n",
    "        (predictions.prediction == 0)].count()\n",
    "    # Compute recall and precision manually\n",
    "    recall = float(tp) / (tp + fn)\n",
    "    precision = float(tp) / (tp + fp)\n",
    "    # Compute accuracy using Spark MLLib's binary classification evaluator\n",
    "    accuracy = BinaryClassificationEvaluator().evaluate(predictions)\n",
    "    # Compute false positive rate and true positive rate using sklearn functions\n",
    "    labels = [row[\"label\"] for row in predictions.select(\"label\").collect()]\n",
    "    preds = [row[\"probability\"][1] for row in predictions.select\n",
    "    (\"probability\").collect()]\n",
    "    fpr, tpr, threshold = roc_curve(labels, preds)\n",
    "    roc_auc = auc(fpr, tpr)\n",
    "    return { \"fpr\": fpr, \"tpr\": tpr, \"roc_auc\": roc_auc, \"accuracy\": accuracy,\n",
    "        \"recall\": recall, \"precision\": precision }"
   ]
  },
  {
   "cell_type": "code",
   "execution_count": 65,
   "metadata": {},
   "outputs": [],
   "source": [
    "def display_results(results):\n",
    "    results = {k: v for k, v in results.items() if k not in\n",
    "    [\"fpr\", \"tpr\", \"roc_auc\"]}\n",
    "    return pd.DataFrame({\"Measure\": list(results.keys()), \"Score\": list(results.values())})"
   ]
  },
  {
   "cell_type": "code",
   "execution_count": 66,
   "metadata": {},
   "outputs": [
    {
     "data": {
      "text/html": [
       "<div>\n",
       "<style scoped>\n",
       "    .dataframe tbody tr th:only-of-type {\n",
       "        vertical-align: middle;\n",
       "    }\n",
       "\n",
       "    .dataframe tbody tr th {\n",
       "        vertical-align: top;\n",
       "    }\n",
       "\n",
       "    .dataframe thead th {\n",
       "        text-align: right;\n",
       "    }\n",
       "</style>\n",
       "<table border=\"1\" class=\"dataframe\">\n",
       "  <thead>\n",
       "    <tr style=\"text-align: right;\">\n",
       "      <th></th>\n",
       "      <th>Measure</th>\n",
       "      <th>Score</th>\n",
       "    </tr>\n",
       "  </thead>\n",
       "  <tbody>\n",
       "    <tr>\n",
       "      <th>0</th>\n",
       "      <td>accuracy</td>\n",
       "      <td>0.836263</td>\n",
       "    </tr>\n",
       "    <tr>\n",
       "      <th>1</th>\n",
       "      <td>recall</td>\n",
       "      <td>0.720937</td>\n",
       "    </tr>\n",
       "    <tr>\n",
       "      <th>2</th>\n",
       "      <td>precision</td>\n",
       "      <td>0.937074</td>\n",
       "    </tr>\n",
       "  </tbody>\n",
       "</table>\n",
       "</div>"
      ],
      "text/plain": [
       "     Measure     Score\n",
       "0   accuracy  0.836263\n",
       "1     recall  0.720937\n",
       "2  precision  0.937074"
      ]
     },
     "execution_count": 66,
     "metadata": {},
     "output_type": "execute_result"
    }
   ],
   "source": [
    "basic_results = evaluate_model(basic_model, test_data)\n",
    "display_results(basic_results)"
   ]
  },
  {
   "cell_type": "code",
   "execution_count": 67,
   "metadata": {},
   "outputs": [],
   "source": [
    "from cycler import cycler\n",
    "def create_roc_plot():\n",
    "    plt.style.use('classic')\n",
    "    fig = plt.figure(figsize=(13, 8))\n",
    "    plt.xlim([0, 1])\n",
    "    plt.ylim([0, 1])\n",
    "    plt.ylabel('True Positive Rate')\n",
    "    plt.xlabel('False Positive Rate')\n",
    "    plt.rc('axes', prop_cycle=(cycler('color',\n",
    "    ['r', 'g', 'b', 'c', 'm', 'y', 'k'])))\n",
    "    plt.plot([0, 1], [0, 1], linestyle='--', label='Random score (AUC = 0.50)')\n",
    "    return plt, fig"
   ]
  },
  {
   "cell_type": "code",
   "execution_count": 68,
   "metadata": {},
   "outputs": [],
   "source": [
    "def add_curve(plt, title, fpr, tpr, roc):\n",
    "    plt.plot(fpr, tpr, label=f\"{title} (AUC = {roc:0.2})\")"
   ]
  },
  {
   "cell_type": "code",
   "execution_count": 69,
   "metadata": {},
   "outputs": [
    {
     "data": {
      "image/png": "[encoded data removed]",
      "text/plain": [
       "<Figure size 1040x640 with 1 Axes>"
      ]
     },
     "metadata": {},
     "output_type": "display_data"
    }
   ],
   "source": [
    "plt, fig = create_roc_plot()\n",
    "\n",
    "add_curve(plt, \"Common Authors\",\n",
    "basic_results[\"fpr\"], basic_results[\"tpr\"], basic_results[\"roc_auc\"])\n",
    "\n",
    "plt.legend(loc='lower right')\n",
    "plt.show()"
   ]
  },
  {
   "cell_type": "code",
   "execution_count": 70,
   "metadata": {},
   "outputs": [
    {
     "name": "stdout",
     "output_type": "stream",
     "text": [
      "+-------+------------------+------------------+-----------------+\n",
      "|summary|     commonAuthors|    prefAttachment|   totalNeighbors|\n",
      "+-------+------------------+------------------+-----------------+\n",
      "|  count|              2400|              2400|             2400|\n",
      "|   mean|            2.6225|21.468333333333334|5.240833333333334|\n",
      "| stddev|2.4911669715952036| 33.84827235174229|2.889142424469169|\n",
      "|    min|                 0|                 1|                2|\n",
      "|    max|                12|               195|               16|\n",
      "+-------+------------------+------------------+-----------------+\n",
      "\n"
     ]
    }
   ],
   "source": [
    "(training_data.filter(training_data[\"label\"]==1)\n",
    "    .describe()\n",
    "    .select(\"summary\", \"commonAuthors\", \"prefAttachment\", \"totalNeighbors\")\n",
    "    .show())"
   ]
  },
  {
   "cell_type": "code",
   "execution_count": 71,
   "metadata": {},
   "outputs": [
    {
     "name": "stdout",
     "output_type": "stream",
     "text": [
      "+-------+------------------+------------------+------------------+\n",
      "|summary|     commonAuthors|    prefAttachment|    totalNeighbors|\n",
      "+-------+------------------+------------------+------------------+\n",
      "|  count|              2400|              2400|              2400|\n",
      "|   mean|           0.52125|12.422916666666667| 4.498333333333333|\n",
      "| stddev|0.6712447453264622| 16.96802941816447|2.5734717220483097|\n",
      "|    min|                 0|                 1|                 1|\n",
      "|    max|                 4|               225|                18|\n",
      "+-------+------------------+------------------+------------------+\n",
      "\n"
     ]
    }
   ],
   "source": [
    "(training_data.filter(training_data[\"label\"]==0)\n",
    "    .describe()\n",
    "    .select(\"summary\", \"commonAuthors\", \"prefAttachment\", \"totalNeighbors\")\n",
    "    .show())"
   ]
  },
  {
   "cell_type": "code",
   "execution_count": 72,
   "metadata": {},
   "outputs": [],
   "source": [
    "fields = [\"commonAuthors\", \"prefAttachment\", \"totalNeighbors\"]\n",
    "graphy_model = train_model(fields, training_data)"
   ]
  },
  {
   "cell_type": "code",
   "execution_count": 73,
   "metadata": {},
   "outputs": [
    {
     "data": {
      "text/html": [
       "<div>\n",
       "<style scoped>\n",
       "    .dataframe tbody tr th:only-of-type {\n",
       "        vertical-align: middle;\n",
       "    }\n",
       "\n",
       "    .dataframe tbody tr th {\n",
       "        vertical-align: top;\n",
       "    }\n",
       "\n",
       "    .dataframe thead th {\n",
       "        text-align: right;\n",
       "    }\n",
       "</style>\n",
       "<table border=\"1\" class=\"dataframe\">\n",
       "  <thead>\n",
       "    <tr style=\"text-align: right;\">\n",
       "      <th></th>\n",
       "      <th>Measure</th>\n",
       "      <th>Score</th>\n",
       "    </tr>\n",
       "  </thead>\n",
       "  <tbody>\n",
       "    <tr>\n",
       "      <th>0</th>\n",
       "      <td>accuracy</td>\n",
       "      <td>0.975034</td>\n",
       "    </tr>\n",
       "    <tr>\n",
       "      <th>1</th>\n",
       "      <td>recall</td>\n",
       "      <td>0.930928</td>\n",
       "    </tr>\n",
       "    <tr>\n",
       "      <th>2</th>\n",
       "      <td>precision</td>\n",
       "      <td>0.930354</td>\n",
       "    </tr>\n",
       "  </tbody>\n",
       "</table>\n",
       "</div>"
      ],
      "text/plain": [
       "     Measure     Score\n",
       "0   accuracy  0.975034\n",
       "1     recall  0.930928\n",
       "2  precision  0.930354"
      ]
     },
     "execution_count": 73,
     "metadata": {},
     "output_type": "execute_result"
    }
   ],
   "source": [
    "graphy_results = evaluate_model(graphy_model, test_data)\n",
    "display_results(graphy_results)"
   ]
  },
  {
   "cell_type": "code",
   "execution_count": 74,
   "metadata": {
    "scrolled": false
   },
   "outputs": [
    {
     "data": {
      "image/png": "[encoded data removed]",
      "text/plain": [
       "<Figure size 1040x640 with 1 Axes>"
      ]
     },
     "metadata": {},
     "output_type": "display_data"
    }
   ],
   "source": [
    "plt,fig = create_roc_plot()\n",
    "\n",
    "add_curve(plt, \"Common Authors\",\n",
    "    basic_results[\"fpr\"], basic_results[\"tpr\"],\n",
    "    basic_results[\"roc_auc\"])\n",
    "\n",
    "add_curve(plt, \"Graphy\",\n",
    "    graphy_results[\"fpr\"], graphy_results[\"tpr\"],\n",
    "    graphy_results[\"roc_auc\"])\n",
    "\n",
    "plt.legend(loc='lower right')\n",
    "plt.show()"
   ]
  },
  {
   "cell_type": "code",
   "execution_count": 75,
   "metadata": {},
   "outputs": [],
   "source": [
    "def plot_feature_importance(fields, feature_importances):\n",
    "    df = pd.DataFrame({\"Feature\": fields, \"Importance\": feature_importances})\n",
    "    df = df.sort_values(\"Importance\", ascending=False)\n",
    "    ax = df.plot(kind='bar', x='Feature', y='Importance', legend=None)\n",
    "    ax.xaxis.set_label_text(\"\")\n",
    "    plt.tight_layout()\n",
    "    plt.show()"
   ]
  },
  {
   "cell_type": "code",
   "execution_count": 76,
   "metadata": {},
   "outputs": [
    {
     "data": {
      "image/png": "[encoded data removed]",
      "text/plain": [
       "<Figure size 640x480 with 1 Axes>"
      ]
     },
     "metadata": {},
     "output_type": "display_data"
    }
   ],
   "source": [
    "rf_model = graphy_model.stages[-1]\n",
    "plot_feature_importance(fields, rf_model.featureImportances)"
   ]
  },
  {
   "cell_type": "markdown",
   "metadata": {},
   "source": [
    "## Triangles and clustering coefficient"
   ]
  },
  {
   "cell_type": "markdown",
   "metadata": {},
   "source": [
    "https://neo4j.com/docs/graph-data-science/current/\n",
    "\n",
    "https://neo4j.com/docs/graph-data-science/current/algorithms/triangle-count/\n",
    "\n",
    "## Neo4j Graph Data Science Library\n",
    "\n",
    "In order to run the algorithms as efficiently as possible, the Neo4j Graph Data Science library uses a specialized in-memory graph format to represent the graph data. It is therefore necessary to load the graph data from the Neo4j database into an in memory graph catalog. The amount of data loaded can be controlled by so called graph projections, which also allow, for example, filtering on node labels and relationship types, among other options\n",
    "\n",
    "to see all algorithms\n",
    "CALL gds.list()\n",
    "\n",
    "algorithms are run using one of the execution modes stream, stats, mutate or write, which we cover in this chapter. \n",
    "\n",
    "The stream mode will return the results of the algorithm computation as Cypher result rows. This is similar to how standard Cypher reading queries operate. \n",
    "\n",
    "The stats mode returns statistical results for the algorithm computation like counts or percentile distributions. A statistical summary of the computation is returned as a single Cypher result row. The direct results of the algorithm are not available when using the stats mode. This mode forms the basis of the mutate and write execution modes but does not attempt to make any modifications or updates anywhere. \n",
    "\n",
    "The mutate mode will write the results of the algorithm computation back to the in-memory graph. Note that the specified mutateProperty value must not exist in the in-memory graph beforehand. This enables running multiple algorithms on the same in-memory graph without writing results to Neo4j in-between algorithm executions. \n",
    "\n",
    "The write mode will write the results of the algorithm computation back to the Neo4j database. This is similar to how standard Cypher writing queries operate. A statistical summary of the computation is returned similar to the stats mode. This is the only execution mode that will attempt to make modifications to the Neo4j database.\n",
    "\n",
    "The written data can be node properties (such as Page Rank scores), new relationships (such as Node Similarity similarities), or relationship properties.\n",
    "\n",
    "\n",
    "\n",
    "\n",
    "\n",
    "\n",
    "\n",
    "\n",
    "\n",
    "\n",
    "\n",
    "\n",
    "\n",
    "\n",
    "\n",
    "\n"
   ]
  },
  {
   "cell_type": "code",
   "execution_count": 77,
   "metadata": {},
   "outputs": [
    {
     "data": {
      "text/plain": [
       "<py2neo.database.Cursor at 0x7fc54ec0f5d0>"
      ]
     },
     "execution_count": 77,
     "metadata": {},
     "output_type": "execute_result"
    }
   ],
   "source": [
    "# create a graph projection\n",
    "graphdb.run(\"\"\"CALL gds.graph.create('early_graph',\n",
    "    'Author', \n",
    "    {\n",
    "        CO_AUTHOR_EARLY: {\n",
    "                type: 'CO_AUTHOR_EARLY',\n",
    "                orientation: 'UNDIRECTED'\n",
    "                }\n",
    "                }\n",
    "                )\"\"\")"
   ]
  },
  {
   "cell_type": "code",
   "execution_count": 78,
   "metadata": {},
   "outputs": [
    {
     "data": {
      "text/plain": [
       "'early_graph'"
      ]
     },
     "execution_count": 78,
     "metadata": {},
     "output_type": "execute_result"
    }
   ],
   "source": [
    "graphdb.run(\"\"\"CALL gds.graph.list\"\"\").evaluate()"
   ]
  },
  {
   "cell_type": "code",
   "execution_count": 79,
   "metadata": {},
   "outputs": [
    {
     "data": {
      "text/plain": [
       "array([['4097', '4800', '32872', '32872', '32 KiB']], dtype='<U21')"
      ]
     },
     "execution_count": 79,
     "metadata": {},
     "output_type": "execute_result"
    }
   ],
   "source": [
    "graphdb.run(\"\"\"CALL gds.triangleCount.write.estimate('early_graph', { writeProperty: 'triangleCount' })\n",
    "YIELD nodeCount, relationshipCount, bytesMin, bytesMax, requiredMemory\"\"\").to_ndarray()"
   ]
  },
  {
   "cell_type": "code",
   "execution_count": 80,
   "metadata": {},
   "outputs": [
    {
     "data": {
      "text/plain": [
       "array([[2089, 4097]])"
      ]
     },
     "execution_count": 80,
     "metadata": {},
     "output_type": "execute_result"
    }
   ],
   "source": [
    "#The Triangle Count algorithm in the GDS library only finds triangles in undirected graphs. \n",
    "\n",
    "graphdb.run(\"\"\"CALL gds.triangleCount.write('early_graph', {\n",
    "    writeProperty: 'triangles'\n",
    "    })\n",
    "    YIELD globalTriangleCount, nodeCount\"\"\").to_ndarray()\n"
   ]
  },
  {
   "cell_type": "code",
   "execution_count": 81,
   "metadata": {},
   "outputs": [
    {
     "data": {
      "text/plain": [
       "array([['Christian Gunia', '78'],\n",
       "       ['Ingo Wegener', '78'],\n",
       "       ['Dimo Brockhoff', '78'],\n",
       "       ['Patrick Briest', '78'],\n",
       "       ['Stefan Tannenbaum', '78'],\n",
       "       ['Heiko Röglin', '78'],\n",
       "       ['Oliver Heering', '78'],\n",
       "       ['Bastian Degener', '78'],\n",
       "       ['Dirk Sudholt', '78'],\n",
       "       ['Matthias Englert', '78'],\n",
       "       ['Thomas Jansen', '78'],\n",
       "       ['Andrea Schweer', '78'],\n",
       "       ['Michael Leifhelm', '78'],\n",
       "       ['Kai Plociennik', '78'],\n",
       "       ['Francis C. M. Lau', '39'],\n",
       "       ['Cho-Li Wang', '34'],\n",
       "       ['Panos Vassiliadis', '29'],\n",
       "       ['Yannis Tzitzikas', '29'],\n",
       "       ['Elisa Bertino', '28'],\n",
       "       ['Stefano Rizzi', '28']], dtype='<U17')"
      ]
     },
     "execution_count": 81,
     "metadata": {},
     "output_type": "execute_result"
    }
   ],
   "source": [
    "graphdb.run(\"\"\"CALL gds.triangleCount.stream('early_graph')\n",
    "    YIELD nodeId, triangleCount\n",
    "    RETURN gds.util.asNode(nodeId).name AS name, triangleCount\n",
    "    ORDER BY triangleCount DESC\n",
    "    LIMIT 20;\"\"\").to_ndarray()"
   ]
  },
  {
   "cell_type": "code",
   "execution_count": 82,
   "metadata": {},
   "outputs": [
    {
     "data": {
      "text/plain": [
       "array([['Yuejin Yan', '1.0'],\n",
       "       ['Cheng Fu', '1.0'],\n",
       "       ['Zhengwei Qi', '1.0'],\n",
       "       ['Dongyu Shi', '1.0'],\n",
       "       ['Xuejun Yang', '1.0'],\n",
       "       ['Jinyuan You', '1.0'],\n",
       "       ['Nong Xiao', '1.0'],\n",
       "       ['Chunjiang Li', '1.0'],\n",
       "       ['Huowang Chen', '1.0'],\n",
       "       ['Zhoujun Li', '1.0']], dtype='<U12')"
      ]
     },
     "execution_count": 82,
     "metadata": {},
     "output_type": "execute_result"
    }
   ],
   "source": [
    "graphdb.run(\"\"\"CALL gds.localClusteringCoefficient.stream('early_graph')\n",
    "    YIELD nodeId, localClusteringCoefficient\n",
    "    RETURN gds.util.asNode(nodeId).name AS name, localClusteringCoefficient\n",
    "    ORDER BY localClusteringCoefficient DESC\n",
    "    LIMIT 10;\"\"\").to_ndarray()"
   ]
  },
  {
   "cell_type": "code",
   "execution_count": 83,
   "metadata": {},
   "outputs": [
    {
     "data": {
      "text/plain": [
       "array([[3.06685223e-01, 4.09700000e+03]])"
      ]
     },
     "execution_count": 83,
     "metadata": {},
     "output_type": "execute_result"
    }
   ],
   "source": [
    "# this is calculating triangles in background, you can make it use already calculated \n",
    "graphdb.run(\"\"\"CALL gds.localClusteringCoefficient.write('early_graph', {\n",
    "      writeProperty: 'localClusteringCoefficient'\n",
    "    })\n",
    "    YIELD averageClusteringCoefficient, nodeCount\"\"\").to_ndarray()"
   ]
  },
  {
   "cell_type": "code",
   "execution_count": 84,
   "metadata": {},
   "outputs": [],
   "source": [
    "def apply_triangles_features(data, triangles_prop, coefficient_prop):\n",
    "    query = \"\"\"\n",
    "    UNWIND $pairs AS pair\n",
    "    MATCH (p1) WHERE id(p1) = pair.node1\n",
    "    MATCH (p2) WHERE id(p2) = pair.node2\n",
    "    RETURN pair.node1 AS node1,\n",
    "    pair.node2 AS node2,\n",
    "    apoc.coll.min([p1[$trianglesProp], p2[$trianglesProp]])\n",
    "    AS minTriangles,\n",
    "    apoc.coll.max([p1[$trianglesProp], p2[$trianglesProp]])\n",
    "    AS maxTriangles,\n",
    "    apoc.coll.min([p1[$coefficientProp], p2[$coefficientProp]])\n",
    "    AS minCoefficient,\n",
    "    apoc.coll.max([p1[$coefficientProp], p2[$coefficientProp]])\n",
    "    AS maxCoefficient\n",
    "    \"\"\"\n",
    "    params = {\n",
    "    \"pairs\": [{\"node1\": row[\"node1\"], \"node2\": row[\"node2\"]}\n",
    "    for row in data.collect()],\n",
    "    \"trianglesProp\": triangles_prop,\n",
    "    \"coefficientProp\": coefficient_prop\n",
    "    }\n",
    "    features = spark.createDataFrame(graphdb.run(query, params).to_data_frame())\n",
    "    return data.join(features, [\"node1\", \"node2\"])"
   ]
  },
  {
   "cell_type": "code",
   "execution_count": 85,
   "metadata": {},
   "outputs": [],
   "source": [
    "training_data = apply_triangles_features(training_data,\n",
    "        \"triangles\", \"localClusteringCoefficient\")"
   ]
  },
  {
   "cell_type": "code",
   "execution_count": 86,
   "metadata": {},
   "outputs": [
    {
     "name": "stdout",
     "output_type": "stream",
     "text": [
      "+-----+-----+-----+-------------+--------------+--------------+------------+------------+-------------------+--------------+\n",
      "|node1|node2|label|commonAuthors|prefAttachment|totalNeighbors|minTriangles|maxTriangles|     minCoefficient|maxCoefficient|\n",
      "+-----+-----+-----+-------------+--------------+--------------+------------+------------+-------------------+--------------+\n",
      "|   22|   25|    1|            3|            32|             9|           6|          12|0.42857142857142855|           1.0|\n",
      "|  412| 2326|    0|            1|            18|             8|           3|          15|                1.0|           1.0|\n",
      "|  648|  651|    1|            1|             4|             3|           1|           1|                1.0|           1.0|\n",
      "|  753|  753|    0|            0|             9|             3|           3|           3|                1.0|           1.0|\n",
      "| 1045| 4807|    0|            2|            27|            10|           3|          26| 0.7222222222222222|           1.0|\n",
      "+-----+-----+-----+-------------+--------------+--------------+------------+------------+-------------------+--------------+\n",
      "only showing top 5 rows\n",
      "\n"
     ]
    }
   ],
   "source": [
    "training_data.show(n=5)"
   ]
  },
  {
   "cell_type": "code",
   "execution_count": 87,
   "metadata": {},
   "outputs": [
    {
     "data": {
      "text/plain": [
       "<py2neo.database.Cursor at 0x7fc54ec0f850>"
      ]
     },
     "execution_count": 87,
     "metadata": {},
     "output_type": "execute_result"
    }
   ],
   "source": [
    "# create a graph projection\n",
    "graphdb.run(\"\"\"CALL gds.graph.create('late_graph',\n",
    "    'Author', \n",
    "    {\n",
    "        CO_AUTHOR: {\n",
    "                type: 'CO_AUTHOR',\n",
    "                orientation: 'UNDIRECTED'\n",
    "                }\n",
    "                }\n",
    "                )\"\"\")"
   ]
  },
  {
   "cell_type": "code",
   "execution_count": 88,
   "metadata": {},
   "outputs": [
    {
     "data": {
      "text/plain": [
       "array([[4910, 4097]])"
      ]
     },
     "execution_count": 88,
     "metadata": {},
     "output_type": "execute_result"
    }
   ],
   "source": [
    "graphdb.run(\"\"\"CALL gds.triangleCount.write('late_graph', {\n",
    "    writeProperty: 'triangles'\n",
    "    })\n",
    "    YIELD globalTriangleCount, nodeCount\"\"\").to_ndarray()\n"
   ]
  },
  {
   "cell_type": "code",
   "execution_count": 89,
   "metadata": {},
   "outputs": [
    {
     "data": {
      "text/plain": [
       "array([[7.2163289e-01, 4.0970000e+03]])"
      ]
     },
     "execution_count": 89,
     "metadata": {},
     "output_type": "execute_result"
    }
   ],
   "source": [
    "# this is calculating triangles in background, you can make it use already calculated \n",
    "graphdb.run(\"\"\"CALL gds.localClusteringCoefficient.write('late_graph', {\n",
    "      writeProperty: 'localClusteringCoefficient'\n",
    "    })\n",
    "    YIELD averageClusteringCoefficient, nodeCount\"\"\").to_ndarray()"
   ]
  },
  {
   "cell_type": "code",
   "execution_count": null,
   "metadata": {},
   "outputs": [],
   "source": [
    "#graphdb.run(\"\"\"CALL gds.graph.drop('coauthor_graph');\"\"\")"
   ]
  },
  {
   "cell_type": "code",
   "execution_count": 90,
   "metadata": {},
   "outputs": [],
   "source": [
    "test_data = apply_triangles_features(test_data,\n",
    "        \"triangles\", \"localClusteringCoefficient\")"
   ]
  },
  {
   "cell_type": "code",
   "execution_count": null,
   "metadata": {},
   "outputs": [],
   "source": [
    "#col_list = [\"minTriangles\", \"maxTriangles\", \"minCoefficient\", \"maxCoefficient\"] \n",
    "#training_data = training_data.na.fill(0, col_list)\n",
    "#test_data = test_data.na.fill(0, col_list)"
   ]
  },
  {
   "cell_type": "code",
   "execution_count": 91,
   "metadata": {},
   "outputs": [],
   "source": [
    "fields = [\"commonAuthors\", \"prefAttachment\", \"totalNeighbors\",\n",
    "    \"minTriangles\", \"maxTriangles\", \"minCoefficient\", \"maxCoefficient\"]\n",
    "triangle_model = train_model(fields, training_data)"
   ]
  },
  {
   "cell_type": "code",
   "execution_count": 92,
   "metadata": {},
   "outputs": [
    {
     "data": {
      "text/html": [
       "<div>\n",
       "<style scoped>\n",
       "    .dataframe tbody tr th:only-of-type {\n",
       "        vertical-align: middle;\n",
       "    }\n",
       "\n",
       "    .dataframe tbody tr th {\n",
       "        vertical-align: top;\n",
       "    }\n",
       "\n",
       "    .dataframe thead th {\n",
       "        text-align: right;\n",
       "    }\n",
       "</style>\n",
       "<table border=\"1\" class=\"dataframe\">\n",
       "  <thead>\n",
       "    <tr style=\"text-align: right;\">\n",
       "      <th></th>\n",
       "      <th>Measure</th>\n",
       "      <th>Score</th>\n",
       "    </tr>\n",
       "  </thead>\n",
       "  <tbody>\n",
       "    <tr>\n",
       "      <th>0</th>\n",
       "      <td>accuracy</td>\n",
       "      <td>0.991393</td>\n",
       "    </tr>\n",
       "    <tr>\n",
       "      <th>1</th>\n",
       "      <td>recall</td>\n",
       "      <td>0.981499</td>\n",
       "    </tr>\n",
       "    <tr>\n",
       "      <th>2</th>\n",
       "      <td>precision</td>\n",
       "      <td>0.955569</td>\n",
       "    </tr>\n",
       "  </tbody>\n",
       "</table>\n",
       "</div>"
      ],
      "text/plain": [
       "     Measure     Score\n",
       "0   accuracy  0.991393\n",
       "1     recall  0.981499\n",
       "2  precision  0.955569"
      ]
     },
     "execution_count": 92,
     "metadata": {},
     "output_type": "execute_result"
    }
   ],
   "source": [
    "triangle_results = evaluate_model(triangle_model, test_data)\n",
    "display_results(triangle_results)"
   ]
  },
  {
   "cell_type": "code",
   "execution_count": 93,
   "metadata": {},
   "outputs": [
    {
     "data": {
      "image/png": "[encoded data removed]",
      "text/plain": [
       "<Figure size 1040x640 with 1 Axes>"
      ]
     },
     "metadata": {},
     "output_type": "display_data"
    }
   ],
   "source": [
    "plt, fig = create_roc_plot()\n",
    "add_curve(plt, \"Common Authors\",\n",
    "basic_results[\"fpr\"], basic_results[\"tpr\"], basic_results[\"roc_auc\"])\n",
    "add_curve(plt, \"Graphy\",\n",
    "graphy_results[\"fpr\"], graphy_results[\"tpr\"],\n",
    "graphy_results[\"roc_auc\"])\n",
    "add_curve(plt, \"Triangles\",\n",
    "triangle_results[\"fpr\"], triangle_results[\"tpr\"],\n",
    "triangle_results[\"roc_auc\"])\n",
    "plt.legend(loc='lower right')\n",
    "plt.show()"
   ]
  },
  {
   "cell_type": "code",
   "execution_count": 94,
   "metadata": {},
   "outputs": [
    {
     "data": {
      "image/png": "[encoded data removed]",
      "text/plain": [
       "<Figure size 640x480 with 1 Axes>"
      ]
     },
     "metadata": {},
     "output_type": "display_data"
    }
   ],
   "source": [
    "rf_model = triangle_model.stages[-1]\n",
    "plot_feature_importance(fields, rf_model.featureImportances)"
   ]
  },
  {
   "cell_type": "markdown",
   "metadata": {},
   "source": [
    "## Community Detection\n",
    "\n",
    "We’ll compute more coarse-grained communities using the **Label Propagation** algorithm in Neo4j.\n",
    "\n",
    "https://neo4j.com/docs/graph-data-science/current/algorithms/label-propagation/\n",
    "\n",
    "Running this algorithm requires sufficient memory availability. Before running this algorithm, we recommend that you read Section 3.1, “Memory Estimation”. \n",
    "\n"
   ]
  },
  {
   "cell_type": "code",
   "execution_count": null,
   "metadata": {},
   "outputs": [],
   "source": [
    "graphdb.run(\"\"\"CALL gds.labelPropagation.write.estimate('early_graph', { writeProperty: 'label' })\n",
    "YIELD nodeCount, relationshipCount, bytesMin, bytesMax, requiredMemory\"\"\").to_ndarray()"
   ]
  },
  {
   "cell_type": "code",
   "execution_count": null,
   "metadata": {},
   "outputs": [],
   "source": [
    "graphdb.run(\"\"\"CALL gds.labelPropagation.write('early_graph', { writeProperty: 'label' })\n",
    "YIELD communityCount, ranIterations, didConverge\"\"\").to_ndarray()"
   ]
  },
  {
   "cell_type": "markdown",
   "metadata": {},
   "source": [
    "**Louvain algorithm**\n",
    "\n",
    "The Louvain method is an algorithm to detect communities in large networks. It maximizes a modularity score for each community, where the modularity quantifies the quality of an assignment of nodes to communities. This means evaluating how much more densely connected the nodes within a community are, compared to how connected they would be in a random network.\n",
    "\n",
    "The Louvain algorithm is a hierarchical clustering algorithm, that recursively merges communities into a single node and executes the modularity clustering on the condensed graphs. \n",
    "\n",
    "\n"
   ]
  },
  {
   "cell_type": "code",
   "execution_count": null,
   "metadata": {},
   "outputs": [],
   "source": [
    "graphdb.run(\"\"\"CALL gds.louvain.write.estimate('early_graph', { writeProperty: 'community' })\n",
    "YIELD nodeCount, relationshipCount, bytesMin, bytesMax, requiredMemory\"\"\").to_ndarray()"
   ]
  },
  {
   "cell_type": "code",
   "execution_count": null,
   "metadata": {},
   "outputs": [],
   "source": [
    "graphdb.run(\"\"\"CALL gds.louvain.write('early_graph', { writeProperty: 'louvain' })\n",
    "YIELD communityCount, modularity, modularities\"\"\").to_ndarray()"
   ]
  },
  {
   "cell_type": "code",
   "execution_count": null,
   "metadata": {},
   "outputs": [],
   "source": [
    "graphdb.run(\"\"\"CALL gds.louvain.stream('early_graph',\n",
    "{includeIntermediateCommunities:true})\n",
    "YIELD nodeId, communityId, intermediateCommunityIds\n",
    "WITH gds.util.asNode(nodeId) AS node, intermediateCommunityIds[0] AS smallestCommunity\n",
    "SET node.smallest = smallestCommunity\"\"\")"
   ]
  },
  {
   "cell_type": "code",
   "execution_count": null,
   "metadata": {},
   "outputs": [],
   "source": [
    "def apply_community_features(data, partition_prop, louvain_prop):\n",
    "    query = \"\"\"\n",
    "    UNWIND $pairs AS pair\n",
    "    MATCH (p1) WHERE id(p1) = pair.node1\n",
    "    MATCH (p2) WHERE id(p2) = pair.node2\n",
    "    RETURN pair.node1 AS node1,\n",
    "    pair.node2 AS node2,\n",
    "    CASE WHEN p1[$partitionProp] = p2[$partitionProp] THEN\n",
    "    1 ELSE 0 END AS samePartition,\n",
    "    CASE WHEN p1[$louvainProp] = p2[$louvainProp] THEN\n",
    "    1 ELSE 0 END AS sameLouvain\n",
    "    \"\"\"\n",
    "    params = {\n",
    "    \"pairs\": [{\"node1\": row[\"node1\"], \"node2\": row[\"node2\"]} for\n",
    "    row in data.collect()],\n",
    "    \"partitionProp\": partition_prop,\n",
    "    \"louvainProp\": louvain_prop\n",
    "    }\n",
    "    features = spark.createDataFrame(graphdb.run(query, params).to_data_frame())\n",
    "    return data.join(features, [\"node1\", \"node2\"])"
   ]
  },
  {
   "cell_type": "code",
   "execution_count": null,
   "metadata": {},
   "outputs": [],
   "source": [
    "training_data = apply_community_features(training_data,\"label\", \"smallest\")"
   ]
  },
  {
   "cell_type": "code",
   "execution_count": null,
   "metadata": {},
   "outputs": [],
   "source": [
    "training_data.show(n=5)"
   ]
  },
  {
   "cell_type": "code",
   "execution_count": null,
   "metadata": {},
   "outputs": [],
   "source": [
    "graphdb.run(\"\"\"CALL gds.labelPropagation.write('late_graph', { writeProperty: 'label' })\n",
    "YIELD communityCount, ranIterations, didConverge\"\"\").to_ndarray()"
   ]
  },
  {
   "cell_type": "code",
   "execution_count": null,
   "metadata": {},
   "outputs": [],
   "source": [
    "graphdb.run(\"\"\"CALL gds.louvain.stream('late_graph',\n",
    "{includeIntermediateCommunities:true})\n",
    "YIELD nodeId, communityId, intermediateCommunityIds\n",
    "WITH gds.util.asNode(nodeId) AS node, intermediateCommunityIds[0] AS smallestCommunity\n",
    "SET node.smallest = smallestCommunity\"\"\")"
   ]
  },
  {
   "cell_type": "code",
   "execution_count": null,
   "metadata": {},
   "outputs": [],
   "source": [
    "test_data = apply_community_features(test_data,\"label\", \"smallest\")"
   ]
  },
  {
   "cell_type": "code",
   "execution_count": null,
   "metadata": {},
   "outputs": [],
   "source": [
    "test_data.show(n=5)"
   ]
  },
  {
   "cell_type": "code",
   "execution_count": null,
   "metadata": {},
   "outputs": [],
   "source": [
    "import pyspark.sql.functions as F\n",
    "\n",
    "plt.style.use('fivethirtyeight')\n",
    "fig, axs = plt.subplots(1, 2, figsize=(18, 7), sharey=True)\n",
    "charts = [(1, \"have collaborated\"), (0, \"haven't collaborated\")]\n",
    "\n",
    "for index, chart in enumerate(charts):\n",
    "    label, title = chart\n",
    "    filtered = training_data.filter(training_data[\"label\"] == label)\n",
    "    values = (filtered.withColumn('samePartition',F.when(F.col(\"samePartition\") == 0, \"False\")\n",
    "        .otherwise(\"True\"))\n",
    "        .groupby(\"samePartition\")\n",
    "        .agg(F.count(\"label\").alias(\"count\"))\n",
    "        .select(\"samePartition\", \"count\")\n",
    "        .toPandas())\n",
    "    values.set_index(\"samePartition\", drop=True, inplace=True)\n",
    "    values.plot(kind=\"bar\", ax=axs[index], legend=None,\n",
    "    title=f\"Authors who {title} (label={label})\")\n",
    "    axs[index].xaxis.set_label_text(\"Same Partition\")\n",
    "\n",
    "plt.tight_layout()\n",
    "plt.show()"
   ]
  },
  {
   "cell_type": "code",
   "execution_count": null,
   "metadata": {},
   "outputs": [],
   "source": [
    "plt.style.use('fivethirtyeight')\n",
    "fig, axs = plt.subplots(1, 2, figsize=(18, 7), sharey=True)\n",
    "charts = [(1, \"have collaborated\"), (0, \"haven't collaborated\")]\n",
    "for index, chart in enumerate(charts):\n",
    "    label, title = chart\n",
    "    filtered = training_data.filter(training_data[\"label\"] == label)\n",
    "    values = (filtered.withColumn('sameLouvain',\n",
    "    F.when(F.col(\"sameLouvain\") == 0, \"False\")\n",
    "    .otherwise(\"True\"))\n",
    "    .groupby(\"sameLouvain\")\n",
    "    .agg(F.count(\"label\").alias(\"count\"))\n",
    "    .select(\"sameLouvain\", \"count\")\n",
    "    .toPandas())\n",
    "    values.set_index(\"sameLouvain\", drop=True, inplace=True)\n",
    "    values.plot(kind=\"bar\", ax=axs[index], legend=None,\n",
    "    title=f\"Authors who {title} (label={label})\")\n",
    "    axs[index].xaxis.set_label_text(\"Same Louvain\")\n",
    "\n",
    "plt.tight_layout()\n",
    "plt.show()"
   ]
  },
  {
   "cell_type": "code",
   "execution_count": null,
   "metadata": {},
   "outputs": [],
   "source": [
    "fields = [\"commonAuthors\", \"prefAttachment\", \"totalNeighbors\",\n",
    "    \"minTriangles\", \"maxTriangles\", \"minCoefficient\", \"maxCoefficient\",\n",
    "    \"samePartition\", \"sameLouvain\"]\n",
    "community_model = train_model(fields, training_data)"
   ]
  },
  {
   "cell_type": "code",
   "execution_count": null,
   "metadata": {},
   "outputs": [],
   "source": [
    "community_results = evaluate_model(community_model, test_data)\n",
    "display_results(community_results)"
   ]
  },
  {
   "cell_type": "code",
   "execution_count": null,
   "metadata": {},
   "outputs": [],
   "source": [
    "plt, fig = create_roc_plot()\n",
    "add_curve(plt, \"Common Authors\",\n",
    "basic_results[\"fpr\"], basic_results[\"tpr\"], basic_results[\"roc_auc\"])\n",
    "add_curve(plt, \"Graphy\",\n",
    "graphy_results[\"fpr\"], graphy_results[\"tpr\"],\n",
    "graphy_results[\"roc_auc\"])\n",
    "add_curve(plt, \"Triangles\",\n",
    "triangle_results[\"fpr\"], triangle_results[\"tpr\"],\n",
    "triangle_results[\"roc_auc\"])\n",
    "add_curve(plt, \"Community\",\n",
    "community_results[\"fpr\"], community_results[\"tpr\"],\n",
    "community_results[\"roc_auc\"])\n",
    "plt.legend(loc='lower right')\n",
    "plt.show()"
   ]
  },
  {
   "cell_type": "code",
   "execution_count": null,
   "metadata": {},
   "outputs": [],
   "source": [
    "rf_model = community_model.stages[-1]\n",
    "plot_feature_importance(fields, rf_model.featureImportances)"
   ]
  },
  {
   "cell_type": "markdown",
   "metadata": {},
   "source": [
    "https://towardsdatascience.com/learning-in-graphs-with-python-part-3-8d5513eef62d\n",
    "\n",
    "In link prediction, we simply try to build a similarity measure between pairs of nodes and link the most similar nodes. The question is now to identify and compute the right similarity scores!\n",
    "\n",
    "We can build several similarity scores for these two nodes based on their neighborhoods.\n",
    "\n",
    "* Common Neighbors: S(i,j)=∣N(i)∩N(j)∣, i.e the number of common neighbors. In this example, the score would be simply 12, since they share only 2 common neighbors.\n",
    "\n",
    "* Jaccard Coefficient: A normalized common neighbors version.\n",
    "\n",
    "* Adamic-Adar index: For each common neighbor of nodes i and j, we add 1 divided by the total number of neighbors of that node. The concept is that common elements with very large neighborhoods are less significant when predicting a connection between two nodes compared to elements shared between a small number of nodes.\n",
    "\n",
    "* Preferential attachment : S(i,j)=∣N(i,j)∣∗∣N(j)∣\n",
    "\n",
    "* We can also use community information when it is available.\n"
   ]
  },
  {
   "cell_type": "markdown",
   "metadata": {},
   "source": [
    "# Node2Vec Graph Embeddings \n",
    "\n",
    "https://towardsdatascience.com/node-embeddings-node2vec-with-neo4j-5152d3472d8e\n",
    "\n",
    "Neo4j Graph Data Science library supports the random walk algorithm, which makes it very easy for us to implement the node2vec algorithm.\n",
    "\n",
    "We will start by projecting the in-memory graph. We describe all three node labels and project relationships as undirected.\n",
    "\n",
    "Now we are ready to train our first node2vec model. The process will consist of three parts:\n",
    "\n",
    "    Execute the random walk algorithm starting from each node in the graph\n",
    "    Feed the random walks to word2vec algorithm\n",
    "    Inspect results by looking at the most similar neighbors\n",
    "\n",
    "The random walk algorithm has an optional start parameter, which can be used to define the starting node of the walk. We can also specify how long the walk should be with the steps setting and how many times it should be repeated with the walks parameter. Note that every time random walk is executed, we expect a different result.\n",
    "\n",
    "We will use the Word2vec algorithm implementation in the gensim library. It also has a couple of hyperparameters we can define. Most notable are:\n",
    "\n",
    "    size: Dimensionality of the embedding vectors\n",
    "    window: Maximum distance between the current and predicted word\n",
    "    min_count: The minimum count of words to consider when training the model; words with occurrence less than this count will be ignored.\n",
    "    sg: The training algorithm: 1 for skip-gram; otherwise default CBOW\n",
    "   \n",
    "https://towardsdatascience.com/node2vec-embeddings-for-graph-data-32a866340fef\n",
    "    \n",
    "Node2vec’s sampling strategy, accepts 4 arguments:\n",
    "— Number of walks: Number of random walks to be generated from each node in the graph\n",
    "— Walk length: How many nodes are in each random walk\n",
    "— P: Return hyperparameter\n",
    "— Q: Inout hyperaprameter\n",
    "and also the standard skip-gram parameters (context window size, number of iterations etc.)\n",
    "\n",
    "The algorithm for the random walk generation will go over each node in the graph and will generate <number of walks> random walks, of length <walk length>.\n",
    "    \n",
    "           \n",
    "https://neo4j.com/docs/graph-data-science/current/alpha-algorithms/random-walk/\n",
    "\n",
    "\n",
    "https://cs.stanford.edu/~jure/pubs/node2vec-kdd16.pdf\n",
    "\n",
    "\n",
    "http://snap.stanford.edu/node2vec/\n",
    "    \n",
    "    \n",
    "https://stellargraph.readthedocs.io/en/stable/demos/link-prediction/node2vec-link-prediction.html\n",
    "\n",
    "Node2Vec first involves running random walks on the graph to obtain our context pairs, and using these to train a Word2Vec model.\n",
    "\n",
    "\n",
    "\n",
    "https://radimrehurek.com/gensim/models/word2vec.html\n",
    "\n",
    "\n",
    "https://radimrehurek.com/gensim/auto_examples/tutorials/run_word2vec.html#sphx-glr-auto-examples-tutorials-run-word2vec-py\n",
    "\n"
   ]
  },
  {
   "cell_type": "code",
   "execution_count": null,
   "metadata": {},
   "outputs": [],
   "source": [
    "training_data.show(n=1)"
   ]
  },
  {
   "cell_type": "code",
   "execution_count": null,
   "metadata": {},
   "outputs": [],
   "source": [
    "training_data.select(\"node1\",\"node2\").show(n=5)"
   ]
  },
  {
   "cell_type": "code",
   "execution_count": null,
   "metadata": {},
   "outputs": [],
   "source": [
    "# given a node execute a random walk\n",
    "graphdb.run(\"\"\"MATCH (a:Author)\n",
    "        WHERE ID(a) = 15\n",
    "        WITH a\n",
    "        CALL gds.alpha.randomWalk.stream('early_graph',{\n",
    "            start: id(a),\n",
    "            steps: 3,\n",
    "            walks: 5\n",
    "        })\n",
    "        YIELD nodeIds\n",
    "        UNWIND nodeIds AS nodeId\n",
    "        RETURN gds.util.asNode(nodeId).name AS name\"\"\").to_data_frame()"
   ]
  },
  {
   "cell_type": "markdown",
   "metadata": {},
   "source": [
    "We use Node2Vec [1], to calculate node embeddings. These embeddings are learned in such a way to ensure that nodes that are close in the graph remain close in the embedding space. Node2Vec first involves running random walks on the graph to obtain our context pairs, and using these to train a Word2Vec model.\n",
    "\n",
    "These are the set of parameters we can use:\n",
    " \n",
    "    p - Random walk parameter “p”\n",
    "    q - Random walk parameter “q”\n",
    "    dimensions - Dimensionality of node2vec embeddings\n",
    "    num_walks - Number of walks from each node\n",
    "    walk_length - Length of each random walk\n",
    "    window_size - Context window size for Word2Vec\n",
    "    num_iter - number of SGD iterations (epochs)\n",
    "    workers - Number of workers for Word2Vec\n",
    "    \n",
    "The Word2Vec Skip-gram model, for example, takes in pairs (word1, word2) generated by moving a window across text data, and trains a 1-hidden-layer neural network based on the synthetic task of given an input word, giving us a predicted probability distribution of nearby words to the input. A virtual one-hot encoding of words goes through a ‘projection layer’ to the hidden layer; these projection weights are later interpreted as the word embeddings. So if the hidden layer has 300 neurons, this network will give us 300-dimensional word embeddings.\n",
    "    "
   ]
  },
  {
   "cell_type": "code",
   "execution_count": null,
   "metadata": {},
   "outputs": [],
   "source": [
    "train_nodes=training_data.select(\"node1\").distinct().toPandas()\n",
    "len(train_nodes)"
   ]
  },
  {
   "cell_type": "code",
   "execution_count": null,
   "metadata": {},
   "outputs": [],
   "source": [
    "temp=training_data.select(\"node2\").distinct().toPandas()\n",
    "temp.columns=[\"node1\"]\n",
    "len(temp)"
   ]
  },
  {
   "cell_type": "code",
   "execution_count": null,
   "metadata": {},
   "outputs": [],
   "source": [
    "nodes=nodes.append(temp)\n",
    "len(nodes)"
   ]
  },
  {
   "cell_type": "code",
   "execution_count": null,
   "metadata": {},
   "outputs": [],
   "source": [
    "nodes=nodes.drop_duplicates()\n",
    "len(nodes)"
   ]
  },
  {
   "cell_type": "code",
   "execution_count": null,
   "metadata": {},
   "outputs": [],
   "source": [
    "nodes[\"node1\"]"
   ]
  },
  {
   "cell_type": "code",
   "execution_count": null,
   "metadata": {},
   "outputs": [],
   "source": [
    "import gensim.models"
   ]
  },
  {
   "cell_type": "code",
   "execution_count": null,
   "metadata": {},
   "outputs": [],
   "source": [
    "params={\n",
    "    \"nodes\":[{\"id\": node} for node in nodes[\"node1\"]  ]\n",
    "}"
   ]
  },
  {
   "cell_type": "code",
   "execution_count": null,
   "metadata": {},
   "outputs": [],
   "source": [
    "query = \"\"\"\n",
    "UNWIND $nodes AS node\n",
    "MATCH (a:Author)\n",
    "WHERE ID(a) = node.id\n",
    "RETURN a.name AS names\"\"\"\n",
    "\n",
    "graphdb.run(query, params).to_ndarray()"
   ]
  },
  {
   "cell_type": "code",
   "execution_count": null,
   "metadata": {},
   "outputs": [],
   "source": [
    "query=(\"\"\"\n",
    "        UNWIND $nodes AS node\n",
    "        MATCH (a:Author)\n",
    "        WHERE ID(a) = node.id\n",
    "        WITH a\n",
    "        CALL gds.alpha.randomWalk.stream('early_graph',{\n",
    "            start: id(a),\n",
    "            steps: 5,\n",
    "            walks: 5\n",
    "        })\n",
    "        YIELD nodeIds\n",
    "        RETURN [id in nodeIds | toString(id)] as walks\n",
    "        \"\"\") #        RETURN [id in nodeIds | toString(id)] as walks\"\"\"\n",
    "        #RETURN [id in nodeIds | gds.util.asNode(id).name] as walks\n",
    "\n",
    "    "
   ]
  },
  {
   "cell_type": "code",
   "execution_count": null,
   "metadata": {},
   "outputs": [],
   "source": [
    "walks=graphdb.run(query, params).to_series()"
   ]
  },
  {
   "cell_type": "code",
   "execution_count": null,
   "metadata": {},
   "outputs": [],
   "source": [
    "len(walks)"
   ]
  },
  {
   "cell_type": "code",
   "execution_count": null,
   "metadata": {},
   "outputs": [],
   "source": [
    "import gensim.models"
   ]
  },
  {
   "cell_type": "code",
   "execution_count": null,
   "metadata": {},
   "outputs": [],
   "source": [
    "model = gensim.models.Word2Vec(walks, sg=1, window=5, size=2,min_count=1)"
   ]
  },
  {
   "cell_type": "code",
   "execution_count": null,
   "metadata": {},
   "outputs": [],
   "source": [
    "from collections import defaultdict"
   ]
  },
  {
   "cell_type": "code",
   "execution_count": null,
   "metadata": {},
   "outputs": [],
   "source": [
    "d = defaultdict(list)\n",
    "for record in model.wv.vocab:\n",
    "    d[int(record)].append([float(x) for x in list(model.wv[record])])"
   ]
  },
  {
   "cell_type": "code",
   "execution_count": null,
   "metadata": {},
   "outputs": [],
   "source": [
    "embed_dict=[{\"node1\":row[\"node1\"],\n",
    "  \"node2\": row[\"node2\"],\n",
    "  \"embedding\": d[row[\"node1\"]][0] + d[row[\"node2\"]][0] } for row in training_data.collect()]"
   ]
  },
  {
   "cell_type": "code",
   "execution_count": null,
   "metadata": {},
   "outputs": [],
   "source": [
    "embeddings_df=spark.createDataFrame(embed_dict)"
   ]
  },
  {
   "cell_type": "code",
   "execution_count": null,
   "metadata": {},
   "outputs": [],
   "source": [
    "embeddings_df"
   ]
  },
  {
   "cell_type": "code",
   "execution_count": null,
   "metadata": {},
   "outputs": [],
   "source": [
    "embeddings_df.show(n=1)"
   ]
  },
  {
   "cell_type": "code",
   "execution_count": null,
   "metadata": {},
   "outputs": [],
   "source": [
    "# https://stackoverflow.com/questions/42138482/how-do-i-convert-an-array-i-e-list-column-to-vector\n",
    "from pyspark.ml.linalg import Vectors, VectorUDT\n",
    "from pyspark.sql.functions import udf\n",
    "list_to_vector_udf = udf(lambda l: Vectors.dense(l), VectorUDT())\n",
    "embedding_with_vectors = embeddings_df.select(\n",
    "    embeddings_df[\"node1\"],\n",
    "    embeddings_df[\"node2\"],\n",
    "    list_to_vector_udf(embeddings_df[\"embedding\"]).alias(\"word2vec\")\n",
    ")"
   ]
  },
  {
   "cell_type": "code",
   "execution_count": null,
   "metadata": {},
   "outputs": [],
   "source": [
    "embedding_with_vectors.show(n=1)"
   ]
  },
  {
   "cell_type": "code",
   "execution_count": null,
   "metadata": {},
   "outputs": [],
   "source": [
    "training_data=training_data.join(embedding_with_vectors, [\"node1\",\"node2\"])"
   ]
  },
  {
   "cell_type": "code",
   "execution_count": null,
   "metadata": {},
   "outputs": [],
   "source": [
    "# embedding has to be a vector\n",
    "training_data"
   ]
  },
  {
   "cell_type": "code",
   "execution_count": null,
   "metadata": {},
   "outputs": [],
   "source": [
    "fields = [\"commonAuthors\", \"prefAttachment\", \"totalNeighbors\",\n",
    "    \"minTriangles\", \"maxTriangles\", \"minCoefficient\", \"maxCoefficient\",\n",
    "    \"samePartition\", \"sameLouvain\",\"word2vec\"]\n",
    "word2vec_model = train_model(fields, training_data)"
   ]
  },
  {
   "cell_type": "code",
   "execution_count": null,
   "metadata": {},
   "outputs": [],
   "source": [
    "training_data.collect()"
   ]
  },
  {
   "cell_type": "code",
   "execution_count": null,
   "metadata": {},
   "outputs": [],
   "source": []
  }
 ],
 "metadata": {
  "kernelspec": {
   "display_name": "Python [conda env:neo4j]",
   "language": "python",
   "name": "conda-env-neo4j-py"
  },
  "language_info": {
   "codemirror_mode": {
    "name": "ipython",
    "version": 3
   },
   "file_extension": ".py",
   "mimetype": "text/x-python",
   "name": "python",
   "nbconvert_exporter": "python",
   "pygments_lexer": "ipython3",
   "version": "3.7.7"
  }
 },
 "nbformat": 4,
 "nbformat_minor": 2
}
